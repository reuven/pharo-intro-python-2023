{
 "cells": [
  {
   "cell_type": "code",
   "execution_count": 7,
   "id": "e3aaea92",
   "metadata": {},
   "outputs": [
    {
     "name": "stdout",
     "output_type": "stream",
     "text": [
      "Enter a string:123cs2\n",
      "total = 8\n",
      "Enter a string:\n"
     ]
    }
   ],
   "source": [
    "total = 0\n",
    "while True:\n",
    "    inputedstring = input(\"Enter a string:\").strip()\n",
    "\n",
    "    if inputedstring =='':\n",
    "        break\n",
    "        \n",
    "    for character in inputedstring:\n",
    "        if not character.isdigit():\n",
    "            continue\n",
    "        total +=int(character)\n",
    "\n",
    "    print(f'total = {total}')"
   ]
  },
  {
   "cell_type": "code",
   "execution_count": null,
   "id": "3ea11274",
   "metadata": {},
   "outputs": [],
   "source": []
  }
 ],
 "metadata": {
  "kernelspec": {
   "display_name": "Python 3 (ipykernel)",
   "language": "python",
   "name": "python3"
  },
  "language_info": {
   "codemirror_mode": {
    "name": "ipython",
    "version": 3
   },
   "file_extension": ".py",
   "mimetype": "text/x-python",
   "name": "python",
   "nbconvert_exporter": "python",
   "pygments_lexer": "ipython3",
   "version": "3.11.6"
  }
 },
 "nbformat": 4,
 "nbformat_minor": 5
}
