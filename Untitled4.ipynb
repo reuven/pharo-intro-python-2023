{
 "cells": [
  {
   "cell_type": "code",
   "execution_count": 7,
   "id": "2e1a1c5d",
   "metadata": {},
   "outputs": [
    {
     "name": "stdout",
     "output_type": "stream",
     "text": [
      "Enter a string:123cs2\n",
      "total = 8\n",
      "Enter a string:\n"
     ]
    }
   ],
   "source": [
    "total = 0\n",
    "while True:\n",
    "    inputedstring = input(\"Enter a string:\").strip()\n",
    "\n",
    "    if inputedstring =='':\n",
    "        break\n",
    "        \n",
    "    for character in inputedstring:\n",
    "        if not character.isdigit():\n",
    "            continue\n",
    "        total +=int(character)\n",
    "\n",
    "    print(f'total = {total}')"
   ]
  },
  {
   "cell_type": "code",
   "execution_count": 8,
   "id": "ed88ba26",
   "metadata": {},
   "outputs": [],
   "source": [
    "mylist = [10, 20, 30, 40, 50]"
   ]
  },
  {
   "cell_type": "code",
   "execution_count": 9,
   "id": "0ce2b766",
   "metadata": {},
   "outputs": [
    {
     "data": {
      "text/plain": [
       "[10, 20, 30, 40, 50, '10, 20, 30']"
      ]
     },
     "execution_count": 9,
     "metadata": {},
     "output_type": "execute_result"
    }
   ],
   "source": [
    "mylist.append(\"10, 20, 30\")\n",
    "mylist"
   ]
  },
  {
   "cell_type": "code",
   "execution_count": 10,
   "id": "826c323e",
   "metadata": {},
   "outputs": [],
   "source": [
    "mylist.append(30)"
   ]
  },
  {
   "cell_type": "code",
   "execution_count": null,
   "id": "b2e73154",
   "metadata": {},
   "outputs": [],
   "source": []
  },
  {
   "cell_type": "code",
   "execution_count": null,
   "id": "8c76640b",
   "metadata": {},
   "outputs": [],
   "source": []
  }
 ],
 "metadata": {
  "kernelspec": {
   "display_name": "Python 3 (ipykernel)",
   "language": "python",
   "name": "python3"
  },
  "language_info": {
   "codemirror_mode": {
    "name": "ipython",
    "version": 3
   },
   "file_extension": ".py",
   "mimetype": "text/x-python",
   "name": "python",
   "nbconvert_exporter": "python",
   "pygments_lexer": "ipython3",
   "version": "3.11.6"
  }
 },
 "nbformat": 4,
 "nbformat_minor": 5
}
