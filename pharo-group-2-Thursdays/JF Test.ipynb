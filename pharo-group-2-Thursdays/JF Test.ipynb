{
  "nbformat": 4,
  "nbformat_minor": 5,
  "metadata": {
    "kernel_info": {
      "name": "python3.9-noteable"
    },
    "kernelspec": {
      "display_name": "Python 3.9 (Noteable)",
      "identifier": "noteable",
      "language": "python",
      "language_version": "3.9",
      "name": "python3.9-noteable"
    },
    "selected_hardware_size": "small"
  },
  "cells": [
    {
      "id": "e430f314",
      "cell_type": "code",
      "metadata": {
        "noteable": {
          "output_collection_id": "2b82c752-b35a-46e0-b52d-470ddd75f57d"
        },
        "ExecuteTime": {
          "end_time": "2023-12-11T13:45:21.109493+00:00",
          "start_time": "2023-12-11T13:45:04.094505+00:00"
        }
      },
      "execution_count": null,
      "source": "name = input(\"Please enter your name\")\ncity = input(\"Please enter a City\") \nprint(f\"Hello {name} from {city}!\")",
      "outputs": []
    },
    {
      "id": "f4b8124c-854b-4848-a748-3ca1bc02c399",
      "cell_type": "code",
      "metadata": {
        "jupyter": {
          "outputs_hidden": false,
          "source_hidden": false
        },
        "noteable": {
          "cell_type": "code",
          "output_collection_id": "638ce9f4-0cd2-4b91-a3b7-17529a10b8a8"
        },
        "ExecuteTime": {
          "end_time": "2023-12-11T13:51:43.434662+00:00",
          "start_time": "2023-12-11T13:51:39.664586+00:00"
        }
      },
      "execution_count": null,
      "source": "firstInput = input('please enter something ')\nsecondInput = input('please enter something else different ')\n\nif firstInput == secondInput:\n    print('Inputs match, please make then different')\nelif firstInput < secondInput:\n    print(f'{firstInput}/n{secondInput}')\nelse:\n    print(f'{secondInput}/n{firstInput}')",
      "outputs": []
    },
    {
      "id": "b5b3e86b-2e5a-4c20-b3d4-c3bafd1ab8a0",
      "cell_type": "code",
      "metadata": {
        "jupyter": {
          "outputs_hidden": false,
          "source_hidden": false
        },
        "noteable": {
          "cell_type": "code"
        }
      },
      "execution_count": null,
      "source": "",
      "outputs": []
    }
  ]
}