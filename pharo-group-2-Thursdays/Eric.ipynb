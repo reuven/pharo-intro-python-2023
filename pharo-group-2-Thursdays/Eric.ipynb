{
  "nbformat": 4,
  "nbformat_minor": 5,
  "metadata": {
    "kernel_info": {
      "name": "python3"
    },
    "kernelspec": {
      "display_name": "Python 3.9",
      "identifier": "legacy",
      "language": "python",
      "language_version": "3.9",
      "name": "python3"
    },
    "selected_hardware_size": "small"
  },
  "cells": [
    {
      "id": "3f09a548",
      "cell_type": "code",
      "metadata": {
        "noteable": {
          "output_collection_id": "bc4a131f-ac21-4415-93d2-634489cd31d6"
        },
        "ExecuteTime": {
          "end_time": "2023-12-08T13:02:14.175061+00:00",
          "start_time": "2023-12-08T13:02:14.019300+00:00"
        }
      },
      "execution_count": null,
      "source": "name=\"Eric\"\nprint(\"Hello, \"+name+\"!\")",
      "outputs": []
    },
    {
      "id": "2284fae5-6c84-4e6a-9151-425df8ac55d5",
      "cell_type": "code",
      "metadata": {
        "jupyter": {
          "outputs_hidden": false,
          "source_hidden": false
        },
        "noteable": {
          "cell_type": "code",
          "output_collection_id": "771d82ae-004c-422f-998b-5c17443eeca8"
        },
        "ExecuteTime": {
          "end_time": "2023-12-08T13:02:37.058966+00:00",
          "start_time": "2023-12-08T13:02:30.019953+00:00"
        }
      },
      "execution_count": null,
      "source": "name=input(\"Your name?\")",
      "outputs": []
    },
    {
      "id": "21faa0e2-efbe-4b6d-8b60-eaaf592df775",
      "cell_type": "code",
      "metadata": {
        "jupyter": {
          "outputs_hidden": false,
          "source_hidden": false
        },
        "noteable": {
          "cell_type": "code",
          "output_collection_id": "0f4a0b92-9ea0-44ca-9109-52dcbcd15b7c"
        },
        "ExecuteTime": {
          "end_time": "2023-12-08T13:03:02.371511+00:00",
          "start_time": "2023-12-08T13:02:55.119071+00:00"
        }
      },
      "execution_count": null,
      "source": "city=input(\"Where are you from?\")",
      "outputs": []
    },
    {
      "id": "9cec3c97-28a8-4410-a70c-a87919e3c463",
      "cell_type": "code",
      "metadata": {
        "jupyter": {
          "outputs_hidden": false,
          "source_hidden": false
        },
        "noteable": {
          "cell_type": "code",
          "output_collection_id": "ba8a89d4-c149-4728-a7c6-933b64e2b59f"
        },
        "ExecuteTime": {
          "end_time": "2023-12-08T13:03:28.383566+00:00",
          "start_time": "2023-12-08T13:03:28.225209+00:00"
        }
      },
      "execution_count": null,
      "source": "f\"Hello {name} from {city}!\"",
      "outputs": []
    },
    {
      "id": "43f68e92-4559-4ee1-a31a-2017b91ec62a",
      "cell_type": "code",
      "metadata": {
        "jupyter": {
          "outputs_hidden": false,
          "source_hidden": false
        },
        "noteable": {
          "cell_type": "code",
          "output_collection_id": "2c5108c6-c4b6-4f3f-a215-3dd3293a2e5b"
        },
        "ExecuteTime": {
          "end_time": "2023-12-08T13:21:29.792171+00:00",
          "start_time": "2023-12-08T13:21:21.156603+00:00"
        }
      },
      "execution_count": null,
      "source": "first=input(\"Enter a word:\")\nsecond=input(\"Enter a different word:\")\n\nif first<second:\n    comes_first=first\nelse:\n    comes_first=second\n\nprint(f\"{comes_first} comes first alphabetically.\")\n        ",
      "outputs": []
    }
  ]
}