{
 "cells": [
  {
   "cell_type": "code",
   "execution_count": 2,
   "id": "782dac2c",
   "metadata": {},
   "outputs": [
    {
     "name": "stdout",
     "output_type": "stream",
     "text": [
      "a\n",
      "b\n",
      "c\n",
      "d\n"
     ]
    }
   ],
   "source": [
    "# Loops are useful to avoid repeating yourself (DRY)\n",
    "# There are two types of loops: for and while\n",
    "\n",
    "# for loops through the string; one_WHATEVER returns one object after the other\n",
    "\n",
    "s = 'abcd'\n",
    "\n",
    "for one_character in s:\n",
    "    print(one_character)"
   ]
  },
  {
   "cell_type": "code",
   "execution_count": 13,
   "id": "8e537657",
   "metadata": {},
   "outputs": [
    {
     "name": "stdout",
     "output_type": "stream",
     "text": [
      "type somethingdtvawetwe645654!!!\n",
      "digits: 6, vowels: 3 and others: 9\n"
     ]
    }
   ],
   "source": [
    "# exercise: define three variables and assign value zero, ask user to give an input and go\n",
    "# through each character and add digits together, add vowels together and add others together\n",
    "\n",
    "digits = 0\n",
    "vowels = 0\n",
    "others = 0\n",
    "\n",
    "userstring = input('type something')\n",
    "\n",
    "for one_character in userstring:\n",
    "    if one_character.isdigit():\n",
    "        digits += 1\n",
    "    elif one_character in 'aeiou':\n",
    "        vowels += 1\n",
    "    else:\n",
    "        others += 1\n",
    "\n",
    "print(f'digits: {digits}, vowels: {vowels} and others: {others}')"
   ]
  },
  {
   "cell_type": "code",
   "execution_count": 15,
   "id": "0f3ba230",
   "metadata": {},
   "outputs": [
    {
     "name": "stdout",
     "output_type": "stream",
     "text": [
      "test\n",
      "test\n",
      "test\n"
     ]
    }
   ],
   "source": [
    "# iterating a certain number of times can be done by using range() function\n",
    "\n",
    "for counter in range(3):\n",
    "    print('test')\n"
   ]
  },
  {
   "cell_type": "code",
   "execution_count": null,
   "id": "f72faff6",
   "metadata": {},
   "outputs": [],
   "source": []
  }
 ],
 "metadata": {
  "kernelspec": {
   "display_name": "Python 3 (ipykernel)",
   "language": "python",
   "name": "python3"
  },
  "language_info": {
   "codemirror_mode": {
    "name": "ipython",
    "version": 3
   },
   "file_extension": ".py",
   "mimetype": "text/x-python",
   "name": "python",
   "nbconvert_exporter": "python",
   "pygments_lexer": "ipython3",
   "version": "3.11.6"
  }
 },
 "nbformat": 4,
 "nbformat_minor": 5
}
