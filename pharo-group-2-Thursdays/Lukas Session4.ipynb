{
 "cells": [
  {
   "cell_type": "code",
   "execution_count": 2,
   "id": "481310fd",
   "metadata": {},
   "outputs": [
    {
     "name": "stdout",
     "output_type": "stream",
     "text": [
      "a\n",
      "b\n",
      "c\n",
      "d\n"
     ]
    }
   ],
   "source": [
    "# Loops are useful to avoid repeating yourself (DRY)\n",
    "# There are two types of loops: for and while\n",
    "\n",
    "# for loops through the string; one_WHATEVER returns one object after the other\n",
    "\n",
    "s = 'abcd'\n",
    "\n",
    "for one_character in s:\n",
    "    print(one_character)"
   ]
  },
  {
   "cell_type": "code",
   "execution_count": 3,
   "id": "5d3bd614",
   "metadata": {},
   "outputs": [
    {
     "name": "stdout",
     "output_type": "stream",
     "text": [
      "type somethingkdjslhfls8923489923!!!\n"
     ]
    }
   ],
   "source": [
    "# exercise: define three variables and assign value zero, ask user to give an input and go\n",
    "# through each character and add digits together, add vowels together and add others together\n",
    "\n",
    "digits = 0\n",
    "vowels = 0\n",
    "others = 0\n",
    "\n",
    "userstring = input('type something')\n",
    "\n",
    "for one_character in userstring:\n",
    "    if one_character.isdigit:\n",
    "        digits = digits + 1\n",
    "    elif one_character in 'aeiou':\n",
    "        vowels = vowels + 1\n",
    "    else:\n",
    "        others = others + 1"
   ]
  },
  {
   "cell_type": "code",
   "execution_count": null,
   "id": "730234e5",
   "metadata": {},
   "outputs": [],
   "source": []
  }
 ],
 "metadata": {
  "kernelspec": {
   "display_name": "Python 3 (ipykernel)",
   "language": "python",
   "name": "python3"
  },
  "language_info": {
   "codemirror_mode": {
    "name": "ipython",
    "version": 3
   },
   "file_extension": ".py",
   "mimetype": "text/x-python",
   "name": "python",
   "nbconvert_exporter": "python",
   "pygments_lexer": "ipython3",
   "version": "3.11.6"
  }
 },
 "nbformat": 4,
 "nbformat_minor": 5
}
