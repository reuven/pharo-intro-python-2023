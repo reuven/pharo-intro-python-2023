{
 "cells": [
  {
   "cell_type": "code",
   "execution_count": 2,
   "id": "1a981404",
   "metadata": {},
   "outputs": [
    {
     "name": "stdout",
     "output_type": "stream",
     "text": [
      "a\n",
      "b\n",
      "c\n",
      "d\n"
     ]
    }
   ],
   "source": [
    "# Loops are useful to avoid repeating yourself (DRY)\n",
    "# There are two types of loops: for and while\n",
    "\n",
    "# for loops through the string; one_WHATEVER returns one object after the other\n",
    "\n",
    "s = 'abcd'\n",
    "\n",
    "for one_character in s:\n",
    "    print(one_character)"
   ]
  },
  {
   "cell_type": "code",
   "execution_count": 13,
   "id": "7af372ba",
   "metadata": {},
   "outputs": [
    {
     "name": "stdout",
     "output_type": "stream",
     "text": [
      "type somethingdtvawetwe645654!!!\n",
      "digits: 6, vowels: 3 and others: 9\n"
     ]
    }
   ],
   "source": [
    "# exercise: define three variables and assign value zero, ask user to give an input and go\n",
    "# through each character and add digits together, add vowels together and add others together\n",
    "\n",
    "digits = 0\n",
    "vowels = 0\n",
    "others = 0\n",
    "\n",
    "userstring = input('type something')\n",
    "\n",
    "for one_character in userstring:\n",
    "    if one_character.isdigit():\n",
    "        digits += 1\n",
    "    elif one_character in 'aeiou':\n",
    "        vowels += 1\n",
    "    else:\n",
    "        others += 1\n",
    "\n",
    "print(f'digits: {digits}, vowels: {vowels} and others: {others}')"
   ]
  },
  {
   "cell_type": "code",
   "execution_count": 15,
   "id": "bdbae71c",
   "metadata": {},
   "outputs": [
    {
     "name": "stdout",
     "output_type": "stream",
     "text": [
      "test\n",
      "test\n",
      "test\n"
     ]
    }
   ],
   "source": [
    "# iterating a certain number of times can be done by using range() function, which gives n values up to and without n\n",
    "\n",
    "for counter in range(3):\n",
    "    print('test')\n"
   ]
  },
  {
   "cell_type": "code",
   "execution_count": 19,
   "id": "bd986c7e",
   "metadata": {},
   "outputs": [
    {
     "name": "stdout",
     "output_type": "stream",
     "text": [
      "please, give me the first number50\n",
      "please, give me the second number50\n",
      "please, give me the third number10\n",
      "The sum is above 100\n"
     ]
    }
   ],
   "source": [
    "# exercise: define total to be zero, then ask user to enter three integers and tell user if the sum is larger than 100\n",
    "\n",
    "total = 0\n",
    "\n",
    "first = input('please, give me the first number')\n",
    "second = input('please, give me the second number')\n",
    "third = input('please, give me the third number')\n",
    "\n",
    "if first.isdigit() and second.isdigit() and third.isdigit():\n",
    "    summing = int(first) + int(second) + int(third)\n",
    "    \n",
    "    if summing > 100:\n",
    "        print('The sum is above 100')\n",
    "    else:\n",
    "        print('The sum is below 100')\n",
    "    \n",
    "else:\n",
    "    print('Only digits!')\n",
    "    "
   ]
  },
  {
   "cell_type": "code",
   "execution_count": 21,
   "id": "55e8dcf8",
   "metadata": {},
   "outputs": [
    {
     "name": "stdout",
     "output_type": "stream",
     "text": [
      "Enter number 010\n",
      "Enter number 115\n",
      "Enter number 250\n",
      "The total is 75\n"
     ]
    }
   ],
   "source": [
    "# alternative for the intital bit\n",
    "    \n",
    "for index in range(3):\n",
    "    s = input(f'Enter number {index}')\n",
    "    \n",
    "    if s.isdigit():\n",
    "        total += int(s)\n",
    "\n",
    "print(f'The total is {total}')"
   ]
  },
  {
   "cell_type": "code",
   "execution_count": 23,
   "id": "977b1663",
   "metadata": {},
   "outputs": [
    {
     "name": "stdout",
     "output_type": "stream",
     "text": [
      "Enter your nameLukas\n"
     ]
    },
    {
     "ename": "NameError",
     "evalue": "name 'name2' is not defined",
     "output_type": "error",
     "traceback": [
      "\u001b[0;31m---------------------------------------------------------------------------\u001b[0m",
      "\u001b[0;31mNameError\u001b[0m                                 Traceback (most recent call last)",
      "Cell \u001b[0;32mIn[23], line 8\u001b[0m\n\u001b[1;32m      6\u001b[0m \u001b[38;5;28;01mfor\u001b[39;00m index2 \u001b[38;5;129;01min\u001b[39;00m \u001b[38;5;28mrange\u001b[39m(index):\n\u001b[1;32m      7\u001b[0m     name2 \u001b[38;5;241m=\u001b[39m name[index2]\n\u001b[0;32m----> 8\u001b[0m \u001b[38;5;28mprint\u001b[39m(\u001b[43mname2\u001b[49m)\n",
      "\u001b[0;31mNameError\u001b[0m: name 'name2' is not defined"
     ]
    }
   ],
   "source": [
    "# exercise: ask user to enter their name, print name in triangle format\n",
    "\n",
    "name = input('Enter your name')\n",
    "\n",
    "for index in range(len(name)):\n",
    "    for index2 in range(index):\n",
    "        name2 = name[index2]\n",
    "    print(name2)"
   ]
  },
  {
   "cell_type": "code",
   "execution_count": null,
   "id": "339c38f0",
   "metadata": {},
   "outputs": [],
   "source": []
  }
 ],
 "metadata": {
  "kernelspec": {
   "display_name": "Python 3 (ipykernel)",
   "language": "python",
   "name": "python3"
  },
  "language_info": {
   "codemirror_mode": {
    "name": "ipython",
    "version": 3
   },
   "file_extension": ".py",
   "mimetype": "text/x-python",
   "name": "python",
   "nbconvert_exporter": "python",
   "pygments_lexer": "ipython3",
   "version": "3.11.6"
  }
 },
 "nbformat": 4,
 "nbformat_minor": 5
}
