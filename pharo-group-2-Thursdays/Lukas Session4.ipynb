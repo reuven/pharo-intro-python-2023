{
 "cells": [
  {
   "cell_type": "code",
   "execution_count": 2,
   "id": "180fcd05",
   "metadata": {},
   "outputs": [
    {
     "name": "stdout",
     "output_type": "stream",
     "text": [
      "a\n",
      "b\n",
      "c\n",
      "d\n"
     ]
    }
   ],
   "source": [
    "# Loops are useful to avoid repeating yourself (DRY)\n",
    "# There are two types of loops: for and while\n",
    "\n",
    "# for loops through the string; one_WHATEVER returns one object after the other\n",
    "\n",
    "s = 'abcd'\n",
    "\n",
    "for one_character in s:\n",
    "    print(one_character)"
   ]
  },
  {
   "cell_type": "code",
   "execution_count": 13,
   "id": "1ff68b3e",
   "metadata": {},
   "outputs": [
    {
     "name": "stdout",
     "output_type": "stream",
     "text": [
      "type somethingdtvawetwe645654!!!\n",
      "digits: 6, vowels: 3 and others: 9\n"
     ]
    }
   ],
   "source": [
    "# exercise: define three variables and assign value zero, ask user to give an input and go\n",
    "# through each character and add digits together, add vowels together and add others together\n",
    "\n",
    "digits = 0\n",
    "vowels = 0\n",
    "others = 0\n",
    "\n",
    "userstring = input('type something')\n",
    "\n",
    "for one_character in userstring:\n",
    "    if one_character.isdigit():\n",
    "        digits += 1\n",
    "    elif one_character in 'aeiou':\n",
    "        vowels += 1\n",
    "    else:\n",
    "        others += 1\n",
    "\n",
    "print(f'digits: {digits}, vowels: {vowels} and others: {others}')"
   ]
  },
  {
   "cell_type": "code",
   "execution_count": 15,
   "id": "f459069a",
   "metadata": {},
   "outputs": [
    {
     "name": "stdout",
     "output_type": "stream",
     "text": [
      "test\n",
      "test\n",
      "test\n"
     ]
    }
   ],
   "source": [
    "# iterating a certain number of times can be done by using range() function, which gives n values up to and without n\n",
    "\n",
    "for counter in range(3):\n",
    "    print('test')\n"
   ]
  },
  {
   "cell_type": "code",
   "execution_count": 19,
   "id": "6e8fe257",
   "metadata": {},
   "outputs": [
    {
     "name": "stdout",
     "output_type": "stream",
     "text": [
      "please, give me the first number50\n",
      "please, give me the second number50\n",
      "please, give me the third number10\n",
      "The sum is above 100\n"
     ]
    }
   ],
   "source": [
    "# exercise: define total to be zero, then ask user to enter three integers and tell user if the sum is larger than 100\n",
    "\n",
    "total = 0\n",
    "\n",
    "first = input('please, give me the first number')\n",
    "second = input('please, give me the second number')\n",
    "third = input('please, give me the third number')\n",
    "\n",
    "if first.isdigit() and second.isdigit() and third.isdigit():\n",
    "    summing = int(first) + int(second) + int(third)\n",
    "    \n",
    "    if summing > 100:\n",
    "        print('The sum is above 100')\n",
    "    else:\n",
    "        print('The sum is below 100')\n",
    "    \n",
    "else:\n",
    "    print('Only digits!')\n",
    "    "
   ]
  },
  {
   "cell_type": "code",
   "execution_count": 21,
   "id": "b32d3372",
   "metadata": {},
   "outputs": [
    {
     "name": "stdout",
     "output_type": "stream",
     "text": [
      "Enter number 010\n",
      "Enter number 115\n",
      "Enter number 250\n",
      "The total is 75\n"
     ]
    }
   ],
   "source": [
    "# alternative for the intital bit\n",
    "    \n",
    "for index in range(3):\n",
    "    s = input(f'Enter number {index}')\n",
    "    \n",
    "    if s.isdigit():\n",
    "        total += int(s)\n",
    "\n",
    "print(f'The total is {total}')"
   ]
  },
  {
   "cell_type": "code",
   "execution_count": 34,
   "id": "82fea67a",
   "metadata": {},
   "outputs": [
    {
     "name": "stdout",
     "output_type": "stream",
     "text": [
      "Enter your nameLukas\n",
      "L\n",
      "Lu\n",
      "Luk\n",
      "Luka\n",
      "Lukas\n"
     ]
    }
   ],
   "source": [
    "# exercise: ask user to enter their name, print name in triangle format\n",
    "\n",
    "\n",
    "name = input('Enter your name')\n",
    "\n",
    "for index in range(len(name)):\n",
    "    \n",
    "    print(name[:index+1])"
   ]
  },
  {
   "cell_type": "code",
   "execution_count": 38,
   "id": "03986118",
   "metadata": {},
   "outputs": [
    {
     "name": "stdout",
     "output_type": "stream",
     "text": [
      "<enumerate object at 0x7f0e78ecb380>\n",
      "0: a\n",
      "1: b\n",
      "2: c\n",
      "3: d\n"
     ]
    }
   ],
   "source": [
    "# if you want to print the index, enumerate() function is useful, as it assigns index values to the \n",
    "\n",
    "s = 'abcd'\n",
    "\n",
    "for index, one_character in enumerate(s):\n",
    "    print(f'{index}: {one_character}')"
   ]
  },
  {
   "cell_type": "code",
   "execution_count": 39,
   "id": "a8cf1688",
   "metadata": {},
   "outputs": [
    {
     "name": "stdout",
     "output_type": "stream",
     "text": [
      "Give me a number4565864\n",
      "4 * 10**7\n",
      "5 * 10**6\n",
      "6 * 10**5\n",
      "5 * 10**4\n",
      "8 * 10**3\n",
      "6 * 10**2\n",
      "4 * 10**1\n"
     ]
    }
   ],
   "source": [
    "# Exercise: ASk user for a number, break-up into digit and power of 10 and print those\n",
    "\n",
    "number = input('Give me a number')\n",
    "\n",
    "length = len(number)\n",
    "\n",
    "for index, one_character in enumerate(number):\n",
    "    print(f'{number[index]} * 10**{length}')\n",
    "    length -= 1"
   ]
  },
  {
   "cell_type": "code",
   "execution_count": null,
   "id": "543835c2",
   "metadata": {},
   "outputs": [],
   "source": []
  }
 ],
 "metadata": {
  "kernelspec": {
   "display_name": "Python 3 (ipykernel)",
   "language": "python",
   "name": "python3"
  },
  "language_info": {
   "codemirror_mode": {
    "name": "ipython",
    "version": 3
   },
   "file_extension": ".py",
   "mimetype": "text/x-python",
   "name": "python",
   "nbconvert_exporter": "python",
   "pygments_lexer": "ipython3",
   "version": "3.11.6"
  }
 },
 "nbformat": 4,
 "nbformat_minor": 5
}
