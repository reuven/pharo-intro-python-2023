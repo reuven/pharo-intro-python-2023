{
 "cells": [
  {
   "cell_type": "code",
   "execution_count": 1,
   "id": "61785d28",
   "metadata": {},
   "outputs": [
    {
     "name": "stdout",
     "output_type": "stream",
     "text": [
      "hello, there!\n"
     ]
    }
   ],
   "source": [
    "print('hello, there!')  # shift+enter lets me run the cell"
   ]
  },
  {
   "cell_type": "code",
   "execution_count": 2,
   "id": "9ddc05f9",
   "metadata": {},
   "outputs": [],
   "source": [
    "# if you want to change the title of the notebook, just click on the\n",
    "# current title, and you'll be prompted to type something else\n"
   ]
  },
  {
   "cell_type": "code",
   "execution_count": null,
   "id": "d1e94526",
   "metadata": {},
   "outputs": [],
   "source": []
  }
 ],
 "metadata": {
  "kernelspec": {
   "display_name": "Python 3 (ipykernel)",
   "language": "python",
   "name": "python3"
  },
  "language_info": {
   "codemirror_mode": {
    "name": "ipython",
    "version": 3
   },
   "file_extension": ".py",
   "mimetype": "text/x-python",
   "name": "python",
   "nbconvert_exporter": "python",
   "pygments_lexer": "ipython3",
   "version": "3.11.6"
  }
 },
 "nbformat": 4,
 "nbformat_minor": 5
}
