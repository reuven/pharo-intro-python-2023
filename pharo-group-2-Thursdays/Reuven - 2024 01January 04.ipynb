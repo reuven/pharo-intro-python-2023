{
 "cells": [
  {
   "cell_type": "markdown",
   "id": "07087135",
   "metadata": {},
   "source": [
    "# Agenda\n",
    "\n",
    "1. Q&A\n",
    "2. Loops\n",
    "    - `for`\n",
    "    - Looping a number of times\n",
    "    - Indexes (or lack thereof)"
   ]
  },
  {
   "cell_type": "markdown",
   "id": "f1fcf046",
   "metadata": {},
   "source": [
    "# An import rule in programming: DRY (don't repeat yourself!)\n",
    "\n",
    "I learned this rule from the \"Pragmatic Programmer.\" The idea is that if the same code exists in your program multiple times, that's a big problem:\n",
    "\n",
    "Why? What's wrong with it?\n",
    "\n",
    "- You're spending your time writing code, when you don't have to.\n",
    "- When there's more code, then there are more chances for bugs\n",
    "- You'll modify the code in one place, and neglect to modify it in the others (for fixing bugs, making improvements)\n",
    "- Cognitive load\n",
    "\n",
    "Loops are our first time having a chance to actually improve our code (\"DRY up our code\") \n",
    "\n",
    "WET code is the opposite of DRY code -- write everything twice."
   ]
  },
  {
   "cell_type": "code",
   "execution_count": 1,
   "id": "7cffd920",
   "metadata": {},
   "outputs": [
    {
     "name": "stdout",
     "output_type": "stream",
     "text": [
      "a\n",
      "b\n",
      "c\n",
      "d\n"
     ]
    }
   ],
   "source": [
    "# let's say that I have a string and I want to print every character in the string\n",
    "\n",
    "s = 'abcd'\n",
    "\n",
    "print(s[0])\n",
    "print(s[1])\n",
    "print(s[2])\n",
    "print(s[3])"
   ]
  },
  {
   "cell_type": "code",
   "execution_count": null,
   "id": "4fa771f7",
   "metadata": {},
   "outputs": [],
   "source": []
  }
 ],
 "metadata": {
  "kernelspec": {
   "display_name": "Python 3 (ipykernel)",
   "language": "python",
   "name": "python3"
  },
  "language_info": {
   "codemirror_mode": {
    "name": "ipython",
    "version": 3
   },
   "file_extension": ".py",
   "mimetype": "text/x-python",
   "name": "python",
   "nbconvert_exporter": "python",
   "pygments_lexer": "ipython3",
   "version": "3.11.6"
  }
 },
 "nbformat": 4,
 "nbformat_minor": 5
}
