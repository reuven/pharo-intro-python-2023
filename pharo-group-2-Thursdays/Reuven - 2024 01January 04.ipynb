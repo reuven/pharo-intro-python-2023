{
 "cells": [
  {
   "cell_type": "markdown",
   "id": "5faffc21",
   "metadata": {},
   "source": [
    "# Agenda\n",
    "\n",
    "1. Q&A\n",
    "2. Loops\n",
    "    - `for`\n",
    "    - Looping a number of times\n",
    "    - Indexes (or lack thereof)"
   ]
  },
  {
   "cell_type": "markdown",
   "id": "9429f66b",
   "metadata": {},
   "source": [
    "# An import rule in programming: DRY (don't repeat yourself!)\n",
    "\n",
    "I learned this rule from the \"Pragmatic Programmer.\" The idea is that if the same code exists in your program multiple times, that's a big problem:\n",
    "\n",
    "Why? What's wrong with it?\n",
    "\n",
    "- You're spending your time writing code, when you don't have to.\n",
    "- When there's more code, then there are more chances for bugs\n",
    "- You'll modify the code in one place, and neglect to modify it in the others (for fixing bugs, making improvements)\n",
    "- Cognitive load\n",
    "\n",
    "Loops are our first time having a chance to actually improve our code (\"DRY up our code\") \n",
    "\n",
    "WET code is the opposite of DRY code -- write everything twice."
   ]
  },
  {
   "cell_type": "code",
   "execution_count": 1,
   "id": "25e6b172",
   "metadata": {},
   "outputs": [
    {
     "name": "stdout",
     "output_type": "stream",
     "text": [
      "a\n",
      "b\n",
      "c\n",
      "d\n"
     ]
    }
   ],
   "source": [
    "# let's say that I have a string and I want to print every character in the string\n",
    "\n",
    "s = 'abcd'\n",
    "\n",
    "print(s[0])\n",
    "print(s[1])\n",
    "print(s[2])\n",
    "print(s[3])"
   ]
  },
  {
   "cell_type": "markdown",
   "id": "d8762e09",
   "metadata": {},
   "source": [
    "You can see in the above code that each line is almost precisely the same as the other lines (when we're printing). Why work so hard to print the four characters?\n",
    "\n",
    "Instead, we can use a *loop*.  The idea of a loop is that we go through a sequence of values, and the same code runs on each element in that sequence, one by one. The code remains almost identical, except for the different values we pass.\n",
    "\n",
    "There are two types of loops in Python:\n",
    "\n",
    "- `for` loops (which we'll talk about today)\n",
    "- `while` loops (which we'll talk about next time)\n",
    "\n",
    "The idea of a `for` loop is that we can execute the same code for every character in a string."
   ]
  },
  {
   "cell_type": "markdown",
   "id": "3d5ca78f",
   "metadata": {},
   "source": [
    "# How does a `for` loop work?\n",
    "\n",
    "## What is the syntax?\n",
    "\n",
    "- Start with the word `for` \n",
    "- Then we have our \"loop variable,\" which can be any name at all -- it's up to us! I usually like to use something like \"one_WHATEVER\" to show that I'm getting one thing at a time. Your choice of variable name has ZERO effect on how the program runs.\n",
    "- Then we say `in`\n",
    "- Then we have an object -- right now, just a string -- over which we are iterating. This object must contain values that it can give to us, one at a time.  We say that such an object is \"iterable.\"  Strings, for example, are iterable.\n",
    "- Then we have a colon (`:`)\n",
    "- Then we have an indented \"loop body,\" which can contain as many lines as we want, and also can contain whatever code we want:\n",
    "    - `print`\n",
    "    - `input`\n",
    "    - assignment\n",
    "    - work with files\n",
    "    - use `if` and `else`\n",
    "    - have an inner `for` loop\n",
    "    \n",
    "## What is actually going on?\n",
    "\n",
    "1. `for` turns to `s`, the object at the end of the line, and asks: Are you iterable?\n",
    "    - If not, then the loop exits with an error\n",
    "2. Given that it's iterable, then `for` asks the object for its next value\n",
    "    - If there is no next value, then the object indicates that, and the loop ends\n",
    "3. Given that there is a next value, we assign it to `one_character` (our loop variable)\n",
    "4. We execute the entire loop body, with the loop variable having its value\n",
    "5. We go back to step 2."
   ]
  },
  {
   "cell_type": "code",
   "execution_count": 3,
   "id": "0cda48a7",
   "metadata": {},
   "outputs": [
    {
     "name": "stdout",
     "output_type": "stream",
     "text": [
      "Begin\n",
      "a\n",
      "b\n",
      "c\n",
      "d\n",
      "End\n"
     ]
    }
   ],
   "source": [
    "s = 'abcd'\n",
    "\n",
    "print('Begin')\n",
    "\n",
    "for one_character in s:\n",
    "    print(one_character)\n",
    "    \n",
    "print('End')    "
   ]
  },
  {
   "cell_type": "markdown",
   "id": "a6e354e6",
   "metadata": {},
   "source": [
    "# Exercise: Digits, vowels, and others\n",
    "\n",
    "1. Define three variables, `digits`, `vowels`, and `others`, and assign them the value 0.\n",
    "2. Ask the user (with `input`) to enter a string. Assign that to `s`.\n",
    "3. Go through each character in the input, one at a time:\n",
    "    - If the character is a digit (0-9), then add 1 to `digits`\n",
    "    - If the character is a vowel (a, e, i, o, u), then add 1 to `vowels`\n",
    "    - In other cases, add 1 to `others`\n",
    "4. Print all three of our counting variables.\n",
    "\n",
    "Example:\n",
    "\n",
    "    Enter a string: hello!! 123\n",
    "    digits: 3\n",
    "    vowels: 2\n",
    "    others: 6\n",
    "    \n",
    "Hints/reminders:\n",
    "1. You can invoke `str.isdigit` on a string (including a character) to find out if it's a digit, 0-9.\n",
    "2. You can use `in` to look in a string to find out if a character is located inside of it."
   ]
  },
  {
   "cell_type": "code",
   "execution_count": null,
   "id": "bd3589c9",
   "metadata": {},
   "outputs": [],
   "source": [
    "digits = 0\n",
    "vowels = 0\n",
    "others = 0\n"
   ]
  }
 ],
 "metadata": {
  "kernelspec": {
   "display_name": "Python 3 (ipykernel)",
   "language": "python",
   "name": "python3"
  },
  "language_info": {
   "codemirror_mode": {
    "name": "ipython",
    "version": 3
   },
   "file_extension": ".py",
   "mimetype": "text/x-python",
   "name": "python",
   "nbconvert_exporter": "python",
   "pygments_lexer": "ipython3",
   "version": "3.11.6"
  }
 },
 "nbformat": 4,
 "nbformat_minor": 5
}
