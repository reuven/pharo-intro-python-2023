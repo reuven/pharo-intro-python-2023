{
 "cells": [
  {
   "cell_type": "markdown",
   "id": "dba1e3d2",
   "metadata": {},
   "source": [
    "# Agenda\n",
    "\n",
    "1. Q&A\n",
    "2. Loops\n",
    "    - `for`\n",
    "    - Looping a number of times\n",
    "    - Indexes (or lack thereof)"
   ]
  },
  {
   "cell_type": "markdown",
   "id": "1597ecd8",
   "metadata": {},
   "source": [
    "# An import rule in programming: DRY (don't repeat yourself!)\n",
    "\n",
    "I learned this rule from the \"Pragmatic Programmer.\" The idea is that if the same code exists in your program multiple times, that's a"
   ]
  }
 ],
 "metadata": {
  "kernelspec": {
   "display_name": "Python 3 (ipykernel)",
   "language": "python",
   "name": "python3"
  },
  "language_info": {
   "codemirror_mode": {
    "name": "ipython",
    "version": 3
   },
   "file_extension": ".py",
   "mimetype": "text/x-python",
   "name": "python",
   "nbconvert_exporter": "python",
   "pygments_lexer": "ipython3",
   "version": "3.11.6"
  }
 },
 "nbformat": 4,
 "nbformat_minor": 5
}
