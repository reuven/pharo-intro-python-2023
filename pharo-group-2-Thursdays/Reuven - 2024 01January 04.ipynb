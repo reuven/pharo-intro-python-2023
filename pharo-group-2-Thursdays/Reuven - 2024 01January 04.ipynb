{
 "cells": [
  {
   "cell_type": "markdown",
   "id": "28e9fe15",
   "metadata": {},
   "source": [
    "# Agenda\n",
    "\n",
    "1. Q&A\n",
    "2. Loops\n",
    "    - `for`\n",
    "    - Looping a number of times\n",
    "    - Indexes (or lack thereof)"
   ]
  },
  {
   "cell_type": "markdown",
   "id": "9007a5a6",
   "metadata": {},
   "source": [
    "# An import rule in programming: DRY (don't repeat yourself!)\n",
    "\n",
    "I learned this rule from the \"Pragmatic Programmer.\" The idea is that if the same code exists in your program multiple times, that's a big problem:\n",
    "\n",
    "Why? What's wrong with it?\n",
    "\n",
    "- You're spending your time writing code, when you don't have to.\n",
    "- When there's more code, then there are more chances for bugs\n",
    "- You'll modify the code in one place, and neglect to modify it in the others (for fixing bugs, making improvements)\n",
    "- Cognitive load\n",
    "\n",
    "Loops are our first time having a chance to actually improve our code (\"DRY up our code\") \n",
    "\n",
    "WET code is the opposite of DRY code -- write everything twice."
   ]
  },
  {
   "cell_type": "code",
   "execution_count": 1,
   "id": "bbd5525a",
   "metadata": {},
   "outputs": [
    {
     "name": "stdout",
     "output_type": "stream",
     "text": [
      "a\n",
      "b\n",
      "c\n",
      "d\n"
     ]
    }
   ],
   "source": [
    "# let's say that I have a string and I want to print every character in the string\n",
    "\n",
    "s = 'abcd'\n",
    "\n",
    "print(s[0])\n",
    "print(s[1])\n",
    "print(s[2])\n",
    "print(s[3])"
   ]
  },
  {
   "cell_type": "markdown",
   "id": "c375b18f",
   "metadata": {},
   "source": [
    "You can see in the above code that each line is almost precisely the same as the other lines (when we're printing). Why work so hard to print the four characters?\n",
    "\n",
    "Instead, we can use a *loop*.  The idea of a loop is that we go through a sequence of values, and the same code runs on each element in that sequence, one by one. The code remains almost identical, except for the different values we pass.\n",
    "\n",
    "There are two types of loops in Python:\n",
    "\n",
    "- `for` loops (which we'll talk about today)\n",
    "- `while` loops (which we'll talk about next time)\n",
    "\n",
    "The idea of a `for` loop is that we can execute the same code for every "
   ]
  }
 ],
 "metadata": {
  "kernelspec": {
   "display_name": "Python 3 (ipykernel)",
   "language": "python",
   "name": "python3"
  },
  "language_info": {
   "codemirror_mode": {
    "name": "ipython",
    "version": 3
   },
   "file_extension": ".py",
   "mimetype": "text/x-python",
   "name": "python",
   "nbconvert_exporter": "python",
   "pygments_lexer": "ipython3",
   "version": "3.11.6"
  }
 },
 "nbformat": 4,
 "nbformat_minor": 5
}
