{
 "cells": [
  {
   "cell_type": "markdown",
   "id": "9c96d56b",
   "metadata": {},
   "source": [
    "# Agenda\n",
    "\n",
    "1. Q&A\n",
    "2. Loops\n",
    "    - `for`\n",
    "    - Looping a number of times\n",
    "    - Indexes (or lack thereof)"
   ]
  },
  {
   "cell_type": "markdown",
   "id": "dce170ec",
   "metadata": {},
   "source": [
    "# An import rule in programming: DRY (don't repeat yourself!)\n",
    "\n",
    "I learned this rule from the \"Pragmatic Programmer.\" The idea is that if the same code exists in your program multiple times, that's a big problem:\n",
    "\n",
    "Why? What's wrong with it?\n",
    "\n",
    "- You're spending your time writing code, when you don't have to.\n",
    "- When there's more code, then there are more chances for bugs\n",
    "- You'll modify the code in one place, and neglect to modify it in the others (for fixing bugs, making improvements)\n",
    "- Cognitive load\n",
    "\n",
    "Loops are our first time having a chance to actually improve our code (\"DRY up our code\") \n",
    "\n",
    "WET code is the opposite of DRY code -- write everything twice."
   ]
  },
  {
   "cell_type": "code",
   "execution_count": 1,
   "id": "79538fb5",
   "metadata": {},
   "outputs": [
    {
     "name": "stdout",
     "output_type": "stream",
     "text": [
      "a\n",
      "b\n",
      "c\n",
      "d\n"
     ]
    }
   ],
   "source": [
    "# let's say that I have a string and I want to print every character in the string\n",
    "\n",
    "s = 'abcd'\n",
    "\n",
    "print(s[0])\n",
    "print(s[1])\n",
    "print(s[2])\n",
    "print(s[3])"
   ]
  },
  {
   "cell_type": "markdown",
   "id": "9652eff4",
   "metadata": {},
   "source": [
    "You can see in the above code that each line is almost precisely the same as the other lines (when we're printing). Why work so hard to print the four characters?\n",
    "\n",
    "Instead, we can use a *loop*.  The idea of a loop is that we go through a sequence of values, and the same code runs on each element in that sequence, one by one. The code remains almost identical, except for the different values we pass.\n",
    "\n",
    "There are two types of loops in Python:\n",
    "\n",
    "- `for` loops (which we'll talk about today)\n",
    "- `while` loops (which we'll talk about next time)\n",
    "\n",
    "The idea of a `for` loop is that we can execute the same code for every character in a string."
   ]
  },
  {
   "cell_type": "markdown",
   "id": "af5ef955",
   "metadata": {},
   "source": [
    "# How does a `for` loop work?\n",
    "\n",
    "## What is the syntax?\n",
    "\n",
    "- Start with the word `for` \n",
    "- Then we have our \"loop variable,\" which can be any name at all -- it's up to us! I usually like to use something like \"one_WHATEVER\" to show that I'm getting one thing at a time. Your choice of variable name has ZERO effect on how the program runs.\n",
    "- Then we say `in`\n",
    "- Then we have an object -- right now, just a string -- over which we are iterating. This object must contain values that it can give to us, one at a time.  We say that such an object is \"iterable.\"  Strings, for example, are iterable.\n",
    "- Then we have a colon (`:`)\n",
    "- Then we have an indented \"loop body,\" which can contain as many lines as we want, and also can contain whatever code we want:\n",
    "    - `print`\n",
    "    - `input`\n",
    "    - assignment\n",
    "    - work with files\n",
    "    - use `if` and `else`\n",
    "    - have an inner `for` loop\n",
    "    \n",
    "## What is actually going on?\n",
    "\n",
    "1. `for` turns to `s`, the object at the end of the line, and asks: Are you iterable?\n",
    "    - If not, then the loop exits with an error\n",
    "2. Given that it's iterable, then `for` asks the object for its next value\n",
    "    - If there is no next value, then the object indicates that, and the loop ends\n",
    "3. Given that there is a next value, we assign it to `one_character` (our loop variable)\n",
    "4. We execute the entire loop body, with the loop variable having its value\n",
    "5. We go back to step 2."
   ]
  },
  {
   "cell_type": "code",
   "execution_count": 3,
   "id": "90e3d305",
   "metadata": {},
   "outputs": [
    {
     "name": "stdout",
     "output_type": "stream",
     "text": [
      "Begin\n",
      "a\n",
      "b\n",
      "c\n",
      "d\n",
      "End\n"
     ]
    }
   ],
   "source": [
    "s = 'abcd'\n",
    "\n",
    "print('Begin')\n",
    "\n",
    "for one_character in s:\n",
    "    print(one_character)\n",
    "    \n",
    "print('End')    "
   ]
  },
  {
   "cell_type": "markdown",
   "id": "bbaefd4c",
   "metadata": {},
   "source": [
    "# Exercise: Digits, vowels, and others\n",
    "\n",
    "1. Define three variables, `digits`, `vowels`, and `others`, and assign them the value 0.\n",
    "2. Ask the user (with `input`) to enter a string. Assign that to `s`.\n",
    "3. Go through each character in the input, one at a time:\n",
    "    - If the character is a digit (0-9), then add 1 to `digits`\n",
    "    - If the character is a vowel (a, e, i, o, u), then add 1 to `vowels`\n",
    "    - In other cases, add 1 to `others`\n",
    "4. Print all three of our counting variables.\n",
    "\n",
    "Example:\n",
    "\n",
    "    Enter a string: hello!! 123\n",
    "    digits: 3\n",
    "    vowels: 2\n",
    "    others: 6\n",
    "    \n",
    "Hints/reminders:\n",
    "1. You can invoke `str.isdigit` on a string (including a character) to find out if it's a digit, 0-9.\n",
    "2. You can use `in` to look in a string to find out if a character is located inside of it."
   ]
  },
  {
   "cell_type": "code",
   "execution_count": 6,
   "id": "0247c614",
   "metadata": {},
   "outputs": [
    {
     "name": "stdout",
     "output_type": "stream",
     "text": [
      "Enter a string: hello!! 123\n",
      "digits = 3\n",
      "vowels = 2\n",
      "others = 6\n"
     ]
    }
   ],
   "source": [
    "digits = 0\n",
    "vowels = 0\n",
    "others = 0\n",
    "\n",
    "s = input('Enter a string: ').strip()\n",
    "\n",
    "for one_character in s:\n",
    "    if one_character in 'aeiou':   # is the character a vowel? \n",
    "        vowels += 1                #   add 1 to the vowel count\n",
    "    elif one_character.isdigit():  # is the character a digit?\n",
    "        digits += 1                #   add 1 to the digit count\n",
    "    else:\n",
    "        others += 1\n",
    "        \n",
    "print(f'digits = {digits}')        \n",
    "print(f'vowels = {vowels}')        \n",
    "print(f'others = {others}')        "
   ]
  },
  {
   "cell_type": "markdown",
   "id": "3db9866e",
   "metadata": {},
   "source": [
    "# Iterating multiple times\n",
    "\n",
    "Let's say that I want to perform an action in my Python program several times. How can I do that?\n",
    "\n",
    "For example: I'm very excited to be teaching Python today. How can I express my excitement?\n",
    "\n"
   ]
  },
  {
   "cell_type": "code",
   "execution_count": 7,
   "id": "505afcb4",
   "metadata": {},
   "outputs": [
    {
     "name": "stdout",
     "output_type": "stream",
     "text": [
      "Hooray!\n",
      "Hooray!\n",
      "Hooray!\n"
     ]
    }
   ],
   "source": [
    "print('Hooray!')\n",
    "print('Hooray!')\n",
    "print('Hooray!')"
   ]
  },
  {
   "cell_type": "code",
   "execution_count": 8,
   "id": "274fbab8",
   "metadata": {},
   "outputs": [
    {
     "name": "stdout",
     "output_type": "stream",
     "text": [
      "Hooray!\n",
      "Hooray!\n",
      "Hooray!\n"
     ]
    }
   ],
   "source": [
    "# I feel like I should be able to use a loop here\n",
    "\n",
    "for one_item in 'abc':\n",
    "    print('Hooray!')   "
   ]
  },
  {
   "cell_type": "code",
   "execution_count": 9,
   "id": "b1bdd980",
   "metadata": {},
   "outputs": [
    {
     "ename": "TypeError",
     "evalue": "'int' object is not iterable",
     "output_type": "error",
     "traceback": [
      "\u001b[0;31m---------------------------------------------------------------------------\u001b[0m",
      "\u001b[0;31mTypeError\u001b[0m                                 Traceback (most recent call last)",
      "Cell \u001b[0;32mIn[9], line 4\u001b[0m\n\u001b[1;32m      1\u001b[0m \u001b[38;5;66;03m# but it seems a bit weird to define a string, only to ignore its contents\u001b[39;00m\n\u001b[1;32m      2\u001b[0m \u001b[38;5;66;03m# and use its length. What about iterating 3 times?\u001b[39;00m\n\u001b[0;32m----> 4\u001b[0m \u001b[38;5;28;01mfor\u001b[39;00m counter \u001b[38;5;129;01min\u001b[39;00m \u001b[38;5;241m3\u001b[39m:\n\u001b[1;32m      5\u001b[0m     \u001b[38;5;28mprint\u001b[39m(\u001b[38;5;124m'\u001b[39m\u001b[38;5;124mHooray!\u001b[39m\u001b[38;5;124m'\u001b[39m)\n",
      "\u001b[0;31mTypeError\u001b[0m: 'int' object is not iterable"
     ]
    }
   ],
   "source": [
    "# but it seems a bit weird to define a string, only to ignore its contents\n",
    "# and use its length. What about iterating 3 times?\n",
    "\n",
    "for counter in 3:    # this doesn't work\n",
    "    print('Hooray!')"
   ]
  },
  {
   "cell_type": "code",
   "execution_count": 10,
   "id": "7a1ddf46",
   "metadata": {},
   "outputs": [
    {
     "name": "stdout",
     "output_type": "stream",
     "text": [
      "Hooray!\n",
      "Hooray!\n",
      "Hooray!\n"
     ]
    }
   ],
   "source": [
    "# how, then, can I iterate 3 times (or any other number of times) in my program?\n",
    "# the answer: range\n",
    "# if we call range(3), that gives us an iterable object that returns 3 values\n",
    "\n",
    "for counter in range(3):    # for asks range(3): Are you iterable? Answer: Yes!\n",
    "    print('Hooray!')"
   ]
  },
  {
   "cell_type": "code",
   "execution_count": 11,
   "id": "18c9c65c",
   "metadata": {},
   "outputs": [
    {
     "name": "stdout",
     "output_type": "stream",
     "text": [
      "0 Hooray!\n",
      "1 Hooray!\n",
      "2 Hooray!\n"
     ]
    }
   ],
   "source": [
    "# what values is counter getting in this example? We know that the loop variable\n",
    "# has to get a new value with each iteration\n",
    "\n",
    "# range(3) will return 3 values -- 0, 1, and 2\n",
    "# generally, range(n) will return n values -- 0, 1, 2, 3 ... n-1\n",
    "# just as a string has a length, but its maximum index is 1 less than that length\n",
    "\n",
    "for counter in range(3):  \n",
    "    print(f'{counter} Hooray!')"
   ]
  },
  {
   "cell_type": "code",
   "execution_count": 12,
   "id": "0164b52a",
   "metadata": {},
   "outputs": [],
   "source": [
    "# if I want to iterate a certain number of times, I can just use range\n",
    "# be careful of off-by-one errors! They're really easy to make, especially\n",
    "# when you combine range with slicing in a string\n",
    "\n",
    "# - range(n) gives us n values, up to (and not including) n\n",
    "# - slices, aka s[start:end], give us values up to and not including the index \"end\""
   ]
  },
  {
   "cell_type": "markdown",
   "id": "f48f258d",
   "metadata": {},
   "source": [
    "# Exercise: Did we reach 100?\n",
    "\n",
    "1. Define `total` to be 0.\n",
    "2. Ask the user to enter three integers.\n",
    "    - If they enter something that isn't an integer, then scold them -- but they lose that turn\n",
    "3. Tell the user what their total is, and if it is > 100\n",
    "\n",
    "Example:\n",
    "\n",
    "    Number: 20\n",
    "    Number: 30\n",
    "    Number: 70\n",
    "    Total is 120\n",
    "    That is more than 100!\n",
    "    \n",
    "    Number: 5\n",
    "    Number: hello\n",
    "    hello is not a number!\n",
    "    Number: 6\n",
    "    Total is 11\n",
    "    That is less than 100!\n",
    "    "
   ]
  },
  {
   "cell_type": "code",
   "execution_count": 17,
   "id": "8d3682ba",
   "metadata": {},
   "outputs": [
    {
     "name": "stdout",
     "output_type": "stream",
     "text": [
      "Enter number 0: 20\n",
      "Enter number 1: hello\n",
      "hello is not numeric; ignoring\n",
      "Enter number 2: 60\n",
      "Total = 80\n",
      "\tToo bad: 80 is not more than 100.\n"
     ]
    }
   ],
   "source": [
    "total = 0\n",
    "\n",
    "for index in range(3):\n",
    "    s = input(f'Enter number {index}: ').strip()\n",
    "    \n",
    "    if s.isdigit():\n",
    "        n = int(s)\n",
    "        total += n\n",
    "    else:\n",
    "        print(f'{s} is not numeric; ignoring')\n",
    "    \n",
    "print(f'Total = {total}')    \n",
    "\n",
    "if total > 100:\n",
    "    print(f'\\tYes, {total} is more than 100!')\n",
    "else:\n",
    "    print(f'\\tToo bad: {total} is not more than 100.')   "
   ]
  },
  {
   "cell_type": "code",
   "execution_count": null,
   "id": "5d8d3a45",
   "metadata": {},
   "outputs": [],
   "source": []
  }
 ],
 "metadata": {
  "kernelspec": {
   "display_name": "Python 3 (ipykernel)",
   "language": "python",
   "name": "python3"
  },
  "language_info": {
   "codemirror_mode": {
    "name": "ipython",
    "version": 3
   },
   "file_extension": ".py",
   "mimetype": "text/x-python",
   "name": "python",
   "nbconvert_exporter": "python",
   "pygments_lexer": "ipython3",
   "version": "3.11.6"
  }
 },
 "nbformat": 4,
 "nbformat_minor": 5
}
