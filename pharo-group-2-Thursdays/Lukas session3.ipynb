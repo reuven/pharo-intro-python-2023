{
 "cells": [
  {
   "cell_type": "code",
   "execution_count": 23,
   "id": "3958089d",
   "metadata": {},
   "outputs": [
    {
     "name": "stdout",
     "output_type": "stream",
     "text": [
      "There's a string\n",
      "There's a \n",
      "kjdfsjksle \\ kjwerklwe\n",
      "This will show\n",
      "line breaks\n",
      "without the \\need of \n",
      "any backslash \n",
      "abcd\\kldhfkwaelhf.\n",
      "This will show\n",
      "line breaks\n",
      "without the \\need of \n",
      "any backslash \n"
     ]
    }
   ],
   "source": [
    "# When using single quotes, use them inside double-quotes # and vice versa\n",
    "\n",
    "s = \"There's a string\"\n",
    "\n",
    "print(s)\n",
    "\n",
    "# Quotes within strings can be masked with backslash: \\\"\n",
    "\n",
    "s2 = \"There\\'s a \"\n",
    "\n",
    "print(s2)\n",
    "\n",
    "# Backslash also indicated a new line within a string\n",
    "\n",
    "s3 = 'kjdfsjksle \\ kjwerklwe'\n",
    "\n",
    "print(s3)\n",
    "\n",
    "# Triple strings allow for line breaks without backslash\n",
    "\n",
    "s4 = r'''This will show\n",
    "line breaks\n",
    "without the \\need of \n",
    "any backslash '''\n",
    "\n",
    "print(s4)\n",
    "\n",
    "# raw strings return whatever is inside\n",
    "\n",
    "s5 = r'abcd\\kldhfkwaelhf.'\n",
    "\n",
    "print(s5)\n",
    "\n",
    "# raw strings can also be put inside tripple quotes\n",
    "\n",
    "s6 = r'''This will show\n",
    "line breaks\n",
    "without the \\need of \n",
    "any backslash '''\n",
    "\n",
    "print(s6)\n",
    "\n",
    "\n",
    "# index can be called like: s[:10] for anyrthing through 10 and s[10:] anything from 10\n",
    "\n",
    "\n"
   ]
  },
  {
   "cell_type": "code",
   "execution_count": 12,
   "id": "5ff017e1",
   "metadata": {},
   "outputs": [
    {
     "name": "stdout",
     "output_type": "stream",
     "text": [
      "give me a wordsuperman\n",
      "upermansay\n"
     ]
    }
   ],
   "source": [
    "# exercise if first letter is vow add \"way\" to the word if first letter is not a vowl, move first letter to end and add \"ay\"\n",
    "\n",
    "s = input('give me a word')\n",
    "\n",
    "if s[0] == 'a' or s[0] == 'e' or s[0] == 'i' or s[0] == 'o' or s[0] == 'u':\n",
    "    s2 = s + \"way\"\n",
    "else:\n",
    "    s2 = s[1:] + s[0] + \"ay\"\n",
    "\n",
    "print(s2)\n",
    "\n",
    "\n",
    "# if condition can be rewritten as:\n",
    "if s[0] in 'aeiou':\n",
    "    s2 = s + \"way\"\n",
    "else:\n",
    "    s2 = s[1:] + s[0] + \"ay\""
   ]
  },
  {
   "cell_type": "code",
   "execution_count": 25,
   "id": "a22494d7",
   "metadata": {},
   "outputs": [
    {
     "name": "stdout",
     "output_type": "stream",
     "text": [
      "type something with spaces ahead and after    fhcnwlek.  dcnknascfs.    \n",
      "fhcnwlek.  dcnknascfs.\n"
     ]
    }
   ],
   "source": [
    "# For object oriented programming, one uses \"methods\" rather than functions\n",
    "\n",
    "# function syntax func(value)\n",
    "# method syntax always come with a dot: value.method()\n",
    "\n",
    "# stripping removes white space ahead and after, so a variabel value can be stripped with:\n",
    "\n",
    "value = input('type something with spaces ahead and after')\n",
    "\n",
    "value = value.strip()\n",
    "\n",
    "print(value)\n",
    "\n",
    "\n",
    "# making letters lowercase: str.lower()\n",
    "# making letters uppercase: str.upper()\n",
    "# making only first uppercase and rest lower: str.capitalize()\n",
    "# reversing upper and lowercase: str.swapcase()"
   ]
  },
  {
   "cell_type": "code",
   "execution_count": 27,
   "id": "63a2d0dd",
   "metadata": {},
   "outputs": [
    {
     "name": "stdout",
     "output_type": "stream",
     "text": [
      "give me a number5\n",
      "10\n"
     ]
    }
   ],
   "source": [
    "# Methods can be used to guardrail against user inputs\n",
    "\n",
    "value = input('give me a number').strip()\n",
    "\n",
    "# check if it is a number\n",
    "if value.isdigit():\n",
    "    n = int(value)+5\n",
    "    print(n)\n",
    "else:\n",
    "    print(f'{value} is not numeric')"
   ]
  },
  {
   "cell_type": "code",
   "execution_count": null,
   "id": "185ed655",
   "metadata": {},
   "outputs": [],
   "source": [
    "# exercise: calculator, ask user to enter two integers and assign them to variable\n",
    "# if both are integers, sum them uo\n",
    "# if one is not numeric, print an error message\n",
    "\n",
    "s1 = input('Give me the first of two numbers')\n",
    "s2  = input('Give me the first of two numbers')\n"
   ]
  }
 ],
 "metadata": {
  "kernelspec": {
   "display_name": "Python 3 (ipykernel)",
   "language": "python",
   "name": "python3"
  },
  "language_info": {
   "codemirror_mode": {
    "name": "ipython",
    "version": 3
   },
   "file_extension": ".py",
   "mimetype": "text/x-python",
   "name": "python",
   "nbconvert_exporter": "python",
   "pygments_lexer": "ipython3",
   "version": "3.11.6"
  }
 },
 "nbformat": 4,
 "nbformat_minor": 5
}
