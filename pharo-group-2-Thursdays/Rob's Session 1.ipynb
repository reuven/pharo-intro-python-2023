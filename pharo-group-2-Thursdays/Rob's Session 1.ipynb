{
  "nbformat": 4,
  "nbformat_minor": 5,
  "metadata": {
    "kernel_info": {
      "name": "python3.9-noteable"
    },
    "kernelspec": {
      "display_name": "Python 3.9 (Noteable)",
      "identifier": "noteable",
      "language": "python",
      "language_version": "3.9",
      "name": "python3.9-noteable"
    },
    "selected_hardware_size": "small"
  },
  "cells": [
    {
      "id": "29d82858",
      "cell_type": "code",
      "metadata": {
        "jupyter": {
          "outputs_hidden": true
        }
      },
      "execution_count": null,
      "source": "name = 'Rob'\nprint('Hello, ' + name + '!')",
      "outputs": []
    },
    {
      "id": "bfb33526-474c-404d-b5e2-13e4707b473e",
      "cell_type": "code",
      "metadata": {
        "jupyter": {
          "outputs_hidden": false,
          "source_hidden": false
        },
        "noteable": {
          "cell_type": "code"
        }
      },
      "execution_count": null,
      "source": "name = input('Rob')\nprint('Hello, ' + name + '!')",
      "outputs": []
    }
  ]
}