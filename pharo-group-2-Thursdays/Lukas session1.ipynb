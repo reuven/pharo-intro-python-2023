{
  "nbformat": 4,
  "nbformat_minor": 5,
  "metadata": {
    "kernel_info": {
      "name": "python3"
    },
    "kernelspec": {
      "display_name": "Python 3.9",
      "identifier": "legacy",
      "language": "python",
      "language_version": "3.9",
      "name": "python3"
    },
    "selected_hardware_size": "small"
  },
  "cells": [
    {
      "id": "c0c32618-ed84-46eb-9cd3-353680cb5807",
      "cell_type": "code",
      "metadata": {
        "jupyter": {
          "outputs_hidden": false,
          "source_hidden": false
        },
        "noteable": {
          "cell_type": "code",
          "output_collection_id": "01e144b1-47f1-4681-88cc-dff29b9f5b03"
        },
        "ExecuteTime": {
          "end_time": "2023-12-08T12:46:15.156993+00:00",
          "start_time": "2023-12-08T12:46:15.001333+00:00"
        }
      },
      "execution_count": null,
      "source": "# creating a string varibale and printing with something before and after aorund # it\n\nname = 'Lukas'\n\nprint('Hello '+name+'!')",
      "outputs": []
    },
    {
      "id": "7bd64ba7-f62f-4ae8-ae89-008814912a88",
      "cell_type": "code",
      "metadata": {
        "jupyter": {
          "outputs_hidden": false,
          "source_hidden": false
        },
        "noteable": {
          "cell_type": "code",
          "output_collection_id": "c8cbdc6d-7db0-45a5-a95d-03027cfa15ba"
        },
        "ExecuteTime": {
          "end_time": "2023-12-08T12:54:35.725787+00:00",
          "start_time": "2023-12-08T12:54:31.986487+00:00"
        }
      },
      "execution_count": null,
      "source": "# use function input for user to assign a value to a variable, treated as text \n# string\n\nname = input('Enter your name: ')\n\nprint('Hello '+name+'!')",
      "outputs": []
    },
    {
      "id": "56168b7b-aefb-4ae5-9483-6c9ed392e60d",
      "cell_type": "code",
      "metadata": {
        "jupyter": {
          "outputs_hidden": false,
          "source_hidden": false
        },
        "noteable": {
          "cell_type": "code",
          "output_collection_id": "8670b6aa-a764-49bc-af71-b2ccb21bb1a0"
        },
        "ExecuteTime": {
          "end_time": "2023-12-08T13:05:55.308540+00:00",
          "start_time": "2023-12-08T13:05:38.758197+00:00"
        }
      },
      "execution_count": null,
      "source": "# Use fstrings to combine the content of other variables into a new varible.\n\nname = input('Enter your name: ')\n\ncity = input('Enter where you are from: ')\n\ncombination = f'Hi {name} from {city} '\n\nprint(combination)",
      "outputs": []
    },
    {
      "id": "af87d07a-3468-422c-97b8-867eb02b24fc",
      "cell_type": "code",
      "metadata": {
        "jupyter": {
          "outputs_hidden": false,
          "source_hidden": false
        },
        "noteable": {
          "cell_type": "code",
          "output_collection_id": "03bde1d8-5f0e-4aa0-a807-5ec644828206"
        },
        "ExecuteTime": {
          "end_time": "2023-12-08T13:15:40.371846+00:00",
          "start_time": "2023-12-08T13:15:38.957810+00:00"
        }
      },
      "execution_count": null,
      "source": "# using an if loop\n# python responds very sensitively to the indentation, rather than curley \n# brackets\n\nname = input('Enter your name: ')\n\nif name == 'Lukas':\n    print('Oh hello sir')\n    print('Good to see you again!')\nelse:\n    print(f'Hello {name}')",
      "outputs": []
    },
    {
      "id": "925c0e06-45a0-4496-b16b-9fe1963f24fa",
      "cell_type": "code",
      "metadata": {
        "jupyter": {
          "outputs_hidden": false,
          "source_hidden": false
        },
        "noteable": {
          "cell_type": "code",
          "output_collection_id": "e2ad8497-65bd-493a-943a-2f24e45a7b67"
        },
        "ExecuteTime": {
          "end_time": "2023-12-08T13:22:21.083200+00:00",
          "start_time": "2023-12-08T13:22:14.228834+00:00"
        }
      },
      "execution_count": null,
      "source": "# exercise to compare which word comes first alphabetically\n\nfirstword = input('Give me the first word: ')\n\nsecondword = input('Give me the second word: ')\n\nif firstword < secondword:\n    print(f'{firstword} comes before {secondword} alphabetically')\nelse:\n    print(f'{secondword} comes before {firstword} alphabetically')\n",
      "outputs": []
    }
  ]
}