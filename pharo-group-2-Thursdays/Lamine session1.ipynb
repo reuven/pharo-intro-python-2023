{
  "nbformat": 4,
  "nbformat_minor": 5,
  "metadata": {
    "kernel_info": {
      "name": "python3.9-noteable"
    },
    "kernelspec": {
      "display_name": "Python 3.9 (Noteable)",
      "identifier": "noteable",
      "language": "python",
      "language_version": "3.9",
      "name": "python3.9-noteable"
    },
    "selected_hardware_size": "small"
  },
  "cells": [
    {
      "id": "0a1da27f",
      "cell_type": "code",
      "metadata": {
        "noteable": {
          "output_collection_id": "7ea55589-d3b5-4cb6-ba7d-db5d77083f24"
        },
        "ExecuteTime": {
          "end_time": "2023-12-04T17:47:12.940837+00:00",
          "start_time": "2023-12-04T17:47:12.786046+00:00"
        }
      },
      "execution_count": null,
      "source": "name='lamine'",
      "outputs": []
    },
    {
      "id": "1169f9c9-caf4-47fa-bfc5-cec20c6fdecc",
      "cell_type": "code",
      "metadata": {
        "jupyter": {
          "outputs_hidden": false,
          "source_hidden": false
        },
        "noteable": {
          "cell_type": "code",
          "output_collection_id": "8a3107ea-72f5-41f0-a2c3-7b7c8e945066"
        },
        "ExecuteTime": {
          "end_time": "2023-12-04T17:47:13.282605+00:00",
          "start_time": "2023-12-04T17:47:12.945239+00:00"
        }
      },
      "execution_count": null,
      "source": "print('hello name ?')",
      "outputs": []
    },
    {
      "id": "852d2c6b-ff5c-4315-8484-f24339ca756c",
      "cell_type": "code",
      "metadata": {
        "jupyter": {
          "outputs_hidden": false,
          "source_hidden": false
        },
        "noteable": {
          "cell_type": "code",
          "output_collection_id": "39d50c9b-8532-466f-a428-96a89f49ce40"
        },
        "ExecuteTime": {
          "end_time": "2023-12-04T17:47:13.685064+00:00",
          "start_time": "2023-12-04T17:47:13.530376+00:00"
        }
      },
      "execution_count": null,
      "source": "print('hello'+  name)",
      "outputs": []
    },
    {
      "id": "3e9f6a57-1857-464f-97d8-ecc4bff065ec",
      "cell_type": "code",
      "metadata": {
        "jupyter": {
          "outputs_hidden": false,
          "source_hidden": false
        },
        "noteable": {
          "cell_type": "code",
          "output_collection_id": "5bb8c53c-c5e9-42c8-be51-89327a16ffc4"
        },
        "ExecuteTime": {
          "end_time": "2023-12-04T17:47:13.844373+00:00",
          "start_time": "2023-12-04T17:47:13.689671+00:00"
        }
      },
      "execution_count": null,
      "source": "print(name)",
      "outputs": []
    },
    {
      "id": "feadd954-2ab4-4585-b7a5-ca9b033d6536",
      "cell_type": "code",
      "metadata": {
        "jupyter": {
          "outputs_hidden": false,
          "source_hidden": false
        },
        "noteable": {
          "cell_type": "code"
        }
      },
      "execution_count": null,
      "source": "print()",
      "outputs": []
    }
  ]
}