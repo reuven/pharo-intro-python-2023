{
  "nbformat": 4,
  "nbformat_minor": 5,
  "metadata": {
    "kernel_info": {
      "name": "python3"
    },
    "kernelspec": {
      "display_name": "Python 3.9",
      "identifier": "legacy",
      "language": "python",
      "language_version": "3.9",
      "name": "python3"
    },
    "selected_hardware_size": "small"
  },
  "cells": [
    {
      "id": "7d9135be",
      "cell_type": "code",
      "metadata": {},
      "execution_count": null,
      "source": "name = dan\nprint ('hello!') \n\nif name  == 'Daniel'\nprint ('Hello Daniel! it is great to see you')\nelse print (f'Hey, {name}.')",
      "outputs": []
    },
    {
      "id": "5b5ae98c-613e-4da8-a9b8-98700117f1c6",
      "cell_type": "code",
      "metadata": {
        "jupyter": {
          "outputs_hidden": false,
          "source_hidden": false
        },
        "noteable": {
          "cell_type": "code"
        }
      },
      "execution_count": null,
      "source": "city = input ('where are you from?')\nprint ('hello, [name}')",
      "outputs": []
    }
  ]
}