{
 "cells": [
  {
   "cell_type": "code",
   "execution_count": 4,
   "id": "8aadcc67",
   "metadata": {},
   "outputs": [
    {
     "name": "stdout",
     "output_type": "stream",
     "text": [
      "There's a string\n",
      "There's a \n"
     ]
    }
   ],
   "source": [
    "# When using single quotes, use them inside double-quotes # and vice versa\n",
    "\n",
    "s = \"There's a string\"\n",
    "\n",
    "print(s)\n",
    "\n",
    "# Quotes within strings can be masked with backslash: \\\"\n",
    "\n",
    "s2 = \"There\\'s a \"\n",
    "\n",
    "print(s2)\n",
    "\n",
    "# Backslash also indicated a new line within a string\n",
    "# Triple strings allow for line breaks without backslash\n",
    "\n",
    "#s3 = '''This will show\n",
    "#line breaks\n",
    "#without the need of \n",
    "#any backslash \\'''\n",
    "\n",
    "\n",
    "# raw strings return whatever is inside\n",
    "\n",
    "s4 = r'abcd\\kldhfkwaelhf.'\n",
    "\n"
   ]
  },
  {
   "cell_type": "code",
   "execution_count": null,
   "id": "93c45dab",
   "metadata": {},
   "outputs": [],
   "source": [
    "# exercise if first letter is vow add \"way\" to the word if first letter"
   ]
  }
 ],
 "metadata": {
  "kernelspec": {
   "display_name": "Python 3 (ipykernel)",
   "language": "python",
   "name": "python3"
  },
  "language_info": {
   "codemirror_mode": {
    "name": "ipython",
    "version": 3
   },
   "file_extension": ".py",
   "mimetype": "text/x-python",
   "name": "python",
   "nbconvert_exporter": "python",
   "pygments_lexer": "ipython3",
   "version": "3.11.6"
  }
 },
 "nbformat": 4,
 "nbformat_minor": 5
}
