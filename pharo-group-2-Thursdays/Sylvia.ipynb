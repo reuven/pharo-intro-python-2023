{
  "nbformat": 4,
  "nbformat_minor": 5,
  "metadata": {
    "kernel_info": {
      "name": "python3"
    },
    "kernelspec": {
      "display_name": "Python 3.9",
      "identifier": "legacy",
      "language": "python",
      "language_version": "3.9",
      "name": "python3"
    },
    "selected_hardware_size": "small"
  },
  "cells": [
    {
      "id": "ef599a04",
      "cell_type": "code",
      "metadata": {
        "noteable": {
          "output_collection_id": "bb78ef67-757d-40f4-91f2-30ffc510b086"
        },
        "ExecuteTime": null
      },
      "execution_count": null,
      "source": "name = 'Sylvia'\nprint(f'Hello, {name}!')",
      "outputs": []
    },
    {
      "id": "a8e99c76-edf1-47b7-9025-cf60094e2389",
      "cell_type": "code",
      "metadata": {
        "jupyter": {
          "outputs_hidden": false,
          "source_hidden": false
        },
        "noteable": {
          "cell_type": "code",
          "output_collection_id": "b46157f8-0abe-4127-a7ff-3c3bd8d7f173"
        },
        "ExecuteTime": null
      },
      "execution_count": null,
      "source": "name = input('Enter your name: ')\ncity = input('Enter your city: ')\nprint(f'Hello, {name} from {city}!')",
      "outputs": []
    },
    {
      "id": "fa2cd3fb-159d-4a90-ae59-9b4a18c0c328",
      "cell_type": "code",
      "metadata": {
        "jupyter": {
          "outputs_hidden": false,
          "source_hidden": false
        },
        "noteable": {
          "cell_type": "code"
        }
      },
      "execution_count": null,
      "source": "first = input('Enter your first word: ')\nsecond = input('Enter your second word: ')\n\nif first < second:\n    print(f'\"{first}\" comes first alphabetically.')\nelif first == second:\n    print(f'Two words provided are the same.')\nelse:\n    print(f'\"{second}\" comes first alphabetically.')",
      "outputs": []
    },
    {
      "id": "2683731c-3c5f-4014-a49d-b67c51c93340",
      "cell_type": "code",
      "metadata": {
        "jupyter": {
          "outputs_hidden": false,
          "source_hidden": false
        },
        "noteable": {
          "cell_type": "code"
        }
      },
      "execution_count": null,
      "source": "",
      "outputs": []
    }
  ]
}