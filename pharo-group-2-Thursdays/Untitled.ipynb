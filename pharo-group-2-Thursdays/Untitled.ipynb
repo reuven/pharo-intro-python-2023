{
 "cells": [
  {
   "cell_type": "code",
   "execution_count": 1,
   "id": "3b835523",
   "metadata": {},
   "outputs": [
    {
     "name": "stdout",
     "output_type": "stream",
     "text": [
      "hey man, wassaup?\n"
     ]
    }
   ],
   "source": [
    "print('hey man, wassaup?')"
   ]
  },
  {
   "cell_type": "code",
   "execution_count": 2,
   "id": "5765d2cb",
   "metadata": {},
   "outputs": [],
   "source": [
    "g = 'how do you do?'"
   ]
  },
  {
   "cell_type": "code",
   "execution_count": 3,
   "id": "1d0d96bf",
   "metadata": {},
   "outputs": [
    {
     "data": {
      "text/plain": [
       "'how d'"
      ]
     },
     "execution_count": 3,
     "metadata": {},
     "output_type": "execute_result"
    }
   ],
   "source": [
    "g[0:5]"
   ]
  },
  {
   "cell_type": "code",
   "execution_count": 4,
   "id": "6cf59948",
   "metadata": {},
   "outputs": [
    {
     "data": {
      "text/plain": [
       "'o you'"
      ]
     },
     "execution_count": 4,
     "metadata": {},
     "output_type": "execute_result"
    }
   ],
   "source": [
    "g[5:10]"
   ]
  },
  {
   "cell_type": "code",
   "execution_count": 5,
   "id": "b53c882c",
   "metadata": {},
   "outputs": [],
   "source": [
    "g += ' where you from'"
   ]
  },
  {
   "cell_type": "code",
   "execution_count": null,
   "id": "817e9225",
   "metadata": {},
   "outputs": [],
   "source": [
    "prin"
   ]
  }
 ],
 "metadata": {
  "kernelspec": {
   "display_name": "Python 3 (ipykernel)",
   "language": "python",
   "name": "python3"
  },
  "language_info": {
   "codemirror_mode": {
    "name": "ipython",
    "version": 3
   },
   "file_extension": ".py",
   "mimetype": "text/x-python",
   "name": "python",
   "nbconvert_exporter": "python",
   "pygments_lexer": "ipython3",
   "version": "3.11.6"
  }
 },
 "nbformat": 4,
 "nbformat_minor": 5
}
