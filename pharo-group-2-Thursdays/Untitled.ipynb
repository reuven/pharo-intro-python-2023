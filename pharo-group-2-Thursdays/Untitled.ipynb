{
 "cells": [
  {
   "cell_type": "code",
   "execution_count": 1,
   "id": "3b835523",
   "metadata": {},
   "outputs": [
    {
     "name": "stdout",
     "output_type": "stream",
     "text": [
      "hey man, wassaup?\n"
     ]
    }
   ],
   "source": [
    "print('hey man, wassaup?')"
   ]
  },
  {
   "cell_type": "code",
   "execution_count": 2,
   "id": "5765d2cb",
   "metadata": {},
   "outputs": [],
   "source": [
    "g = 'how do you do?'"
   ]
  },
  {
   "cell_type": "code",
   "execution_count": 3,
   "id": "5dba2085",
   "metadata": {},
   "outputs": [
    {
     "data": {
      "text/plain": [
       "'how d'"
      ]
     },
     "execution_count": 3,
     "metadata": {},
     "output_type": "execute_result"
    }
   ],
   "source": [
    "g[0:5]"
   ]
  },
  {
   "cell_type": "code",
   "execution_count": 4,
   "id": "58ea7e51",
   "metadata": {},
   "outputs": [
    {
     "data": {
      "text/plain": [
       "'o you'"
      ]
     },
     "execution_count": 4,
     "metadata": {},
     "output_type": "execute_result"
    }
   ],
   "source": [
    "g[5:10]"
   ]
  },
  {
   "cell_type": "code",
   "execution_count": 5,
   "id": "9486cb30",
   "metadata": {},
   "outputs": [],
   "source": [
    "g += ' where you from'"
   ]
  },
  {
   "cell_type": "code",
   "execution_count": 6,
   "id": "37d7183d",
   "metadata": {},
   "outputs": [
    {
     "data": {
      "text/plain": [
       "'how do you do? where you from'"
      ]
     },
     "execution_count": 6,
     "metadata": {},
     "output_type": "execute_result"
    }
   ],
   "source": [
    "g"
   ]
  },
  {
   "cell_type": "code",
   "execution_count": 7,
   "id": "b8046711",
   "metadata": {},
   "outputs": [
    {
     "ename": "TypeError",
     "evalue": "unsupported operand type(s) for -=: 'str' and 'str'",
     "output_type": "error",
     "traceback": [
      "\u001b[0;31m---------------------------------------------------------------------------\u001b[0m",
      "\u001b[0;31mTypeError\u001b[0m                                 Traceback (most recent call last)",
      "Cell \u001b[0;32mIn[7], line 1\u001b[0m\n\u001b[0;32m----> 1\u001b[0m \u001b[43mg\u001b[49m\u001b[43m \u001b[49m\u001b[38;5;241;43m-\u001b[39;49m\u001b[38;5;241;43m=\u001b[39;49m\u001b[38;5;124;43m'\u001b[39;49m\u001b[38;5;124;43m where you from\u001b[39;49m\u001b[38;5;124;43m'\u001b[39;49m\n",
      "\u001b[0;31mTypeError\u001b[0m: unsupported operand type(s) for -=: 'str' and 'str'"
     ]
    }
   ],
   "source": [
    "g -=' where you from'"
   ]
  },
  {
   "cell_type": "code",
   "execution_count": 8,
   "id": "3bbc31cc",
   "metadata": {},
   "outputs": [],
   "source": [
    "h = 'enter english word: '"
   ]
  },
  {
   "cell_type": "code",
   "execution_count": 9,
   "id": "b367bf37",
   "metadata": {},
   "outputs": [
    {
     "data": {
      "text/plain": [
       "'enter english word: '"
      ]
     },
     "execution_count": 9,
     "metadata": {},
     "output_type": "execute_result"
    }
   ],
   "source": [
    "h"
   ]
  },
  {
   "cell_type": "code",
   "execution_count": 10,
   "id": "937c1029",
   "metadata": {},
   "outputs": [
    {
     "ename": "SyntaxError",
     "evalue": "cannot assign to function call here. Maybe you meant '==' instead of '='? (4266933577.py, line 1)",
     "output_type": "error",
     "traceback": [
      "\u001b[0;36m  Cell \u001b[0;32mIn[10], line 1\u001b[0;36m\u001b[0m\n\u001b[0;31m    str(h) = 'enter englisj word: '\u001b[0m\n\u001b[0m    ^\u001b[0m\n\u001b[0;31mSyntaxError\u001b[0m\u001b[0;31m:\u001b[0m cannot assign to function call here. Maybe you meant '==' instead of '='?\n"
     ]
    }
   ],
   "source": [
    "str(h) = 'enter englisj word: '\n",
    "\n",
    "h"
   ]
  },
  {
   "cell_type": "code",
   "execution_count": 11,
   "id": "a8478999",
   "metadata": {},
   "outputs": [
    {
     "data": {
      "text/plain": [
       "True"
      ]
     },
     "execution_count": 11,
     "metadata": {},
     "output_type": "execute_result"
    }
   ],
   "source": [
    "h == 'enter english word: '\n"
   ]
  },
  {
   "cell_type": "code",
   "execution_count": 12,
   "id": "603f87c9",
   "metadata": {},
   "outputs": [
    {
     "name": "stdout",
     "output_type": "stream",
     "text": [
      "enter english word: \n"
     ]
    }
   ],
   "source": [
    "print(h)"
   ]
  },
  {
   "cell_type": "code",
   "execution_count": 13,
   "id": "253e505c",
   "metadata": {},
   "outputs": [
    {
     "data": {
      "text/plain": [
       "True"
      ]
     },
     "execution_count": 13,
     "metadata": {},
     "output_type": "execute_result"
    }
   ],
   "source": [
    "str(h) == 'enter english word: '\n"
   ]
  },
  {
   "cell_type": "code",
   "execution_count": null,
   "id": "531992de",
   "metadata": {},
   "outputs": [],
   "source": []
  }
 ],
 "metadata": {
  "kernelspec": {
   "display_name": "Python 3 (ipykernel)",
   "language": "python",
   "name": "python3"
  },
  "language_info": {
   "codemirror_mode": {
    "name": "ipython",
    "version": 3
   },
   "file_extension": ".py",
   "mimetype": "text/x-python",
   "name": "python",
   "nbconvert_exporter": "python",
   "pygments_lexer": "ipython3",
   "version": "3.11.6"
  }
 },
 "nbformat": 4,
 "nbformat_minor": 5
}
