{
 "cells": [
  {
   "cell_type": "code",
   "execution_count": 1,
   "id": "3b835523",
   "metadata": {},
   "outputs": [
    {
     "name": "stdout",
     "output_type": "stream",
     "text": [
      "hey man, wassaup?\n"
     ]
    }
   ],
   "source": [
    "print('hey man, wassaup?')"
   ]
  },
  {
   "cell_type": "code",
   "execution_count": 2,
   "id": "5765d2cb",
   "metadata": {},
   "outputs": [],
   "source": [
    "g = 'how do you do?'"
   ]
  },
  {
   "cell_type": "code",
   "execution_count": 3,
   "id": "e4017766",
   "metadata": {},
   "outputs": [
    {
     "data": {
      "text/plain": [
       "'how d'"
      ]
     },
     "execution_count": 3,
     "metadata": {},
     "output_type": "execute_result"
    }
   ],
   "source": [
    "g[0:5]"
   ]
  },
  {
   "cell_type": "code",
   "execution_count": 4,
   "id": "67ca6c0c",
   "metadata": {},
   "outputs": [
    {
     "data": {
      "text/plain": [
       "'o you'"
      ]
     },
     "execution_count": 4,
     "metadata": {},
     "output_type": "execute_result"
    }
   ],
   "source": [
    "g[5:10]"
   ]
  },
  {
   "cell_type": "code",
   "execution_count": 5,
   "id": "df3e5dac",
   "metadata": {},
   "outputs": [],
   "source": [
    "g += ' where you from'"
   ]
  },
  {
   "cell_type": "code",
   "execution_count": 6,
   "id": "633f4867",
   "metadata": {},
   "outputs": [
    {
     "data": {
      "text/plain": [
       "'how do you do? where you from'"
      ]
     },
     "execution_count": 6,
     "metadata": {},
     "output_type": "execute_result"
    }
   ],
   "source": [
    "g"
   ]
  },
  {
   "cell_type": "code",
   "execution_count": 7,
   "id": "ef1fecf2",
   "metadata": {},
   "outputs": [
    {
     "ename": "TypeError",
     "evalue": "unsupported operand type(s) for -=: 'str' and 'str'",
     "output_type": "error",
     "traceback": [
      "\u001b[0;31m---------------------------------------------------------------------------\u001b[0m",
      "\u001b[0;31mTypeError\u001b[0m                                 Traceback (most recent call last)",
      "Cell \u001b[0;32mIn[7], line 1\u001b[0m\n\u001b[0;32m----> 1\u001b[0m \u001b[43mg\u001b[49m\u001b[43m \u001b[49m\u001b[38;5;241;43m-\u001b[39;49m\u001b[38;5;241;43m=\u001b[39;49m\u001b[38;5;124;43m'\u001b[39;49m\u001b[38;5;124;43m where you from\u001b[39;49m\u001b[38;5;124;43m'\u001b[39;49m\n",
      "\u001b[0;31mTypeError\u001b[0m: unsupported operand type(s) for -=: 'str' and 'str'"
     ]
    }
   ],
   "source": [
    "g -=' where you from'"
   ]
  },
  {
   "cell_type": "code",
   "execution_count": null,
   "id": "d0d0af36",
   "metadata": {},
   "outputs": [],
   "source": []
  }
 ],
 "metadata": {
  "kernelspec": {
   "display_name": "Python 3 (ipykernel)",
   "language": "python",
   "name": "python3"
  },
  "language_info": {
   "codemirror_mode": {
    "name": "ipython",
    "version": 3
   },
   "file_extension": ".py",
   "mimetype": "text/x-python",
   "name": "python",
   "nbconvert_exporter": "python",
   "pygments_lexer": "ipython3",
   "version": "3.11.6"
  }
 },
 "nbformat": 4,
 "nbformat_minor": 5
}
