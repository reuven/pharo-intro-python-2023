{
 "cells": [
  {
   "cell_type": "code",
   "execution_count": null,
   "id": "5b6640ad",
   "metadata": {
    "ExecuteTime": {
     "end_time": "2023-12-08T13:08:17.133189+00:00",
     "start_time": "2023-12-08T13:08:16.978634+00:00"
    },
    "noteable": {
     "output_collection_id": "539116f8-61b0-4a64-99bf-b6e21fcc9fd6"
    }
   },
   "outputs": [],
   "source": [
    "print ('hi!')"
   ]
  },
  {
   "cell_type": "code",
   "execution_count": null,
   "id": "976f7317-c8e6-4425-a07a-68d3d3caa6a3",
   "metadata": {
    "ExecuteTime": {
     "end_time": "2023-12-11T17:20:43.430110+00:00",
     "start_time": "2023-12-11T17:20:32.597067+00:00"
    },
    "jupyter": {
     "outputs_hidden": false,
     "source_hidden": false
    },
    "noteable": {
     "cell_type": "code",
     "output_collection_id": "4d195ebc-a696-4770-9b8e-8cd90deb3423"
    }
   },
   "outputs": [],
   "source": [
    "first = input('enter first word')\n",
    "second= input('enter second word')\n",
    "if first < second:\n",
    " print (f'{first} comes first')\n",
    "else:\n",
    "    print (f'{second} comes first')"
   ]
  },
  {
   "cell_type": "code",
   "execution_count": null,
   "id": "6b4c06b0-42c2-4608-9823-ee656b1e6189",
   "metadata": {
    "ExecuteTime": {
     "end_time": "2023-12-08T13:53:27.075401+00:00",
     "start_time": "2023-12-08T13:53:26.919733+00:00"
    },
    "jupyter": {
     "outputs_hidden": false,
     "source_hidden": false
    },
    "noteable": {
     "cell_type": "code",
     "output_collection_id": "5a061b4b-1703-452a-892e-920ca8606bb0"
    }
   },
   "outputs": [],
   "source": [
    "a=5\n",
    "b=20*a\n",
    "tax = 2*b\n",
    "print (tax)\n"
   ]
  },
  {
   "cell_type": "code",
   "execution_count": null,
   "id": "9f81847e-0fc3-4fd0-9679-6db5e4d1b23a",
   "metadata": {
    "ExecuteTime": {
     "end_time": "2023-12-11T13:13:19.427218+00:00",
     "start_time": "2023-12-11T13:13:04.001928+00:00"
    },
    "jupyter": {
     "outputs_hidden": false,
     "source_hidden": false
    },
    "noteable": {
     "cell_type": "code",
     "output_collection_id": "74e46aaa-15fb-4038-aac8-4b32b32dc104"
    }
   },
   "outputs": [],
   "source": [
    "price = input ('enter price of your meal')\n",
    "price = float(price)\n",
    "tax = price*0.20\n",
    "total_price = price + tax\n",
    "number_of_people = input ('enter number of people')\n",
    "number_of_people = float(number_of_people)\n",
    "price_each_person = total_price/number_of_people\n",
    "print(price_each_person)"
   ]
  },
  {
   "cell_type": "code",
   "execution_count": null,
   "id": "134f8f12-9b46-4128-874b-28d758a67cee",
   "metadata": {
    "ExecuteTime": {
     "end_time": "2023-12-11T13:22:17.496931+00:00",
     "start_time": "2023-12-11T13:22:02.327700+00:00"
    },
    "jupyter": {
     "outputs_hidden": false,
     "source_hidden": false
    },
    "noteable": {
     "cell_type": "code",
     "output_collection_id": "d72bb518-2f86-4c7e-89b9-04a3c8e48d09"
    }
   },
   "outputs": [],
   "source": [
    "name = input ('enter your name')\n",
    "if name =='Que':\n",
    " print('hello SillyBilly')\n",
    "else:\n",
    " print(f'Hello {name}, how are you?')"
   ]
  },
  {
   "cell_type": "code",
   "execution_count": null,
   "id": "d2f7d645-3d7f-45c9-8c03-84ca02dfe649",
   "metadata": {
    "ExecuteTime": {
     "end_time": "2023-12-11T13:28:12.446929+00:00",
     "start_time": "2023-12-11T13:27:56.401051+00:00"
    },
    "jupyter": {
     "outputs_hidden": false,
     "source_hidden": false
    },
    "noteable": {
     "cell_type": "code",
     "output_collection_id": "c4d35bcb-003d-454a-99db-912dd174bb11"
    }
   },
   "outputs": [],
   "source": [
    "age = input('enter your age')\n",
    "age = float(age)\n",
    "if age >60:\n",
    " print ('Jeez, you are ancient!')\n",
    "if age<40: \n",
    " print ('You are a spring chicken')\n",
    "else:\n",
    " print ('You are definitely middle age!')"
   ]
  },
  {
   "cell_type": "code",
   "execution_count": null,
   "id": "3e98db27-e6d7-4c52-9312-4e7dbe98dc37",
   "metadata": {
    "ExecuteTime": {
     "end_time": "2023-12-11T13:52:12.885647+00:00",
     "start_time": "2023-12-11T13:52:12.730997+00:00"
    },
    "jupyter": {
     "outputs_hidden": false,
     "source_hidden": false
    },
    "noteable": {
     "cell_type": "code",
     "output_collection_id": "7f891ea0-4e08-45b2-937e-48ed018d5b70"
    }
   },
   "outputs": [],
   "source": [
    "x='hello Que'\n",
    "s=x[0:7]\n",
    "print(s)"
   ]
  },
  {
   "cell_type": "code",
   "execution_count": null,
   "id": "9d8f57d7-5898-4ef1-bf12-e93e3f76d0f4",
   "metadata": {
    "ExecuteTime": {
     "end_time": "2023-12-11T13:59:09.170685+00:00",
     "start_time": "2023-12-11T13:58:49.115306+00:00"
    },
    "jupyter": {
     "outputs_hidden": false,
     "source_hidden": false
    },
    "noteable": {
     "cell_type": "code",
     "output_collection_id": "c2769c97-cf86-42da-961a-53b31e846951"
    }
   },
   "outputs": [],
   "source": [
    "today = input('enter day of the week as of today')\n",
    "day = input('enter day')\n",
    "month =input('enter month')\n",
    "year = input('enter year')\n",
    "print (f'today is {today} {day}/{month}/{year}') #to make sure the variables {today} {day} etc appears exactly as you inputted, you need to use f string at the beginning, otherwise it doesn't work\n"
   ]
  },
  {
   "cell_type": "code",
   "execution_count": null,
   "id": "48c73a3f-7f7a-4791-8030-d8aea033f702",
   "metadata": {
    "ExecuteTime": {
     "end_time": "2023-12-11T14:01:54.679853+00:00",
     "start_time": "2023-12-11T14:01:54.524167+00:00"
    },
    "jupyter": {
     "outputs_hidden": false,
     "source_hidden": false
    },
    "noteable": {
     "cell_type": "code",
     "output_collection_id": "a769547b-9ca2-4491-8016-69701ca3b65b"
    }
   },
   "outputs": [],
   "source": [
    "s = 'Hello Que'\n",
    "s = s.replace('Que', 'Fat Face')\n",
    "print(s)"
   ]
  },
  {
   "cell_type": "code",
   "execution_count": null,
   "id": "e2259cd5-531d-48db-a8fa-41dd56373852",
   "metadata": {
    "ExecuteTime": {
     "end_time": "2023-12-11T14:03:17.299346+00:00",
     "start_time": "2023-12-11T14:03:17.144707+00:00"
    },
    "jupyter": {
     "outputs_hidden": false,
     "source_hidden": false
    },
    "noteable": {
     "cell_type": "code",
     "output_collection_id": "200e947a-ba73-4c64-a1f2-a794b8463e56"
    }
   },
   "outputs": [],
   "source": [
    "s = 'A bird in hand is worth two in the bush'\n",
    "index=s.find('worth')\n",
    "print(index)"
   ]
  },
  {
   "cell_type": "code",
   "execution_count": null,
   "id": "c1598bab-c3ed-4256-ae23-9179db1d0c87",
   "metadata": {
    "ExecuteTime": {
     "end_time": "2023-12-11T14:05:12.995020+00:00",
     "start_time": "2023-12-11T14:05:12.840412+00:00"
    },
    "jupyter": {
     "outputs_hidden": false,
     "source_hidden": false
    },
    "noteable": {
     "cell_type": "code",
     "output_collection_id": "80e42b47-e85f-4d2f-97af-0f9929daf714"
    }
   },
   "outputs": [],
   "source": [
    "s = 'A bird in hand is worth two in the bush'\n",
    "if 'bushes' in s:\n",
    " print('query found')\n",
    "else:\n",
    " print('query not found')"
   ]
  },
  {
   "cell_type": "code",
   "execution_count": null,
   "id": "431e53c4-b802-4e40-884f-d82fc79201f6",
   "metadata": {
    "ExecuteTime": {
     "end_time": "2023-12-11T14:08:47.027970+00:00",
     "start_time": "2023-12-11T14:08:46.873133+00:00"
    },
    "jupyter": {
     "outputs_hidden": false,
     "source_hidden": false
    },
    "noteable": {
     "cell_type": "code",
     "output_collection_id": "5f59af1d-7baf-4f39-b2c4-bd18fafce996"
    }
   },
   "outputs": [],
   "source": [
    "firstname = 'Que'\n",
    "lastname = 'Vuong'\n",
    "doublebarrelled='Crouzier'\n",
    "sequence = (firstname, lastname,doublebarrelled)\n",
    "name = '_'.join(sequence)\n",
    "print(name)"
   ]
  },
  {
   "cell_type": "code",
   "execution_count": null,
   "id": "3460e027-6a69-438f-be85-52fa50d9db03",
   "metadata": {
    "ExecuteTime": {
     "end_time": "2023-12-11T14:09:55.657710+00:00",
     "start_time": "2023-12-11T14:09:55.502822+00:00"
    },
    "jupyter": {
     "outputs_hidden": false,
     "source_hidden": false
    },
    "noteable": {
     "cell_type": "code",
     "output_collection_id": "902c474f-a345-49ef-811e-f89b3b7795d0"
    }
   },
   "outputs": [],
   "source": [
    "s= 'this is crappily slow!'\n",
    "words = s.split()\n",
    "print(words)"
   ]
  },
  {
   "cell_type": "code",
   "execution_count": null,
   "id": "f3313f0b-1f5b-4914-a166-582fa53babe9",
   "metadata": {
    "ExecuteTime": {
     "end_time": "2023-12-12T12:13:42.136026+00:00",
     "start_time": "2023-12-12T12:13:37.399243+00:00"
    },
    "jupyter": {
     "outputs_hidden": false,
     "source_hidden": false
    },
    "noteable": {
     "cell_type": "code",
     "output_collection_id": "ed1ff51c-9ce6-46e7-94c7-e18b9bd47c3a"
    }
   },
   "outputs": [],
   "source": [
    "s= 'this is crappily slow!'\n",
    "i = input('enter an index')\n",
    "i=int(i)\n",
    "words = s.split()\n",
    "print(len(words))\n",
    "print(len(s))\n",
    "if i>22 or i<0:\n",
    "    print('error')\n",
    "else:\n",
    "    print(f'index {i} in \"{s}\" is {s[i]}') #the {} is to keep the value of string intact when print out"
   ]
  },
  {
   "cell_type": "code",
   "execution_count": null,
   "id": "90b4f741-c055-486c-a5f8-371dd615594f",
   "metadata": {
    "ExecuteTime": {
     "end_time": "2023-12-11T14:13:35.934985+00:00",
     "start_time": "2023-12-11T14:13:35.780240+00:00"
    },
    "jupyter": {
     "outputs_hidden": false,
     "source_hidden": false
    },
    "noteable": {
     "cell_type": "code",
     "output_collection_id": "1514a01e-4b12-4d40-a3a6-06b3123ac1b7"
    }
   },
   "outputs": [],
   "source": [
    "word= 'Christmas'\n",
    "x = list(word)\n",
    "print(x)"
   ]
  },
  {
   "cell_type": "code",
   "execution_count": null,
   "id": "78f15fda-f46b-4dc7-955e-eaa930ca4b0e",
   "metadata": {
    "ExecuteTime": {
     "end_time": "2023-12-11T14:17:47.075988+00:00",
     "start_time": "2023-12-11T14:17:46.920246+00:00"
    },
    "jupyter": {
     "outputs_hidden": false,
     "source_hidden": false
    },
    "noteable": {
     "cell_type": "code",
     "output_collection_id": "e0790037-4c59-4a38-a791-e968e21db032"
    }
   },
   "outputs": [],
   "source": [
    "a='Happy'\n",
    "b='Christmas'\n",
    "x = a+' '+b  #here code doesn't work because there is no space between + and'' nor space '' and +b\n",
    "#The join method in Python is used for joining elements of an iterable (like a list) into a string, but it's not used for directly joining two strings together.\n",
    "\n",
    "If you just want to concatenate a and b and then print them, you can simply use the + operator. Also, if you want a space between 'Happy' and 'Christmas', you need to include that explicitly. \n",
    "print(x)"
   ]
  },
  {
   "cell_type": "code",
   "execution_count": null,
   "id": "224c3649-c9cc-41df-b0d9-136752f3097f",
   "metadata": {
    "ExecuteTime": {
     "end_time": "2023-12-11T14:18:03.851242+00:00",
     "start_time": "2023-12-11T14:18:03.696076+00:00"
    },
    "jupyter": {
     "outputs_hidden": false,
     "source_hidden": false
    },
    "noteable": {
     "cell_type": "code",
     "output_collection_id": "9ac1f7d1-fa7c-495c-8562-2189ed721803"
    }
   },
   "outputs": [],
   "source": [
    "a = 'Happy'\n",
    "b = 'Christmas'\n",
    "x = a + ' ' + b  # Concatenating the strings with a space in between\n",
    "print(x)\n"
   ]
  },
  {
   "cell_type": "code",
   "execution_count": null,
   "id": "74da2fdb-369a-4656-90e3-7f630cfabae5",
   "metadata": {
    "ExecuteTime": {
     "end_time": "2023-12-11T14:20:55.269154+00:00",
     "start_time": "2023-12-11T14:20:55.114291+00:00"
    },
    "jupyter": {
     "outputs_hidden": false,
     "source_hidden": false
    },
    "noteable": {
     "cell_type": "code",
     "output_collection_id": "c08a60a3-f07f-4af8-adb8-ac94d2ba65df"
    }
   },
   "outputs": [],
   "source": [
    "import random\n",
    "x = random.uniform(1, 10)\n",
    "print(x)"
   ]
  },
  {
   "cell_type": "code",
   "execution_count": null,
   "id": "801aa7f2-4659-4944-90c1-67d2cc5182b2",
   "metadata": {
    "ExecuteTime": {
     "end_time": "2023-12-11T14:21:24.829750+00:00",
     "start_time": "2023-12-11T14:21:24.674494+00:00"
    },
    "jupyter": {
     "outputs_hidden": false,
     "source_hidden": false
    },
    "noteable": {
     "cell_type": "code",
     "output_collection_id": "45576e69-8b95-4765-a3f8-1e02697bb0ff"
    }
   },
   "outputs": [],
   "source": [
    "print(random.randrange(0,10)) #randrange is to get integer value"
   ]
  },
  {
   "cell_type": "code",
   "execution_count": null,
   "id": "c5f6abbf-ea98-4476-bd76-00b90094463b",
   "metadata": {
    "ExecuteTime": {
     "end_time": "2023-12-11T14:21:52.963343+00:00",
     "start_time": "2023-12-11T14:21:52.808539+00:00"
    },
    "jupyter": {
     "outputs_hidden": false,
     "source_hidden": false
    },
    "noteable": {
     "cell_type": "code",
     "output_collection_id": "f3412cbc-8a5b-4718-9072-d86b80047307"
    }
   },
   "outputs": [],
   "source": [
    "print(random.randrange(10,100))"
   ]
  },
  {
   "cell_type": "code",
   "execution_count": null,
   "id": "de246b74-637a-45ec-baf1-9db420db1d07",
   "metadata": {
    "ExecuteTime": {
     "end_time": "2023-12-11T14:22:30.554487+00:00",
     "start_time": "2023-12-11T14:22:30.399188+00:00"
    },
    "jupyter": {
     "outputs_hidden": false,
     "source_hidden": false
    },
    "noteable": {
     "cell_type": "code",
     "output_collection_id": "d4d2fec4-a2cd-4067-ac4f-86c957c9dcbc"
    }
   },
   "outputs": [],
   "source": [
    "print(random.random())  #this is to get any random value, not necessarily integer"
   ]
  },
  {
   "cell_type": "code",
   "execution_count": null,
   "id": "ab2b14dc-421c-4207-8b2a-02528378858b",
   "metadata": {
    "ExecuteTime": {
     "end_time": "2023-12-11T14:30:03.727086+00:00",
     "start_time": "2023-12-11T14:29:33.977820+00:00"
    },
    "jupyter": {
     "outputs_hidden": false,
     "source_hidden": false
    },
    "noteable": {
     "cell_type": "code",
     "output_collection_id": "c69f3d1c-9a9c-41d6-9e1e-5bb7a784b4f8"
    }
   },
   "outputs": [],
   "source": [
    "name = input('what is your name')\n",
    "job = input('what is your job')\n",
    "num= input('give me a number')\n",
    "print(f'You said: '+str(num))\n",
    "print(f'{name}, doing job {job}, said this:{num}') #be careful when inserting stuff in sentences, you don't need + sign but make sure quotation mark at beginning and end"
   ]
  },
  {
   "cell_type": "code",
   "execution_count": null,
   "id": "8adca293-2415-45fe-ad08-0d6fecb6810c",
   "metadata": {
    "ExecuteTime": {
     "end_time": "2023-12-11T14:36:05.541187+00:00",
     "start_time": "2023-12-11T14:36:05.385980+00:00"
    },
    "jupyter": {
     "outputs_hidden": false,
     "source_hidden": false
    },
    "noteable": {
     "cell_type": "code",
     "output_collection_id": "b0d4b163-76d4-45a5-b8c2-7275dda88dca"
    }
   },
   "outputs": [],
   "source": [
    "x=6\n",
    "if x==2:\n",
    "    print('two')\n",
    "elif x==3:\n",
    "    print('three')\n",
    "elif x==10:\n",
    "    print('ten')\n",
    "else:\n",
    "    print('something else')"
   ]
  },
  {
   "cell_type": "code",
   "execution_count": null,
   "id": "00106e18-1ad8-494a-be20-7e8828c3ce1a",
   "metadata": {
    "ExecuteTime": {
     "end_time": "2023-12-11T14:40:53.799541+00:00",
     "start_time": "2023-12-11T14:40:49.904884+00:00"
    },
    "jupyter": {
     "outputs_hidden": false,
     "source_hidden": false
    },
    "noteable": {
     "cell_type": "code",
     "output_collection_id": "fda06435-4523-4663-bcdc-13e047a53c5e"
    }
   },
   "outputs": [],
   "source": [
    "x=input('enter a number between 1 and 10')\n",
    "x = int(x)\n",
    "if x==1:\n",
    "    print('lower range of 1 and 10')\n",
    "elif x ==10:\n",
    "    print('upper range of 1 and 10')\n",
    "if x<10 and x>1:\n",
    "    print('within range of 1 and 10')\n",
    "else:\n",
    "    print('out of range of 1 and 10')\n",
    " # The input x is converted to an integer.\n",
    "An elif is used for the 'within range' condition, ensuring that it's part of the main if-elif-else block. This way, the 'out of range' message will only be printed if none of the other conditions are true.  "
   ]
  },
  {
   "cell_type": "code",
   "execution_count": null,
   "id": "0e02f8fd-39e7-4226-9c8e-f1191e2ed63b",
   "metadata": {
    "ExecuteTime": {
     "end_time": "2023-12-11T14:46:30.061236+00:00",
     "start_time": "2023-12-11T14:46:29.905680+00:00"
    },
    "jupyter": {
     "outputs_hidden": false,
     "source_hidden": false
    },
    "noteable": {
     "cell_type": "code",
     "output_collection_id": "bb8bb3e9-271c-4edc-b4c7-62be229595a9"
    }
   },
   "outputs": [],
   "source": [
    "city =['London','New York', 'Tokyo', 'Paris']\n",
    "print('Cities loop:')\n",
    "for x in city:\n",
    "    print('City: '+ x)\n",
    "    print('\\n')\n",
    "    num =[1,2,3,4,5,6,7,8,9]\n",
    "    print('x^2 loop:')\n",
    "for x in num:\n",
    "    y = x*x\n",
    "    print (str(x) + '*' + str(x) + '=' + str(y))"
   ]
  },
  {
   "cell_type": "code",
   "execution_count": null,
   "id": "cf80de40-e017-48cf-b066-aa71f91c82c5",
   "metadata": {
    "ExecuteTime": {
     "end_time": "2023-12-11T14:56:15.041255+00:00",
     "start_time": "2023-12-11T14:56:14.885333+00:00"
    },
    "jupyter": {
     "outputs_hidden": false,
     "source_hidden": false
    },
    "noteable": {
     "cell_type": "code",
     "output_collection_id": "f227c4f2-2731-499b-afc1-28349e002430"
    }
   },
   "outputs": [],
   "source": [
    "clist = ['UK', 'USA', 'Canada','Japan', 'Germany']\n",
    "print('Countries loop: ')\n",
    "for x in clist:\n",
    "    print('Country: '+ x)\n",
    "    print('\\n')\n",
    "    "
   ]
  },
  {
   "cell_type": "code",
   "execution_count": null,
   "id": "2e4dc68e-7b64-46e1-8154-4de1b2fbadfa",
   "metadata": {
    "ExecuteTime": {
     "end_time": "2023-12-11T15:15:25.400411+00:00",
     "start_time": "2023-12-11T15:15:25.245637+00:00"
    },
    "jupyter": {
     "outputs_hidden": false,
     "source_hidden": false
    },
    "noteable": {
     "cell_type": "code",
     "output_collection_id": "811c3277-70bc-45bb-ba76-1f97fef85168"
    }
   },
   "outputs": [],
   "source": [
    "x=1\n",
    "num = [1, 2, 3, 4, 5, 6, 7, 8, 9]\n",
    "print('x+1 loop:')\n",
    "for x in num:\n",
    " y = x + 1\n",
    " print(str(x) + ' + 1 = ' + str(y))\n"
   ]
  },
  {
   "cell_type": "code",
   "execution_count": null,
   "id": "872dea3c-d51b-453d-8163-9d36ac3fd168",
   "metadata": {
    "ExecuteTime": {
     "end_time": "2023-12-11T15:16:07.090529+00:00",
     "start_time": "2023-12-11T15:16:06.935813+00:00"
    },
    "jupyter": {
     "outputs_hidden": false,
     "source_hidden": false
    },
    "noteable": {
     "cell_type": "code",
     "output_collection_id": "fb53d7b3-348c-461a-a3ef-cf8fbb7e4d01"
    }
   },
   "outputs": [],
   "source": [
    "x = 1                            \n",
    "while x <= 10:\n",
    "    print(x)\n",
    "    x = x + 1"
   ]
  },
  {
   "cell_type": "code",
   "execution_count": null,
   "id": "ba3967ca-9d27-4660-ad7d-41b04aab0949",
   "metadata": {
    "ExecuteTime": {
     "end_time": "2023-12-11T15:19:56.929805+00:00",
     "start_time": "2023-12-11T15:19:56.774569+00:00"
    },
    "jupyter": {
     "outputs_hidden": false,
     "source_hidden": false
    },
    "noteable": {
     "cell_type": "code",
     "output_collection_id": "20af7523-5e8d-4e15-96c1-ea1455e50744"
    }
   },
   "outputs": [],
   "source": [
    "def f(x,y):\n",
    "    return x*y\n",
    "print(f(2,8))"
   ]
  },
  {
   "cell_type": "code",
   "execution_count": null,
   "id": "0983fc3c-db0c-4c75-b5d8-613daefcc6f6",
   "metadata": {
    "ExecuteTime": {
     "end_time": "2023-12-11T15:20:44.979903+00:00",
     "start_time": "2023-12-11T15:20:44.824390+00:00"
    },
    "jupyter": {
     "outputs_hidden": false,
     "source_hidden": false
    },
    "noteable": {
     "cell_type": "code",
     "output_collection_id": "1cece080-087f-4ce1-85f4-5911511e3b43"
    }
   },
   "outputs": [],
   "source": [
    "def f(x, y):\n",
    "    return x*x + 2*x + 1 == y\n",
    "\n",
    "print(f(2, 9))"
   ]
  },
  {
   "cell_type": "code",
   "execution_count": null,
   "id": "4e4c4a82-e2ea-4000-9636-3dab7677132a",
   "metadata": {
    "ExecuteTime": {
     "end_time": "2023-12-11T15:24:55.175101+00:00",
     "start_time": "2023-12-11T15:24:55.020112+00:00"
    },
    "jupyter": {
     "outputs_hidden": false,
     "source_hidden": false
    },
    "noteable": {
     "cell_type": "code",
     "output_collection_id": "15057ef7-ef97-4c6b-9816-598527f13ee9"
    }
   },
   "outputs": [],
   "source": [
    "list = [1, 2, 3, 4, 5, 6, 7, 8, 9, 10]\n",
    "print(sum(list))\n",
    "print(min(list))\n",
    "print(max(list))\n",
    "print(list[1]) #print second element\n",
    "print(list[-2]) # print next to last element"
   ]
  },
  {
   "cell_type": "code",
   "execution_count": null,
   "id": "66115e5e-4c3d-43fb-8ce5-bee1032020e2",
   "metadata": {
    "ExecuteTime": {
     "end_time": "2023-12-11T15:27:56.899957+00:00",
     "start_time": "2023-12-11T15:27:56.743398+00:00"
    },
    "jupyter": {
     "outputs_hidden": false,
     "source_hidden": false
    },
    "noteable": {
     "cell_type": "code",
     "output_collection_id": "844c99c4-1ef9-4d63-8178-94668a4791f0"
    }
   },
   "outputs": [],
   "source": [
    "x = [3,4,5]\n",
    "x.append(6) #add number 6 to list\n",
    "print(x)\n",
    "x.append(7) #add number 7 to list\n",
    "print(x)\n",
    "x.pop() #remove last number from latest list\n",
    "print(x)\n",
    "x.pop() #remove another last number from latest list\n",
    "print(x)"
   ]
  },
  {
   "cell_type": "code",
   "execution_count": null,
   "id": "eaf84ae2-5875-4b10-ad1d-e5dcd935f1e8",
   "metadata": {
    "ExecuteTime": {
     "end_time": "2023-12-11T15:37:10.128887+00:00",
     "start_time": "2023-12-11T15:37:09.973634+00:00"
    },
    "jupyter": {
     "outputs_hidden": false,
     "source_hidden": false
    },
    "noteable": {
     "cell_type": "code",
     "output_collection_id": "ad93c745-ed6f-4b0d-b462-f635512dd508"
    }
   },
   "outputs": [],
   "source": [
    "x = [6,4,2]\n",
    "x.append(12)\n",
    "x.append(8)\n",
    "x.append(4)\n",
    "print(x)\n",
    "x.pop(-5)\n",
    "print(x)\n",
    "x.append(3)\n",
    "x.sort()\n",
    "print(x)"
   ]
  },
  {
   "cell_type": "code",
   "execution_count": null,
   "id": "c3df0c1f-fa88-4411-b07b-452411e8126a",
   "metadata": {
    "ExecuteTime": {
     "end_time": "2023-12-11T15:48:53.019375+00:00",
     "start_time": "2023-12-11T15:48:52.864198+00:00"
    },
    "jupyter": {
     "outputs_hidden": false,
     "source_hidden": false
    },
    "noteable": {
     "cell_type": "code",
     "output_collection_id": "59b0cca2-3cb3-436c-b239-b844b3a5cc7e"
    }
   },
   "outputs": [],
   "source": [
    "words = ['the', 'cat', 'sits', 'on', 'mat']\n",
    "words.sort()\n",
    "print(words)  # This prints the sorted list\n",
    "words = words[::-1] #it reverses the order\n",
    "print(words)"
   ]
  },
  {
   "cell_type": "code",
   "execution_count": null,
   "id": "d33aef91-4470-4819-a5a2-b91644402b56",
   "metadata": {
    "ExecuteTime": {
     "end_time": "2023-12-11T17:28:12.636331+00:00",
     "start_time": "2023-12-11T17:28:12.481868+00:00"
    },
    "jupyter": {
     "outputs_hidden": false,
     "source_hidden": false
    },
    "noteable": {
     "cell_type": "code",
     "output_collection_id": "9e92cb95-5457-4919-aad9-598ea67bbabe"
    }
   },
   "outputs": [],
   "source": [
    "x = list(range(1,12))\n",
    "print(x)"
   ]
  },
  {
   "cell_type": "code",
   "execution_count": null,
   "id": "aacd21c8-82f2-4a35-b660-5608fb0d4623",
   "metadata": {
    "ExecuteTime": {
     "end_time": "2023-12-11T17:51:35.126262+00:00",
     "start_time": "2023-12-11T17:51:34.971445+00:00"
    },
    "jupyter": {
     "outputs_hidden": false,
     "source_hidden": false
    },
    "noteable": {
     "cell_type": "code",
     "output_collection_id": "fed1fbb9-65f5-4552-a6a7-6b6202c54ef6"
    }
   },
   "outputs": [],
   "source": [
    "even_numbers = list(range(0, 25, 2))\n",
    "print(*even_numbers)\n"
   ]
  },
  {
   "cell_type": "code",
   "execution_count": null,
   "id": "8cf87c8f-02bb-40ae-b975-9980790fc3ec",
   "metadata": {
    "ExecuteTime": {
     "end_time": "2023-12-11T17:43:19.572848+00:00",
     "start_time": "2023-12-11T17:43:04.162182+00:00"
    },
    "jupyter": {
     "outputs_hidden": false,
     "source_hidden": false
    },
    "noteable": {
     "cell_type": "code",
     "output_collection_id": "bd49fb62-ed5a-46da-beee-e2d7f2d8018d"
    }
   },
   "outputs": [],
   "source": [
    "name = input('enter your name')\n",
    "company = input('enter your company name')\n",
    "if name=='Que' and company =='Pharo':\n",
    " print('You must be me')\n",
    "elif name=='Que' or company =='Pharo':\n",
    "    print('hi colleague!')\n"
   ]
  },
  {
   "cell_type": "code",
   "execution_count": null,
   "id": "35dee6e2-2201-4041-ab00-3ce0376bc137",
   "metadata": {
    "ExecuteTime": {
     "end_time": "2023-12-11T18:01:00.896414+00:00",
     "start_time": "2023-12-11T18:01:00.740951+00:00"
    },
    "jupyter": {
     "outputs_hidden": false,
     "source_hidden": false
    },
    "noteable": {
     "cell_type": "code",
     "output_collection_id": "6086f105-7557-41c7-b3f4-56a92b8f3a11"
    }
   },
   "outputs": [],
   "source": [
    "x=15\n",
    "y=2\n",
    "x//y\n",
    "x%y\n",
    "x**y"
   ]
  },
  {
   "cell_type": "code",
   "execution_count": null,
   "id": "8ee6d918-2058-42c8-8ba0-5006d9a60ef6",
   "metadata": {
    "ExecuteTime": {
     "end_time": "2023-12-11T18:07:29.315005+00:00",
     "start_time": "2023-12-11T18:07:22.876399+00:00"
    },
    "jupyter": {
     "outputs_hidden": false,
     "source_hidden": false
    },
    "noteable": {
     "cell_type": "code",
     "output_collection_id": "330beef2-1378-4f6f-9a45-5863d299a376"
    }
   },
   "outputs": [],
   "source": [
    "x=10\n",
    "guess=input ('guess the number')\n",
    "guess =int(guess)\n",
    "if guess<10:\n",
    "    print('too low!')\n",
    "elif guess>10:\n",
    "    print('too high!')\n",
    "else:\n",
    "    print('bingo!!!')"
   ]
  },
  {
   "cell_type": "code",
   "execution_count": null,
   "id": "5fed4da7-9892-4a25-b752-f6cfcfa5cf92",
   "metadata": {
    "ExecuteTime": {
     "end_time": "2023-12-11T18:15:18.827616+00:00",
     "start_time": "2023-12-11T18:15:18.672360+00:00"
    },
    "jupyter": {
     "outputs_hidden": false,
     "source_hidden": false
    },
    "noteable": {
     "cell_type": "code",
     "output_collection_id": "9cee6b2e-e131-4613-ab36-db9342c6b722"
    }
   },
   "outputs": [],
   "source": [
    "odd_numbers = list(range(1, 25, 2))\n",
    "even_numbers = list(range(0, 25, 2))\n",
    "print(*odd_numbers)#* is to give space & list out everything\n",
    "print(*even_numbers)\n",
    "print(min(odd_numbers))\n",
    "print(max(even_numbers))"
   ]
  },
  {
   "cell_type": "code",
   "execution_count": null,
   "id": "715bde83-03ed-4cf6-8f1e-77e8bf0edc25",
   "metadata": {
    "ExecuteTime": {
     "end_time": "2023-12-11T18:37:53.121382+00:00",
     "start_time": "2023-12-11T18:37:52.966147+00:00"
    },
    "jupyter": {
     "outputs_hidden": false,
     "source_hidden": false
    },
    "noteable": {
     "cell_type": "code",
     "output_collection_id": "b42a1d77-e6ff-448f-a412-1d424a8351ee"
    }
   },
   "outputs": [],
   "source": [
    "words={}\n",
    "words['+44']='UK'\n",
    "words['+33']='France'\n",
    "\n",
    "print (words['+44'])\n",
    "print (words['+33'])"
   ]
  },
  {
   "cell_type": "code",
   "execution_count": null,
   "id": "033ae8bb-df5d-4d3b-8371-d972b1fb64d4",
   "metadata": {
    "ExecuteTime": {
     "end_time": "2023-12-11T18:45:24.155231+00:00",
     "start_time": "2023-12-11T18:45:24.000503+00:00"
    },
    "jupyter": {
     "outputs_hidden": false,
     "source_hidden": false
    },
    "noteable": {
     "cell_type": "code",
     "output_collection_id": "e60be0d4-06ea-4653-b6e9-9189425d2da8"
    }
   },
   "outputs": [],
   "source": [
    "persons = [ \"Lily\", \"Josh\", \"Maya\" ]\n",
    "restaurants = [ \"Japanese\", \"Chinese\",  \"French\" ]\n",
    "\n",
    "for person in persons:\n",
    "    for restaurant in restaurants:\n",
    "        print(person + \" eats \" + restaurant)"
   ]
  },
  {
   "cell_type": "code",
   "execution_count": null,
   "id": "416eb7cb-5c5b-4339-ab4d-d74ed5330290",
   "metadata": {
    "ExecuteTime": {
     "end_time": "2023-12-12T12:16:42.149082+00:00",
     "start_time": "2023-12-12T12:16:41.994090+00:00"
    },
    "jupyter": {
     "outputs_hidden": false,
     "source_hidden": false
    },
    "noteable": {
     "cell_type": "code",
     "output_collection_id": "5f4a85cd-c845-45a7-b1b1-39b79ce26a24"
    }
   },
   "outputs": [],
   "source": [
    "persons = [ \"Lily\", \"Josh\", \"Maya\" ]\n",
    "slice = persons[0:2]   #get the first 2 persons in the list\n",
    "print(slice)"
   ]
  },
  {
   "cell_type": "code",
   "execution_count": null,
   "id": "e86220b6-3db5-461c-a4cc-3ba7c8c1c247",
   "metadata": {
    "ExecuteTime": {
     "end_time": "2023-12-12T12:18:15.974026+00:00",
     "start_time": "2023-12-12T12:18:15.819072+00:00"
    },
    "jupyter": {
     "outputs_hidden": false,
     "source_hidden": false
    },
    "noteable": {
     "cell_type": "code",
     "output_collection_id": "7d8d55ef-91be-410d-ad5d-83e709dd8131"
    }
   },
   "outputs": [],
   "source": [
    "destination = \"summer holiday in Portugal\"\n",
    "mySlice = destination[0:10]   #slice first 10 characters in string\n",
    "print(mySlice)"
   ]
  },
  {
   "cell_type": "code",
   "execution_count": null,
   "id": "d8a15ea5-1034-4d60-8783-fdfaf7e7a2f2",
   "metadata": {
    "ExecuteTime": {
     "end_time": "2023-12-12T12:23:49.090176+00:00",
     "start_time": "2023-12-12T12:23:48.934620+00:00"
    },
    "jupyter": {
     "outputs_hidden": false,
     "source_hidden": false
    },
    "noteable": {
     "cell_type": "code",
     "output_collection_id": "3d12e23f-d586-4e55-98ac-db4ba71f05ef"
    }
   },
   "outputs": [],
   "source": [
    "def getPerson():\n",
    "    name = \"Leona\"\n",
    "    age = 35\n",
    "    country = \"UK\"\n",
    "    return name,age,country\n",
    "\n",
    "name,age,country = getPerson()\n",
    "print(name)\n",
    "print(age)\n",
    "print(country)"
   ]
  },
  {
   "cell_type": "code",
   "execution_count": null,
   "id": "70338624-4ebd-4266-9e83-21663ee0b746",
   "metadata": {
    "ExecuteTime": null,
    "jupyter": {
     "outputs_hidden": false,
     "source_hidden": false
    },
    "noteable": {
     "cell_type": "code",
     "output_collection_id": "d29670f9-f814-4d51-baa9-ff6723b64c92"
    }
   },
   "outputs": [],
   "source": [
    "balance = 12\n",
    "\n",
    "def addAmount(x):\n",
    "    global balance\n",
    "    balance = balance + x\n",
    "\n",
    "addAmount(5)\n",
    "print(balance)"
   ]
  },
  {
   "cell_type": "code",
   "execution_count": null,
   "id": "e359523c-f120-43a1-88f7-934994d31c3a",
   "metadata": {
    "ExecuteTime": null,
    "jupyter": {
     "outputs_hidden": false,
     "source_hidden": false
    },
    "noteable": {
     "cell_type": "code",
     "output_collection_id": "05751094-ca18-47b9-836f-fc332ea7dc84"
    }
   },
   "outputs": [],
   "source": [
    "import time\n",
    "\n",
    "timenow = time.localtime(time.time())\n",
    "year,month,day,hour,minute = timenow[0:5]\n",
    "\n",
    "print(str(day) + \"/\" + str(month) + \"/\" + str(year))\n",
    "print(str(hour) + \":\" + str(minute))"
   ]
  },
  {
   "cell_type": "code",
   "execution_count": null,
   "id": "b29e472e-a589-4da8-93a8-d264c70a7745",
   "metadata": {
    "ExecuteTime": null,
    "jupyter": {
     "outputs_hidden": false,
     "source_hidden": false
    },
    "noteable": {
     "cell_type": "code",
     "output_collection_id": "c137f5cb-9d53-41f5-acd1-1f434f62324c"
    }
   },
   "outputs": [],
   "source": [
    "time.asctime()"
   ]
  },
  {
   "cell_type": "code",
   "execution_count": null,
   "id": "578abc1f-8e7e-45af-a96b-ae051bb60717",
   "metadata": {
    "ExecuteTime": null,
    "jupyter": {
     "outputs_hidden": false,
     "source_hidden": false
    },
    "noteable": {
     "cell_type": "code",
     "output_collection_id": "7444a6a8-7b36-49e2-bc14-77031c94c42f"
    }
   },
   "outputs": [],
   "source": [
    "time.ctime()"
   ]
  },
  {
   "cell_type": "code",
   "execution_count": null,
   "id": "d6489f1a-ac0d-4a13-a9c7-71d04591ae18",
   "metadata": {
    "ExecuteTime": null,
    "jupyter": {
     "outputs_hidden": false,
     "source_hidden": false
    },
    "noteable": {
     "cell_type": "code",
     "output_collection_id": "1a3380a9-93ab-4d84-a5b6-555170fdac69"
    }
   },
   "outputs": [],
   "source": [
    "import time\n",
    "\n",
    "print(\"Hello\")\n",
    "time.sleep(1)\n",
    "print(\"World\")\n",
    "time.sleep(1)"
   ]
  },
  {
   "cell_type": "code",
   "execution_count": null,
   "id": "e840fdb4-9810-4ab6-b37a-9105968358d5",
   "metadata": {
    "ExecuteTime": null,
    "jupyter": {
     "outputs_hidden": false,
     "source_hidden": false
    },
    "noteable": {
     "cell_type": "code",
     "output_collection_id": "39687ac2-4246-4688-a8a3-5747728fbdd0"
    }
   },
   "outputs": [],
   "source": [
    "timenow = time.localtime(time.time())\n",
    "year,month,day = timenow[0:3]\n",
    "\n",
    "print(str(day) + \"/\" + str(month) + \"/\" + str(year))"
   ]
  },
  {
   "cell_type": "code",
   "execution_count": null,
   "id": "95e69f73-4d76-406f-8f19-9a3576ca8a74",
   "metadata": {
    "ExecuteTime": null,
    "jupyter": {
     "outputs_hidden": false,
     "source_hidden": false
    },
    "noteable": {
     "cell_type": "code",
     "output_collection_id": "d063d0c9-49eb-4886-9f03-a7e0bdd8029d"
    }
   },
   "outputs": [],
   "source": [
    "try:\n",
    "    x = input(\"Enter number: \")\n",
    "    x = x + 1\n",
    "    print(x)\n",
    "except:\n",
    "    print(\"Invalid input\")\n",
    "finally:\n",
    "    print(\"Valid input.\")"
   ]
  },
  {
   "cell_type": "code",
   "execution_count": null,
   "id": "1915d954-ea3e-44f4-8bd6-afe8b174a6fb",
   "metadata": {
    "ExecuteTime": null,
    "jupyter": {
     "outputs_hidden": false,
     "source_hidden": false
    },
    "noteable": {
     "cell_type": "code",
     "output_collection_id": "482ba586-53af-4441-a5af-afb8f859b99d"
    }
   },
   "outputs": [],
   "source": [
    "x=11\n",
    "if x>2:\n",
    "    print('greater than two')\n",
    "elif x<10:\n",
    "    print('less than ten')\n",
    "elif x==10:\n",
    "    print('ten')\n",
    "else:\n",
    "    print('between 2 and 10')"
   ]
  },
  {
   "cell_type": "code",
   "execution_count": null,
   "id": "132f9eb4-c4c6-41bb-bd48-7e64e6f1b6ae",
   "metadata": {
    "ExecuteTime": null,
    "jupyter": {
     "outputs_hidden": false,
     "source_hidden": false
    },
    "noteable": {
     "cell_type": "code",
     "output_collection_id": "66574614-210b-49e8-bdb7-f6eb3a082297"
    }
   },
   "outputs": [],
   "source": [
    "word1 = input('enter first word')\n",
    "word2 = input('enter second word')\n",
    "if word1==word2:\n",
    "    print('same')\n",
    "elif word1>word2:\n",
    "    print(f'{word1} comes first')\n",
    "else:\n",
    "    print(f'{word2} comes first')\n"
   ]
  },
  {
   "cell_type": "code",
   "execution_count": null,
   "id": "3b1db8cd-c14d-460e-8410-1b0a640d85de",
   "metadata": {
    "ExecuteTime": null,
    "jupyter": {
     "outputs_hidden": false,
     "source_hidden": false
    },
    "noteable": {
     "cell_type": "code",
     "output_collection_id": "286d1169-57f8-479e-ae1a-f1f46fc2d0ce"
    }
   },
   "outputs": [],
   "source": [
    "name = input('enter yr name')\n",
    "company = input('enter yr company name')\n",
    "if name == 'Que' and company == 'Pharo':\n",
    "    print('You are me, how fascinating!')\n",
    "elif name =='Que' or company=='Pharo':\n",
    "    print('you are in my company')\n",
    "else: print('wtf are you?!?')"
   ]
  },
  {
   "cell_type": "code",
   "execution_count": null,
   "id": "27d84044-a55c-4715-a76e-695abaa04739",
   "metadata": {
    "ExecuteTime": null,
    "jupyter": {
     "outputs_hidden": false,
     "source_hidden": false
    },
    "noteable": {
     "cell_type": "code",
     "output_collection_id": "47820d4e-6d3e-4818-85bd-9e4a751d3dd7"
    }
   },
   "outputs": [],
   "source": [
    "x = 10.15\n",
    "float(x)\n",
    "int(x)\n"
   ]
  },
  {
   "cell_type": "code",
   "execution_count": null,
   "id": "f0aca675-2ecf-4d0b-a29e-e04087a09f61",
   "metadata": {
    "ExecuteTime": null,
    "jupyter": {
     "outputs_hidden": false,
     "source_hidden": false
    },
    "noteable": {
     "cell_type": "code",
     "output_collection_id": "1e7457f0-01f8-4e2d-af9d-b1c6af96a1fb"
    }
   },
   "outputs": [],
   "source": [
    "x=1\n",
    "y=5\n",
    "x=x+1\n",
    "x +=1\n",
    "x+y\n",
    "str(x) + '555'"
   ]
  },
  {
   "cell_type": "code",
   "execution_count": null,
   "id": "cb79990a-ffe2-4c80-b3dc-e3083e09239c",
   "metadata": {
    "ExecuteTime": {
     "end_time": "2023-12-14T13:45:18.065563+00:00",
     "start_time": "2023-12-14T13:45:17.909346+00:00"
    },
    "jupyter": {
     "outputs_hidden": false,
     "source_hidden": false
    },
    "noteable": {
     "cell_type": "code",
     "output_collection_id": "8ef82e96-8303-4fe8-a4cf-202de0184bb7"
    }
   },
   "outputs": [],
   "source": [
    "persons = [\"Lily\", \"Josh\", \"Maya\" ]\n",
    "slice = persons[1:2]   #get the second persons in the list\n",
    "print(slice)"
   ]
  },
  {
   "cell_type": "code",
   "execution_count": 1,
   "id": "f8fb680d-521b-40c6-a786-4e1520ad044a",
   "metadata": {
    "jupyter": {
     "outputs_hidden": false,
     "source_hidden": false
    },
    "noteable": {
     "cell_type": "code"
    }
   },
   "outputs": [
    {
     "name": "stdout",
     "output_type": "stream",
     "text": [
      "first number12\n",
      "second number25\n",
      "enter operation/\n",
      "12/25 = 0.48\n"
     ]
    }
   ],
   "source": [
    "x = input('first number').strip()\n",
    "y = input('second number').strip()\n",
    "op = input('enter operation').strip()\n",
    "if x.isdigit() and y.isdigit():\n",
    "  x= int(x)\n",
    "  y= int (y)\n",
    "if op == '+':\n",
    "  total = x + y\n",
    "elif op=='-':\n",
    "  total = x - y\n",
    "elif op == '*':\n",
    "  total = x*y\n",
    "elif op =='/':\n",
    "  total = x/y\n",
    "else:\n",
    "    total ='(dont know this one)'\n",
    "\n",
    "print(f'{x}{op}{y} = {total}')"
   ]
  },
  {
   "cell_type": "code",
   "execution_count": null,
   "id": "f04ce89d",
   "metadata": {},
   "outputs": [],
   "source": []
  }
 ],
 "metadata": {
  "kernel_info": {
   "name": "python3"
  },
  "kernelspec": {
   "display_name": "Python 3 (ipykernel)",
   "language": "python",
   "name": "python3"
  },
  "language_info": {
   "codemirror_mode": {
    "name": "ipython",
    "version": 3
   },
   "file_extension": ".py",
   "mimetype": "text/x-python",
   "name": "python",
   "nbconvert_exporter": "python",
   "pygments_lexer": "ipython3",
   "version": "3.11.6"
  },
  "selected_hardware_size": "small"
 },
 "nbformat": 4,
 "nbformat_minor": 5
}
