{
 "cells": [
  {
   "cell_type": "code",
   "execution_count": null,
   "id": "d39ef8d8",
   "metadata": {
    "ExecuteTime": null,
    "noteable": {
     "output_collection_id": "235483d6-ebb2-4353-9d2a-f22752c3630b"
    }
   },
   "outputs": [],
   "source": [
    "name = 'AJ'\n",
    "greeting = ' L O'\n",
    "\n",
    "name + greeting\n"
   ]
  },
  {
   "cell_type": "code",
   "execution_count": null,
   "id": "20413cb0-1556-4a40-b8fd-b887501b0a59",
   "metadata": {
    "ExecuteTime": {
     "end_time": "2023-12-08T13:22:31.545508+00:00",
     "start_time": "2023-12-08T13:10:24.066683+00:00"
    },
    "jupyter": {
     "outputs_hidden": false,
     "source_hidden": false
    },
    "noteable": {
     "cell_type": "code",
     "output_collection_id": "c63534e7-625c-43f8-b759-3ce685b190de"
    }
   },
   "outputs": [],
   "source": [
    " name = 'AJ'\n",
    "print ('Hello ' + name + '!')\n",
    "\n",
    "name = input ('Enter something: ')\n",
    "print (name + ' Boo ')\n",
    "     \n",
    "    \n",
    "    \n",
    "name = input('Enter name: ')\n",
    "city = input('WHere you from: ')\n",
    "o = f'name = {name}, city = {city}'\n",
    "print(o)\n",
    "print(f'Hello, {name} from {city}!')\n",
    "\n",
    "\n"
   ]
  },
  {
   "cell_type": "code",
   "execution_count": null,
   "id": "5280b59f-7182-408e-bccc-5daee18fdf7d",
   "metadata": {
    "jupyter": {
     "outputs_hidden": false,
     "source_hidden": false
    },
    "noteable": {
     "cell_type": "code"
    }
   },
   "outputs": [],
   "source": []
  },
  {
   "cell_type": "code",
   "execution_count": null,
   "id": "7cb8262c-2a26-44f0-aa85-15404eaa045d",
   "metadata": {
    "ExecuteTime": {
     "end_time": "2023-12-08T13:39:19.188213+00:00",
     "start_time": "2023-12-08T13:39:12.499361+00:00"
    },
    "jupyter": {
     "outputs_hidden": false,
     "source_hidden": false
    },
    "noteable": {
     "cell_type": "code",
     "output_collection_id": "312039f2-795a-4885-b773-94238c118458"
    }
   },
   "outputs": [],
   "source": [
    "first = input('Enter a word: ')\n",
    "second = input('Enter another word: ')\n",
    "if first < second:\n",
    "    print('alphabetical')\n",
    "    print(f'{first} then {second}!')\n",
    "else:\n",
    "    print('not alphabetical')"
   ]
  },
  {
   "cell_type": "code",
   "execution_count": null,
   "id": "02fb164c-8e2f-4a6f-b404-279648818e02",
   "metadata": {
    "ExecuteTime": {
     "end_time": "2023-12-14T12:15:46.770154+00:00",
     "start_time": "2023-12-14T12:15:46.613529+00:00"
    },
    "jupyter": {
     "outputs_hidden": false,
     "source_hidden": false
    },
    "noteable": {
     "cell_type": "code",
     "output_collection_id": "0cf7d448-0eb7-41c6-a7de-9841cd90104d"
    }
   },
   "outputs": [],
   "source": [
    "x = 100\n",
    "\n",
    "if x == 50:\n",
    "    print('Yes, it is 50!')\n",
    "elif x == 75:\n",
    "    print('Yes, it is 75!')\n",
    "elif x == 100:\n",
    "    print('Yes, it is 100!')\n",
    "else:\n",
    "    print('I have no idea what it is')"
   ]
  },
  {
   "cell_type": "code",
   "execution_count": null,
   "id": "60c3fae3-ffcf-4ada-872e-8ddd9c051111",
   "metadata": {
    "ExecuteTime": {
     "end_time": "2023-12-14T12:17:46.233290+00:00",
     "start_time": "2023-12-14T12:17:46.077877+00:00"
    },
    "jupyter": {
     "outputs_hidden": false,
     "source_hidden": false
    },
    "noteable": {
     "cell_type": "code",
     "output_collection_id": "1ab52b77-0dc8-4690-afe1-dee49cb6026a"
    }
   },
   "outputs": [],
   "source": [
    "x = 100\n",
    "\n",
    "if x > 100:\n",
    "    print('Yes, it is > 100!')\n",
    "elif x > 75:\n",
    "    print('Yes, it is > 75!')\n",
    "elif x > 50:\n",
    "    print('Yes, it is > 50!')\n",
    "else:\n",
    "    print('I have no idea what it is')\n",
    "    "
   ]
  },
  {
   "cell_type": "code",
   "execution_count": null,
   "id": "59b49e4b-eb9a-4497-971d-bf5675c0d0bb",
   "metadata": {
    "ExecuteTime": {
     "end_time": "2023-12-14T12:24:34.149248+00:00",
     "start_time": "2023-12-14T12:24:21.900577+00:00"
    },
    "jupyter": {
     "outputs_hidden": false,
     "source_hidden": false
    },
    "noteable": {
     "cell_type": "code",
     "output_collection_id": "426ae0c5-2583-461b-8e5f-8b717f8a694a"
    }
   },
   "outputs": [],
   "source": [
    "first = input('Enter a word: ')\n",
    "second = input('Enter another word: ')\n",
    "if first < second:\n",
    "        print(f'{first} then {second}!')\n",
    "elif first > second:\n",
    "    print(f'{first} then {second}!')\n",
    "elif first == second:\n",
    "    print(f'{first} then {second}!')"
   ]
  },
  {
   "cell_type": "code",
   "execution_count": null,
   "id": "07cacea5-38a2-42d2-855e-49297671b670",
   "metadata": {
    "ExecuteTime": {
     "end_time": "2023-12-14T12:39:30.203740+00:00",
     "start_time": "2023-12-14T12:39:21.710708+00:00"
    },
    "jupyter": {
     "outputs_hidden": false,
     "source_hidden": false
    },
    "noteable": {
     "cell_type": "code",
     "output_collection_id": "5cd91235-f5fe-4fac-8519-edc9ad8438d9"
    }
   },
   "outputs": [],
   "source": [
    "name = 'aj'\n",
    "company = 'ph'\n",
    "name1 = input('Enter a name: ')\n",
    "company1 = input('Enter a company: ')\n",
    "\n",
    "if name == name1 and company == company1:\n",
    "        print(f'hi {name1} from  {company1}!')\n",
    "elif  name == name1 or company == company1:\n",
    "    print(f'{name} from crappy {company1}!')\n"
   ]
  },
  {
   "cell_type": "code",
   "execution_count": null,
   "id": "47afe751-468f-4d66-bce3-0b2d584cce4e",
   "metadata": {
    "ExecuteTime": {
     "end_time": "2023-12-14T13:18:38.340932+00:00",
     "start_time": "2023-12-14T13:18:38.185552+00:00"
    },
    "jupyter": {
     "outputs_hidden": false,
     "source_hidden": false
    },
    "noteable": {
     "cell_type": "code",
     "output_collection_id": "41b449d9-55d4-4819-8e91-cd23c1b71c40"
    }
   },
   "outputs": [],
   "source": [
    "s = 'abcdefghijklmnopqrstuvwxyz'\n"
   ]
  },
  {
   "cell_type": "code",
   "execution_count": null,
   "id": "072ac98b-c1e2-4133-8ce6-ca4508fa7da9",
   "metadata": {
    "ExecuteTime": {
     "end_time": "2023-12-14T13:18:58.356128+00:00",
     "start_time": "2023-12-14T13:18:58.196527+00:00"
    },
    "jupyter": {
     "outputs_hidden": false,
     "source_hidden": false
    },
    "noteable": {
     "cell_type": "code",
     "output_collection_id": "7d424087-0b10-4fe0-ad20-2c849ad508c5"
    }
   },
   "outputs": [],
   "source": [
    "s"
   ]
  },
  {
   "cell_type": "code",
   "execution_count": null,
   "id": "e664c9b9-ef0a-4c67-b4cc-a9410c2e0261",
   "metadata": {
    "ExecuteTime": {
     "end_time": "2023-12-14T13:19:31.167177+00:00",
     "start_time": "2023-12-14T13:19:31.011158+00:00"
    },
    "jupyter": {
     "outputs_hidden": false,
     "source_hidden": false
    },
    "noteable": {
     "cell_type": "code",
     "output_collection_id": "8251b5ac-d7a1-4e24-b65a-dcdb6407d782"
    }
   },
   "outputs": [],
   "source": [
    "len(s)\n"
   ]
  },
  {
   "cell_type": "code",
   "execution_count": null,
   "id": "f958b2c9-c243-4141-949f-869d0e4536d7",
   "metadata": {
    "ExecuteTime": {
     "end_time": "2023-12-14T13:20:02.013852+00:00",
     "start_time": "2023-12-14T13:20:01.857443+00:00"
    },
    "jupyter": {
     "outputs_hidden": false,
     "source_hidden": false
    },
    "noteable": {
     "cell_type": "code",
     "output_collection_id": "92b115f0-00ad-46b3-926b-34f53e5f08a5"
    }
   },
   "outputs": [],
   "source": [
    "s[-6]\n"
   ]
  }
 ],
 "metadata": {
  "kernel_info": {
   "name": "python3.9-noteable"
  },
  "kernelspec": {
   "display_name": "Python 3 (ipykernel)",
   "language": "python",
   "name": "python3"
  },
  "language_info": {
   "codemirror_mode": {
    "name": "ipython",
    "version": 3
   },
   "file_extension": ".py",
   "mimetype": "text/x-python",
   "name": "python",
   "nbconvert_exporter": "python",
   "pygments_lexer": "ipython3",
   "version": "3.11.6"
  },
  "selected_hardware_size": "small"
 },
 "nbformat": 4,
 "nbformat_minor": 5
}
