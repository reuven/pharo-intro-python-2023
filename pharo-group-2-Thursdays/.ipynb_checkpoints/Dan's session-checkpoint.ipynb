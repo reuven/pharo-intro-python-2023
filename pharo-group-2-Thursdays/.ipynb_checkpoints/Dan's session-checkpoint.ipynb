{
 "cells": [
  {
   "cell_type": "code",
   "execution_count": null,
   "id": "7d9135be",
   "metadata": {},
   "outputs": [],
   "source": [
    "name = dan\n",
    "print ('hello!') \n",
    "\n",
    "if name  == 'Daniel'\n",
    "print ('Hello Daniel! it is great to see you')\n",
    "else print (f'Hey, {name}.')"
   ]
  },
  {
   "cell_type": "code",
   "execution_count": null,
   "id": "5b5ae98c-613e-4da8-a9b8-98700117f1c6",
   "metadata": {
    "jupyter": {
     "outputs_hidden": false,
     "source_hidden": false
    },
    "noteable": {
     "cell_type": "code"
    }
   },
   "outputs": [],
   "source": [
    "city = input ('where are you from?')\n",
    "print ('hello, [name}')"
   ]
  }
 ],
 "metadata": {
  "kernel_info": {
   "name": "python3"
  },
  "kernelspec": {
   "display_name": "Python 3 (ipykernel)",
   "language": "python",
   "name": "python3"
  },
  "language_info": {
   "codemirror_mode": {
    "name": "ipython",
    "version": 3
   },
   "file_extension": ".py",
   "mimetype": "text/x-python",
   "name": "python",
   "nbconvert_exporter": "python",
   "pygments_lexer": "ipython3",
   "version": "3.11.6"
  },
  "selected_hardware_size": "small"
 },
 "nbformat": 4,
 "nbformat_minor": 5
}
