{
 "cells": [
  {
   "cell_type": "code",
   "execution_count": null,
   "id": "c0c32618-ed84-46eb-9cd3-353680cb5807",
   "metadata": {
    "ExecuteTime": {
     "end_time": "2023-12-08T12:46:15.156993+00:00",
     "start_time": "2023-12-08T12:46:15.001333+00:00"
    },
    "jupyter": {
     "outputs_hidden": false,
     "source_hidden": false
    },
    "noteable": {
     "cell_type": "code",
     "output_collection_id": "01e144b1-47f1-4681-88cc-dff29b9f5b03"
    }
   },
   "outputs": [],
   "source": [
    "# creating a string varibale and printing with something before and after aorund # it\n",
    "\n",
    "name = 'Lukas'\n",
    "\n",
    "print('Hello '+name+'!')"
   ]
  },
  {
   "cell_type": "code",
   "execution_count": null,
   "id": "7bd64ba7-f62f-4ae8-ae89-008814912a88",
   "metadata": {
    "ExecuteTime": {
     "end_time": "2023-12-08T12:54:35.725787+00:00",
     "start_time": "2023-12-08T12:54:31.986487+00:00"
    },
    "jupyter": {
     "outputs_hidden": false,
     "source_hidden": false
    },
    "noteable": {
     "cell_type": "code",
     "output_collection_id": "c8cbdc6d-7db0-45a5-a95d-03027cfa15ba"
    }
   },
   "outputs": [],
   "source": [
    "# use function input for user to assign a value to a variable, treated as text \n",
    "# string\n",
    "\n",
    "name = input('Enter your name: ')\n",
    "\n",
    "print('Hello '+name+'!')"
   ]
  },
  {
   "cell_type": "code",
   "execution_count": null,
   "id": "56168b7b-aefb-4ae5-9483-6c9ed392e60d",
   "metadata": {
    "ExecuteTime": {
     "end_time": "2023-12-08T13:05:55.308540+00:00",
     "start_time": "2023-12-08T13:05:38.758197+00:00"
    },
    "jupyter": {
     "outputs_hidden": false,
     "source_hidden": false
    },
    "noteable": {
     "cell_type": "code",
     "output_collection_id": "8670b6aa-a764-49bc-af71-b2ccb21bb1a0"
    }
   },
   "outputs": [],
   "source": [
    "# Use fstrings to combine the content of other variables into a new varible.\n",
    "\n",
    "name = input('Enter your name: ')\n",
    "\n",
    "city = input('Enter where you are from: ')\n",
    "\n",
    "combination = f'Hi {name} from {city} '\n",
    "\n",
    "print(combination)"
   ]
  },
  {
   "cell_type": "code",
   "execution_count": null,
   "id": "af87d07a-3468-422c-97b8-867eb02b24fc",
   "metadata": {
    "ExecuteTime": {
     "end_time": "2023-12-08T13:15:40.371846+00:00",
     "start_time": "2023-12-08T13:15:38.957810+00:00"
    },
    "jupyter": {
     "outputs_hidden": false,
     "source_hidden": false
    },
    "noteable": {
     "cell_type": "code",
     "output_collection_id": "03bde1d8-5f0e-4aa0-a807-5ec644828206"
    }
   },
   "outputs": [],
   "source": [
    "# using an if loop\n",
    "# python responds very sensitively to the indentation, rather than curley \n",
    "# brackets\n",
    "\n",
    "name = input('Enter your name: ')\n",
    "\n",
    "if name == 'Lukas':\n",
    "    print('Oh hello sir')\n",
    "    print('Good to see you again!')\n",
    "else:\n",
    "    print(f'Hello {name}')"
   ]
  },
  {
   "cell_type": "code",
   "execution_count": null,
   "id": "925c0e06-45a0-4496-b16b-9fe1963f24fa",
   "metadata": {
    "ExecuteTime": {
     "end_time": "2023-12-08T13:22:21.083200+00:00",
     "start_time": "2023-12-08T13:22:14.228834+00:00"
    },
    "jupyter": {
     "outputs_hidden": false,
     "source_hidden": false
    },
    "noteable": {
     "cell_type": "code",
     "output_collection_id": "e2ad8497-65bd-493a-943a-2f24e45a7b67"
    }
   },
   "outputs": [],
   "source": [
    "# exercise to compare which word comes first alphabetically\n",
    "\n",
    "firstword = input('Give me the first word: ')\n",
    "\n",
    "secondword = input('Give me the second word: ')\n",
    "\n",
    "if firstword < secondword:\n",
    "    print(f'{firstword} comes before {secondword} alphabetically')\n",
    "else:\n",
    "    print(f'{secondword} comes before {firstword} alphabetically')\n"
   ]
  }
 ],
 "metadata": {
  "kernel_info": {
   "name": "python3"
  },
  "kernelspec": {
   "display_name": "Python 3 (ipykernel)",
   "language": "python",
   "name": "python3"
  },
  "language_info": {
   "codemirror_mode": {
    "name": "ipython",
    "version": 3
   },
   "file_extension": ".py",
   "mimetype": "text/x-python",
   "name": "python",
   "nbconvert_exporter": "python",
   "pygments_lexer": "ipython3",
   "version": "3.11.6"
  },
  "selected_hardware_size": "small"
 },
 "nbformat": 4,
 "nbformat_minor": 5
}
