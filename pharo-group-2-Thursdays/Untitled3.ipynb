{
 "cells": [
  {
   "cell_type": "code",
   "execution_count": 4,
   "id": "eff4d3f0",
   "metadata": {},
   "outputs": [
    {
     "name": "stdout",
     "output_type": "stream",
     "text": [
      "a\n",
      "b\n",
      "c\n",
      "d\n"
     ]
    }
   ],
   "source": [
    "s ='abcd'\n",
    "for one_character in s:print(one_character)\n"
   ]
  },
  {
   "cell_type": "code",
   "execution_count": null,
   "id": "152daee8",
   "metadata": {},
   "outputs": [],
   "source": [
    "#exercise: dig"
   ]
  }
 ],
 "metadata": {
  "kernelspec": {
   "display_name": "Python 3 (ipykernel)",
   "language": "python",
   "name": "python3"
  },
  "language_info": {
   "codemirror_mode": {
    "name": "ipython",
    "version": 3
   },
   "file_extension": ".py",
   "mimetype": "text/x-python",
   "name": "python",
   "nbconvert_exporter": "python",
   "pygments_lexer": "ipython3",
   "version": "3.11.6"
  }
 },
 "nbformat": 4,
 "nbformat_minor": 5
}
