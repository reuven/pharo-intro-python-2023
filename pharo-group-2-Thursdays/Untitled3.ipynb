{
 "cells": [
  {
   "cell_type": "code",
   "execution_count": null,
   "id": "17a88de7",
   "metadata": {},
   "outputs": [],
   "source": [
    "s ='abcd'\n",
    "for one_character in s:print(one_character)\n"
   ]
  },
  {
   "cell_type": "code",
   "execution_count": null,
   "id": "8c86c0c5",
   "metadata": {},
   "outputs": [],
   "source": [
    "s= Pharo 2024 !!\n",
    "\n",
    "\n",
    "digits=0\n",
    "vowels=0\n",
    "others=0\n",
    "\n",
    "s=input('enter a string:').strip()\n",
    "\n",
    "for one_character in s:\n",
    "    if one_character in 'aeiou':\n",
    "        vowels +=1\n",
    "    elif one_character.isdigit():\n",
    "        digits +=1\n",
    "    else:\n",
    "        others +=1\n",
    "\n",
    "print(f'digits={digits})\n",
    "    "
   ]
  },
  {
   "cell_type": "code",
   "execution_count": null,
   "id": "84e3f69a",
   "metadata": {},
   "outputs": [],
   "source": [
    "name='Henrique'\n",
    "print('Mister '+name+'')\n"
   ]
  },
  {
   "cell_type": "code",
   "execution_count": null,
   "id": "2bb718e0",
   "metadata": {},
   "outputs": [],
   "source": [
    "name='Henrique'\n",
    "city= 'Lisbon'\n",
    "\n",
    "combination = f'Hi {name} from {city}'\n",
    "print(combination)\n"
   ]
  },
  {
   "cell_type": "code",
   "execution_count": null,
   "id": "003136c9",
   "metadata": {},
   "outputs": [],
   "source": [
    "print('Hello')"
   ]
  },
  {
   "cell_type": "code",
   "execution_count": null,
   "id": "25b5e9aa",
   "metadata": {},
   "outputs": [],
   "source": [
    "total = 0\n",
    "\n",
    "for index in range (3):\n",
    "    s = input(f'Enter number {index}:').strip()\n",
    "    \n",
    "    if s.isdigit():\n",
    "        n = int(s)\n",
    "        total += n\n",
    "    else:\n",
    "        print(f'{s} is not numeric, ignoring')\n",
    "        \n",
    "print(f'Total = {total}')\n",
    "\n",
    "if total > 100:\n",
    "    print(f'\\tYes, {total} is more than 100!')\n",
    "else: \n",
    "    print(f'\\tToo bad: {total} is not more than 100.')"
   ]
  },
  {
   "cell_type": "code",
   "execution_count": null,
   "id": "84439bf2",
   "metadata": {},
   "outputs": [],
   "source": []
  },
  {
   "cell_type": "code",
   "execution_count": null,
   "id": "ec099efc",
   "metadata": {},
   "outputs": [],
   "source": []
  },
  {
   "cell_type": "code",
   "execution_count": null,
   "id": "6f54233c",
   "metadata": {},
   "outputs": [],
   "source": []
  },
  {
   "cell_type": "code",
   "execution_count": null,
   "id": "fcc2ec95",
   "metadata": {},
   "outputs": [],
   "source": []
  },
  {
   "cell_type": "code",
   "execution_count": null,
   "id": "fdbd1169",
   "metadata": {},
   "outputs": [],
   "source": []
  }
 ],
 "metadata": {
  "kernelspec": {
   "display_name": "Python 3 (ipykernel)",
   "language": "python",
   "name": "python3"
  },
  "language_info": {
   "codemirror_mode": {
    "name": "ipython",
    "version": 3
   },
   "file_extension": ".py",
   "mimetype": "text/x-python",
   "name": "python",
   "nbconvert_exporter": "python",
   "pygments_lexer": "ipython3",
   "version": "3.11.6"
  }
 },
 "nbformat": 4,
 "nbformat_minor": 5
}
