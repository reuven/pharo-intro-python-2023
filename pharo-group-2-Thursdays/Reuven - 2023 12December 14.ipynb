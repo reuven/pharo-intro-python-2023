{
 "cells": [
  {
   "cell_type": "markdown",
   "id": "11cba68e",
   "metadata": {
    "noteable": {
     "cell_type": "markdown"
    }
   },
   "source": [
    "# Agenda\n",
    "\n",
    "1. Q&A\n",
    "2. Quick review of last time \n",
    "3. Conditionals\n",
    "4. `elif`\n",
    "5. `and` and `or`\n",
    "6. Numbers (integers and floats)"
   ]
  },
  {
   "cell_type": "markdown",
   "id": "6877d936-dcee-4b6b-8c3d-230a3fbb5882",
   "metadata": {},
   "source": [
    "# Quick recap of last time\n",
    "\n",
    "- values \n",
    "- assign values to variables with =\n",
    "- compare with `==`\n",
    "- different values have different types -- so `'text strings'` are different from integers (numbers)."
   ]
  },
  {
   "cell_type": "code",
   "execution_count": null,
   "id": "3835d81a-e583-4338-9592-f477b601aa53",
   "metadata": {
    "ExecuteTime": {
     "end_time": "2023-12-14T12:08:33.015439+00:00",
     "start_time": "2023-12-14T12:08:32.857760+00:00"
    },
    "noteable": {
     "output_collection_id": "1b9a72d3-dc57-4236-b331-f1cb672c6eea"
    }
   },
   "outputs": [],
   "source": [
    "x = 10    # integer\n",
    "y = '10'  # text string\n",
    "\n",
    "x == y"
   ]
  },
  {
   "cell_type": "code",
   "execution_count": null,
   "id": "17328f7c-790c-49ad-bb4c-ea7ff0982b33",
   "metadata": {
    "ExecuteTime": {
     "end_time": "2023-12-14T12:10:53.638852+00:00",
     "start_time": "2023-12-14T12:10:53.482836+00:00"
    },
    "jupyter": {
     "outputs_hidden": false,
     "source_hidden": false
    },
    "noteable": {
     "cell_type": "code",
     "output_collection_id": "7c0ba3ad-e37e-4945-a744-750e882cb1d9"
    }
   },
   "outputs": [],
   "source": [
    "x = 101\n",
    "\n",
    "if x == 100:\n",
    "    print('yes, it is 100!')\n",
    "else:\n",
    "    print('No, it is not!')\n",
    "    print('Really!')\n",
    "    y = 200\n",
    "\n",
    "print(\"Now I am done\")"
   ]
  },
  {
   "cell_type": "markdown",
   "id": "8fbb7dd1-9dc1-402c-a028-edd3c1c93d45",
   "metadata": {},
   "source": [
    "# More sophisticated conditionals\n",
    "\n",
    "So far, we've seen that a conditional consists of a test and two possible outcomes:\n",
    "\n",
    "- If the condition is `True`, then the `if` block executes\n",
    "- In all other cases, the `else` block executes.\n",
    "- If there is no `else` block, then that's fine, as well... it just means that the `if` block might or might not run.\n",
    "\n",
    "Many times, we want more than two possibilties. \n",
    "\n",
    "The way that we can handle this is with an `elif` clause. This means \"else if\" -- it gives another condition, and this condition is only tested if `if` is `False`. \n",
    "\n",
    "You can have as many `elif` clauses as you want. They are checked in order. The first one whose condition is `True` executes, and the rest are ignored.\n",
    "\n"
   ]
  },
  {
   "cell_type": "code",
   "execution_count": null,
   "id": "8745e44e-4d5b-4a0c-b479-c09020991f0f",
   "metadata": {
    "ExecuteTime": {
     "end_time": "2023-12-14T12:15:18.973927+00:00",
     "start_time": "2023-12-14T12:15:18.818038+00:00"
    },
    "noteable": {
     "output_collection_id": "723232ff-bcbb-4ee9-86f5-2363bb7587e1"
    }
   },
   "outputs": [],
   "source": [
    "x = 100\n",
    "\n",
    "if x == 50:\n",
    "    print('Yes, it is 50!')\n",
    "elif x == 75:\n",
    "    print('Yes, it is 75!')\n",
    "elif x == 100:\n",
    "    print('Yes, it is 100!')\n",
    "else:\n",
    "    print('I have no idea what it is')"
   ]
  },
  {
   "cell_type": "code",
   "execution_count": null,
   "id": "2ad986fd-ff29-436d-b311-86fd82d059aa",
   "metadata": {
    "ExecuteTime": {
     "end_time": "2023-12-14T12:16:02.532401+00:00",
     "start_time": "2023-12-14T12:16:02.376242+00:00"
    },
    "jupyter": {
     "outputs_hidden": false,
     "source_hidden": false
    },
    "noteable": {
     "cell_type": "code",
     "output_collection_id": "4ca27e9d-4910-4e47-b163-f439679ad94d"
    }
   },
   "outputs": [],
   "source": [
    "# let's try this a bit differently:\n",
    "\n",
    "x = 100\n",
    "\n",
    "if x > 50:\n",
    "    print('Yes, it is > 50!')\n",
    "elif x > 75:\n",
    "    print('Yes, it is > 75!')\n",
    "elif x > 100:\n",
    "    print('Yes, it is > 100!')\n",
    "else:\n",
    "    print('I have no idea what it is')"
   ]
  },
  {
   "cell_type": "code",
   "execution_count": null,
   "id": "e01f4006-ce6c-48b8-9713-7715176a6074",
   "metadata": {
    "ExecuteTime": {
     "end_time": "2023-12-14T12:16:32.892494+00:00",
     "start_time": "2023-12-14T12:16:32.736780+00:00"
    },
    "jupyter": {
     "outputs_hidden": false,
     "source_hidden": false
    },
    "noteable": {
     "cell_type": "code",
     "output_collection_id": "f265783d-e36f-48ca-bdea-d969ab7af67d"
    }
   },
   "outputs": [],
   "source": [
    "# Turn around the order\n",
    "\n",
    "x = 100\n",
    "\n",
    "if x > 100:\n",
    "    print('Yes, it is > 100!')\n",
    "elif x > 75:\n",
    "    print('Yes, it is > 75!')\n",
    "elif x > 50:\n",
    "    print('Yes, it is > 50!')\n",
    "else:\n",
    "    print('I have no idea what it is')"
   ]
  },
  {
   "cell_type": "markdown",
   "id": "48849ab0-a6e0-4411-be1c-e4bd749e0675",
   "metadata": {},
   "source": [
    "# Exercise: Which word comes first?\n",
    "\n",
    "1. Ask the user to enter two words, and put each word into a separate variable.\n",
    "2. Now indicate whether:\n",
    "    - The first word comes first alphabetically\n",
    "    - The second word comes first alphabetically\n",
    "    - The two words are identical\n",
    "    \n",
    "Let's assume that the user will enter all lowercase word, without punctuation.    "
   ]
  },
  {
   "cell_type": "code",
   "execution_count": null,
   "id": "5b61ddc0-eddc-4c19-a35f-69836564934f",
   "metadata": {
    "ExecuteTime": {
     "end_time": "2023-12-14T12:22:29.986869+00:00",
     "start_time": "2023-12-14T12:22:29.831876+00:00"
    },
    "noteable": {
     "cell_type": "python",
     "output_collection_id": "a1919244-af39-4aaa-aa04-4a79a7e47c5b"
    }
   },
   "outputs": [],
   "source": [
    "# anything you want to display on the screen -- we use print\n",
    "# the argument(s) to print go inside of parentheses\n",
    "\n",
    "print(5)"
   ]
  },
  {
   "cell_type": "code",
   "execution_count": null,
   "id": "513ce209-642e-4914-81fc-383bdaa9f475",
   "metadata": {
    "ExecuteTime": {
     "end_time": "2023-12-14T12:22:39.560489+00:00",
     "start_time": "2023-12-14T12:22:39.405346+00:00"
    },
    "jupyter": {
     "outputs_hidden": false,
     "source_hidden": false
    },
    "noteable": {
     "cell_type": "code",
     "output_collection_id": "dd3b8bf0-875d-4f81-9f9f-88bf579d0a0d"
    }
   },
   "outputs": [],
   "source": [
    "print('hello')  # this is text, which means that we need the quotes"
   ]
  },
  {
   "cell_type": "code",
   "execution_count": null,
   "id": "cd7c2460-94b8-42d7-b3b1-a0fb4a1e40dc",
   "metadata": {
    "ExecuteTime": {
     "end_time": "2023-12-14T12:22:50.337750+00:00",
     "start_time": "2023-12-14T12:22:50.182741+00:00"
    },
    "jupyter": {
     "outputs_hidden": false,
     "source_hidden": false
    },
    "noteable": {
     "cell_type": "code",
     "output_collection_id": "63392352-3a9a-475a-a348-e239d16c7261"
    }
   },
   "outputs": [],
   "source": [
    "word = 'hello'\n",
    "print(word)    # word is a variable name, so it doesn't get quotes"
   ]
  },
  {
   "cell_type": "code",
   "execution_count": null,
   "id": "cc041952-c730-4b63-8e39-3aad7b62096f",
   "metadata": {
    "ExecuteTime": {
     "end_time": "2023-12-14T12:23:12.256620+00:00",
     "start_time": "2023-12-14T12:23:12.101507+00:00"
    },
    "jupyter": {
     "outputs_hidden": false,
     "source_hidden": false
    },
    "noteable": {
     "cell_type": "code",
     "output_collection_id": "3091d803-50a8-4765-9575-b435ab06c13e"
    }
   },
   "outputs": [],
   "source": [
    "print(f'--> {word} <--')"
   ]
  },
  {
   "cell_type": "code",
   "execution_count": null,
   "id": "4ac31db4-7ba1-4493-97e7-c94d9ae6be89",
   "metadata": {
    "ExecuteTime": {
     "end_time": "2023-12-14T12:24:39.111657+00:00",
     "start_time": "2023-12-14T12:24:36.271221+00:00"
    },
    "jupyter": {
     "outputs_hidden": false,
     "source_hidden": false
    },
    "noteable": {
     "cell_type": "code",
     "output_collection_id": "11a3b106-2653-4715-a0b4-d22cd8cf7bb1"
    }
   },
   "outputs": [],
   "source": [
    "first = input('Enter first word: ')\n",
    "second = input('Enter second word: ')\n",
    "\n",
    "if first < second:\n",
    "    print(f'{first} comes before {second}')\n",
    "elif second < first:\n",
    "    print(f'{second} comes before {first}')\n",
    "else:\n",
    "    print(f'{first} and {second} are the same')\n",
    "    "
   ]
  },
  {
   "cell_type": "markdown",
   "id": "dd3b4b4c-4f3d-4cab-a7a5-ddbe0eff3087",
   "metadata": {},
   "source": [
    "# Combining comparisons with `and` and `or`\n",
    "\n",
    "So far, we've managed to compare values with `==` and its friends. But what if I want to know if *two* things are true? For that, I have to use `and` between those comparisons.\n",
    "\n",
    "We don't use `&` or `&&` in Python for `and`. \n",
    "\n",
    "Moreover, we use the word `or` if we're willing to accept either option being `True`, rather than symbols like `|` or `||`.\n",
    "\n",
    "If the conditions on both sides of `and` are `True`, then it returns `True`. \n",
    "\n",
    "If *either* condition on the side of `or` is `True`, then it returns `True`."
   ]
  },
  {
   "cell_type": "code",
   "execution_count": null,
   "id": "99a4f035-6b97-42a3-a08a-27392963ddca",
   "metadata": {
    "ExecuteTime": {
     "end_time": "2023-12-14T12:27:27.695856+00:00",
     "start_time": "2023-12-14T12:27:27.539019+00:00"
    },
    "noteable": {
     "output_collection_id": "73e1949d-994f-43a0-8416-a9e128f26b98"
    }
   },
   "outputs": [],
   "source": [
    "x = 10\n",
    "y = 20\n",
    "\n",
    "# True     and       True --> True\n",
    "x == 10    and   y == 20"
   ]
  },
  {
   "cell_type": "code",
   "execution_count": null,
   "id": "0a3d67db-0574-41a8-94f6-b605effba8de",
   "metadata": {
    "ExecuteTime": {
     "end_time": "2023-12-14T12:27:53.569301+00:00",
     "start_time": "2023-12-14T12:27:53.412892+00:00"
    },
    "jupyter": {
     "outputs_hidden": false,
     "source_hidden": false
    },
    "noteable": {
     "cell_type": "code",
     "output_collection_id": "b8014a3a-5e83-4841-9c15-e285cb4fb71b"
    }
   },
   "outputs": [],
   "source": [
    "x = 10\n",
    "y = 50\n",
    "\n",
    "# True     and      False  --> False\n",
    "x == 10    and   y == 20"
   ]
  },
  {
   "cell_type": "code",
   "execution_count": null,
   "id": "53bd0f0c-526d-4837-8df0-dfe342ade8f2",
   "metadata": {
    "ExecuteTime": {
     "end_time": "2023-12-14T12:28:07.218626+00:00",
     "start_time": "2023-12-14T12:28:07.061407+00:00"
    },
    "jupyter": {
     "outputs_hidden": false,
     "source_hidden": false
    },
    "noteable": {
     "cell_type": "code",
     "output_collection_id": "58584ee6-78e5-476b-b087-5aae8d0aac29"
    }
   },
   "outputs": [],
   "source": [
    "x = 10\n",
    "y = 20\n",
    "\n",
    "# True     or       True --> True\n",
    "x == 10    or   y == 20"
   ]
  },
  {
   "cell_type": "code",
   "execution_count": null,
   "id": "1fcd5ba4-75ad-4a52-a822-ed6e42543c8f",
   "metadata": {
    "ExecuteTime": {
     "end_time": "2023-12-14T12:28:17.395504+00:00",
     "start_time": "2023-12-14T12:28:17.239349+00:00"
    },
    "jupyter": {
     "outputs_hidden": false,
     "source_hidden": false
    },
    "noteable": {
     "cell_type": "code",
     "output_collection_id": "6966e51d-e7fa-449f-aa6e-7bb2f9b99770"
    }
   },
   "outputs": [],
   "source": [
    "x = 10\n",
    "y = 50\n",
    "\n",
    "# True     or      False  --> True\n",
    "x == 10    or   y == 20"
   ]
  },
  {
   "cell_type": "code",
   "execution_count": null,
   "id": "9a29047e-0c54-47c9-bd7c-1f8305671601",
   "metadata": {
    "ExecuteTime": {
     "end_time": "2023-12-14T12:28:32.020157+00:00",
     "start_time": "2023-12-14T12:28:31.862856+00:00"
    },
    "jupyter": {
     "outputs_hidden": false,
     "source_hidden": false
    },
    "noteable": {
     "cell_type": "code",
     "output_collection_id": "37fda5ee-208f-4db2-986d-cab202c9b8f5"
    }
   },
   "outputs": [],
   "source": [
    "x = 40\n",
    "y = 50\n",
    "\n",
    "# False     or      False  --> False\n",
    "x == 10    or   y == 20"
   ]
  },
  {
   "cell_type": "markdown",
   "id": "4969b9af-2d12-405e-b278-31ae7262b533",
   "metadata": {},
   "source": [
    "# Exercise: Name and company\n",
    "\n",
    "1. Ask the user for their name, and store it in `name`.\n",
    "2. Ask the user for their company, and store it in `company`.\n",
    "3. Give one of four possible answers:\n",
    "    - Name and company match yours: Say hi to yourself\n",
    "    - Name is the same, but company isn't: Compliment the name, but be snarky about the company\n",
    "    - Company is the same, but name isn't: Greet your colleague\n",
    "    - Neither is the same: Be snarky toward your poorly named competitor\n",
    "    \n",
    "Don't forget:\n",
    "- if and elif both need conditions to their right\n",
    "- Compare with ==, !=, <, >, <=, >=\n"
   ]
  },
  {
   "cell_type": "code",
   "execution_count": null,
   "id": "7a9bbdc0-5612-4e95-9c8e-5d10f771298f",
   "metadata": {
    "ExecuteTime": {
     "end_time": "2023-12-14T12:39:33.173998+00:00",
     "start_time": "2023-12-14T12:39:32.815082+00:00"
    },
    "noteable": {
     "output_collection_id": "786d1c95-986a-4641-956a-96344a85005d"
    }
   },
   "outputs": [],
   "source": [
    "# variable names are case sensitive!\n",
    "\n",
    "x = 100\n",
    "\n",
    "print(X)    # notice: capital X"
   ]
  },
  {
   "cell_type": "code",
   "execution_count": null,
   "id": "1b01fcfa-e539-4d5b-8de4-6226c9db176a",
   "metadata": {
    "ExecuteTime": {
     "end_time": "2023-12-14T12:42:54.142727+00:00",
     "start_time": "2023-12-14T12:42:48.777468+00:00"
    },
    "jupyter": {
     "outputs_hidden": false,
     "source_hidden": false
    },
    "noteable": {
     "cell_type": "code",
     "output_collection_id": "5c548363-5285-410d-a72f-505c6ce3a6fd"
    }
   },
   "outputs": [],
   "source": [
    "name = input('Enter your name: ')\n",
    "company = input('Enter your company: ')\n",
    "\n",
    "if name == 'Reuven' and company == 'Lerner':\n",
    "    print('Hey, you must be me!')\n",
    "elif name == 'Reuven':\n",
    "    print('Great name, awful company')\n",
    "elif company == 'Lerner':\n",
    "    print(f'Hello, {name}, my amazing colleague!')\n",
    "else:\n",
    "    print(f'I do not know who you are, {name}... and do not want to...')"
   ]
  },
  {
   "cell_type": "markdown",
   "id": "e032d820-fce3-40f8-9f87-9cd068e4f50b",
   "metadata": {},
   "source": [
    "# Data structures\n",
    "\n",
    "It might seem strange that we need to talk about data structures. But just as the world contains many different types of objects (nouns), so do our programs. The world's objects are all made up of atoms, but we can still make some general assertions about how cows are different from trains.\n",
    "\n",
    "We're going to talk about a bunch of different data structures, each of which is used for storing (and retrieving) a different type of information.\n",
    "\n",
    "- Numbers (integers and floats)\n",
    "- Strings (text)\n",
    "- Lists and tuples (sequences, containers)\n",
    "- Dictionaries\n",
    "- Files"
   ]
  },
  {
   "cell_type": "markdown",
   "id": "33ae65db-c8c9-4c8d-a655-45a6fdf1290f",
   "metadata": {
    "noteable": {
     "cell_type": "markdown"
    }
   },
   "source": [
    "# Numbers\n",
    "\n",
    "Computers can handle two different types of numbers, and Python reflects this in its data structures:\n",
    "\n",
    "- Integers (whole numbers)\n",
    "- Floats (floating-point numbers, aka numbers with a decimal point)\n"
   ]
  },
  {
   "cell_type": "markdown",
   "id": "e1e2ea4b-730f-4b69-9732-adc2da1aba3a",
   "metadata": {},
   "source": [
    "# Integers\n",
    "\n",
    "Any set of digits outside of quotes is seen as an integer. There is no maximum integer in Python. "
   ]
  },
  {
   "cell_type": "code",
   "execution_count": null,
   "id": "030e0358-7776-4e58-ad25-11a4e6d91bf2",
   "metadata": {
    "ExecuteTime": {
     "end_time": "2023-12-14T12:48:37.873994+00:00",
     "start_time": "2023-12-14T12:48:37.717067+00:00"
    },
    "noteable": {
     "output_collection_id": "8327a16e-b7eb-4c98-9894-7ebcaa09eae1"
    }
   },
   "outputs": [],
   "source": [
    "x = 100\n",
    "type(x)   # tell me, what is the type of value in x?"
   ]
  },
  {
   "cell_type": "code",
   "execution_count": null,
   "id": "893a038e-5303-4628-85ef-ba086fe5a0ec",
   "metadata": {
    "ExecuteTime": {
     "end_time": "2023-12-14T12:48:55.559452+00:00",
     "start_time": "2023-12-14T12:48:55.403136+00:00"
    },
    "jupyter": {
     "outputs_hidden": false,
     "source_hidden": false
    },
    "noteable": {
     "cell_type": "code",
     "output_collection_id": "f6681a99-764b-4c0d-9cb8-6825dea0c3e3"
    }
   },
   "outputs": [],
   "source": [
    "# what sorts of operations can I do with integers?\n",
    "\n",
    "x = 10\n",
    "y = 3\n",
    "\n",
    "x + y   # addition"
   ]
  },
  {
   "cell_type": "code",
   "execution_count": null,
   "id": "cc86d890-c396-411f-9016-93321db225af",
   "metadata": {
    "ExecuteTime": {
     "end_time": "2023-12-14T12:49:01.634686+00:00",
     "start_time": "2023-12-14T12:49:01.478350+00:00"
    },
    "jupyter": {
     "outputs_hidden": false,
     "source_hidden": false
    },
    "noteable": {
     "cell_type": "code",
     "output_collection_id": "26db13ca-2788-4eaf-a1c4-fbe3ed107a79"
    }
   },
   "outputs": [],
   "source": [
    "x - y    # subtraction"
   ]
  },
  {
   "cell_type": "code",
   "execution_count": null,
   "id": "08750e2f-44e1-42ba-aba6-f246249af685",
   "metadata": {
    "ExecuteTime": {
     "end_time": "2023-12-14T12:49:08.765533+00:00",
     "start_time": "2023-12-14T12:49:08.608894+00:00"
    },
    "jupyter": {
     "outputs_hidden": false,
     "source_hidden": false
    },
    "noteable": {
     "cell_type": "code",
     "output_collection_id": "57120678-d6bc-48ec-b222-4c5537397161"
    }
   },
   "outputs": [],
   "source": [
    "x * y  # multiplication"
   ]
  },
  {
   "cell_type": "code",
   "execution_count": null,
   "id": "c30a1eeb-07be-4066-9769-bd6b3e309c91",
   "metadata": {
    "ExecuteTime": {
     "end_time": "2023-12-14T12:49:17.082049+00:00",
     "start_time": "2023-12-14T12:49:16.925275+00:00"
    },
    "jupyter": {
     "outputs_hidden": false,
     "source_hidden": false
    },
    "noteable": {
     "cell_type": "code",
     "output_collection_id": "d3a9aeaf-e8b9-4bbe-9412-ffc8b72a48e7"
    }
   },
   "outputs": [],
   "source": [
    "x / y   # division -- truediv, which returns a float"
   ]
  },
  {
   "cell_type": "code",
   "execution_count": null,
   "id": "7bc8aea9-64be-4bc3-852b-249007f1a767",
   "metadata": {
    "ExecuteTime": {
     "end_time": "2023-12-14T12:50:19.678292+00:00",
     "start_time": "2023-12-14T12:50:19.522410+00:00"
    },
    "jupyter": {
     "outputs_hidden": false,
     "source_hidden": false
    },
    "noteable": {
     "cell_type": "code",
     "output_collection_id": "1177d193-e0cd-4577-ad49-33ddf4b338a6"
    }
   },
   "outputs": [],
   "source": [
    "# what if I want to divide one number the other, and\n",
    "# I want an integer back? Get rid of the fractional part\n",
    "\n",
    "x // y   # floordiv, division that truncates/removes any fractional part"
   ]
  },
  {
   "cell_type": "code",
   "execution_count": null,
   "id": "3db83053-fe23-411b-9fa9-f57374ffce89",
   "metadata": {
    "ExecuteTime": {
     "end_time": "2023-12-14T12:50:37.294785+00:00",
     "start_time": "2023-12-14T12:50:37.139098+00:00"
    },
    "jupyter": {
     "outputs_hidden": false,
     "source_hidden": false
    },
    "noteable": {
     "cell_type": "code",
     "output_collection_id": "1999ec88-c090-4e4c-b42f-85fbfd8ebbe6"
    }
   },
   "outputs": [],
   "source": [
    "# exponentiation\n",
    "\n",
    "x ** y"
   ]
  },
  {
   "cell_type": "code",
   "execution_count": null,
   "id": "340c92d2-e12b-461f-acb2-2c8e8c5beedd",
   "metadata": {
    "ExecuteTime": {
     "end_time": "2023-12-14T12:50:57.509340+00:00",
     "start_time": "2023-12-14T12:50:57.353411+00:00"
    },
    "jupyter": {
     "outputs_hidden": false,
     "source_hidden": false
    },
    "noteable": {
     "cell_type": "code",
     "output_collection_id": "53e9b98b-93d7-4d32-a55d-de42fbafc0d2"
    }
   },
   "outputs": [],
   "source": [
    "# modulus -- what is the remainder after performing division?\n",
    "\n",
    "x % y    # 10 / 3 has a remainder of 1"
   ]
  },
  {
   "cell_type": "code",
   "execution_count": null,
   "id": "8b04b6d9-026a-435a-a799-ccd4f7f4fb73",
   "metadata": {
    "ExecuteTime": {
     "end_time": "2023-12-14T12:51:19.843048+00:00",
     "start_time": "2023-12-14T12:51:19.688791+00:00"
    },
    "jupyter": {
     "outputs_hidden": false,
     "source_hidden": false
    },
    "noteable": {
     "cell_type": "code",
     "output_collection_id": "e49cd2f3-923b-4a63-be37-508a89e355c7"
    }
   },
   "outputs": [],
   "source": [
    "# how do I assign to an integer?\n",
    "\n",
    "x = 10"
   ]
  },
  {
   "cell_type": "code",
   "execution_count": null,
   "id": "2e41cbe8-a40f-42da-91bd-0364ea938b3f",
   "metadata": {
    "ExecuteTime": {
     "end_time": "2023-12-14T12:52:05.800280+00:00",
     "start_time": "2023-12-14T12:52:05.643913+00:00"
    },
    "jupyter": {
     "outputs_hidden": false,
     "source_hidden": false
    },
    "noteable": {
     "cell_type": "code",
     "output_collection_id": "0e5d07a8-8df1-40df-92d2-df14cb7c4012"
    }
   },
   "outputs": [],
   "source": [
    "# how can I add to a variable contianing an integer?\n",
    "\n",
    "x = x + 1\n",
    "x"
   ]
  },
  {
   "cell_type": "code",
   "execution_count": null,
   "id": "b46abadb-17a8-412a-bbc6-0e517271b02c",
   "metadata": {
    "ExecuteTime": {
     "end_time": "2023-12-14T12:52:17.504674+00:00",
     "start_time": "2023-12-14T12:52:17.348483+00:00"
    },
    "jupyter": {
     "outputs_hidden": false,
     "source_hidden": false
    },
    "noteable": {
     "cell_type": "code",
     "output_collection_id": "16a65e79-66af-45c2-9f76-21230960e580"
    }
   },
   "outputs": [],
   "source": [
    "# a shortcut for doing that is:\n",
    "\n",
    "x += 1    # this means: x = x + 1\n",
    "x"
   ]
  },
  {
   "cell_type": "code",
   "execution_count": null,
   "id": "5a0b6174-cd94-4f99-865a-d98e40be4c19",
   "metadata": {
    "ExecuteTime": {
     "end_time": "2023-12-14T12:52:55.091498+00:00",
     "start_time": "2023-12-14T12:52:54.924105+00:00"
    },
    "jupyter": {
     "outputs_hidden": false,
     "source_hidden": false
    },
    "noteable": {
     "cell_type": "code",
     "output_collection_id": "5afcaa1d-366a-42cf-b768-f0d764429b1e"
    }
   },
   "outputs": [],
   "source": [
    "x = 10\n",
    "y = '20'\n",
    "\n",
    "x + y"
   ]
  },
  {
   "cell_type": "code",
   "execution_count": null,
   "id": "6257dbb6-1c9a-49e2-8d91-0be697641437",
   "metadata": {
    "ExecuteTime": {
     "end_time": "2023-12-14T12:54:15.109285+00:00",
     "start_time": "2023-12-14T12:54:14.952810+00:00"
    },
    "jupyter": {
     "outputs_hidden": false,
     "source_hidden": false
    },
    "noteable": {
     "cell_type": "code",
     "output_collection_id": "6ae8b666-271b-48cd-87b1-468b0c00c16b"
    }
   },
   "outputs": [],
   "source": [
    "# the general rule in Python is: If I have data x, and I want to get a value of type t\n",
    "# back based on x, I can say t(x). This doesn't modify x, but does give me a new value.\n",
    "\n",
    "x = '10'   # I want an int based on the string x\n",
    "int(x)     # this returns a new integer, 10, based on x\n"
   ]
  },
  {
   "cell_type": "code",
   "execution_count": null,
   "id": "04d60c30-d8c0-4c40-b47a-3e4e0dcaeccf",
   "metadata": {
    "ExecuteTime": {
     "end_time": "2023-12-14T12:54:28.762454+00:00",
     "start_time": "2023-12-14T12:54:28.606755+00:00"
    },
    "jupyter": {
     "outputs_hidden": false,
     "source_hidden": false
    },
    "noteable": {
     "cell_type": "code",
     "output_collection_id": "d2483376-7815-4a3f-8762-1a56c61e6b6e"
    }
   },
   "outputs": [],
   "source": [
    "int(x) * int(x)"
   ]
  },
  {
   "cell_type": "code",
   "execution_count": null,
   "id": "17d8f561-51cb-4bdb-ba1c-8382babc982c",
   "metadata": {
    "ExecuteTime": {
     "end_time": "2023-12-14T12:54:34.315836+00:00",
     "start_time": "2023-12-14T12:54:34.158374+00:00"
    },
    "jupyter": {
     "outputs_hidden": false,
     "source_hidden": false
    },
    "noteable": {
     "cell_type": "code",
     "output_collection_id": "eef18180-5ce4-4dda-842d-6fda46d7e949"
    }
   },
   "outputs": [],
   "source": [
    "int(x) * x"
   ]
  },
  {
   "cell_type": "code",
   "execution_count": null,
   "id": "8dde1755-1829-445b-a711-aebca271a56c",
   "metadata": {
    "ExecuteTime": {
     "end_time": "2023-12-14T12:55:18.082581+00:00",
     "start_time": "2023-12-14T12:55:17.925912+00:00"
    },
    "jupyter": {
     "outputs_hidden": false,
     "source_hidden": false
    },
    "noteable": {
     "cell_type": "code",
     "output_collection_id": "ba619eea-4c1d-48bd-b844-eeedad667ae1"
    }
   },
   "outputs": [],
   "source": [
    "x = 10    # x is an integer\n",
    "str(x)    # give me a string based on x"
   ]
  },
  {
   "cell_type": "code",
   "execution_count": null,
   "id": "19ce48eb-99e2-4963-bc29-8abf3625b9ff",
   "metadata": {
    "ExecuteTime": {
     "end_time": "2023-12-14T12:55:35.440128+00:00",
     "start_time": "2023-12-14T12:55:35.284222+00:00"
    },
    "jupyter": {
     "outputs_hidden": false,
     "source_hidden": false
    },
    "noteable": {
     "cell_type": "code",
     "output_collection_id": "2ba1bf3c-0569-4e18-886a-cf30b52a6cc7"
    }
   },
   "outputs": [],
   "source": [
    "str(x) + '20'  "
   ]
  },
  {
   "cell_type": "code",
   "execution_count": null,
   "id": "882d9270-6edc-4eb7-a396-2332679b795f",
   "metadata": {
    "ExecuteTime": {
     "end_time": "2023-12-14T12:55:47.281512+00:00",
     "start_time": "2023-12-14T12:55:47.125263+00:00"
    },
    "jupyter": {
     "outputs_hidden": false,
     "source_hidden": false
    },
    "noteable": {
     "cell_type": "code",
     "output_collection_id": "df58278a-0d95-43c7-a6ba-dba619009825"
    }
   },
   "outputs": [],
   "source": [
    "int(x) + 20"
   ]
  },
  {
   "cell_type": "markdown",
   "id": "a3683ac3-c1d6-40a4-8a7b-51ce5861df37",
   "metadata": {},
   "source": [
    "# Exercise: Guessing game\n",
    "\n",
    "1. Set the variable `number` to be an integer.\n",
    "2. Ask the user to enter a guess for the number.\n",
    "3. Print one of the following:\n",
    "    - You got it!\n",
    "    - Too low\n",
    "    - Too high\n",
    "    \n",
    "    "
   ]
  },
  {
   "cell_type": "code",
   "execution_count": null,
   "id": "990432e0-3e0d-420c-9fb2-c9c0557a8901",
   "metadata": {
    "ExecuteTime": {
     "end_time": "2023-12-14T13:05:39.041042+00:00",
     "start_time": "2023-12-14T13:05:35.570254+00:00"
    },
    "noteable": {
     "output_collection_id": "ac40da78-7389-401b-8415-0663185ac64d"
    }
   },
   "outputs": [],
   "source": [
    "number = 72\n",
    "\n",
    "guess = input('Guess the number: ')\n",
    "guess = int(guess)   # convert the input into an int\n",
    "\n",
    "if guess == number:\n",
    "    print('You got it!')\n",
    "elif guess < number:\n",
    "    print('Too low!')\n",
    "else:\n",
    "    print('Too high!')"
   ]
  },
  {
   "cell_type": "code",
   "execution_count": null,
   "id": "4b488bf0-47b1-49aa-a4c9-8a073588991e",
   "metadata": {
    "ExecuteTime": {
     "end_time": "2023-12-14T13:04:53.018514+00:00",
     "start_time": "2023-12-14T13:04:52.862319+00:00"
    },
    "jupyter": {
     "outputs_hidden": false,
     "source_hidden": false
    },
    "noteable": {
     "cell_type": "code",
     "output_collection_id": "db3e0955-a222-4bee-8a8d-430acb995543"
    }
   },
   "outputs": [],
   "source": [
    "'72'  == 72"
   ]
  },
  {
   "cell_type": "code",
   "execution_count": null,
   "id": "bbefc6c2-97c7-47e6-a5fc-c762c7681ba6",
   "metadata": {
    "ExecuteTime": {
     "end_time": "2023-12-14T13:05:10.727853+00:00",
     "start_time": "2023-12-14T13:05:10.560570+00:00"
    },
    "jupyter": {
     "outputs_hidden": false,
     "source_hidden": false
    },
    "noteable": {
     "cell_type": "code",
     "output_collection_id": "ccde71d8-93ea-4f6b-98d2-3702e7398867"
    }
   },
   "outputs": [],
   "source": [
    "'72' < 72"
   ]
  },
  {
   "cell_type": "code",
   "execution_count": null,
   "id": "c35cae88-8392-4cec-8521-c2044e34a49f",
   "metadata": {
    "ExecuteTime": {
     "end_time": "2023-12-14T13:07:55.986219+00:00",
     "start_time": "2023-12-14T13:07:55.829271+00:00"
    },
    "jupyter": {
     "outputs_hidden": false,
     "source_hidden": false
    },
    "noteable": {
     "cell_type": "code",
     "output_collection_id": "c62340c4-7150-41cb-a7b1-90d88ecd0bc5"
    }
   },
   "outputs": [],
   "source": [
    "# Floats\n",
    "\n",
    "# floating-point numbers have an integer part and a fractional part\n",
    "\n",
    "x = 10\n",
    "type(x)   # int"
   ]
  },
  {
   "cell_type": "code",
   "execution_count": null,
   "id": "baea1cdb-d919-41d8-acd5-c5f9f6ee005f",
   "metadata": {
    "ExecuteTime": {
     "end_time": "2023-12-14T13:08:00.755806+00:00",
     "start_time": "2023-12-14T13:08:00.599685+00:00"
    },
    "jupyter": {
     "outputs_hidden": false,
     "source_hidden": false
    },
    "noteable": {
     "cell_type": "code",
     "output_collection_id": "bbd06388-bcf3-40d1-87ce-d88f6d400527"
    }
   },
   "outputs": [],
   "source": [
    "x = 10.0\n",
    "type(x)    # float "
   ]
  },
  {
   "cell_type": "code",
   "execution_count": null,
   "id": "1017bd79-6d51-4454-bdd6-3eaa9d45aa73",
   "metadata": {
    "ExecuteTime": {
     "end_time": "2023-12-14T13:08:31.329749+00:00",
     "start_time": "2023-12-14T13:08:31.173911+00:00"
    },
    "jupyter": {
     "outputs_hidden": false,
     "source_hidden": false
    },
    "noteable": {
     "cell_type": "code",
     "output_collection_id": "9cc8e6b2-f91e-41e2-8333-5385ed3d3bd5"
    }
   },
   "outputs": [],
   "source": [
    "# if you have an expression with both float and int, it'll give you a float\n",
    "\n",
    "10 + 15.5"
   ]
  },
  {
   "cell_type": "code",
   "execution_count": null,
   "id": "0ee14720-e3d5-4ce5-8578-94ebe741cb5d",
   "metadata": {
    "ExecuteTime": {
     "end_time": "2023-12-14T13:08:42.314966+00:00",
     "start_time": "2023-12-14T13:08:42.158830+00:00"
    },
    "jupyter": {
     "outputs_hidden": false,
     "source_hidden": false
    },
    "noteable": {
     "cell_type": "code",
     "output_collection_id": "df30332d-44cb-4150-9bc6-d620a0f3c134"
    }
   },
   "outputs": [],
   "source": [
    "25.5 - 15.5"
   ]
  },
  {
   "cell_type": "code",
   "execution_count": null,
   "id": "5209d12e-8c29-4dbb-b4d2-9b3383f1b7eb",
   "metadata": {
    "ExecuteTime": {
     "end_time": "2023-12-14T13:08:59.710036+00:00",
     "start_time": "2023-12-14T13:08:59.554217+00:00"
    },
    "jupyter": {
     "outputs_hidden": false,
     "source_hidden": false
    },
    "noteable": {
     "cell_type": "code",
     "output_collection_id": "1753017f-6d57-4665-b4d1-b0ee5b93c237"
    }
   },
   "outputs": [],
   "source": [
    "# floats are not exact -- be careful of thinking they are!\n",
    "0.1 + 0.2"
   ]
  },
  {
   "cell_type": "code",
   "execution_count": null,
   "id": "0a048a6e-fac6-4bb2-bf6c-fa397961c9b7",
   "metadata": {
    "ExecuteTime": {
     "end_time": "2023-12-14T13:10:27.431761+00:00",
     "start_time": "2023-12-14T13:10:27.275276+00:00"
    },
    "jupyter": {
     "outputs_hidden": false,
     "source_hidden": false
    },
    "noteable": {
     "cell_type": "code",
     "output_collection_id": "39c18d67-9484-44d5-b293-0dc861ee22fd"
    }
   },
   "outputs": [],
   "source": [
    "# you can get an int from a float with int()\n",
    "int(1234.5678)"
   ]
  },
  {
   "cell_type": "code",
   "execution_count": null,
   "id": "e4b4c9db-0bee-488f-92fc-ac70858611dd",
   "metadata": {
    "ExecuteTime": {
     "end_time": "2023-12-14T13:10:33.691543+00:00",
     "start_time": "2023-12-14T13:10:33.535320+00:00"
    },
    "jupyter": {
     "outputs_hidden": false,
     "source_hidden": false
    },
    "noteable": {
     "cell_type": "code",
     "output_collection_id": "bb9f4f43-5b8c-4716-a841-f4b091b421eb"
    }
   },
   "outputs": [],
   "source": [
    "float(1234)"
   ]
  },
  {
   "cell_type": "markdown",
   "id": "5b9ca8f2-02b4-4fca-b6fb-e47749f6b167",
   "metadata": {},
   "source": [
    "# Strings\n",
    "\n",
    "Strings are the way that we store text in Python -- from something very small (e.g., a one-character word) to something very large (e.g., the contents of an encyclopedia).\n",
    "\n",
    "We can create strings with either single or double quotes. Just make sure that (a) the type of quote you use isn't also inside of the string and (b) you use the same type of quote at the start and end.\n",
    "\n",
    "If you want `'` inside of your string, then you can either use `\"\"` on the outside *or* you can use `\\'` (backslash + single quote) inside of your string. Using a `\\` is called \"escaping\".\n"
   ]
  },
  {
   "cell_type": "code",
   "execution_count": null,
   "id": "6673a55a-f7fa-4cf7-953c-343e529fe79d",
   "metadata": {
    "ExecuteTime": {
     "end_time": "2023-12-14T13:12:40.381404+00:00",
     "start_time": "2023-12-14T13:12:40.225532+00:00"
    },
    "noteable": {
     "output_collection_id": "9332885e-f672-482a-8752-0b77c871cb24"
    }
   },
   "outputs": [],
   "source": [
    "print('\"Hello\")"
   ]
  },
  {
   "cell_type": "code",
   "execution_count": null,
   "id": "233f7e1e-d5ee-4a76-9c1b-67ebb0facd0b",
   "metadata": {
    "ExecuteTime": {
     "end_time": "2023-12-14T13:14:17.007005+00:00",
     "start_time": "2023-12-14T13:14:16.850431+00:00"
    },
    "jupyter": {
     "outputs_hidden": false,
     "source_hidden": false
    },
    "noteable": {
     "cell_type": "code",
     "output_collection_id": "e93060be-a08a-4172-a318-5f5b3e36f62a"
    }
   },
   "outputs": [],
   "source": [
    "s = 'abcdefghijklmnopqrstuvwxyz'\n",
    "\n",
    "# get the length of this string with the len() function\n",
    "len(s)"
   ]
  },
  {
   "cell_type": "code",
   "execution_count": null,
   "id": "85434312-9761-4cbf-b970-ff9b94873194",
   "metadata": {
    "ExecuteTime": {
     "end_time": "2023-12-14T13:15:31.534197+00:00",
     "start_time": "2023-12-14T13:15:31.378016+00:00"
    },
    "jupyter": {
     "outputs_hidden": false,
     "source_hidden": false
    },
    "noteable": {
     "cell_type": "code",
     "output_collection_id": "152f6012-e9c0-429a-948a-22836818ef49"
    }
   },
   "outputs": [],
   "source": [
    "# I want to retrieve one character from the string\n",
    "# To do that, I can use []\n",
    "# in the [], we put an integer starting at 0\n",
    "\n",
    "s[0]  # returns the first character in s"
   ]
  },
  {
   "cell_type": "code",
   "execution_count": null,
   "id": "772e1010-8317-4782-a438-16bc65751a18",
   "metadata": {
    "ExecuteTime": {
     "end_time": "2023-12-14T13:15:38.326830+00:00",
     "start_time": "2023-12-14T13:15:38.170742+00:00"
    },
    "jupyter": {
     "outputs_hidden": false,
     "source_hidden": false
    },
    "noteable": {
     "cell_type": "code",
     "output_collection_id": "4b792182-b425-4464-b286-564fa025b645"
    }
   },
   "outputs": [],
   "source": [
    "s[1]   # returns the second character in s"
   ]
  },
  {
   "cell_type": "code",
   "execution_count": null,
   "id": "4214d9f9-ad4c-4bf5-bd62-9fea9b44958a",
   "metadata": {
    "ExecuteTime": {
     "end_time": "2023-12-14T13:16:13.217170+00:00",
     "start_time": "2023-12-14T13:16:13.061170+00:00"
    },
    "jupyter": {
     "outputs_hidden": false,
     "source_hidden": false
    },
    "noteable": {
     "cell_type": "code",
     "output_collection_id": "a1859d1f-3392-454c-b7ab-4108e8852559"
    }
   },
   "outputs": [],
   "source": [
    "i = 5\n",
    "s[i]"
   ]
  },
  {
   "cell_type": "code",
   "execution_count": null,
   "id": "83af9bd4-6c55-430d-a19d-90adc2817b1b",
   "metadata": {
    "ExecuteTime": {
     "end_time": "2023-12-14T13:16:19.336164+00:00",
     "start_time": "2023-12-14T13:16:19.074801+00:00"
    },
    "jupyter": {
     "outputs_hidden": false,
     "source_hidden": false
    },
    "noteable": {
     "cell_type": "code",
     "output_collection_id": "f693e3ea-a136-4e7a-b768-5365c6022c8e"
    }
   },
   "outputs": [],
   "source": [
    "s[100]"
   ]
  },
  {
   "cell_type": "code",
   "execution_count": null,
   "id": "04ddc508-d939-4490-9508-de6a82986e61",
   "metadata": {
    "ExecuteTime": {
     "end_time": "2023-12-14T13:16:55.689489+00:00",
     "start_time": "2023-12-14T13:16:55.521849+00:00"
    },
    "jupyter": {
     "outputs_hidden": false,
     "source_hidden": false
    },
    "noteable": {
     "cell_type": "code",
     "output_collection_id": "60643b47-2804-4afd-8296-c1aec0d927b3"
    }
   },
   "outputs": [],
   "source": [
    "# what is the maximum index?\n",
    "# is it len(s) ?  No... that would be one too many, because len(s) tell us \n",
    "# how many characters there are.\n",
    "\n",
    "s[  len(s)  ]"
   ]
  },
  {
   "cell_type": "code",
   "execution_count": null,
   "id": "2b5e3ee7-96dc-4080-81a0-7c96bceb15d7",
   "metadata": {
    "ExecuteTime": {
     "end_time": "2023-12-14T13:17:14.330220+00:00",
     "start_time": "2023-12-14T13:17:14.173909+00:00"
    },
    "jupyter": {
     "outputs_hidden": false,
     "source_hidden": false
    },
    "noteable": {
     "cell_type": "code",
     "output_collection_id": "a5f23f52-e71c-421f-a6a4-a7f8776770fa"
    }
   },
   "outputs": [],
   "source": [
    "# final character in this way...\n",
    "s[  len(s)-1  ]"
   ]
  },
  {
   "cell_type": "code",
   "execution_count": null,
   "id": "59d167e0-b688-4b54-9021-c65456d7557c",
   "metadata": {
    "ExecuteTime": {
     "end_time": "2023-12-14T13:17:22.209457+00:00",
     "start_time": "2023-12-14T13:17:22.052160+00:00"
    },
    "jupyter": {
     "outputs_hidden": false,
     "source_hidden": false
    },
    "noteable": {
     "cell_type": "code",
     "output_collection_id": "35ec90f9-64da-430f-b193-fae2bca4bfc5"
    }
   },
   "outputs": [],
   "source": [
    "# ... or we can say\n",
    "s[-1]"
   ]
  },
  {
   "cell_type": "code",
   "execution_count": null,
   "id": "ce087e36-d963-4558-a940-ea845f6bd51c",
   "metadata": {
    "ExecuteTime": {
     "end_time": "2023-12-14T13:18:07.442221+00:00",
     "start_time": "2023-12-14T13:18:07.286561+00:00"
    },
    "jupyter": {
     "outputs_hidden": false,
     "source_hidden": false
    },
    "noteable": {
     "cell_type": "code",
     "output_collection_id": "6d31e6a8-253e-4d08-84cb-5f3e3e37d2a8"
    }
   },
   "outputs": [],
   "source": [
    "# negative indexes start at -1, the last character, and go to the start of the string.\n",
    "\n",
    "s[-10]  # means: count 10 characters from the end of the string"
   ]
  },
  {
   "cell_type": "markdown",
   "id": "dbbbda4d-1d8b-4bee-8d05-86467ac1427b",
   "metadata": {},
   "source": [
    "# Exercise: Get a character\n",
    "\n",
    "1. Ask the user to enter a string.\n",
    "2. Ask the user to enter an index.\n",
    "3. Give output:\n",
    "    - If the index is < 0, give an error\n",
    "    - If the index is too high, given an error\n",
    "    - If the index is in the right area, then print the index, string, and character\n",
    "    \n",
    "    Enter a string: hello\n",
    "    Enter an index: 100\n",
    "    100 is too big; max is 4\n",
    "    \n",
    "    Enter a string: hello\n",
    "    Enter an index: 3\n",
    "    Index 3 in hello is l\n",
    "    "
   ]
  },
  {
   "cell_type": "code",
   "execution_count": null,
   "id": "5e72c8f4-de3c-4323-9cb7-fef5ed9cb4c2",
   "metadata": {
    "ExecuteTime": {
     "end_time": "2023-12-14T13:27:11.089639+00:00",
     "start_time": "2023-12-14T13:27:05.124054+00:00"
    },
    "noteable": {
     "output_collection_id": "00cb3196-881a-4425-b7fc-27453e5c6933"
    }
   },
   "outputs": [],
   "source": [
    "s = input('Enter a string: ')\n",
    "i = input('Enter an index: ')\n",
    "i = int(i)\n",
    "\n",
    "if i < 0:\n",
    "    print(f'Too low!')\n",
    "elif i >= len(s):\n",
    "    print('Too high!')\n",
    "else:\n",
    "    print(f'index \"{i}\" in \"{s}\" is \"{s[i]}\"')"
   ]
  },
  {
   "cell_type": "markdown",
   "id": "916a0e42-01b8-4a08-b6bd-faac40eaea9b",
   "metadata": {},
   "source": [
    "# Next time: More strings!\n",
    "\n",
    "- Slices\n",
    "- Immutability\n",
    "- Methods"
   ]
  },
  {
   "cell_type": "markdown",
   "id": "a51f4689-2d53-4ee3-b696-df7a8b71635b",
   "metadata": {
    "noteable": {
     "cell_type": "markdown"
    }
   },
   "source": []
  }
 ],
 "metadata": {
  "kernel_info": {
   "name": "python3.9-noteable"
  },
  "kernelspec": {
   "display_name": "Python 3 (ipykernel)",
   "language": "python",
   "name": "python3"
  },
  "language_info": {
   "codemirror_mode": {
    "name": "ipython",
    "version": 3
   },
   "file_extension": ".py",
   "mimetype": "text/x-python",
   "name": "python",
   "nbconvert_exporter": "python",
   "pygments_lexer": "ipython3",
   "version": "3.11.6"
  },
  "selected_hardware_size": "small"
 },
 "nbformat": 4,
 "nbformat_minor": 5
}
