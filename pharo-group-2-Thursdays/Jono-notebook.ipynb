{
  "nbformat": 4,
  "nbformat_minor": 5,
  "metadata": {
    "kernel_info": {
      "name": "python3"
    },
    "kernelspec": {
      "display_name": "Python 3.9",
      "identifier": "legacy",
      "language": "python",
      "language_version": "3.9",
      "name": "python3"
    },
    "selected_hardware_size": "small"
  },
  "cells": [
    {
      "id": "f27ed13f",
      "cell_type": "code",
      "metadata": {
        "noteable": {
          "output_collection_id": "814d1a77-9cdd-465c-b971-ca2a4b197333"
        },
        "ExecuteTime": {
          "end_time": "2023-12-08T12:35:53.291916+00:00",
          "start_time": "2023-12-08T12:35:53.137200+00:00"
        }
      },
      "execution_count": null,
      "source": "print('Hello!!!') ",
      "outputs": []
    },
    {
      "id": "2bf09943-dc73-4632-aa5f-710958c595c2",
      "cell_type": "code",
      "metadata": {
        "jupyter": {
          "outputs_hidden": false,
          "source_hidden": false
        },
        "noteable": {
          "cell_type": "code",
          "output_collection_id": "f7bb357e-6070-48a1-9e9b-ee09656fb1b4"
        },
        "ExecuteTime": {
          "end_time": "2023-12-08T12:50:24.612171+00:00",
          "start_time": "2023-12-08T12:50:24.457095+00:00"
        }
      },
      "execution_count": null,
      "source": "# Variables - assignment with \"=\"\n# Right side executes first\n# Strings have quotes \"\" and variables have ''\n\nname = 'Jono'\nprint ('Hello, '+ name + '!')\n\n\n",
      "outputs": []
    },
    {
      "id": "bee2a110-27c5-4de3-8f7e-2a1fde6d81f5",
      "cell_type": "code",
      "metadata": {
        "jupyter": {
          "outputs_hidden": false,
          "source_hidden": false
        },
        "noteable": {
          "cell_type": "code"
        }
      },
      "execution_count": null,
      "source": "# User input - \"input\" function\n# call\n",
      "outputs": []
    }
  ]
}