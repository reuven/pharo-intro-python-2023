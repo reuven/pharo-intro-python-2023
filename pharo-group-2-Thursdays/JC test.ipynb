{
  "nbformat": 4,
  "nbformat_minor": 5,
  "metadata": {
    "kernel_info": {
      "name": "python3.9-noteable"
    },
    "kernelspec": {
      "display_name": "Python 3.9 (Noteable)",
      "identifier": "noteable",
      "language": "python",
      "language_version": "3.9",
      "name": "python3.9-noteable"
    },
    "selected_hardware_size": "small"
  },
  "cells": [
    {
      "id": "d8e89970",
      "cell_type": "code",
      "metadata": {
        "noteable": {
          "output_collection_id": "9d2c6bbe-d774-4dd5-8a00-d1666c5448f8"
        },
        "ExecuteTime": {
          "end_time": "2023-12-08T13:05:29.898046+00:00",
          "start_time": "2023-12-08T13:05:29.740367+00:00"
        }
      },
      "execution_count": null,
      "source": "print('hello')",
      "outputs": []
    },
    {
      "id": "a02b56f3-e02c-4c55-b1cf-c468820267d5",
      "cell_type": "code",
      "metadata": {
        "jupyter": {
          "outputs_hidden": false,
          "source_hidden": false
        },
        "noteable": {
          "cell_type": "code"
        }
      },
      "execution_count": null,
      "source": " name = 'Reuven'",
      "outputs": []
    },
    {
      "id": "c659a389-3b55-4f41-9b5e-81503cb9aee0",
      "cell_type": "code",
      "metadata": {
        "jupyter": {
          "outputs_hidden": false,
          "source_hidden": false
        },
        "noteable": {
          "cell_type": "code",
          "output_collection_id": "6c06a0d6-8f53-4cae-9877-1f2b49729cde"
        },
        "ExecuteTime": {
          "end_time": "2023-12-08T13:12:41.698132+00:00",
          "start_time": "2023-12-08T13:12:41.321337+00:00"
        }
      },
      "execution_count": null,
      "source": "print(f'hello,{name} from {city}!')",
      "outputs": []
    },
    {
      "id": "4e27a576-ab90-49a0-b757-a59364034e17",
      "cell_type": "code",
      "metadata": {
        "jupyter": {
          "outputs_hidden": false,
          "source_hidden": false
        },
        "noteable": {
          "cell_type": "code",
          "output_collection_id": "f2184d87-4942-4a01-8614-21b1efed66e4"
        },
        "ExecuteTime": {
          "end_time": "2023-12-08T13:12:56.204653+00:00",
          "start_time": "2023-12-08T13:12:56.049309+00:00"
        }
      },
      "execution_count": null,
      "source": "print('hello')",
      "outputs": []
    },
    {
      "id": "a02eaee2-f8da-4118-81d1-767b6a4a75ae",
      "cell_type": "code",
      "metadata": {
        "jupyter": {
          "outputs_hidden": false,
          "source_hidden": false
        },
        "noteable": {
          "cell_type": "code",
          "output_collection_id": "4b7096d0-1b33-40e8-8af0-43509790cc23"
        },
        "ExecuteTime": {
          "end_time": "2023-12-08T13:16:02.952433+00:00",
          "start_time": "2023-12-08T13:16:02.796516+00:00"
        }
      },
      "execution_count": null,
      "source": "if name =='Reuven':\n    print('Hello, boss!')\n    print('Is it great to see you again!')\nelse:\n    print(f'Hello,{name}.') ",
      "outputs": []
    },
    {
      "id": "729a4f3b-9a8b-452b-9e56-82e04bb2e41e",
      "cell_type": "code",
      "metadata": {
        "jupyter": {
          "outputs_hidden": false,
          "source_hidden": false
        },
        "noteable": {
          "cell_type": "code",
          "output_collection_id": "9d4b4e75-28b6-4d46-bcaa-ce1bf6443d4d"
        },
        "ExecuteTime": {
          "end_time": "2023-12-08T13:18:03.978902+00:00",
          "start_time": "2023-12-08T13:18:03.822332+00:00"
        }
      },
      "execution_count": null,
      "source": "print('abcsefg')",
      "outputs": []
    },
    {
      "id": "3cc2bb7b-e1a4-4743-bc49-c1fc4effefff",
      "cell_type": "code",
      "metadata": {
        "jupyter": {
          "outputs_hidden": false,
          "source_hidden": false
        },
        "noteable": {
          "cell_type": "code",
          "output_collection_id": "cc237541-7d39-47cd-8d1c-0720041120b0"
        },
        "ExecuteTime": {
          "end_time": "2023-12-08T13:17:33.988917+00:00",
          "start_time": "2023-12-08T13:17:33.819219+00:00"
        }
      },
      "execution_count": null,
      "source": "if name == 'Reuven':\n    print('Hello, boss!')\n    print('It is great to see you again!')\nelse:\n    print(f'Hello, {name}.')",
      "outputs": []
    },
    {
      "id": "e3421439-d823-446a-8d39-65c768a29746",
      "cell_type": "code",
      "metadata": {
        "jupyter": {
          "outputs_hidden": false,
          "source_hidden": false
        },
        "noteable": {
          "cell_type": "code",
          "output_collection_id": "6a682768-33b9-4a9a-abf5-d293f17f65bb"
        },
        "ExecuteTime": {
          "end_time": "2023-12-08T13:17:54.173919+00:00",
          "start_time": "2023-12-08T13:17:54.018799+00:00"
        }
      },
      "execution_count": null,
      "source": "print('abcd\\nefgh')",
      "outputs": []
    },
    {
      "id": "aa445c48-f657-4a37-9d7c-0e58051cc88e",
      "cell_type": "code",
      "metadata": {
        "jupyter": {
          "outputs_hidden": false,
          "source_hidden": false
        },
        "noteable": {
          "cell_type": "code",
          "output_collection_id": "d6800c56-bee3-43bd-9f27-8210fa8223e3"
        },
        "ExecuteTime": {
          "end_time": "2023-12-08T13:19:41.889404+00:00",
          "start_time": "2023-12-08T13:19:38.140861+00:00"
        }
      },
      "execution_count": null,
      "source": "name = input('Enter your name: ')\nif name == 'Reuven':\n    print('Hello, boss!')\n    print('It is great to see you again!')\nelse:\n    print(f'Hello, {name}.')\n",
      "outputs": []
    },
    {
      "id": "786aae17-3054-4963-a6e8-0e6db65caef0",
      "cell_type": "code",
      "metadata": {
        "jupyter": {
          "outputs_hidden": false,
          "source_hidden": false
        },
        "noteable": {
          "cell_type": "code",
          "output_collection_id": "aeff0a9b-a71f-449a-b254-385feeef4335"
        },
        "ExecuteTime": {
          "end_time": "2023-12-08T13:27:02.723954+00:00",
          "start_time": "2023-12-08T13:26:52.118623+00:00"
        }
      },
      "execution_count": null,
      "source": "first = input('Enter a word: ')\nsecond = input('Enter a second word:')\n\nif first < second:\n    print(f'{first} comes before {second}.')\nelse:\n    print(f'{second} comes before {first}')",
      "outputs": []
    },
    {
      "id": "3be86578-1154-4745-a979-284b4f19f75b",
      "cell_type": "code",
      "metadata": {
        "jupyter": {
          "outputs_hidden": false,
          "source_hidden": false
        },
        "noteable": {
          "cell_type": "code"
        }
      },
      "execution_count": null,
      "source": "",
      "outputs": []
    }
  ]
}