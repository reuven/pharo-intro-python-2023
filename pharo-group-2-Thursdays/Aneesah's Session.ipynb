{
  "nbformat": 4,
  "nbformat_minor": 5,
  "metadata": {
    "kernel_info": {
      "name": "python3"
    },
    "kernelspec": {
      "display_name": "Python 3.9",
      "identifier": "legacy",
      "language": "python",
      "language_version": "3.9",
      "name": "python3"
    },
    "selected_hardware_size": "small"
  },
  "cells": [
    {
      "id": "ce429a99",
      "cell_type": "code",
      "metadata": {
        "noteable": {
          "output_collection_id": "56fd529d-b927-4fb9-83fd-832d63d84432"
        },
        "ExecuteTime": {
          "end_time": "2023-12-08T12:55:04.624574+00:00",
          "start_time": "2023-12-08T12:55:04.469191+00:00"
        }
      },
      "execution_count": null,
      "source": "name = 'Aneesah'\n'Hello, ' + name + '!'\n",
      "outputs": []
    },
    {
      "id": "eaed19b4-062b-46e9-86a9-63f6a1ab5abb",
      "cell_type": "code",
      "metadata": {
        "jupyter": {
          "outputs_hidden": false,
          "source_hidden": false
        },
        "noteable": {
          "cell_type": "code",
          "output_collection_id": "ac6450ea-61c9-4687-a15d-cd2785d7819a"
        },
        "ExecuteTime": {
          "end_time": "2023-12-08T13:08:12.077107+00:00",
          "start_time": "2023-12-08T13:07:54.238555+00:00"
        }
      },
      "execution_count": null,
      "source": "name = input('Enter your name: ')\ncity = input('Enter your city: ')\n\ns=f\"Hello {name}, are you from {city}?\"\nprint(s)",
      "outputs": []
    },
    {
      "id": "55b981f4-446e-4c34-8849-54e86b124d5d",
      "cell_type": "code",
      "metadata": {
        "jupyter": {
          "outputs_hidden": false,
          "source_hidden": false
        },
        "noteable": {
          "cell_type": "code",
          "output_collection_id": "6e444386-30d3-4230-bf2b-5ef5f89f0ddc"
        },
        "ExecuteTime": {
          "end_time": "2023-12-08T13:29:00.594449+00:00",
          "start_time": "2023-12-08T13:29:00.439291+00:00"
        }
      },
      "execution_count": null,
      "source": "first = input('Enter the first word: ')\nsecond = input('Enter the second word ')\n\nif first < second:\n    print(f'{first} comes before {seconelse:\n          print(f'{second} comes before {first}')",
      "outputs": []
    }
  ]
}