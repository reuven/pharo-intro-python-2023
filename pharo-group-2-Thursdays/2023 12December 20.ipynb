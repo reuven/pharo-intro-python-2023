{
 "cells": [
  {
   "cell_type": "markdown",
   "id": "916a0e42-01b8-4a08-b6bd-faac40eaea9b",
   "metadata": {},
   "source": [
    "# Agenda\n",
    "\n",
    "- Q&A\n",
    "- Slight review of strings\n",
    "- Slices\n",
    "- Immutability\n",
    "- Methods"
   ]
  },
  {
   "cell_type": "markdown",
   "id": "d3b75c31",
   "metadata": {},
   "source": [
    "# Strings\n",
    "\n",
    "Strings are the way that we deal with text in Python. They can be very small (in fact, they can be zero-length, if they are the empty string, aka `''`), or they can be as long as you have RAM capacity in your computer to hold.\n",
    "\n",
    "We define strings with quotes:\n",
    "\n",
    "- We can use single quotes (`''`)\n",
    "- We can use double quotes (`\"\"`)\n",
    "\n",
    "Whatever you use to start the string needs to be what you use to end the string, too!\n",
    "\n"
   ]
  },
  {
   "cell_type": "code",
   "execution_count": 1,
   "id": "bec761ff",
   "metadata": {},
   "outputs": [
    {
     "name": "stdout",
     "output_type": "stream",
     "text": [
      "abcdefg\n"
     ]
    }
   ],
   "source": [
    "s = 'abcdefg'   # single quotes\n",
    "print(s)"
   ]
  },
  {
   "cell_type": "code",
   "execution_count": 2,
   "id": "07be5aac",
   "metadata": {},
   "outputs": [
    {
     "name": "stdout",
     "output_type": "stream",
     "text": [
      "abcdefg\n"
     ]
    }
   ],
   "source": [
    "s = \"abcdefg\"   # double quotes\n",
    "print(s)"
   ]
  },
  {
   "cell_type": "code",
   "execution_count": 3,
   "id": "29db3dc5",
   "metadata": {},
   "outputs": [
    {
     "ename": "SyntaxError",
     "evalue": "unterminated string literal (detected at line 2) (565934911.py, line 2)",
     "output_type": "error",
     "traceback": [
      "\u001b[0;36m  Cell \u001b[0;32mIn[3], line 2\u001b[0;36m\u001b[0m\n\u001b[0;31m    s = 'abcdefg\"\u001b[0m\n\u001b[0m        ^\u001b[0m\n\u001b[0;31mSyntaxError\u001b[0m\u001b[0;31m:\u001b[0m unterminated string literal (detected at line 2)\n"
     ]
    }
   ],
   "source": [
    "# Python won't like this\n",
    "s = 'abcdefg\"    "
   ]
  },
  {
   "cell_type": "code",
   "execution_count": 4,
   "id": "2d277523",
   "metadata": {},
   "outputs": [
    {
     "ename": "SyntaxError",
     "evalue": "invalid syntax (1522793773.py, line 3)",
     "output_type": "error",
     "traceback": [
      "\u001b[0;36m  Cell \u001b[0;32mIn[4], line 3\u001b[0;36m\u001b[0m\n\u001b[0;31m    s = \"He said, \"Hello\".\"\u001b[0m\n\u001b[0m                   ^\u001b[0m\n\u001b[0;31mSyntaxError\u001b[0m\u001b[0;31m:\u001b[0m invalid syntax\n"
     ]
    }
   ],
   "source": [
    "# a more common example of string problems with quotes\n",
    "\n",
    "s = \"He said, \"Hello\".\"\n",
    "print(s)"
   ]
  },
  {
   "cell_type": "markdown",
   "id": "ef03bd8c",
   "metadata": {},
   "source": [
    "- If you want to have a single quote inside of your string, use double quotes to delimit it.\n",
    "- If you want to have double quotes inside of your string, use single quotes to delimit it.\n",
    "\n",
    "But what if you have both? What if you just don't want to follow that advice?\n",
    "\n",
    "You can \"escape\" a quote character, telling Python that it isn't ending the string, but that it is meant to be seen as text, inside of the string. You do that with the escape character, namely backslash (`\\`)."
   ]
  },
  {
   "cell_type": "code",
   "execution_count": 5,
   "id": "6e456162",
   "metadata": {},
   "outputs": [
    {
     "name": "stdout",
     "output_type": "stream",
     "text": [
      "He's very nice\n"
     ]
    }
   ],
   "source": [
    "s = 'He\\'s very nice'    # here, I escaped the ', and all is well\n",
    "print(s)"
   ]
  },
  {
   "cell_type": "code",
   "execution_count": 6,
   "id": "21835f6f",
   "metadata": {},
   "outputs": [
    {
     "data": {
      "text/plain": [
       "\"He's very nice\""
      ]
     },
     "execution_count": 6,
     "metadata": {},
     "output_type": "execute_result"
    }
   ],
   "source": [
    "# what does it look like when I ask to see the printed representation of s in Jupyter?\n",
    "s"
   ]
  },
  {
   "cell_type": "code",
   "execution_count": 7,
   "id": "037a7452",
   "metadata": {},
   "outputs": [
    {
     "name": "stdout",
     "output_type": "stream",
     "text": [
      "She says, \"Hello\".\n"
     ]
    }
   ],
   "source": [
    "# similarly, we can say:\n",
    "\n",
    "s = \"She says, \\\"Hello\\\".\"\n",
    "print(s)"
   ]
  },
  {
   "cell_type": "code",
   "execution_count": 8,
   "id": "3e8aeb24",
   "metadata": {},
   "outputs": [
    {
     "data": {
      "text/plain": [
       "'She says, \"Hello\".'"
      ]
     },
     "execution_count": 8,
     "metadata": {},
     "output_type": "execute_result"
    }
   ],
   "source": [
    "s"
   ]
  },
  {
   "cell_type": "code",
   "execution_count": 9,
   "id": "cc824140",
   "metadata": {},
   "outputs": [
    {
     "name": "stdout",
     "output_type": "stream",
     "text": [
      "He says, \"She's very nice.\"\n"
     ]
    }
   ],
   "source": [
    "s = 'He says, \"She\\'s very nice.\"'\n",
    "print(s)"
   ]
  },
  {
   "cell_type": "code",
   "execution_count": 10,
   "id": "8565d12c",
   "metadata": {},
   "outputs": [
    {
     "data": {
      "text/plain": [
       "'He says, \"She\\'s very nice.\"'"
      ]
     },
     "execution_count": 10,
     "metadata": {},
     "output_type": "execute_result"
    }
   ],
   "source": [
    "s"
   ]
  },
  {
   "cell_type": "markdown",
   "id": "e1a8fa46",
   "metadata": {},
   "source": [
    "Backslashes can be used in more places, too!\n",
    "\n",
    "For example: If I want to have a newline character in my string, I'm going to have some trouble."
   ]
  },
  {
   "cell_type": "code",
   "execution_count": 11,
   "id": "ca536bbf",
   "metadata": {},
   "outputs": [
    {
     "ename": "SyntaxError",
     "evalue": "unterminated string literal (detected at line 1) (2712339239.py, line 1)",
     "output_type": "error",
     "traceback": [
      "\u001b[0;36m  Cell \u001b[0;32mIn[11], line 1\u001b[0;36m\u001b[0m\n\u001b[0;31m    print('abcd\u001b[0m\n\u001b[0m          ^\u001b[0m\n\u001b[0;31mSyntaxError\u001b[0m\u001b[0;31m:\u001b[0m unterminated string literal (detected at line 1)\n"
     ]
    }
   ],
   "source": [
    "print('abcd\n",
    "      efgh')"
   ]
  },
  {
   "cell_type": "code",
   "execution_count": 12,
   "id": "505bdada",
   "metadata": {},
   "outputs": [
    {
     "data": {
      "text/plain": [
       "9"
      ]
     },
     "execution_count": 12,
     "metadata": {},
     "output_type": "execute_result"
    }
   ],
   "source": [
    "# if we want a newline character in our string, we type \\n\n",
    "# yes, we type two characters, but it's seen as one in Python\n",
    "\n",
    "s = 'abcd\\nefgh'\n",
    "len(s)"
   ]
  },
  {
   "cell_type": "code",
   "execution_count": 13,
   "id": "e4afe384",
   "metadata": {},
   "outputs": [
    {
     "name": "stdout",
     "output_type": "stream",
     "text": [
      "abcd\n",
      "efgh\n"
     ]
    }
   ],
   "source": [
    "print(s)   # what happens when I print s?"
   ]
  },
  {
   "cell_type": "code",
   "execution_count": 14,
   "id": "e42d2d2f",
   "metadata": {},
   "outputs": [],
   "source": [
    "# I can use triple-quoted strings!\n",
    "# this means: ''' '''  or \"\"\" \"\"\" around my string\n",
    "# if I do that, I can go down any number of lines, and Python is OK with it\n",
    "\n",
    "s = '''abcd\n",
    "efgh'''\n",
    "\n"
   ]
  },
  {
   "cell_type": "code",
   "execution_count": 15,
   "id": "f6423d13",
   "metadata": {},
   "outputs": [
    {
     "name": "stdout",
     "output_type": "stream",
     "text": [
      "abcd\n",
      "efgh\n"
     ]
    }
   ],
   "source": [
    "print(s)"
   ]
  },
  {
   "cell_type": "code",
   "execution_count": 16,
   "id": "307f26a6",
   "metadata": {},
   "outputs": [
    {
     "data": {
      "text/plain": [
       "'abcd\\nefgh'"
      ]
     },
     "execution_count": 16,
     "metadata": {},
     "output_type": "execute_result"
    }
   ],
   "source": [
    "# what's the printed representation here?\n",
    "s"
   ]
  },
  {
   "cell_type": "code",
   "execution_count": 17,
   "id": "a6fe33e3",
   "metadata": {},
   "outputs": [
    {
     "name": "stdout",
     "output_type": "stream",
     "text": [
      "a\tb\tc\td\n"
     ]
    }
   ],
   "source": [
    "# there are other special characters, too\n",
    "\n",
    "print('a\\tb\\tc\\td')  # \\t == tab, meaning go to the next column that's a multiple of 8"
   ]
  },
  {
   "cell_type": "code",
   "execution_count": 18,
   "id": "2158ba75",
   "metadata": {},
   "outputs": [
    {
     "name": "stdout",
     "output_type": "stream",
     "text": [
      "c:\u0007bcd\\efgh\\ijkl.txt\n"
     ]
    }
   ],
   "source": [
    "# what if I'm working with Windows, and I want to print a filename?\n",
    "\n",
    "filename = 'c:\\abcd\\efgh\\ijkl.txt'\n",
    "\n",
    "print(filename)"
   ]
  },
  {
   "cell_type": "code",
   "execution_count": 19,
   "id": "04b1c111",
   "metadata": {},
   "outputs": [
    {
     "name": "stdout",
     "output_type": "stream",
     "text": [
      "c:\\abcd\\efgh\\ijkl.txt\n"
     ]
    }
   ],
   "source": [
    "# \\a is actually another special character, the alarm bell\n",
    "\n",
    "# how can I undo this?\n",
    "# in general, how can I print a regular backslash, rather than see it as an escape character?\n",
    "\n",
    "# use \\ to escape the \\ that comes after it\n",
    "# or: \\\\ becomes one \\ character\n",
    "\n",
    "filename = 'c:\\\\abcd\\\\efgh\\\\ijkl.txt'\n",
    "\n",
    "print(filename)"
   ]
  },
  {
   "cell_type": "code",
   "execution_count": 20,
   "id": "32faeabf",
   "metadata": {},
   "outputs": [
    {
     "name": "stdout",
     "output_type": "stream",
     "text": [
      "c:\\abcd\\efgh\\ijkl.txt\n"
     ]
    }
   ],
   "source": [
    "# Python has a solution, namely *raw strings*\n",
    "# if you put r before the opening quote, then any \\ is doubled\n",
    "\n",
    "filename = r'c:\\abcd\\efgh\\ijkl.txt'   # this is a raw string now, all \\ are doubled to \\\\\n",
    "\n",
    "print(filename)"
   ]
  },
  {
   "cell_type": "markdown",
   "id": "0cea54d5",
   "metadata": {},
   "source": [
    "# Different ways to create strings\n",
    "\n",
    "1. Call `str` on another value\n",
    "2. Use `input` to get a value from the user\n",
    "3. Use `''` or `\"\"` to create a string literal\n",
    "4. Use `''' '''` or `\"\"\" \"\"\"` in a \"triple-quoted string,\" meaning one that can have newlines inside of it\n",
    "5. Use `r'stuff\\with\\backslashes'` for a \"raw string,\" where backslashes are no longer special, and are escaped\n",
    "6. Use `f'stuff{variable}stuff'` for an f-string, where anything inside of `{}` is treated as a Python expression, and its result is put into the string"
   ]
  },
  {
   "cell_type": "markdown",
   "id": "61f8c242",
   "metadata": {},
   "source": [
    "# Slices\n",
    "\n",
    "We've seen how we can retrieve one character from a string: We apply `[]` to the string, and give an index starting at 0 (the first character) up to the length - 1 (for the final character)."
   ]
  },
  {
   "cell_type": "code",
   "execution_count": 21,
   "id": "f5e1d2f7",
   "metadata": {},
   "outputs": [
    {
     "data": {
      "text/plain": [
       "'a'"
      ]
     },
     "execution_count": 21,
     "metadata": {},
     "output_type": "execute_result"
    }
   ],
   "source": [
    "s = 'abcde'\n",
    "s[0]"
   ]
  },
  {
   "cell_type": "code",
   "execution_count": 22,
   "id": "ace431cf",
   "metadata": {},
   "outputs": [
    {
     "data": {
      "text/plain": [
       "'e'"
      ]
     },
     "execution_count": 22,
     "metadata": {},
     "output_type": "execute_result"
    }
   ],
   "source": [
    "s[4]"
   ]
  },
  {
   "cell_type": "code",
   "execution_count": 23,
   "id": "f007b59c",
   "metadata": {},
   "outputs": [
    {
     "data": {
      "text/plain": [
       "'e'"
      ]
     },
     "execution_count": 23,
     "metadata": {},
     "output_type": "execute_result"
    }
   ],
   "source": [
    "s[len(s)-1]   # yuck!"
   ]
  },
  {
   "cell_type": "code",
   "execution_count": 24,
   "id": "a33bbab6",
   "metadata": {},
   "outputs": [
    {
     "data": {
      "text/plain": [
       "'e'"
      ]
     },
     "execution_count": 24,
     "metadata": {},
     "output_type": "execute_result"
    }
   ],
   "source": [
    "s[-1]  # much better -- final character"
   ]
  },
  {
   "cell_type": "code",
   "execution_count": 25,
   "id": "76385229",
   "metadata": {},
   "outputs": [
    {
     "data": {
      "text/plain": [
       "'klmnopqrst'"
      ]
     },
     "execution_count": 25,
     "metadata": {},
     "output_type": "execute_result"
    }
   ],
   "source": [
    "# what if I want more than one character?\n",
    "# what if I want characters between indexes 10 and 20?\n",
    "\n",
    "s = 'abcdefghijklmnopqrstuvwxyz'\n",
    "\n",
    "# I can use a *slice*\n",
    "# slice syntax looks like regular index syntax, but it has *two* values, separated by a colon\n",
    "\n",
    "s[10:20]   # give me a new string based on s, starting at s's index 10, up to (and not including) its index 20"
   ]
  },
  {
   "cell_type": "code",
   "execution_count": 26,
   "id": "b9e501d9",
   "metadata": {},
   "outputs": [
    {
     "data": {
      "text/plain": [
       "'fghijklmno'"
      ]
     },
     "execution_count": 26,
     "metadata": {},
     "output_type": "execute_result"
    }
   ],
   "source": [
    "s[5:15]  # from s's index 5 until (not including) s's index 15"
   ]
  },
  {
   "cell_type": "code",
   "execution_count": 27,
   "id": "d3f7df86",
   "metadata": {},
   "outputs": [
    {
     "data": {
      "text/plain": [
       "'abcdefghij'"
      ]
     },
     "execution_count": 27,
     "metadata": {},
     "output_type": "execute_result"
    }
   ],
   "source": [
    "# what if I want from the start of the string?\n",
    "s[0:10]   # from the start, up to (not including) index 10"
   ]
  },
  {
   "cell_type": "code",
   "execution_count": 28,
   "id": "8c92d93d",
   "metadata": {},
   "outputs": [
    {
     "data": {
      "text/plain": [
       "'abcdefghij'"
      ]
     },
     "execution_count": 28,
     "metadata": {},
     "output_type": "execute_result"
    }
   ],
   "source": [
    "# or... we can do it this way:\n",
    "s[:10]    # this means the same thing -- from the start until (not including) index 10"
   ]
  },
  {
   "cell_type": "code",
   "execution_count": 29,
   "id": "a6bfa9d4",
   "metadata": {},
   "outputs": [
    {
     "data": {
      "text/plain": [
       "'uvwxyz'"
      ]
     },
     "execution_count": 29,
     "metadata": {},
     "output_type": "execute_result"
    }
   ],
   "source": [
    "# what about this:\n",
    "s[20:]    # this means: give me a new string based on s, starting at its index 20, through the end"
   ]
  },
  {
   "cell_type": "code",
   "execution_count": 30,
   "id": "69ba5bd3",
   "metadata": {},
   "outputs": [
    {
     "ename": "IndexError",
     "evalue": "string index out of range",
     "output_type": "error",
     "traceback": [
      "\u001b[0;31m---------------------------------------------------------------------------\u001b[0m",
      "\u001b[0;31mIndexError\u001b[0m                                Traceback (most recent call last)",
      "Cell \u001b[0;32mIn[30], line 2\u001b[0m\n\u001b[1;32m      1\u001b[0m \u001b[38;5;66;03m# remember that indexes have to be within the bounds of the string\u001b[39;00m\n\u001b[0;32m----> 2\u001b[0m \u001b[43ms\u001b[49m\u001b[43m[\u001b[49m\u001b[38;5;241;43m1000\u001b[39;49m\u001b[43m]\u001b[49m\n",
      "\u001b[0;31mIndexError\u001b[0m: string index out of range"
     ]
    }
   ],
   "source": [
    "# remember that indexes have to be within the bounds of the string\n",
    "s[1000]"
   ]
  },
  {
   "cell_type": "code",
   "execution_count": 31,
   "id": "2d6cdab9",
   "metadata": {},
   "outputs": [
    {
     "data": {
      "text/plain": [
       "'abcdefghijklmnopqrstuvwxyz'"
      ]
     },
     "execution_count": 31,
     "metadata": {},
     "output_type": "execute_result"
    }
   ],
   "source": [
    "# but... slices are much more forgiving!\n",
    "\n",
    "s[:1000]"
   ]
  },
  {
   "cell_type": "code",
   "execution_count": 32,
   "id": "12e3573c",
   "metadata": {},
   "outputs": [
    {
     "data": {
      "text/plain": [
       "True"
      ]
     },
     "execution_count": 32,
     "metadata": {},
     "output_type": "execute_result"
    }
   ],
   "source": [
    "# what if I want to search in a string?\n",
    "# I can use the \"in\" operator\n",
    "# It always looks like:   LITTLE in BIG\n",
    "\n",
    "'j' in s  "
   ]
  },
  {
   "cell_type": "code",
   "execution_count": 33,
   "id": "34cb0e47",
   "metadata": {},
   "outputs": [
    {
     "data": {
      "text/plain": [
       "True"
      ]
     },
     "execution_count": 33,
     "metadata": {},
     "output_type": "execute_result"
    }
   ],
   "source": [
    "'b' in s"
   ]
  },
  {
   "cell_type": "code",
   "execution_count": 34,
   "id": "c4addb28",
   "metadata": {},
   "outputs": [
    {
     "data": {
      "text/plain": [
       "False"
      ]
     },
     "execution_count": 34,
     "metadata": {},
     "output_type": "execute_result"
    }
   ],
   "source": [
    "'!' in s"
   ]
  },
  {
   "cell_type": "code",
   "execution_count": 36,
   "id": "9890a0eb",
   "metadata": {},
   "outputs": [
    {
     "data": {
      "text/plain": [
       "True"
      ]
     },
     "execution_count": 36,
     "metadata": {},
     "output_type": "execute_result"
    }
   ],
   "source": [
    "# can I look for more than one thing? Yes!\n",
    "\n",
    "'bcd' in s   # this says: can I find 'bcd' inside of s? It doesn't mean: can I find, b, c, and d separately?"
   ]
  },
  {
   "cell_type": "code",
   "execution_count": 37,
   "id": "0582f758",
   "metadata": {},
   "outputs": [
    {
     "data": {
      "text/plain": [
       "False"
      ]
     },
     "execution_count": 37,
     "metadata": {},
     "output_type": "execute_result"
    }
   ],
   "source": [
    "'fgij' in s"
   ]
  },
  {
   "cell_type": "markdown",
   "id": "c571923d",
   "metadata": {},
   "source": [
    "# Strings are immutable\n",
    "\n",
    "Once you create a string, it can never, ever be changed in Python. For the rest of the string's life, it will contain precisely the same characters as when it was created. \n",
    "\n",
    "This seems weird, and it doesn't even seem true. Let's check."
   ]
  },
  {
   "cell_type": "code",
   "execution_count": 38,
   "id": "f2e0f17f",
   "metadata": {},
   "outputs": [
    {
     "data": {
      "text/plain": [
       "'abcdefghijklmnopqrstuvwxyz'"
      ]
     },
     "execution_count": 38,
     "metadata": {},
     "output_type": "execute_result"
    }
   ],
   "source": [
    "s"
   ]
  },
  {
   "cell_type": "code",
   "execution_count": 39,
   "id": "f843f225",
   "metadata": {},
   "outputs": [
    {
     "ename": "TypeError",
     "evalue": "'str' object does not support item assignment",
     "output_type": "error",
     "traceback": [
      "\u001b[0;31m---------------------------------------------------------------------------\u001b[0m",
      "\u001b[0;31mTypeError\u001b[0m                                 Traceback (most recent call last)",
      "Cell \u001b[0;32mIn[39], line 1\u001b[0m\n\u001b[0;32m----> 1\u001b[0m \u001b[43ms\u001b[49m\u001b[43m[\u001b[49m\u001b[38;5;241;43m0\u001b[39;49m\u001b[43m]\u001b[49m \u001b[38;5;241m=\u001b[39m \u001b[38;5;124m'\u001b[39m\u001b[38;5;124m!\u001b[39m\u001b[38;5;124m'\u001b[39m   \u001b[38;5;66;03m# let's change the first character of the alphabet to be a bit more exciting\u001b[39;00m\n",
      "\u001b[0;31mTypeError\u001b[0m: 'str' object does not support item assignment"
     ]
    }
   ],
   "source": [
    "s[0] = '!'   # let's change the first character of the alphabet to be a bit more exciting"
   ]
  },
  {
   "cell_type": "code",
   "execution_count": 40,
   "id": "eb131698",
   "metadata": {},
   "outputs": [
    {
     "data": {
      "text/plain": [
       "'abcdefgh'"
      ]
     },
     "execution_count": 40,
     "metadata": {},
     "output_type": "execute_result"
    }
   ],
   "source": [
    "# is that really true? What about +=?\n",
    "\n",
    "s = 'abcd'\n",
    "s += 'efgh'\n",
    "\n",
    "s"
   ]
  },
  {
   "cell_type": "code",
   "execution_count": 41,
   "id": "d76c3ba7",
   "metadata": {},
   "outputs": [],
   "source": [
    "# let's replay this...\n",
    "\n",
    "s = 'abcd'   # here, I create a new string 'abcd' and assign it to s\n",
    "s += 'efgh'  # this is really s = s + 'efgh'. It creates a new string, 'abcdefgh', then assigns that back to s"
   ]
  },
  {
   "cell_type": "code",
   "execution_count": 42,
   "id": "2322e885",
   "metadata": {},
   "outputs": [
    {
     "data": {
      "text/plain": [
       "'abcdefgh'"
      ]
     },
     "execution_count": 42,
     "metadata": {},
     "output_type": "execute_result"
    }
   ],
   "source": [
    "s"
   ]
  },
  {
   "cell_type": "code",
   "execution_count": 43,
   "id": "42c87d08",
   "metadata": {},
   "outputs": [
    {
     "name": "stdout",
     "output_type": "stream",
     "text": [
      "140133870360496\n",
      "140133870524208\n"
     ]
    }
   ],
   "source": [
    "s = 'abcd'   # here, I create a new string 'abcd' and assign it to s\n",
    "print(id(s)) # what is the unique ID number of the string s is referring to?\n",
    "\n",
    "s += 'efgh'  # this is really s = s + 'efgh'. It creates a new string, 'abcdefgh', then assigns that back to s\n",
    "print(id(s))"
   ]
  },
  {
   "cell_type": "markdown",
   "id": "e3fbd989",
   "metadata": {},
   "source": [
    "# Exercise: Pig Latin\n",
    "\n",
    "Pig Latin is a children's \"secret\" language. The idea is that you take a word, and to translate it from English into Pig Latin, you check the first letter:\n",
    "\n",
    "- If the first letter is a vowel (a, e, i, o, u) then you just add `way` to the word.\n",
    "- If the first letter is *not* a vowel, then you move the first letter to the end of the word, and add `ay`\n",
    "\n",
    "Some examples:\n",
    "- `computer` -> `omputercay`\n",
    "- `telephone` -> `elephonetay`\n",
    "- `apple` -> `appleway`\n",
    "- `elephant` -> `elephantway`\n",
    "- `papaya` -> `apayapay`\n",
    "\n",
    "Your task:\n",
    "\n",
    "1. Ask the user to enter an English word -- all lowercase, no punctuation, no spaces\n",
    "2. Print the translation of the word into Pig Latin\n"
   ]
  },
  {
   "cell_type": "code",
   "execution_count": 46,
   "id": "119f60dd",
   "metadata": {},
   "outputs": [
    {
     "name": "stdout",
     "output_type": "stream",
     "text": [
      "Enter a word: table\n"
     ]
    }
   ],
   "source": [
    "word = input('Enter a word: ')\n",
    "\n",
    "if word[0] == 'a' or word[0] == 'e' or word[0] == 'i' or word[0] == 'o' or word[0] == 'u':\n",
    "    print(word + 'way')"
   ]
  },
  {
   "cell_type": "code",
   "execution_count": 49,
   "id": "ce2bb54b",
   "metadata": {},
   "outputs": [
    {
     "name": "stdout",
     "output_type": "stream",
     "text": [
      "Enter a word: table\n",
      "tableway\n"
     ]
    }
   ],
   "source": [
    "# what if we try this, instead:\n",
    "\n",
    "word = input('Enter a word: ')\n",
    "\n",
    "if word[0] == 'a' or 'e' or 'i' or 'o' or 'u':\n",
    "    print(word + 'way')\n",
    "    \n",
    "    \n",
    "# it's very common to think that the \"or\" is giving the == a bunch of different options\n",
    "# but actually, \"or\" separates expressions/ conditions. \n",
    "\n",
    "# when forced to make a decision, a string used as a condition is always True (except if it's empty)\n",
    "# that means our test above was really:\n",
    "\n",
    "\n",
    "word = input('Enter a word: ')\n",
    "\n",
    "if word[0] == 'a' or True or True or True or True:  # this will *always* be True!\n",
    "    print(word + 'way')"
   ]
  },
  {
   "cell_type": "code",
   "execution_count": 52,
   "id": "4c5cdb59",
   "metadata": {},
   "outputs": [
    {
     "name": "stdout",
     "output_type": "stream",
     "text": [
      "Enter a word: away\n",
      "awayway\n"
     ]
    }
   ],
   "source": [
    "# another way to do this check\n",
    "\n",
    "word = input('Enter a word: ')\n",
    "\n",
    "if word[0] in 'aeiou':\n",
    "    print(word + 'way')\n",
    "else:\n",
    "    print(word[1:] + word[0] + 'ay')"
   ]
  },
  {
   "cell_type": "markdown",
   "id": "fe315551",
   "metadata": {},
   "source": [
    "# Methods\n",
    "\n",
    "So far, we've said that the verbs in Python are functions. If I want to do something, I need to call a function:\n",
    "\n",
    "- `print`\n",
    "- `input`\n",
    "- `len`\n",
    "- `int`\n",
    "- `str`\n",
    "\n",
    "It turns out that there are many verbs that are *not* functions. Rather, they are \"methods.\" Methods are from the world of object-oriented programming. In object-oriented programming, the nouns -- the objects -- are the primary way that we think about things. Which means that we don't \"call a function and pass it data,\" but rather we \"call a method on an object.\"\n",
    "\n",
    "In other words, so far we have thought about functions as:\n",
    "\n",
    "    FUNC(VALUE)\n",
    "    \n",
    "In the world of object-oriented programming, we instead say:\n",
    "\n",
    "    VALUE.METHOD()\n",
    "    \n",
    "A method always has a `.` in front of its name. It can only be run on a particular type of data.     \n",
    "\n",
    "It turns out that there are MANY MANY more methods in Python than functions."
   ]
  },
  {
   "cell_type": "code",
   "execution_count": 53,
   "id": "3bc29c31",
   "metadata": {},
   "outputs": [
    {
     "data": {
      "text/plain": [
       "3"
      ]
     },
     "execution_count": 53,
     "metadata": {},
     "output_type": "execute_result"
    }
   ],
   "source": [
    "len('abc')"
   ]
  },
  {
   "cell_type": "code",
   "execution_count": 54,
   "id": "16fca69c",
   "metadata": {},
   "outputs": [
    {
     "ename": "TypeError",
     "evalue": "object of type 'int' has no len()",
     "output_type": "error",
     "traceback": [
      "\u001b[0;31m---------------------------------------------------------------------------\u001b[0m",
      "\u001b[0;31mTypeError\u001b[0m                                 Traceback (most recent call last)",
      "Cell \u001b[0;32mIn[54], line 1\u001b[0m\n\u001b[0;32m----> 1\u001b[0m \u001b[38;5;28;43mlen\u001b[39;49m\u001b[43m(\u001b[49m\u001b[38;5;241;43m5\u001b[39;49m\u001b[43m)\u001b[49m\n",
      "\u001b[0;31mTypeError\u001b[0m: object of type 'int' has no len()"
     ]
    }
   ],
   "source": [
    "len(5)"
   ]
  },
  {
   "cell_type": "code",
   "execution_count": 55,
   "id": "4d643eac",
   "metadata": {},
   "outputs": [
    {
     "name": "stdout",
     "output_type": "stream",
     "text": [
      "Enter your name:        Reuven       \n",
      "Hello,        Reuven       !\n"
     ]
    }
   ],
   "source": [
    "# strings have lots of functions!\n",
    "\n",
    "name = input('Enter your name: ')\n",
    "\n",
    "print(f'Hello, {name}!')"
   ]
  },
  {
   "cell_type": "code",
   "execution_count": 56,
   "id": "47dfe0f3",
   "metadata": {},
   "outputs": [
    {
     "data": {
      "text/plain": [
       "'       Reuven       '"
      ]
     },
     "execution_count": 56,
     "metadata": {},
     "output_type": "execute_result"
    }
   ],
   "source": [
    "name"
   ]
  },
  {
   "cell_type": "code",
   "execution_count": 57,
   "id": "07794706",
   "metadata": {},
   "outputs": [
    {
     "data": {
      "text/plain": [
       "'Reuven'"
      ]
     },
     "execution_count": 57,
     "metadata": {},
     "output_type": "execute_result"
    }
   ],
   "source": [
    "# there is a method, str.strip -- notice that we always say the type + method --\n",
    "# which runs on a string, and returns a new string without any leading/trailing whitespace\n",
    "\n",
    "# does it change the original string? Of course not, because strings are immutable\n",
    "name.strip()"
   ]
  },
  {
   "cell_type": "code",
   "execution_count": 58,
   "id": "3cbcb9c7",
   "metadata": {},
   "outputs": [
    {
     "data": {
      "text/plain": [
       "'       Reuven       '"
      ]
     },
     "execution_count": 58,
     "metadata": {},
     "output_type": "execute_result"
    }
   ],
   "source": [
    "name"
   ]
  },
  {
   "cell_type": "code",
   "execution_count": 59,
   "id": "cff89f1b",
   "metadata": {},
   "outputs": [
    {
     "name": "stdout",
     "output_type": "stream",
     "text": [
      "Enter your name:       Reuven      \n",
      "Hello, Reuven!\n"
     ]
    }
   ],
   "source": [
    "# we can fix our problem (to some degree) like this:\n",
    "\n",
    "name = input('Enter your name: ')\n",
    "name = name.strip()    # create a new string with str.strip, and assign back to name\n",
    "\n",
    "print(f'Hello, {name}!')"
   ]
  },
  {
   "cell_type": "code",
   "execution_count": 60,
   "id": "9bf32f41",
   "metadata": {},
   "outputs": [
    {
     "data": {
      "text/plain": [
       "'Reuven'"
      ]
     },
     "execution_count": 60,
     "metadata": {},
     "output_type": "execute_result"
    }
   ],
   "source": [
    "name"
   ]
  },
  {
   "cell_type": "code",
   "execution_count": 61,
   "id": "6bbba0e8",
   "metadata": {},
   "outputs": [
    {
     "name": "stdout",
     "output_type": "stream",
     "text": [
      "Enter your name:       asdfafa      \n",
      "Hello, asdfafa!\n"
     ]
    }
   ],
   "source": [
    "# we can do this even better. We can use \"method chaining\"\n",
    "\n",
    "name = input('Enter your name: ').strip()\n",
    "\n",
    "print(f'Hello, {name}!')"
   ]
  },
  {
   "cell_type": "code",
   "execution_count": 62,
   "id": "660e41b9",
   "metadata": {},
   "outputs": [
    {
     "data": {
      "text/plain": [
       "'a     b      c'"
      ]
     },
     "execution_count": 62,
     "metadata": {},
     "output_type": "execute_result"
    }
   ],
   "source": [
    "s = '    a     b      c       '\n",
    "s.strip()"
   ]
  },
  {
   "cell_type": "markdown",
   "id": "23bcabae",
   "metadata": {},
   "source": [
    "# Other string methods\n",
    "\n",
    "- `str.lower` -- this returns a new string, based on the original, with all letters now lowercase\n",
    "- `str.upper` -- this returns a new string, based on the original, with all letters now uppercase\n",
    "- `str.capitalize` -- this returns a new string, based on the original, with the first letter capitalized and the rest lowercase\n",
    "- `str.swapcase` -- returns a new string, based on the original, where capital letters are now lowercase, and lowercase letters are now capitals"
   ]
  },
  {
   "cell_type": "code",
   "execution_count": 63,
   "id": "89e9c746",
   "metadata": {},
   "outputs": [],
   "source": [
    "s = 'aBcD eFgH'"
   ]
  },
  {
   "cell_type": "code",
   "execution_count": 64,
   "id": "ecdf8aa0",
   "metadata": {},
   "outputs": [
    {
     "data": {
      "text/plain": [
       "'abcd efgh'"
      ]
     },
     "execution_count": 64,
     "metadata": {},
     "output_type": "execute_result"
    }
   ],
   "source": [
    "s.lower()"
   ]
  },
  {
   "cell_type": "code",
   "execution_count": 65,
   "id": "edc3b16f",
   "metadata": {},
   "outputs": [
    {
     "data": {
      "text/plain": [
       "'ABCD EFGH'"
      ]
     },
     "execution_count": 65,
     "metadata": {},
     "output_type": "execute_result"
    }
   ],
   "source": [
    "s.upper()"
   ]
  },
  {
   "cell_type": "code",
   "execution_count": 66,
   "id": "98b1074e",
   "metadata": {},
   "outputs": [
    {
     "data": {
      "text/plain": [
       "'Abcd efgh'"
      ]
     },
     "execution_count": 66,
     "metadata": {},
     "output_type": "execute_result"
    }
   ],
   "source": [
    "s.capitalize()"
   ]
  },
  {
   "cell_type": "code",
   "execution_count": 67,
   "id": "45f25aef",
   "metadata": {},
   "outputs": [
    {
     "data": {
      "text/plain": [
       "'AbCd EfGh'"
      ]
     },
     "execution_count": 67,
     "metadata": {},
     "output_type": "execute_result"
    }
   ],
   "source": [
    "s.swapcase()"
   ]
  },
  {
   "cell_type": "code",
   "execution_count": 68,
   "id": "c00e7f51",
   "metadata": {},
   "outputs": [
    {
     "name": "stdout",
     "output_type": "stream",
     "text": [
      "Enter a word: Apple\n",
      "ppleAay\n"
     ]
    }
   ],
   "source": [
    "# what if the user enters a capitalized word?\n",
    "\n",
    "word = input('Enter a word: ')\n",
    "\n",
    "if word[0] in 'aeiou':\n",
    "    print(word + 'way')\n",
    "else:\n",
    "    print(word[1:] + word[0] + 'ay')"
   ]
  },
  {
   "cell_type": "code",
   "execution_count": 69,
   "id": "9eaf199f",
   "metadata": {},
   "outputs": [
    {
     "name": "stdout",
     "output_type": "stream",
     "text": [
      "Enter a word: Apple\n",
      "appleway\n"
     ]
    }
   ],
   "source": [
    "# let's fix that with a method:\n",
    "\n",
    "word = input('Enter a word: ').lower()\n",
    "\n",
    "if word[0] in 'aeiou':\n",
    "    print(word + 'way')\n",
    "else:\n",
    "    print(word[1:] + word[0] + 'ay')"
   ]
  },
  {
   "cell_type": "code",
   "execution_count": 71,
   "id": "33fde242",
   "metadata": {},
   "outputs": [
    {
     "name": "stdout",
     "output_type": "stream",
     "text": [
      "Enter a number: hello\n"
     ]
    },
    {
     "ename": "ValueError",
     "evalue": "invalid literal for int() with base 10: 'hello'",
     "output_type": "error",
     "traceback": [
      "\u001b[0;31m---------------------------------------------------------------------------\u001b[0m",
      "\u001b[0;31mValueError\u001b[0m                                Traceback (most recent call last)",
      "Cell \u001b[0;32mIn[71], line 4\u001b[0m\n\u001b[1;32m      1\u001b[0m \u001b[38;5;66;03m# let's ask the user to enter a number, and add it to 5\u001b[39;00m\n\u001b[1;32m      3\u001b[0m number \u001b[38;5;241m=\u001b[39m \u001b[38;5;28minput\u001b[39m(\u001b[38;5;124m'\u001b[39m\u001b[38;5;124mEnter a number: \u001b[39m\u001b[38;5;124m'\u001b[39m)\u001b[38;5;241m.\u001b[39mstrip()\n\u001b[0;32m----> 4\u001b[0m n \u001b[38;5;241m=\u001b[39m \u001b[38;5;28;43mint\u001b[39;49m\u001b[43m(\u001b[49m\u001b[43mnumber\u001b[49m\u001b[43m)\u001b[49m\n\u001b[1;32m      6\u001b[0m \u001b[38;5;28mprint\u001b[39m(n \u001b[38;5;241m+\u001b[39m \u001b[38;5;241m5\u001b[39m)\n",
      "\u001b[0;31mValueError\u001b[0m: invalid literal for int() with base 10: 'hello'"
     ]
    }
   ],
   "source": [
    "# let's ask the user to enter a number, and add it to 5\n",
    "\n",
    "number = input('Enter a number: ').strip()\n",
    "n = int(number)\n",
    "\n",
    "print(n + 5)"
   ]
  },
  {
   "cell_type": "code",
   "execution_count": 73,
   "id": "436f9375",
   "metadata": {},
   "outputs": [
    {
     "name": "stdout",
     "output_type": "stream",
     "text": [
      "Enter a number: hello\n",
      "hello is not numeric\n"
     ]
    }
   ],
   "source": [
    "# the str.isdigit() method returns True if a string contains only the digits 0-9\n",
    "# (which means, no negative numbers, and no floats)\n",
    "\n",
    "# we can rewrite our add-5 program, checking for non-numeric inputs\n",
    "\n",
    "number = input('Enter a number: ').strip()\n",
    "\n",
    "# check: is this intable?\n",
    "if number.isdigit():\n",
    "    n = int(number)\n",
    "    print(n + 5)\n",
    "else:\n",
    "    print(f'{number} is not numeric')"
   ]
  },
  {
   "cell_type": "code",
   "execution_count": null,
   "id": "95f71ff5",
   "metadata": {},
   "outputs": [],
   "source": [
    "# what methods exist?\n",
    "# 1. check the Python documentation\n",
    "# 2. in Jupyter (and many Python editors), you can get a list -- here, you can press TAB after the .\n",
    "\n",
    "number."
   ]
  },
  {
   "cell_type": "markdown",
   "id": "c546bc6b",
   "metadata": {},
   "source": [
    "# Exercise: Calculator\n",
    "\n",
    "1. Ask the user eo enter two integers, and assign them to two variables.\n",
    "2. If both of the inputs are indeed integers, then print their sum.\n",
    "3. If one or both is not, then print an error message for the user.\n",
    "\n",
    "Example:\n",
    "\n",
    "    Enter first number: 10\n",
    "    Enter second number: 20\n",
    "    10 + 20 = 30\n",
    "    \n",
    "    Enter first number: hello\n",
    "    Enter second number: out there\n",
    "    hello is not numeric\n",
    "    out there is not numeric"
   ]
  },
  {
   "cell_type": "code",
   "execution_count": 79,
   "id": "555fa47a",
   "metadata": {},
   "outputs": [
    {
     "name": "stdout",
     "output_type": "stream",
     "text": [
      "Enter first number: 10\n",
      "Enter second number: hello\n",
      "hello is not numeric\n"
     ]
    }
   ],
   "source": [
    "first = input('Enter first number: ').strip()\n",
    "second = input('Enter second number: ').strip()\n",
    "\n",
    "if first.isdigit() and second.isdigit():\n",
    "    first = int(first)\n",
    "    second = int(second)\n",
    "\n",
    "    total = first + second\n",
    "\n",
    "    print(f'{first} + {second} = {total}')\n",
    "else:\n",
    "    if not first.isdigit():\n",
    "        print(f'{first} is not numeric')\n",
    "    if not second.isdigit():\n",
    "        print(f'{second} is not numeric')\n"
   ]
  },
  {
   "cell_type": "code",
   "execution_count": null,
   "id": "d5093f8e",
   "metadata": {},
   "outputs": [],
   "source": []
  }
 ],
 "metadata": {
  "kernelspec": {
   "display_name": "Python 3 (ipykernel)",
   "language": "python",
   "name": "python3"
  },
  "language_info": {
   "codemirror_mode": {
    "name": "ipython",
    "version": 3
   },
   "file_extension": ".py",
   "mimetype": "text/x-python",
   "name": "python",
   "nbconvert_exporter": "python",
   "pygments_lexer": "ipython3",
   "version": "3.11.6"
  }
 },
 "nbformat": 4,
 "nbformat_minor": 5
}
