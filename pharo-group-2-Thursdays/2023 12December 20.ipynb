{
 "cells": [
  {
   "cell_type": "markdown",
   "id": "916a0e42-01b8-4a08-b6bd-faac40eaea9b",
   "metadata": {},
   "source": [
    "# Agenda\n",
    "\n",
    "- Q&A\n",
    "- Slight review of strings\n",
    "- Slices\n",
    "- Immutability\n",
    "- Methods"
   ]
  },
  {
   "cell_type": "markdown",
   "id": "5b44ee0b",
   "metadata": {},
   "source": [
    "# Strings\n",
    "\n",
    "Strings are the way that we deal with text in Python. They can be very small (in fact, they can be zero-length, if they are the empty string, aka `''`), or they can be as long as you have RAM capacity in your computer to hold.\n",
    "\n",
    "We define strings with quotes:\n",
    "\n",
    "- We can use single quotes (`''`)\n",
    "- We can use double quotes (`\"\"`)\n",
    "\n",
    "Whatever you use to start the string needs to be what you use to end the string, too!\n",
    "\n"
   ]
  },
  {
   "cell_type": "code",
   "execution_count": 1,
   "id": "41d0d155",
   "metadata": {},
   "outputs": [
    {
     "name": "stdout",
     "output_type": "stream",
     "text": [
      "abcdefg\n"
     ]
    }
   ],
   "source": [
    "s = 'abcdefg'   # single quotes\n",
    "print(s)"
   ]
  },
  {
   "cell_type": "code",
   "execution_count": 2,
   "id": "dfeddc26",
   "metadata": {},
   "outputs": [
    {
     "name": "stdout",
     "output_type": "stream",
     "text": [
      "abcdefg\n"
     ]
    }
   ],
   "source": [
    "s = \"abcdefg\"   # double quotes\n",
    "print(s)"
   ]
  },
  {
   "cell_type": "code",
   "execution_count": 3,
   "id": "f72616f5",
   "metadata": {},
   "outputs": [
    {
     "ename": "SyntaxError",
     "evalue": "unterminated string literal (detected at line 2) (565934911.py, line 2)",
     "output_type": "error",
     "traceback": [
      "\u001b[0;36m  Cell \u001b[0;32mIn[3], line 2\u001b[0;36m\u001b[0m\n\u001b[0;31m    s = 'abcdefg\"\u001b[0m\n\u001b[0m        ^\u001b[0m\n\u001b[0;31mSyntaxError\u001b[0m\u001b[0;31m:\u001b[0m unterminated string literal (detected at line 2)\n"
     ]
    }
   ],
   "source": [
    "# Python won't like this\n",
    "s = 'abcdefg\"    "
   ]
  },
  {
   "cell_type": "code",
   "execution_count": 4,
   "id": "9ae74b12",
   "metadata": {},
   "outputs": [
    {
     "ename": "SyntaxError",
     "evalue": "invalid syntax (1522793773.py, line 3)",
     "output_type": "error",
     "traceback": [
      "\u001b[0;36m  Cell \u001b[0;32mIn[4], line 3\u001b[0;36m\u001b[0m\n\u001b[0;31m    s = \"He said, \"Hello\".\"\u001b[0m\n\u001b[0m                   ^\u001b[0m\n\u001b[0;31mSyntaxError\u001b[0m\u001b[0;31m:\u001b[0m invalid syntax\n"
     ]
    }
   ],
   "source": [
    "# a more common example of string problems with quotes\n",
    "\n",
    "s = \"He said, \"Hello\".\"\n",
    "print(s)"
   ]
  },
  {
   "cell_type": "markdown",
   "id": "35122190",
   "metadata": {},
   "source": [
    "- If you want to have a single quote inside of your string, use double quotes to delimit it.\n",
    "- If you want to have double quotes inside of your string, use single quotes to delimit it.\n",
    "\n",
    "But what if you have both? What if you just don't want to follow that advice?\n",
    "\n",
    "You can \"escape\" a quote character, telling Python that it isn't ending the string, but that it is meant to be seen as text, inside of the string. You do that with the escape character, namely backslash (`\\`)."
   ]
  },
  {
   "cell_type": "code",
   "execution_count": 5,
   "id": "08872486",
   "metadata": {},
   "outputs": [
    {
     "name": "stdout",
     "output_type": "stream",
     "text": [
      "He's very nice\n"
     ]
    }
   ],
   "source": [
    "s = 'He\\'s very nice'    # here, I escaped the ', and all is well\n",
    "print(s)"
   ]
  },
  {
   "cell_type": "code",
   "execution_count": 6,
   "id": "a17d0bcf",
   "metadata": {},
   "outputs": [
    {
     "data": {
      "text/plain": [
       "\"He's very nice\""
      ]
     },
     "execution_count": 6,
     "metadata": {},
     "output_type": "execute_result"
    }
   ],
   "source": [
    "# what does it look like when I ask to see the printed representation of s in Jupyter?\n",
    "s"
   ]
  },
  {
   "cell_type": "code",
   "execution_count": 7,
   "id": "ee456590",
   "metadata": {},
   "outputs": [
    {
     "name": "stdout",
     "output_type": "stream",
     "text": [
      "She says, \"Hello\".\n"
     ]
    }
   ],
   "source": [
    "# similarly, we can say:\n",
    "\n",
    "s = \"She says, \\\"Hello\\\".\"\n",
    "print(s)"
   ]
  },
  {
   "cell_type": "code",
   "execution_count": 8,
   "id": "495e30d8",
   "metadata": {},
   "outputs": [
    {
     "data": {
      "text/plain": [
       "'She says, \"Hello\".'"
      ]
     },
     "execution_count": 8,
     "metadata": {},
     "output_type": "execute_result"
    }
   ],
   "source": [
    "s"
   ]
  },
  {
   "cell_type": "code",
   "execution_count": 9,
   "id": "f8ab59c1",
   "metadata": {},
   "outputs": [
    {
     "name": "stdout",
     "output_type": "stream",
     "text": [
      "He says, \"She's very nice.\"\n"
     ]
    }
   ],
   "source": [
    "s = 'He says, \"She\\'s very nice.\"'\n",
    "print(s)"
   ]
  },
  {
   "cell_type": "code",
   "execution_count": 10,
   "id": "80c0acc1",
   "metadata": {},
   "outputs": [
    {
     "data": {
      "text/plain": [
       "'He says, \"She\\'s very nice.\"'"
      ]
     },
     "execution_count": 10,
     "metadata": {},
     "output_type": "execute_result"
    }
   ],
   "source": [
    "s"
   ]
  },
  {
   "cell_type": "markdown",
   "id": "fdb28aab",
   "metadata": {},
   "source": [
    "Backslashes can be used in more places, too!\n",
    "\n",
    "For example: If I want to have a newline character in my string, I'm going to have some trouble."
   ]
  },
  {
   "cell_type": "code",
   "execution_count": 11,
   "id": "d987859e",
   "metadata": {},
   "outputs": [
    {
     "ename": "SyntaxError",
     "evalue": "unterminated string literal (detected at line 1) (2712339239.py, line 1)",
     "output_type": "error",
     "traceback": [
      "\u001b[0;36m  Cell \u001b[0;32mIn[11], line 1\u001b[0;36m\u001b[0m\n\u001b[0;31m    print('abcd\u001b[0m\n\u001b[0m          ^\u001b[0m\n\u001b[0;31mSyntaxError\u001b[0m\u001b[0;31m:\u001b[0m unterminated string literal (detected at line 1)\n"
     ]
    }
   ],
   "source": [
    "print('abcd\n",
    "      efgh')"
   ]
  },
  {
   "cell_type": "code",
   "execution_count": 12,
   "id": "ea50c561",
   "metadata": {},
   "outputs": [
    {
     "data": {
      "text/plain": [
       "9"
      ]
     },
     "execution_count": 12,
     "metadata": {},
     "output_type": "execute_result"
    }
   ],
   "source": [
    "# if we want a newline character in our string, we type \\n\n",
    "# yes, we type two characters, but it's seen as one in Python\n",
    "\n",
    "s = 'abcd\\nefgh'\n",
    "len(s)"
   ]
  },
  {
   "cell_type": "code",
   "execution_count": 13,
   "id": "0ae907af",
   "metadata": {},
   "outputs": [
    {
     "name": "stdout",
     "output_type": "stream",
     "text": [
      "abcd\n",
      "efgh\n"
     ]
    }
   ],
   "source": [
    "print(s)   # what happens when I print s?"
   ]
  },
  {
   "cell_type": "code",
   "execution_count": 14,
   "id": "407cd385",
   "metadata": {},
   "outputs": [],
   "source": [
    "# I can use triple-quoted strings!\n",
    "# this means: ''' '''  or \"\"\" \"\"\" around my string\n",
    "# if I do that, I can go down any number of lines, and Python is OK with it\n",
    "\n",
    "s = '''abcd\n",
    "efgh'''\n",
    "\n"
   ]
  },
  {
   "cell_type": "code",
   "execution_count": 15,
   "id": "54248738",
   "metadata": {},
   "outputs": [
    {
     "name": "stdout",
     "output_type": "stream",
     "text": [
      "abcd\n",
      "efgh\n"
     ]
    }
   ],
   "source": [
    "print(s)"
   ]
  },
  {
   "cell_type": "code",
   "execution_count": 16,
   "id": "de87b4bc",
   "metadata": {},
   "outputs": [
    {
     "data": {
      "text/plain": [
       "'abcd\\nefgh'"
      ]
     },
     "execution_count": 16,
     "metadata": {},
     "output_type": "execute_result"
    }
   ],
   "source": [
    "# what's the printed representation here?\n",
    "s"
   ]
  },
  {
   "cell_type": "code",
   "execution_count": 17,
   "id": "30b6cf31",
   "metadata": {},
   "outputs": [
    {
     "name": "stdout",
     "output_type": "stream",
     "text": [
      "a\tb\tc\td\n"
     ]
    }
   ],
   "source": [
    "# there are other special characters, too\n",
    "\n",
    "print('a\\tb\\tc\\td')  # \\t == tab, meaning go to the next column that's a multiple of 8"
   ]
  },
  {
   "cell_type": "code",
   "execution_count": 18,
   "id": "9c00da95",
   "metadata": {},
   "outputs": [
    {
     "name": "stdout",
     "output_type": "stream",
     "text": [
      "c:\u0007bcd\\efgh\\ijkl.txt\n"
     ]
    }
   ],
   "source": [
    "# what if I'm working with Windows, and I want to print a filename?\n",
    "\n",
    "filename = 'c:\\abcd\\efgh\\ijkl.txt'\n",
    "\n",
    "print(filename)"
   ]
  },
  {
   "cell_type": "code",
   "execution_count": 19,
   "id": "475704ef",
   "metadata": {},
   "outputs": [
    {
     "name": "stdout",
     "output_type": "stream",
     "text": [
      "c:\\abcd\\efgh\\ijkl.txt\n"
     ]
    }
   ],
   "source": [
    "# \\a is actually another special character, the alarm bell\n",
    "\n",
    "# how can I undo this?\n",
    "# in general, how can I print a regular backslash, rather than see it as an escape character?\n",
    "\n",
    "# use \\ to escape the \\ that comes after it\n",
    "# or: \\\\ becomes one \\ character\n",
    "\n",
    "filename = 'c:\\\\abcd\\\\efgh\\\\ijkl.txt'\n",
    "\n",
    "print(filename)"
   ]
  },
  {
   "cell_type": "code",
   "execution_count": null,
   "id": "55cac53e",
   "metadata": {},
   "outputs": [],
   "source": [
    "# Python has a solution, namely *raw strings*\n",
    "# if you put r before the opening quote, then any \\ is doubled\n",
    "\n",
    "filename = r'c:\\abcd\\efgh\\ijkl.txt'   # this is a raw string now, all \\ are double\n",
    "\n",
    "print(filename)"
   ]
  }
 ],
 "metadata": {
  "kernelspec": {
   "display_name": "Python 3 (ipykernel)",
   "language": "python",
   "name": "python3"
  },
  "language_info": {
   "codemirror_mode": {
    "name": "ipython",
    "version": 3
   },
   "file_extension": ".py",
   "mimetype": "text/x-python",
   "name": "python",
   "nbconvert_exporter": "python",
   "pygments_lexer": "ipython3",
   "version": "3.11.6"
  }
 },
 "nbformat": 4,
 "nbformat_minor": 5
}
