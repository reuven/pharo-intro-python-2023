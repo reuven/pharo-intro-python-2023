{
 "cells": [
  {
   "cell_type": "markdown",
   "id": "916a0e42-01b8-4a08-b6bd-faac40eaea9b",
   "metadata": {},
   "source": [
    "# Agenda\n",
    "\n",
    "- Q&A\n",
    "- Slight review of strings\n",
    "- Slices\n",
    "- Immutability\n",
    "- Methods"
   ]
  },
  {
   "cell_type": "markdown",
   "id": "8ae9fec8",
   "metadata": {},
   "source": [
    "# Strings\n",
    "\n",
    "Strings are the way that we deal with text in Python. They can be very small (in fact, they can be zero-length, if they are the empty string, aka `''`), or they can be as long as you have RAM capacity in your computer to hold.\n",
    "\n",
    "We define strings with quotes:\n",
    "\n",
    "- We can use single quotes (`''`)\n",
    "- We can use double quotes (`\"\"`)\n",
    "\n",
    "Whatever you use to start the string needs to be what you use to end the string, too!\n",
    "\n"
   ]
  },
  {
   "cell_type": "code",
   "execution_count": 1,
   "id": "9e1d078b",
   "metadata": {},
   "outputs": [
    {
     "name": "stdout",
     "output_type": "stream",
     "text": [
      "abcdefg\n"
     ]
    }
   ],
   "source": [
    "s = 'abcdefg'   # single quotes\n",
    "print(s)"
   ]
  },
  {
   "cell_type": "code",
   "execution_count": 2,
   "id": "2db0ef55",
   "metadata": {},
   "outputs": [
    {
     "name": "stdout",
     "output_type": "stream",
     "text": [
      "abcdefg\n"
     ]
    }
   ],
   "source": [
    "s = \"abcdefg\"   # double quotes\n",
    "print(s)"
   ]
  },
  {
   "cell_type": "code",
   "execution_count": 3,
   "id": "9a231b17",
   "metadata": {},
   "outputs": [
    {
     "ename": "SyntaxError",
     "evalue": "unterminated string literal (detected at line 2) (565934911.py, line 2)",
     "output_type": "error",
     "traceback": [
      "\u001b[0;36m  Cell \u001b[0;32mIn[3], line 2\u001b[0;36m\u001b[0m\n\u001b[0;31m    s = 'abcdefg\"\u001b[0m\n\u001b[0m        ^\u001b[0m\n\u001b[0;31mSyntaxError\u001b[0m\u001b[0;31m:\u001b[0m unterminated string literal (detected at line 2)\n"
     ]
    }
   ],
   "source": [
    "# Python won't like this\n",
    "s = 'abcdefg\"    "
   ]
  },
  {
   "cell_type": "code",
   "execution_count": 4,
   "id": "f5d3fb0c",
   "metadata": {},
   "outputs": [
    {
     "ename": "SyntaxError",
     "evalue": "invalid syntax (1522793773.py, line 3)",
     "output_type": "error",
     "traceback": [
      "\u001b[0;36m  Cell \u001b[0;32mIn[4], line 3\u001b[0;36m\u001b[0m\n\u001b[0;31m    s = \"He said, \"Hello\".\"\u001b[0m\n\u001b[0m                   ^\u001b[0m\n\u001b[0;31mSyntaxError\u001b[0m\u001b[0;31m:\u001b[0m invalid syntax\n"
     ]
    }
   ],
   "source": [
    "# a more common example of string problems with quotes\n",
    "\n",
    "s = \"He said, \"Hello\".\"\n",
    "print(s)"
   ]
  },
  {
   "cell_type": "markdown",
   "id": "7ab3003c",
   "metadata": {},
   "source": [
    "- If you want to have a single quote inside of your string, use double quotes to delimit it.\n",
    "- If you want to have double quotes inside of your string, use single quotes to delimit it.\n",
    "\n",
    "But what if you have both? What if you just don't want to follow that advice?\n",
    "\n",
    "You can \"escape\" a quote character, telling Python that it isn't ending the string, but that it is meant to be seen as text, inside of the string. You do that with the escape character, namely backslash (`\\`)."
   ]
  },
  {
   "cell_type": "code",
   "execution_count": 5,
   "id": "c950555f",
   "metadata": {},
   "outputs": [
    {
     "name": "stdout",
     "output_type": "stream",
     "text": [
      "He's very nice\n"
     ]
    }
   ],
   "source": [
    "s = 'He\\'s very nice'    # here, I escaped the ', and all is well\n",
    "print(s)"
   ]
  },
  {
   "cell_type": "code",
   "execution_count": 6,
   "id": "656ad927",
   "metadata": {},
   "outputs": [
    {
     "data": {
      "text/plain": [
       "\"He's very nice\""
      ]
     },
     "execution_count": 6,
     "metadata": {},
     "output_type": "execute_result"
    }
   ],
   "source": [
    "# what does it look like when I ask to see the printed representation of s in Jupyter?\n",
    "s"
   ]
  },
  {
   "cell_type": "code",
   "execution_count": 7,
   "id": "4e20e862",
   "metadata": {},
   "outputs": [
    {
     "name": "stdout",
     "output_type": "stream",
     "text": [
      "She says, \"Hello\".\n"
     ]
    }
   ],
   "source": [
    "# similarly, we can say:\n",
    "\n",
    "s = \"She says, \\\"Hello\\\".\"\n",
    "print(s)"
   ]
  },
  {
   "cell_type": "code",
   "execution_count": 8,
   "id": "00d6bdc0",
   "metadata": {},
   "outputs": [
    {
     "data": {
      "text/plain": [
       "'She says, \"Hello\".'"
      ]
     },
     "execution_count": 8,
     "metadata": {},
     "output_type": "execute_result"
    }
   ],
   "source": [
    "s"
   ]
  },
  {
   "cell_type": "code",
   "execution_count": 9,
   "id": "25d45eaf",
   "metadata": {},
   "outputs": [
    {
     "name": "stdout",
     "output_type": "stream",
     "text": [
      "He says, \"She's very nice.\"\n"
     ]
    }
   ],
   "source": [
    "s = 'He says, \"She\\'s very nice.\"'\n",
    "print(s)"
   ]
  },
  {
   "cell_type": "code",
   "execution_count": 10,
   "id": "dd98e642",
   "metadata": {},
   "outputs": [
    {
     "data": {
      "text/plain": [
       "'He says, \"She\\'s very nice.\"'"
      ]
     },
     "execution_count": 10,
     "metadata": {},
     "output_type": "execute_result"
    }
   ],
   "source": [
    "s"
   ]
  },
  {
   "cell_type": "markdown",
   "id": "abd2a51f",
   "metadata": {},
   "source": [
    "Backslashes can be used in more places, too!\n",
    "\n",
    "For example: If I want to have a newline character in my string, I'm going to have some trouble."
   ]
  },
  {
   "cell_type": "code",
   "execution_count": 11,
   "id": "376a9618",
   "metadata": {},
   "outputs": [
    {
     "ename": "SyntaxError",
     "evalue": "unterminated string literal (detected at line 1) (2712339239.py, line 1)",
     "output_type": "error",
     "traceback": [
      "\u001b[0;36m  Cell \u001b[0;32mIn[11], line 1\u001b[0;36m\u001b[0m\n\u001b[0;31m    print('abcd\u001b[0m\n\u001b[0m          ^\u001b[0m\n\u001b[0;31mSyntaxError\u001b[0m\u001b[0;31m:\u001b[0m unterminated string literal (detected at line 1)\n"
     ]
    }
   ],
   "source": [
    "print('abcd\n",
    "      efgh')"
   ]
  },
  {
   "cell_type": "code",
   "execution_count": 12,
   "id": "8082f94e",
   "metadata": {},
   "outputs": [
    {
     "data": {
      "text/plain": [
       "9"
      ]
     },
     "execution_count": 12,
     "metadata": {},
     "output_type": "execute_result"
    }
   ],
   "source": [
    "# if we want a newline character in our string, we type \\n\n",
    "# yes, we type two characters, but it's seen as one in Python\n",
    "\n",
    "s = 'abcd\\nefgh'\n",
    "len(s)"
   ]
  },
  {
   "cell_type": "code",
   "execution_count": 13,
   "id": "9d8f3103",
   "metadata": {},
   "outputs": [
    {
     "name": "stdout",
     "output_type": "stream",
     "text": [
      "abcd\n",
      "efgh\n"
     ]
    }
   ],
   "source": [
    "print(s)   # what happens when I print s?"
   ]
  },
  {
   "cell_type": "code",
   "execution_count": 14,
   "id": "ee503695",
   "metadata": {},
   "outputs": [],
   "source": [
    "# I can use triple-quoted strings!\n",
    "# this means: ''' '''  or \"\"\" \"\"\" around my string\n",
    "# if I do that, I can go down any number of lines, and Python is OK with it\n",
    "\n",
    "s = '''abcd\n",
    "efgh'''\n",
    "\n"
   ]
  },
  {
   "cell_type": "code",
   "execution_count": 15,
   "id": "3ea66d7c",
   "metadata": {},
   "outputs": [
    {
     "name": "stdout",
     "output_type": "stream",
     "text": [
      "abcd\n",
      "efgh\n"
     ]
    }
   ],
   "source": [
    "print(s)"
   ]
  },
  {
   "cell_type": "code",
   "execution_count": 16,
   "id": "54f1381d",
   "metadata": {},
   "outputs": [
    {
     "data": {
      "text/plain": [
       "'abcd\\nefgh'"
      ]
     },
     "execution_count": 16,
     "metadata": {},
     "output_type": "execute_result"
    }
   ],
   "source": [
    "# what's the printed representation here?\n",
    "s"
   ]
  },
  {
   "cell_type": "code",
   "execution_count": 17,
   "id": "83988185",
   "metadata": {},
   "outputs": [
    {
     "name": "stdout",
     "output_type": "stream",
     "text": [
      "a\tb\tc\td\n"
     ]
    }
   ],
   "source": [
    "# there are other special characters, too\n",
    "\n",
    "print('a\\tb\\tc\\td')  # \\t == tab, meaning go to the next column that's a multiple of 8"
   ]
  },
  {
   "cell_type": "code",
   "execution_count": 18,
   "id": "31fda72a",
   "metadata": {},
   "outputs": [
    {
     "name": "stdout",
     "output_type": "stream",
     "text": [
      "c:\u0007bcd\\efgh\\ijkl.txt\n"
     ]
    }
   ],
   "source": [
    "# what if I'm working with Windows, and I want to print a filename?\n",
    "\n",
    "filename = 'c:\\abcd\\efgh\\ijkl.txt'\n",
    "\n",
    "print(filename)"
   ]
  },
  {
   "cell_type": "code",
   "execution_count": 19,
   "id": "f92c324c",
   "metadata": {},
   "outputs": [
    {
     "name": "stdout",
     "output_type": "stream",
     "text": [
      "c:\\abcd\\efgh\\ijkl.txt\n"
     ]
    }
   ],
   "source": [
    "# \\a is actually another special character, the alarm bell\n",
    "\n",
    "# how can I undo this?\n",
    "# in general, how can I print a regular backslash, rather than see it as an escape character?\n",
    "\n",
    "# use \\ to escape the \\ that comes after it\n",
    "# or: \\\\ becomes one \\ character\n",
    "\n",
    "filename = 'c:\\\\abcd\\\\efgh\\\\ijkl.txt'\n",
    "\n",
    "print(filename)"
   ]
  },
  {
   "cell_type": "code",
   "execution_count": 20,
   "id": "75a41420",
   "metadata": {},
   "outputs": [
    {
     "name": "stdout",
     "output_type": "stream",
     "text": [
      "c:\\abcd\\efgh\\ijkl.txt\n"
     ]
    }
   ],
   "source": [
    "# Python has a solution, namely *raw strings*\n",
    "# if you put r before the opening quote, then any \\ is doubled\n",
    "\n",
    "filename = r'c:\\abcd\\efgh\\ijkl.txt'   # this is a raw string now, all \\ are doubled to \\\\\n",
    "\n",
    "print(filename)"
   ]
  },
  {
   "cell_type": "markdown",
   "id": "24858f3d",
   "metadata": {},
   "source": [
    "# Different ways to create strings\n",
    "\n",
    "1. Call `str` on another value\n",
    "2. Use `input` to get a value from the user\n",
    "3. Use `''` or `\"\"` to create a string literal\n",
    "4. Use `''' '''` or `\"\"\" \"\"\"` in a \"triple-quoted string,\" meaning one that can have newlines inside of it\n",
    "5. Use `r'stuff\\with\\backslashes'` for a \"raw string,\" where backslashes are no longer special, and are escaped\n",
    "6. Use `f'stuff{variable}stuff'` for an f-string, where anything inside of `{}` is treated as a Python expression, and its result is put into the string"
   ]
  },
  {
   "cell_type": "markdown",
   "id": "10f7112a",
   "metadata": {},
   "source": [
    "# Slices\n",
    "\n",
    "We've seen how we can retrieve one character from a string: We apply `[]` to the string, and give an index starting at 0 (the first character) up to the length - 1 (for the final character)."
   ]
  },
  {
   "cell_type": "code",
   "execution_count": 21,
   "id": "dd4447d4",
   "metadata": {},
   "outputs": [
    {
     "data": {
      "text/plain": [
       "'a'"
      ]
     },
     "execution_count": 21,
     "metadata": {},
     "output_type": "execute_result"
    }
   ],
   "source": [
    "s = 'abcde'\n",
    "s[0]"
   ]
  },
  {
   "cell_type": "code",
   "execution_count": 22,
   "id": "ec6bbfc1",
   "metadata": {},
   "outputs": [
    {
     "data": {
      "text/plain": [
       "'e'"
      ]
     },
     "execution_count": 22,
     "metadata": {},
     "output_type": "execute_result"
    }
   ],
   "source": [
    "s[4]"
   ]
  },
  {
   "cell_type": "code",
   "execution_count": 23,
   "id": "2a2ce4d3",
   "metadata": {},
   "outputs": [
    {
     "data": {
      "text/plain": [
       "'e'"
      ]
     },
     "execution_count": 23,
     "metadata": {},
     "output_type": "execute_result"
    }
   ],
   "source": [
    "s[len(s)-1]   # yuck!"
   ]
  },
  {
   "cell_type": "code",
   "execution_count": 24,
   "id": "c3ac1c4f",
   "metadata": {},
   "outputs": [
    {
     "data": {
      "text/plain": [
       "'e'"
      ]
     },
     "execution_count": 24,
     "metadata": {},
     "output_type": "execute_result"
    }
   ],
   "source": [
    "s[-1]  # much better -- final character"
   ]
  },
  {
   "cell_type": "code",
   "execution_count": 25,
   "id": "656aec35",
   "metadata": {},
   "outputs": [
    {
     "data": {
      "text/plain": [
       "'klmnopqrst'"
      ]
     },
     "execution_count": 25,
     "metadata": {},
     "output_type": "execute_result"
    }
   ],
   "source": [
    "# what if I want more than one character?\n",
    "# what if I want characters between indexes 10 and 20?\n",
    "\n",
    "s = 'abcdefghijklmnopqrstuvwxyz'\n",
    "\n",
    "# I can use a *slice*\n",
    "# slice syntax looks like regular index syntax, but it has *two* values, separated by a colon\n",
    "\n",
    "s[10:20]   # give me a new string based on s, starting at s's index 10, up to (and not including) its index 20"
   ]
  },
  {
   "cell_type": "code",
   "execution_count": 26,
   "id": "806bf594",
   "metadata": {},
   "outputs": [
    {
     "data": {
      "text/plain": [
       "'fghijklmno'"
      ]
     },
     "execution_count": 26,
     "metadata": {},
     "output_type": "execute_result"
    }
   ],
   "source": [
    "s[5:15]  # from s's index 5 until (not including) s's index 15"
   ]
  },
  {
   "cell_type": "code",
   "execution_count": 27,
   "id": "ad5c3402",
   "metadata": {},
   "outputs": [
    {
     "data": {
      "text/plain": [
       "'abcdefghij'"
      ]
     },
     "execution_count": 27,
     "metadata": {},
     "output_type": "execute_result"
    }
   ],
   "source": [
    "# what if I want from the start of the string?\n",
    "s[0:10]   # from the start, up to (not including) index 10"
   ]
  },
  {
   "cell_type": "code",
   "execution_count": 28,
   "id": "8765b01b",
   "metadata": {},
   "outputs": [
    {
     "data": {
      "text/plain": [
       "'abcdefghij'"
      ]
     },
     "execution_count": 28,
     "metadata": {},
     "output_type": "execute_result"
    }
   ],
   "source": [
    "# or... we can do it this way:\n",
    "s[:10]    # this means the same thing -- from the start until (not including) index 10"
   ]
  },
  {
   "cell_type": "code",
   "execution_count": 29,
   "id": "1098b352",
   "metadata": {},
   "outputs": [
    {
     "data": {
      "text/plain": [
       "'uvwxyz'"
      ]
     },
     "execution_count": 29,
     "metadata": {},
     "output_type": "execute_result"
    }
   ],
   "source": [
    "# what about this:\n",
    "s[20:]    # this means: give me a new string based on s, starting at its index 20, through the end"
   ]
  },
  {
   "cell_type": "code",
   "execution_count": 30,
   "id": "b5270bf2",
   "metadata": {},
   "outputs": [
    {
     "ename": "IndexError",
     "evalue": "string index out of range",
     "output_type": "error",
     "traceback": [
      "\u001b[0;31m---------------------------------------------------------------------------\u001b[0m",
      "\u001b[0;31mIndexError\u001b[0m                                Traceback (most recent call last)",
      "Cell \u001b[0;32mIn[30], line 2\u001b[0m\n\u001b[1;32m      1\u001b[0m \u001b[38;5;66;03m# remember that indexes have to be within the bounds of the string\u001b[39;00m\n\u001b[0;32m----> 2\u001b[0m \u001b[43ms\u001b[49m\u001b[43m[\u001b[49m\u001b[38;5;241;43m1000\u001b[39;49m\u001b[43m]\u001b[49m\n",
      "\u001b[0;31mIndexError\u001b[0m: string index out of range"
     ]
    }
   ],
   "source": [
    "# remember that indexes have to be within the bounds of the string\n",
    "s[1000]"
   ]
  },
  {
   "cell_type": "code",
   "execution_count": 31,
   "id": "97434cf0",
   "metadata": {},
   "outputs": [
    {
     "data": {
      "text/plain": [
       "'abcdefghijklmnopqrstuvwxyz'"
      ]
     },
     "execution_count": 31,
     "metadata": {},
     "output_type": "execute_result"
    }
   ],
   "source": [
    "# but... slices are much more forgiving!\n",
    "\n",
    "s[:1000]"
   ]
  },
  {
   "cell_type": "code",
   "execution_count": 32,
   "id": "84fe16e7",
   "metadata": {},
   "outputs": [
    {
     "data": {
      "text/plain": [
       "True"
      ]
     },
     "execution_count": 32,
     "metadata": {},
     "output_type": "execute_result"
    }
   ],
   "source": [
    "# what if I want to search in a string?\n",
    "# I can use the \"in\" operator\n",
    "# It always looks like:   LITTLE in BIG\n",
    "\n",
    "'j' in s  "
   ]
  },
  {
   "cell_type": "code",
   "execution_count": 33,
   "id": "acc0832e",
   "metadata": {},
   "outputs": [
    {
     "data": {
      "text/plain": [
       "True"
      ]
     },
     "execution_count": 33,
     "metadata": {},
     "output_type": "execute_result"
    }
   ],
   "source": [
    "'b' in s"
   ]
  },
  {
   "cell_type": "code",
   "execution_count": 34,
   "id": "9e1c7abd",
   "metadata": {},
   "outputs": [
    {
     "data": {
      "text/plain": [
       "False"
      ]
     },
     "execution_count": 34,
     "metadata": {},
     "output_type": "execute_result"
    }
   ],
   "source": [
    "'!' in s"
   ]
  },
  {
   "cell_type": "code",
   "execution_count": 36,
   "id": "32070dee",
   "metadata": {},
   "outputs": [
    {
     "data": {
      "text/plain": [
       "True"
      ]
     },
     "execution_count": 36,
     "metadata": {},
     "output_type": "execute_result"
    }
   ],
   "source": [
    "# can I look for more than one thing? Yes!\n",
    "\n",
    "'bcd' in s   # this says: can I find 'bcd' inside of s? It doesn't mean: can I find, b, c, and d separately?"
   ]
  },
  {
   "cell_type": "code",
   "execution_count": 37,
   "id": "ddcbf01b",
   "metadata": {},
   "outputs": [
    {
     "data": {
      "text/plain": [
       "False"
      ]
     },
     "execution_count": 37,
     "metadata": {},
     "output_type": "execute_result"
    }
   ],
   "source": [
    "'fgij' in s"
   ]
  },
  {
   "cell_type": "markdown",
   "id": "f8f23c2f",
   "metadata": {},
   "source": [
    "# Strings are immutable\n",
    "\n",
    "Once you create a string, it can never, ever be changed in Python. For the rest of the string's life, it will contain precisely the same characters as when it was created. \n",
    "\n",
    "This seems weird, and it doesn't even seem true. Let's check."
   ]
  },
  {
   "cell_type": "code",
   "execution_count": 38,
   "id": "e8f82f28",
   "metadata": {},
   "outputs": [
    {
     "data": {
      "text/plain": [
       "'abcdefghijklmnopqrstuvwxyz'"
      ]
     },
     "execution_count": 38,
     "metadata": {},
     "output_type": "execute_result"
    }
   ],
   "source": [
    "s"
   ]
  },
  {
   "cell_type": "code",
   "execution_count": 39,
   "id": "8b100516",
   "metadata": {},
   "outputs": [
    {
     "ename": "TypeError",
     "evalue": "'str' object does not support item assignment",
     "output_type": "error",
     "traceback": [
      "\u001b[0;31m---------------------------------------------------------------------------\u001b[0m",
      "\u001b[0;31mTypeError\u001b[0m                                 Traceback (most recent call last)",
      "Cell \u001b[0;32mIn[39], line 1\u001b[0m\n\u001b[0;32m----> 1\u001b[0m \u001b[43ms\u001b[49m\u001b[43m[\u001b[49m\u001b[38;5;241;43m0\u001b[39;49m\u001b[43m]\u001b[49m \u001b[38;5;241m=\u001b[39m \u001b[38;5;124m'\u001b[39m\u001b[38;5;124m!\u001b[39m\u001b[38;5;124m'\u001b[39m   \u001b[38;5;66;03m# let's change the first character of the alphabet to be a bit more exciting\u001b[39;00m\n",
      "\u001b[0;31mTypeError\u001b[0m: 'str' object does not support item assignment"
     ]
    }
   ],
   "source": [
    "s[0] = '!'   # let's change the first character of the alphabet to be a bit more exciting"
   ]
  },
  {
   "cell_type": "code",
   "execution_count": 40,
   "id": "130af4f1",
   "metadata": {},
   "outputs": [
    {
     "data": {
      "text/plain": [
       "'abcdefgh'"
      ]
     },
     "execution_count": 40,
     "metadata": {},
     "output_type": "execute_result"
    }
   ],
   "source": [
    "# is that really true? What about +=?\n",
    "\n",
    "s = 'abcd'\n",
    "s += 'efgh'\n",
    "\n",
    "s"
   ]
  },
  {
   "cell_type": "code",
   "execution_count": 41,
   "id": "e47a4729",
   "metadata": {},
   "outputs": [],
   "source": [
    "# let's replay this...\n",
    "\n",
    "s = 'abcd'   # here, I create a new string 'abcd' and assign it to s\n",
    "s += 'efgh'  # this is really s = s + 'efgh'. It creates a new string, 'abcdefgh', then assigns that back to s"
   ]
  },
  {
   "cell_type": "code",
   "execution_count": 42,
   "id": "5871db11",
   "metadata": {},
   "outputs": [
    {
     "data": {
      "text/plain": [
       "'abcdefgh'"
      ]
     },
     "execution_count": 42,
     "metadata": {},
     "output_type": "execute_result"
    }
   ],
   "source": [
    "s"
   ]
  },
  {
   "cell_type": "code",
   "execution_count": 43,
   "id": "30f8a786",
   "metadata": {},
   "outputs": [
    {
     "name": "stdout",
     "output_type": "stream",
     "text": [
      "140133870360496\n",
      "140133870524208\n"
     ]
    }
   ],
   "source": [
    "s = 'abcd'   # here, I create a new string 'abcd' and assign it to s\n",
    "print(id(s)) # what is the unique ID number of the string s is referring to?\n",
    "\n",
    "s += 'efgh'  # this is really s = s + 'efgh'. It creates a new string, 'abcdefgh', then assigns that back to s\n",
    "print(id(s))"
   ]
  },
  {
   "cell_type": "markdown",
   "id": "6c5fb3f5",
   "metadata": {},
   "source": [
    "# Exercise: Pig Latin\n",
    "\n",
    "Pig Latin is a children's \"secret\" language. The idea is that you take a word, and to translate it from English into Pig Latin, you check the first letter:\n",
    "\n",
    "- If the first letter is a vowel (a, e, i, o, u) then you just add `way` to the word.\n",
    "- If the first letter is *not* a vowel, then you move the first letter to the end of the word, and add `ay`\n",
    "\n",
    "Some examples:\n",
    "- `computer` -> `omputercay`\n",
    "- `telephone` -> `elephonetay`\n",
    "- `apple` -> `appleway`\n",
    "- `elephant` -> `elephantway`\n",
    "- `papaya` -> `apayapay`\n",
    "\n",
    "Your task:\n",
    "\n",
    "1. Ask the user to enter an English word -- all lowercase, no punctuation, no spaces\n",
    "2. Print the translation of the word into Pig Latin\n"
   ]
  },
  {
   "cell_type": "code",
   "execution_count": 46,
   "id": "bd8341a6",
   "metadata": {},
   "outputs": [
    {
     "name": "stdout",
     "output_type": "stream",
     "text": [
      "Enter a word: table\n"
     ]
    }
   ],
   "source": [
    "word = input('Enter a word: ')\n",
    "\n",
    "if word[0] == 'a' or word[0] == 'e' or word[0] == 'i' or word[0] == 'o' or word[0] == 'u':\n",
    "    print(word + 'way')"
   ]
  },
  {
   "cell_type": "code",
   "execution_count": 49,
   "id": "8a2f2f1d",
   "metadata": {},
   "outputs": [
    {
     "name": "stdout",
     "output_type": "stream",
     "text": [
      "Enter a word: table\n",
      "tableway\n"
     ]
    }
   ],
   "source": [
    "# what if we try this, instead:\n",
    "\n",
    "word = input('Enter a word: ')\n",
    "\n",
    "if word[0] == 'a' or 'e' or 'i' or 'o' or 'u':\n",
    "    print(word + 'way')\n",
    "    \n",
    "    \n",
    "# it's very common to think that the \"or\" is giving the == a bunch of different options\n",
    "# but actually, \"or\" separates expressions/ conditions. \n"
   ]
  },
  {
   "cell_type": "code",
   "execution_count": null,
   "id": "c0617d9a",
   "metadata": {},
   "outputs": [],
   "source": []
  }
 ],
 "metadata": {
  "kernelspec": {
   "display_name": "Python 3 (ipykernel)",
   "language": "python",
   "name": "python3"
  },
  "language_info": {
   "codemirror_mode": {
    "name": "ipython",
    "version": 3
   },
   "file_extension": ".py",
   "mimetype": "text/x-python",
   "name": "python",
   "nbconvert_exporter": "python",
   "pygments_lexer": "ipython3",
   "version": "3.11.6"
  }
 },
 "nbformat": 4,
 "nbformat_minor": 5
}
