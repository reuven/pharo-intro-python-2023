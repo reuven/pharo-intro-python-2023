{
 "cells": [
  {
   "cell_type": "markdown",
   "id": "0bfcbd03ad054aaabe4a5e0a1b24a231",
   "metadata": {},
   "source": [
    "# Agenda\n",
    "\n",
    "1. Q&A\n",
    "2. Quick review of last time \n",
    "3. Conditionals\n",
    "4. `elif`\n",
    "5. `and` and `or`\n",
    "6. A bit about numbers (integers and floats)"
   ]
  },
  {
   "cell_type": "code",
   "execution_count": null,
   "id": "ffcbd24e",
   "metadata": {},
   "outputs": [],
   "source": []
  }
 ],
 "metadata": {
  "kernelspec": {
   "display_name": "Python 3 (ipykernel)",
   "language": "python",
   "name": "python3"
  },
  "language_info": {
   "codemirror_mode": {
    "name": "ipython",
    "version": 3
   },
   "file_extension": ".py",
   "mimetype": "text/x-python",
   "name": "python",
   "nbconvert_exporter": "python",
   "pygments_lexer": "ipython3",
   "version": "3.11.6"
  }
 },
 "nbformat": 4,
 "nbformat_minor": 5
}
