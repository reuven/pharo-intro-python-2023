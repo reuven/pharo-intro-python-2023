{
 "cells": [
  {
   "cell_type": "code",
   "execution_count": 3,
   "id": "e19990de",
   "metadata": {},
   "outputs": [
    {
     "name": "stdout",
     "output_type": "stream",
     "text": [
      "a\n",
      "b\n"
     ]
    }
   ],
   "source": [
    "\n",
    " \n",
    "s = 'abcde'\n",
    "\n",
    "for one_character in s:\n",
    "    if one_character == \"c\":\n",
    "        break\n",
    "    print(one_character)"
   ]
  },
  {
   "cell_type": "code",
   "execution_count": 7,
   "id": "8610d8cc",
   "metadata": {},
   "outputs": [
    {
     "ename": "SyntaxError",
     "evalue": "unterminated string literal (detected at line 12) (1458630797.py, line 12)",
     "output_type": "error",
     "traceback": [
      "\u001b[0;36m  Cell \u001b[0;32mIn[7], line 12\u001b[0;36m\u001b[0m\n\u001b[0;31m    print(f'{total})\u001b[0m\n\u001b[0m          ^\u001b[0m\n\u001b[0;31mSyntaxError\u001b[0m\u001b[0;31m:\u001b[0m unterminated string literal (detected at line 12)\n"
     ]
    }
   ],
   "source": [
    "total = 0\n",
    "\n",
    "while True:\n",
    "    inputedstring = input(\"Enter a string:\").strip()\n",
    "    if inputedstring == '':\n",
    "        print(f'{inputed string} is empty.')\n",
    "        continue\n",
    "    inputedstringint = inputedstring.int()\n",
    "    for character in inputedstringint:\n",
    "        total += character\n",
    "    \n",
    "print(f'{total})"
   ]
  },
  {
   "cell_type": "code",
   "execution_count": null,
   "id": "4755a4cb",
   "metadata": {},
   "outputs": [],
   "source": [
    "total = 0\n",
    "\n",
    "inputedstring = input(\"Enter a string:\").strip()\n",
    "\n",
    "for character in inputedstring:\n",
    "    if not character.isdigit():\n",
    "        continue\n",
    "        \n",
    "    else:\n",
    "        inputedstringint = int(inputedstring)\n",
    "        for one_character in inputedstringint:\n",
    "            total += character\n",
    "            "
   ]
  },
  {
   "cell_type": "code",
   "execution_count": 12,
   "id": "f9a1d467",
   "metadata": {
    "scrolled": true
   },
   "outputs": [
    {
     "ename": "SyntaxError",
     "evalue": "unterminated string literal (detected at line 4) (3614091497.py, line 4)",
     "output_type": "error",
     "traceback": [
      "\u001b[0;36m  Cell \u001b[0;32mIn[12], line 4\u001b[0;36m\u001b[0m\n\u001b[0;31m    print(f'{total})\u001b[0m\n\u001b[0m          ^\u001b[0m\n\u001b[0;31mSyntaxError\u001b[0m\u001b[0;31m:\u001b[0m unterminated string literal (detected at line 4)\n"
     ]
    }
   ],
   "source": [
    "\n"
   ]
  },
  {
   "cell_type": "code",
   "execution_count": null,
   "id": "33b5a54d",
   "metadata": {},
   "outputs": [],
   "source": [
    "\n",
    "\n",
    "    "
   ]
  }
 ],
 "metadata": {
  "kernelspec": {
   "display_name": "Python 3 (ipykernel)",
   "language": "python",
   "name": "python3"
  },
  "language_info": {
   "codemirror_mode": {
    "name": "ipython",
    "version": 3
   },
   "file_extension": ".py",
   "mimetype": "text/x-python",
   "name": "python",
   "nbconvert_exporter": "python",
   "pygments_lexer": "ipython3",
   "version": "3.11.6"
  }
 },
 "nbformat": 4,
 "nbformat_minor": 5
}
