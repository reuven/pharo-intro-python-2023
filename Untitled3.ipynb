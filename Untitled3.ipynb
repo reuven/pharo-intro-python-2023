{
 "cells": [
  {
   "cell_type": "code",
   "execution_count": 3,
   "id": "ba7dd12f",
   "metadata": {},
   "outputs": [
    {
     "name": "stdout",
     "output_type": "stream",
     "text": [
      "a\n",
      "b\n"
     ]
    }
   ],
   "source": [
    "\n",
    " \n",
    "s = 'abcde'\n",
    "\n",
    "for one_character in s:\n",
    "    if one_character == \"c\":\n",
    "        break\n",
    "    print(one_character)"
   ]
  },
  {
   "cell_type": "code",
   "execution_count": null,
   "id": "797012b4",
   "metadata": {},
   "outputs": [],
   "source": [
    "total = 0\n",
    "\n",
    "while True:\n",
    "    inputedstring = input(\"Enter a string:\").strip()\n",
    "if inputedstring == '':\n",
    "    break\n",
    "    print total\n",
    "    "
   ]
  }
 ],
 "metadata": {
  "kernelspec": {
   "display_name": "Python 3 (ipykernel)",
   "language": "python",
   "name": "python3"
  },
  "language_info": {
   "codemirror_mode": {
    "name": "ipython",
    "version": 3
   },
   "file_extension": ".py",
   "mimetype": "text/x-python",
   "name": "python",
   "nbconvert_exporter": "python",
   "pygments_lexer": "ipython3",
   "version": "3.11.6"
  }
 },
 "nbformat": 4,
 "nbformat_minor": 5
}
