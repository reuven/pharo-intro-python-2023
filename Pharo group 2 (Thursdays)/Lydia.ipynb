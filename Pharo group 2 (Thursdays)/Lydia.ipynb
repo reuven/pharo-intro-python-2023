{
  "nbformat": 4,
  "nbformat_minor": 5,
  "metadata": {
    "kernel_info": {
      "name": "python3.9-noteable"
    },
    "kernelspec": {
      "display_name": "Python 3.9 (Noteable)",
      "identifier": "noteable",
      "language": "python",
      "language_version": "3.9",
      "name": "python3.9-noteable"
    },
    "selected_hardware_size": "small"
  },
  "cells": [
    {
      "id": "3865067a",
      "cell_type": "code",
      "metadata": {
        "noteable": {
          "output_collection_id": "dcf2724d-e4f2-4d22-a9c8-95932ad4a41d"
        },
        "ExecuteTime": {
          "end_time": "2023-12-08T12:51:53.392417+00:00",
          "start_time": "2023-12-08T12:51:53.236795+00:00"
        }
      },
      "execution_count": null,
      "source": "name = 'Lydia'\nprint(\"hello, \" + name + \"! How are you?\" )\n\n",
      "outputs": []
    },
    {
      "id": "bb8e11ac-04e7-49ff-8eb4-871ac65d9cf9",
      "cell_type": "code",
      "metadata": {
        "jupyter": {
          "outputs_hidden": false,
          "source_hidden": false
        },
        "noteable": {
          "cell_type": "code",
          "output_collection_id": "2df028f3-c227-466e-bb92-df2e86bef5bf"
        },
        "ExecuteTime": {
          "end_time": "2023-12-08T13:05:34.782647+00:00",
          "start_time": "2023-12-08T13:05:07.168655+00:00"
        }
      },
      "execution_count": null,
      "source": "name = input(\"enter your name: \")\n\n\n",
      "outputs": []
    },
    {
      "id": "165810b4-3ab6-4e49-981e-06ed05431f31",
      "cell_type": "code",
      "metadata": {
        "jupyter": {
          "outputs_hidden": false,
          "source_hidden": false
        },
        "noteable": {
          "cell_type": "code",
          "output_collection_id": "49fece19-af99-467f-8a52-f286cb1da75e"
        },
        "ExecuteTime": {
          "end_time": "2023-12-08T13:05:48.887347+00:00",
          "start_time": "2023-12-08T13:05:36.926942+00:00"
        }
      },
      "execution_count": null,
      "source": "city = input(\"enter your city: \")",
      "outputs": []
    },
    {
      "id": "01f6115e-fc4e-435b-8e66-e796a6582265",
      "cell_type": "code",
      "metadata": {
        "jupyter": {
          "outputs_hidden": false,
          "source_hidden": false
        },
        "noteable": {
          "cell_type": "code",
          "output_collection_id": "c72cc2e3-3f77-47da-821e-e09aa50fc24b"
        },
        "ExecuteTime": {
          "end_time": "2023-12-08T13:06:12.291310+00:00",
          "start_time": "2023-12-08T13:06:12.134796+00:00"
        }
      },
      "execution_count": null,
      "source": "s=f\"Hello {name}, are you from {city}?\"\nprint(s)\n",
      "outputs": []
    },
    {
      "id": "6cbb5a66-fdb9-4580-956b-8f942e531d38",
      "cell_type": "code",
      "metadata": {
        "jupyter": {
          "outputs_hidden": false,
          "source_hidden": false
        },
        "noteable": {
          "cell_type": "code",
          "output_collection_id": "8acb6ce0-8385-48a1-96b1-8ceb25d2b1c4"
        },
        "ExecuteTime": {
          "end_time": "2023-12-08T13:26:49.592599+00:00",
          "start_time": "2023-12-08T13:26:26.384735+00:00"
        }
      },
      "execution_count": null,
      "source": "first = input(\"enter a word: \")\n",
      "outputs": []
    },
    {
      "id": "695130f6-abf7-4db0-a662-99f8e0db134c",
      "cell_type": "code",
      "metadata": {
        "jupyter": {
          "outputs_hidden": false,
          "source_hidden": false
        },
        "noteable": {
          "cell_type": "code",
          "output_collection_id": "5f3ede54-ec34-4b7c-a62b-9a90320d57a6"
        },
        "ExecuteTime": {
          "end_time": "2023-12-08T13:27:21.587392+00:00",
          "start_time": "2023-12-08T13:27:19.534892+00:00"
        }
      },
      "execution_count": null,
      "source": "second = input(\"enter another word: \")",
      "outputs": []
    },
    {
      "id": "096e0c78-ee39-450c-ba7c-8161bba9770b",
      "cell_type": "code",
      "metadata": {
        "jupyter": {
          "outputs_hidden": false,
          "source_hidden": false
        },
        "noteable": {
          "cell_type": "code",
          "output_collection_id": "b141e40b-c115-4b6e-a6fe-c94ffc1bb3dd"
        },
        "ExecuteTime": {
          "end_time": "2023-12-08T13:27:25.788088+00:00",
          "start_time": "2023-12-08T13:27:25.632656+00:00"
        }
      },
      "execution_count": null,
      "source": "if first < second:\n   print(\"correct\")\nelse:\n    print(\"incorrect\")",
      "outputs": []
    },
    {
      "id": "2a169dcf-cf60-4d4a-918f-525db341ebdc",
      "cell_type": "code",
      "metadata": {
        "jupyter": {
          "outputs_hidden": false,
          "source_hidden": false
        },
        "noteable": {
          "cell_type": "code",
          "output_collection_id": "34f32e42-3412-41ba-9135-c6675adf5a13"
        },
        "ExecuteTime": {
          "end_time": "2023-12-08T13:27:27.932200+00:00",
          "start_time": "2023-12-08T13:27:27.777269+00:00"
        }
      },
      "execution_count": null,
      "source": "if first > second:\n   print(\"correct\")\nelse:\n    print(\"incorrect\")",
      "outputs": []
    },
    {
      "id": "eb871c51-6b0a-41f5-b22f-cdc0ad598842",
      "cell_type": "code",
      "metadata": {
        "jupyter": {
          "outputs_hidden": false,
          "source_hidden": false
        },
        "noteable": {
          "cell_type": "code",
          "output_collection_id": "a27b07d8-6e16-4f8d-afe5-b413576a3a90"
        },
        "ExecuteTime": {
          "end_time": "2023-12-08T13:27:30.168914+00:00",
          "start_time": "2023-12-08T13:27:30.013548+00:00"
        }
      },
      "execution_count": null,
      "source": "if first < second:\n   print(f'{first} comes before {second}')\nelse:\n    print(f'{second} comes before {first}')",
      "outputs": []
    }
  ]
}