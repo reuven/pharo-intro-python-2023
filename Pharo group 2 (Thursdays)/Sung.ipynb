{
  "nbformat": 4,
  "nbformat_minor": 5,
  "metadata": {
    "kernel_info": {
      "name": "python3"
    },
    "kernelspec": {
      "display_name": "Python 3.9",
      "identifier": "legacy",
      "language": "python",
      "language_version": "3.9",
      "name": "python3"
    },
    "selected_hardware_size": "small"
  },
  "cells": [
    {
      "id": "1dec1fad",
      "cell_type": "code",
      "metadata": {
        "noteable": {
          "output_collection_id": "123f1195-7463-4dc0-93d8-7a8abc5c03c2"
        }
      },
      "execution_count": null,
      "source": "name = 'Sung'\nprint('Hello,' +name+'!')",
      "outputs": []
    },
    {
      "id": "b520c45f-5329-454f-b8a0-b20a5e64b675",
      "cell_type": "code",
      "metadata": {
        "jupyter": {
          "outputs_hidden": false,
          "source_hidden": false
        },
        "noteable": {
          "cell_type": "code",
          "output_collection_id": "0e51295a-d210-43d1-b87c-729e95eb7892"
        },
        "ExecuteTime": null
      },
      "execution_count": null,
      "source": "s = input('Enter a word: ')",
      "outputs": []
    },
    {
      "id": "2467660d-11de-4a07-bf8f-cd86194f5a6a",
      "cell_type": "code",
      "metadata": {
        "jupyter": {
          "outputs_hidden": false,
          "source_hidden": false
        },
        "noteable": {
          "cell_type": "code"
        }
      },
      "execution_count": null,
      "source": "print(s+s)",
      "outputs": []
    },
    {
      "id": "83821ba0-6fa3-453b-85fc-0db1baacb76a",
      "cell_type": "code",
      "metadata": {
        "jupyter": {
          "outputs_hidden": false,
          "source_hidden": false
        },
        "noteable": {
          "cell_type": "code",
          "output_collection_id": "40c6cabb-4499-4d35-bc4f-50f4e84301ac"
        },
        "ExecuteTime": {
          "end_time": "2023-12-08T13:06:16.564916+00:00",
          "start_time": "2023-12-08T13:05:16.072309+00:00"
        }
      },
      "execution_count": null,
      "source": "year = 2023\n\n# here, input is getting a string, even if has digits\nbirthyear = input('Enter your birthyear: ')\nbirthyear = int(birthyear)   # get an integer back from the string\n\nage_this_year = year - birthyear\n\nprint(f'This year, you are turning {age_this_year}')",
      "outputs": []
    },
    {
      "id": "9b19cbed-d667-4e64-a329-518815edcf99",
      "cell_type": "code",
      "metadata": {
        "jupyter": {
          "outputs_hidden": false,
          "source_hidden": false
        },
        "noteable": {
          "cell_type": "code"
        }
      },
      "execution_count": null,
      "source": "",
      "outputs": []
    }
  ]
}