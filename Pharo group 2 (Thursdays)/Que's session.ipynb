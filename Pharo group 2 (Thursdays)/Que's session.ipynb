{
  "nbformat": 4,
  "nbformat_minor": 5,
  "metadata": {
    "kernel_info": {
      "name": "python3"
    },
    "kernelspec": {
      "display_name": "Python 3.9",
      "identifier": "legacy",
      "language": "python",
      "language_version": "3.9",
      "name": "python3"
    },
    "selected_hardware_size": "small"
  },
  "cells": [
    {
      "id": "5b6640ad",
      "cell_type": "code",
      "metadata": {
        "noteable": {
          "output_collection_id": "539116f8-61b0-4a64-99bf-b6e21fcc9fd6"
        },
        "ExecuteTime": {
          "end_time": "2023-12-08T13:08:17.133189+00:00",
          "start_time": "2023-12-08T13:08:16.978634+00:00"
        }
      },
      "execution_count": null,
      "source": "print ('hi!')",
      "outputs": []
    },
    {
      "id": "976f7317-c8e6-4425-a07a-68d3d3caa6a3",
      "cell_type": "code",
      "metadata": {
        "jupyter": {
          "outputs_hidden": false,
          "source_hidden": false
        },
        "noteable": {
          "cell_type": "code",
          "output_collection_id": "4d195ebc-a696-4770-9b8e-8cd90deb3423"
        },
        "ExecuteTime": {
          "end_time": "2023-12-11T17:20:43.430110+00:00",
          "start_time": "2023-12-11T17:20:32.597067+00:00"
        }
      },
      "execution_count": null,
      "source": "first = input('enter first word')\nsecond= input('enter second word')\nif first < second:\n print (f'{first} comes first')\nelse:\n    print (f'{second} comes first')",
      "outputs": []
    },
    {
      "id": "6b4c06b0-42c2-4608-9823-ee656b1e6189",
      "cell_type": "code",
      "metadata": {
        "jupyter": {
          "outputs_hidden": false,
          "source_hidden": false
        },
        "noteable": {
          "cell_type": "code",
          "output_collection_id": "5a061b4b-1703-452a-892e-920ca8606bb0"
        },
        "ExecuteTime": {
          "end_time": "2023-12-08T13:53:27.075401+00:00",
          "start_time": "2023-12-08T13:53:26.919733+00:00"
        }
      },
      "execution_count": null,
      "source": "a=5\nb=20*a\ntax = 2*b\nprint (tax)\n",
      "outputs": []
    },
    {
      "id": "9f81847e-0fc3-4fd0-9679-6db5e4d1b23a",
      "cell_type": "code",
      "metadata": {
        "jupyter": {
          "outputs_hidden": false,
          "source_hidden": false
        },
        "noteable": {
          "cell_type": "code",
          "output_collection_id": "74e46aaa-15fb-4038-aac8-4b32b32dc104"
        },
        "ExecuteTime": {
          "end_time": "2023-12-11T13:13:19.427218+00:00",
          "start_time": "2023-12-11T13:13:04.001928+00:00"
        }
      },
      "execution_count": null,
      "source": "price = input ('enter price of your meal')\nprice = float(price)\ntax = price*0.20\ntotal_price = price + tax\nnumber_of_people = input ('enter number of people')\nnumber_of_people = float(number_of_people)\nprice_each_person = total_price/number_of_people\nprint(price_each_person)",
      "outputs": []
    },
    {
      "id": "134f8f12-9b46-4128-874b-28d758a67cee",
      "cell_type": "code",
      "metadata": {
        "jupyter": {
          "outputs_hidden": false,
          "source_hidden": false
        },
        "noteable": {
          "cell_type": "code",
          "output_collection_id": "d72bb518-2f86-4c7e-89b9-04a3c8e48d09"
        },
        "ExecuteTime": {
          "end_time": "2023-12-11T13:22:17.496931+00:00",
          "start_time": "2023-12-11T13:22:02.327700+00:00"
        }
      },
      "execution_count": null,
      "source": "name = input ('enter your name')\nif name =='Que':\n print('hello SillyBilly')\nelse:\n print(f'Hello {name}, how are you?')",
      "outputs": []
    },
    {
      "id": "d2f7d645-3d7f-45c9-8c03-84ca02dfe649",
      "cell_type": "code",
      "metadata": {
        "jupyter": {
          "outputs_hidden": false,
          "source_hidden": false
        },
        "noteable": {
          "cell_type": "code",
          "output_collection_id": "c4d35bcb-003d-454a-99db-912dd174bb11"
        },
        "ExecuteTime": {
          "end_time": "2023-12-11T13:28:12.446929+00:00",
          "start_time": "2023-12-11T13:27:56.401051+00:00"
        }
      },
      "execution_count": null,
      "source": "age = input('enter your age')\nage = float(age)\nif age >60:\n print ('Jeez, you are ancient!')\nif age<40: \n print ('You are a spring chicken')\nelse:\n print ('You are definitely middle age!')",
      "outputs": []
    },
    {
      "id": "3e98db27-e6d7-4c52-9312-4e7dbe98dc37",
      "cell_type": "code",
      "metadata": {
        "jupyter": {
          "outputs_hidden": false,
          "source_hidden": false
        },
        "noteable": {
          "cell_type": "code",
          "output_collection_id": "7f891ea0-4e08-45b2-937e-48ed018d5b70"
        },
        "ExecuteTime": {
          "end_time": "2023-12-11T13:52:12.885647+00:00",
          "start_time": "2023-12-11T13:52:12.730997+00:00"
        }
      },
      "execution_count": null,
      "source": "x='hello Que'\ns=x[0:7]\nprint(s)",
      "outputs": []
    },
    {
      "id": "9d8f57d7-5898-4ef1-bf12-e93e3f76d0f4",
      "cell_type": "code",
      "metadata": {
        "jupyter": {
          "outputs_hidden": false,
          "source_hidden": false
        },
        "noteable": {
          "cell_type": "code",
          "output_collection_id": "c2769c97-cf86-42da-961a-53b31e846951"
        },
        "ExecuteTime": {
          "end_time": "2023-12-11T13:59:09.170685+00:00",
          "start_time": "2023-12-11T13:58:49.115306+00:00"
        }
      },
      "execution_count": null,
      "source": "today = input('enter day of the week as of today')\nday = input('enter day')\nmonth =input('enter month')\nyear = input('enter year')\nprint (f'today is {today} {day}/{month}/{year}') #to make sure the variables {today} {day} etc appears exactly as you inputted, you need to use f string at the beginning, otherwise it doesn't work\n",
      "outputs": []
    },
    {
      "id": "48c73a3f-7f7a-4791-8030-d8aea033f702",
      "cell_type": "code",
      "metadata": {
        "jupyter": {
          "outputs_hidden": false,
          "source_hidden": false
        },
        "noteable": {
          "cell_type": "code",
          "output_collection_id": "a769547b-9ca2-4491-8016-69701ca3b65b"
        },
        "ExecuteTime": {
          "end_time": "2023-12-11T14:01:54.679853+00:00",
          "start_time": "2023-12-11T14:01:54.524167+00:00"
        }
      },
      "execution_count": null,
      "source": "s = 'Hello Que'\ns = s.replace('Que', 'Fat Face')\nprint(s)",
      "outputs": []
    },
    {
      "id": "e2259cd5-531d-48db-a8fa-41dd56373852",
      "cell_type": "code",
      "metadata": {
        "jupyter": {
          "outputs_hidden": false,
          "source_hidden": false
        },
        "noteable": {
          "cell_type": "code",
          "output_collection_id": "200e947a-ba73-4c64-a1f2-a794b8463e56"
        },
        "ExecuteTime": {
          "end_time": "2023-12-11T14:03:17.299346+00:00",
          "start_time": "2023-12-11T14:03:17.144707+00:00"
        }
      },
      "execution_count": null,
      "source": "s = 'A bird in hand is worth two in the bush'\nindex=s.find('worth')\nprint(index)",
      "outputs": []
    },
    {
      "id": "c1598bab-c3ed-4256-ae23-9179db1d0c87",
      "cell_type": "code",
      "metadata": {
        "jupyter": {
          "outputs_hidden": false,
          "source_hidden": false
        },
        "noteable": {
          "cell_type": "code",
          "output_collection_id": "80e42b47-e85f-4d2f-97af-0f9929daf714"
        },
        "ExecuteTime": {
          "end_time": "2023-12-11T14:05:12.995020+00:00",
          "start_time": "2023-12-11T14:05:12.840412+00:00"
        }
      },
      "execution_count": null,
      "source": "s = 'A bird in hand is worth two in the bush'\nif 'bushes' in s:\n print('query found')\nelse:\n print('query not found')",
      "outputs": []
    },
    {
      "id": "431e53c4-b802-4e40-884f-d82fc79201f6",
      "cell_type": "code",
      "metadata": {
        "jupyter": {
          "outputs_hidden": false,
          "source_hidden": false
        },
        "noteable": {
          "cell_type": "code",
          "output_collection_id": "5f59af1d-7baf-4f39-b2c4-bd18fafce996"
        },
        "ExecuteTime": {
          "end_time": "2023-12-11T14:08:47.027970+00:00",
          "start_time": "2023-12-11T14:08:46.873133+00:00"
        }
      },
      "execution_count": null,
      "source": "firstname = 'Que'\nlastname = 'Vuong'\ndoublebarrelled='Crouzier'\nsequence = (firstname, lastname,doublebarrelled)\nname = '_'.join(sequence)\nprint(name)",
      "outputs": []
    },
    {
      "id": "3460e027-6a69-438f-be85-52fa50d9db03",
      "cell_type": "code",
      "metadata": {
        "jupyter": {
          "outputs_hidden": false,
          "source_hidden": false
        },
        "noteable": {
          "cell_type": "code",
          "output_collection_id": "902c474f-a345-49ef-811e-f89b3b7795d0"
        },
        "ExecuteTime": {
          "end_time": "2023-12-11T14:09:55.657710+00:00",
          "start_time": "2023-12-11T14:09:55.502822+00:00"
        }
      },
      "execution_count": null,
      "source": "s= 'this is crappily slow!'\nwords = s.split()\nprint(words)",
      "outputs": []
    },
    {
      "id": "f3313f0b-1f5b-4914-a166-582fa53babe9",
      "cell_type": "code",
      "metadata": {
        "jupyter": {
          "outputs_hidden": false,
          "source_hidden": false
        },
        "noteable": {
          "cell_type": "code",
          "output_collection_id": "ed1ff51c-9ce6-46e7-94c7-e18b9bd47c3a"
        },
        "ExecuteTime": {
          "end_time": "2023-12-12T12:13:42.136026+00:00",
          "start_time": "2023-12-12T12:13:37.399243+00:00"
        }
      },
      "execution_count": null,
      "source": "s= 'this is crappily slow!'\ni = input('enter an index')\ni=int(i)\nwords = s.split()\nprint(len(words))\nprint(len(s))\nif i>22 or i<0:\n    print('error')\nelse:\n    print(f'index {i} in \"{s}\" is {s[i]}') #the {} is to keep the value of string intact when print out",
      "outputs": []
    },
    {
      "id": "90b4f741-c055-486c-a5f8-371dd615594f",
      "cell_type": "code",
      "metadata": {
        "jupyter": {
          "outputs_hidden": false,
          "source_hidden": false
        },
        "noteable": {
          "cell_type": "code",
          "output_collection_id": "1514a01e-4b12-4d40-a3a6-06b3123ac1b7"
        },
        "ExecuteTime": {
          "end_time": "2023-12-11T14:13:35.934985+00:00",
          "start_time": "2023-12-11T14:13:35.780240+00:00"
        }
      },
      "execution_count": null,
      "source": "word= 'Christmas'\nx = list(word)\nprint(x)",
      "outputs": []
    },
    {
      "id": "78f15fda-f46b-4dc7-955e-eaa930ca4b0e",
      "cell_type": "code",
      "metadata": {
        "jupyter": {
          "outputs_hidden": false,
          "source_hidden": false
        },
        "noteable": {
          "cell_type": "code",
          "output_collection_id": "e0790037-4c59-4a38-a791-e968e21db032"
        },
        "ExecuteTime": {
          "end_time": "2023-12-11T14:17:47.075988+00:00",
          "start_time": "2023-12-11T14:17:46.920246+00:00"
        }
      },
      "execution_count": null,
      "source": "a='Happy'\nb='Christmas'\nx = a+' '+b  #here code doesn't work because there is no space between + and'' nor space '' and +b\n#The join method in Python is used for joining elements of an iterable (like a list) into a string, but it's not used for directly joining two strings together.\n\nIf you just want to concatenate a and b and then print them, you can simply use the + operator. Also, if you want a space between 'Happy' and 'Christmas', you need to include that explicitly. \nprint(x)",
      "outputs": []
    },
    {
      "id": "224c3649-c9cc-41df-b0d9-136752f3097f",
      "cell_type": "code",
      "metadata": {
        "jupyter": {
          "outputs_hidden": false,
          "source_hidden": false
        },
        "noteable": {
          "cell_type": "code",
          "output_collection_id": "9ac1f7d1-fa7c-495c-8562-2189ed721803"
        },
        "ExecuteTime": {
          "end_time": "2023-12-11T14:18:03.851242+00:00",
          "start_time": "2023-12-11T14:18:03.696076+00:00"
        }
      },
      "execution_count": null,
      "source": "a = 'Happy'\nb = 'Christmas'\nx = a + ' ' + b  # Concatenating the strings with a space in between\nprint(x)\n",
      "outputs": []
    },
    {
      "id": "74da2fdb-369a-4656-90e3-7f630cfabae5",
      "cell_type": "code",
      "metadata": {
        "jupyter": {
          "outputs_hidden": false,
          "source_hidden": false
        },
        "noteable": {
          "cell_type": "code",
          "output_collection_id": "c08a60a3-f07f-4af8-adb8-ac94d2ba65df"
        },
        "ExecuteTime": {
          "end_time": "2023-12-11T14:20:55.269154+00:00",
          "start_time": "2023-12-11T14:20:55.114291+00:00"
        }
      },
      "execution_count": null,
      "source": "import random\nx = random.uniform(1, 10)\nprint(x)",
      "outputs": []
    },
    {
      "id": "801aa7f2-4659-4944-90c1-67d2cc5182b2",
      "cell_type": "code",
      "metadata": {
        "jupyter": {
          "outputs_hidden": false,
          "source_hidden": false
        },
        "noteable": {
          "cell_type": "code",
          "output_collection_id": "45576e69-8b95-4765-a3f8-1e02697bb0ff"
        },
        "ExecuteTime": {
          "end_time": "2023-12-11T14:21:24.829750+00:00",
          "start_time": "2023-12-11T14:21:24.674494+00:00"
        }
      },
      "execution_count": null,
      "source": "print(random.randrange(0,10)) #randrange is to get integer value",
      "outputs": []
    },
    {
      "id": "c5f6abbf-ea98-4476-bd76-00b90094463b",
      "cell_type": "code",
      "metadata": {
        "jupyter": {
          "outputs_hidden": false,
          "source_hidden": false
        },
        "noteable": {
          "cell_type": "code",
          "output_collection_id": "f3412cbc-8a5b-4718-9072-d86b80047307"
        },
        "ExecuteTime": {
          "end_time": "2023-12-11T14:21:52.963343+00:00",
          "start_time": "2023-12-11T14:21:52.808539+00:00"
        }
      },
      "execution_count": null,
      "source": "print(random.randrange(10,100))",
      "outputs": []
    },
    {
      "id": "de246b74-637a-45ec-baf1-9db420db1d07",
      "cell_type": "code",
      "metadata": {
        "jupyter": {
          "outputs_hidden": false,
          "source_hidden": false
        },
        "noteable": {
          "cell_type": "code",
          "output_collection_id": "d4d2fec4-a2cd-4067-ac4f-86c957c9dcbc"
        },
        "ExecuteTime": {
          "end_time": "2023-12-11T14:22:30.554487+00:00",
          "start_time": "2023-12-11T14:22:30.399188+00:00"
        }
      },
      "execution_count": null,
      "source": "print(random.random())  #this is to get any random value, not necessarily integer",
      "outputs": []
    },
    {
      "id": "ab2b14dc-421c-4207-8b2a-02528378858b",
      "cell_type": "code",
      "metadata": {
        "jupyter": {
          "outputs_hidden": false,
          "source_hidden": false
        },
        "noteable": {
          "cell_type": "code",
          "output_collection_id": "c69f3d1c-9a9c-41d6-9e1e-5bb7a784b4f8"
        },
        "ExecuteTime": {
          "end_time": "2023-12-11T14:30:03.727086+00:00",
          "start_time": "2023-12-11T14:29:33.977820+00:00"
        }
      },
      "execution_count": null,
      "source": "name = input('what is your name')\njob = input('what is your job')\nnum= input('give me a number')\nprint(f'You said: '+str(num))\nprint(f'{name}, doing job {job}, said this:{num}') #be careful when inserting stuff in sentences, you don't need + sign but make sure quotation mark at beginning and end",
      "outputs": []
    },
    {
      "id": "8adca293-2415-45fe-ad08-0d6fecb6810c",
      "cell_type": "code",
      "metadata": {
        "jupyter": {
          "outputs_hidden": false,
          "source_hidden": false
        },
        "noteable": {
          "cell_type": "code",
          "output_collection_id": "b0d4b163-76d4-45a5-b8c2-7275dda88dca"
        },
        "ExecuteTime": {
          "end_time": "2023-12-11T14:36:05.541187+00:00",
          "start_time": "2023-12-11T14:36:05.385980+00:00"
        }
      },
      "execution_count": null,
      "source": "x=6\nif x==2:\n    print('two')\nelif x==3:\n    print('three')\nelif x==10:\n    print('ten')\nelse:\n    print('something else')",
      "outputs": []
    },
    {
      "id": "00106e18-1ad8-494a-be20-7e8828c3ce1a",
      "cell_type": "code",
      "metadata": {
        "jupyter": {
          "outputs_hidden": false,
          "source_hidden": false
        },
        "noteable": {
          "cell_type": "code",
          "output_collection_id": "fda06435-4523-4663-bcdc-13e047a53c5e"
        },
        "ExecuteTime": {
          "end_time": "2023-12-11T14:40:53.799541+00:00",
          "start_time": "2023-12-11T14:40:49.904884+00:00"
        }
      },
      "execution_count": null,
      "source": "x=input('enter a number between 1 and 10')\nx = int(x)\nif x==1:\n    print('lower range of 1 and 10')\nelif x ==10:\n    print('upper range of 1 and 10')\nif x<10 and x>1:\n    print('within range of 1 and 10')\nelse:\n    print('out of range of 1 and 10')\n # The input x is converted to an integer.\nAn elif is used for the 'within range' condition, ensuring that it's part of the main if-elif-else block. This way, the 'out of range' message will only be printed if none of the other conditions are true.  ",
      "outputs": []
    },
    {
      "id": "0e02f8fd-39e7-4226-9c8e-f1191e2ed63b",
      "cell_type": "code",
      "metadata": {
        "jupyter": {
          "outputs_hidden": false,
          "source_hidden": false
        },
        "noteable": {
          "cell_type": "code",
          "output_collection_id": "bb8bb3e9-271c-4edc-b4c7-62be229595a9"
        },
        "ExecuteTime": {
          "end_time": "2023-12-11T14:46:30.061236+00:00",
          "start_time": "2023-12-11T14:46:29.905680+00:00"
        }
      },
      "execution_count": null,
      "source": "city =['London','New York', 'Tokyo', 'Paris']\nprint('Cities loop:')\nfor x in city:\n    print('City: '+ x)\n    print('\\n')\n    num =[1,2,3,4,5,6,7,8,9]\n    print('x^2 loop:')\nfor x in num:\n    y = x*x\n    print (str(x) + '*' + str(x) + '=' + str(y))",
      "outputs": []
    },
    {
      "id": "cf80de40-e017-48cf-b066-aa71f91c82c5",
      "cell_type": "code",
      "metadata": {
        "jupyter": {
          "outputs_hidden": false,
          "source_hidden": false
        },
        "noteable": {
          "cell_type": "code",
          "output_collection_id": "f227c4f2-2731-499b-afc1-28349e002430"
        },
        "ExecuteTime": {
          "end_time": "2023-12-11T14:56:15.041255+00:00",
          "start_time": "2023-12-11T14:56:14.885333+00:00"
        }
      },
      "execution_count": null,
      "source": "clist = ['UK', 'USA', 'Canada','Japan', 'Germany']\nprint('Countries loop: ')\nfor x in clist:\n    print('Country: '+ x)\n    print('\\n')\n    ",
      "outputs": []
    },
    {
      "id": "2e4dc68e-7b64-46e1-8154-4de1b2fbadfa",
      "cell_type": "code",
      "metadata": {
        "jupyter": {
          "outputs_hidden": false,
          "source_hidden": false
        },
        "noteable": {
          "cell_type": "code",
          "output_collection_id": "811c3277-70bc-45bb-ba76-1f97fef85168"
        },
        "ExecuteTime": {
          "end_time": "2023-12-11T15:15:25.400411+00:00",
          "start_time": "2023-12-11T15:15:25.245637+00:00"
        }
      },
      "execution_count": null,
      "source": "x=1\nnum = [1, 2, 3, 4, 5, 6, 7, 8, 9]\nprint('x+1 loop:')\nfor x in num:\n y = x + 1\n print(str(x) + ' + 1 = ' + str(y))\n",
      "outputs": []
    },
    {
      "id": "872dea3c-d51b-453d-8163-9d36ac3fd168",
      "cell_type": "code",
      "metadata": {
        "jupyter": {
          "outputs_hidden": false,
          "source_hidden": false
        },
        "noteable": {
          "cell_type": "code",
          "output_collection_id": "fb53d7b3-348c-461a-a3ef-cf8fbb7e4d01"
        },
        "ExecuteTime": {
          "end_time": "2023-12-11T15:16:07.090529+00:00",
          "start_time": "2023-12-11T15:16:06.935813+00:00"
        }
      },
      "execution_count": null,
      "source": "x = 1                            \nwhile x <= 10:\n    print(x)\n    x = x + 1",
      "outputs": []
    },
    {
      "id": "ba3967ca-9d27-4660-ad7d-41b04aab0949",
      "cell_type": "code",
      "metadata": {
        "jupyter": {
          "outputs_hidden": false,
          "source_hidden": false
        },
        "noteable": {
          "cell_type": "code",
          "output_collection_id": "20af7523-5e8d-4e15-96c1-ea1455e50744"
        },
        "ExecuteTime": {
          "end_time": "2023-12-11T15:19:56.929805+00:00",
          "start_time": "2023-12-11T15:19:56.774569+00:00"
        }
      },
      "execution_count": null,
      "source": "def f(x,y):\n    return x*y\nprint(f(2,8))",
      "outputs": []
    },
    {
      "id": "0983fc3c-db0c-4c75-b5d8-613daefcc6f6",
      "cell_type": "code",
      "metadata": {
        "jupyter": {
          "outputs_hidden": false,
          "source_hidden": false
        },
        "noteable": {
          "cell_type": "code",
          "output_collection_id": "1cece080-087f-4ce1-85f4-5911511e3b43"
        },
        "ExecuteTime": {
          "end_time": "2023-12-11T15:20:44.979903+00:00",
          "start_time": "2023-12-11T15:20:44.824390+00:00"
        }
      },
      "execution_count": null,
      "source": "def f(x, y):\n    return x*x + 2*x + 1 == y\n\nprint(f(2, 9))",
      "outputs": []
    },
    {
      "id": "4e4c4a82-e2ea-4000-9636-3dab7677132a",
      "cell_type": "code",
      "metadata": {
        "jupyter": {
          "outputs_hidden": false,
          "source_hidden": false
        },
        "noteable": {
          "cell_type": "code",
          "output_collection_id": "15057ef7-ef97-4c6b-9816-598527f13ee9"
        },
        "ExecuteTime": {
          "end_time": "2023-12-11T15:24:55.175101+00:00",
          "start_time": "2023-12-11T15:24:55.020112+00:00"
        }
      },
      "execution_count": null,
      "source": "list = [1, 2, 3, 4, 5, 6, 7, 8, 9, 10]\nprint(sum(list))\nprint(min(list))\nprint(max(list))\nprint(list[1]) #print second element\nprint(list[-2]) # print next to last element",
      "outputs": []
    },
    {
      "id": "66115e5e-4c3d-43fb-8ce5-bee1032020e2",
      "cell_type": "code",
      "metadata": {
        "jupyter": {
          "outputs_hidden": false,
          "source_hidden": false
        },
        "noteable": {
          "cell_type": "code",
          "output_collection_id": "844c99c4-1ef9-4d63-8178-94668a4791f0"
        },
        "ExecuteTime": {
          "end_time": "2023-12-11T15:27:56.899957+00:00",
          "start_time": "2023-12-11T15:27:56.743398+00:00"
        }
      },
      "execution_count": null,
      "source": "x = [3,4,5]\nx.append(6) #add number 6 to list\nprint(x)\nx.append(7) #add number 7 to list\nprint(x)\nx.pop() #remove last number from latest list\nprint(x)\nx.pop() #remove another last number from latest list\nprint(x)",
      "outputs": []
    },
    {
      "id": "eaf84ae2-5875-4b10-ad1d-e5dcd935f1e8",
      "cell_type": "code",
      "metadata": {
        "jupyter": {
          "outputs_hidden": false,
          "source_hidden": false
        },
        "noteable": {
          "cell_type": "code",
          "output_collection_id": "ad93c745-ed6f-4b0d-b462-f635512dd508"
        },
        "ExecuteTime": {
          "end_time": "2023-12-11T15:37:10.128887+00:00",
          "start_time": "2023-12-11T15:37:09.973634+00:00"
        }
      },
      "execution_count": null,
      "source": "x = [6,4,2]\nx.append(12)\nx.append(8)\nx.append(4)\nprint(x)\nx.pop(-5)\nprint(x)\nx.append(3)\nx.sort()\nprint(x)",
      "outputs": []
    },
    {
      "id": "c3df0c1f-fa88-4411-b07b-452411e8126a",
      "cell_type": "code",
      "metadata": {
        "jupyter": {
          "outputs_hidden": false,
          "source_hidden": false
        },
        "noteable": {
          "cell_type": "code",
          "output_collection_id": "59b0cca2-3cb3-436c-b239-b844b3a5cc7e"
        },
        "ExecuteTime": {
          "end_time": "2023-12-11T15:48:53.019375+00:00",
          "start_time": "2023-12-11T15:48:52.864198+00:00"
        }
      },
      "execution_count": null,
      "source": "words = ['the', 'cat', 'sits', 'on', 'mat']\nwords.sort()\nprint(words)  # This prints the sorted list\nwords = words[::-1] #it reverses the order\nprint(words)",
      "outputs": []
    },
    {
      "id": "d33aef91-4470-4819-a5a2-b91644402b56",
      "cell_type": "code",
      "metadata": {
        "jupyter": {
          "outputs_hidden": false,
          "source_hidden": false
        },
        "noteable": {
          "cell_type": "code",
          "output_collection_id": "9e92cb95-5457-4919-aad9-598ea67bbabe"
        },
        "ExecuteTime": {
          "end_time": "2023-12-11T17:28:12.636331+00:00",
          "start_time": "2023-12-11T17:28:12.481868+00:00"
        }
      },
      "execution_count": null,
      "source": "x = list(range(1,12))\nprint(x)",
      "outputs": []
    },
    {
      "id": "aacd21c8-82f2-4a35-b660-5608fb0d4623",
      "cell_type": "code",
      "metadata": {
        "jupyter": {
          "outputs_hidden": false,
          "source_hidden": false
        },
        "noteable": {
          "cell_type": "code",
          "output_collection_id": "fed1fbb9-65f5-4552-a6a7-6b6202c54ef6"
        },
        "ExecuteTime": {
          "end_time": "2023-12-11T17:51:35.126262+00:00",
          "start_time": "2023-12-11T17:51:34.971445+00:00"
        }
      },
      "execution_count": null,
      "source": "even_numbers = list(range(0, 25, 2))\nprint(*even_numbers)\n",
      "outputs": []
    },
    {
      "id": "8cf87c8f-02bb-40ae-b975-9980790fc3ec",
      "cell_type": "code",
      "metadata": {
        "jupyter": {
          "outputs_hidden": false,
          "source_hidden": false
        },
        "noteable": {
          "cell_type": "code",
          "output_collection_id": "bd49fb62-ed5a-46da-beee-e2d7f2d8018d"
        },
        "ExecuteTime": {
          "end_time": "2023-12-11T17:43:19.572848+00:00",
          "start_time": "2023-12-11T17:43:04.162182+00:00"
        }
      },
      "execution_count": null,
      "source": "name = input('enter your name')\ncompany = input('enter your company name')\nif name=='Que' and company =='Pharo':\n print('You must be me')\nelif name=='Que' or company =='Pharo':\n    print('hi colleague!')\n",
      "outputs": []
    },
    {
      "id": "35dee6e2-2201-4041-ab00-3ce0376bc137",
      "cell_type": "code",
      "metadata": {
        "jupyter": {
          "outputs_hidden": false,
          "source_hidden": false
        },
        "noteable": {
          "cell_type": "code",
          "output_collection_id": "6086f105-7557-41c7-b3f4-56a92b8f3a11"
        },
        "ExecuteTime": {
          "end_time": "2023-12-11T18:01:00.896414+00:00",
          "start_time": "2023-12-11T18:01:00.740951+00:00"
        }
      },
      "execution_count": null,
      "source": "x=15\ny=2\nx//y\nx%y\nx**y",
      "outputs": []
    },
    {
      "id": "8ee6d918-2058-42c8-8ba0-5006d9a60ef6",
      "cell_type": "code",
      "metadata": {
        "jupyter": {
          "outputs_hidden": false,
          "source_hidden": false
        },
        "noteable": {
          "cell_type": "code",
          "output_collection_id": "330beef2-1378-4f6f-9a45-5863d299a376"
        },
        "ExecuteTime": {
          "end_time": "2023-12-11T18:07:29.315005+00:00",
          "start_time": "2023-12-11T18:07:22.876399+00:00"
        }
      },
      "execution_count": null,
      "source": "x=10\nguess=input ('guess the number')\nguess =int(guess)\nif guess<10:\n    print('too low!')\nelif guess>10:\n    print('too high!')\nelse:\n    print('bingo!!!')",
      "outputs": []
    },
    {
      "id": "5fed4da7-9892-4a25-b752-f6cfcfa5cf92",
      "cell_type": "code",
      "metadata": {
        "jupyter": {
          "outputs_hidden": false,
          "source_hidden": false
        },
        "noteable": {
          "cell_type": "code",
          "output_collection_id": "9cee6b2e-e131-4613-ab36-db9342c6b722"
        },
        "ExecuteTime": {
          "end_time": "2023-12-11T18:15:18.827616+00:00",
          "start_time": "2023-12-11T18:15:18.672360+00:00"
        }
      },
      "execution_count": null,
      "source": "odd_numbers = list(range(1, 25, 2))\neven_numbers = list(range(0, 25, 2))\nprint(*odd_numbers)#* is to give space & list out everything\nprint(*even_numbers)\nprint(min(odd_numbers))\nprint(max(even_numbers))",
      "outputs": []
    },
    {
      "id": "715bde83-03ed-4cf6-8f1e-77e8bf0edc25",
      "cell_type": "code",
      "metadata": {
        "jupyter": {
          "outputs_hidden": false,
          "source_hidden": false
        },
        "noteable": {
          "cell_type": "code",
          "output_collection_id": "b42a1d77-e6ff-448f-a412-1d424a8351ee"
        },
        "ExecuteTime": {
          "end_time": "2023-12-11T18:37:53.121382+00:00",
          "start_time": "2023-12-11T18:37:52.966147+00:00"
        }
      },
      "execution_count": null,
      "source": "words={}\nwords['+44']='UK'\nwords['+33']='France'\n\nprint (words['+44'])\nprint (words['+33'])",
      "outputs": []
    },
    {
      "id": "033ae8bb-df5d-4d3b-8371-d972b1fb64d4",
      "cell_type": "code",
      "metadata": {
        "jupyter": {
          "outputs_hidden": false,
          "source_hidden": false
        },
        "noteable": {
          "cell_type": "code",
          "output_collection_id": "e60be0d4-06ea-4653-b6e9-9189425d2da8"
        },
        "ExecuteTime": {
          "end_time": "2023-12-11T18:45:24.155231+00:00",
          "start_time": "2023-12-11T18:45:24.000503+00:00"
        }
      },
      "execution_count": null,
      "source": "persons = [ \"Lily\", \"Josh\", \"Maya\" ]\nrestaurants = [ \"Japanese\", \"Chinese\",  \"French\" ]\n\nfor person in persons:\n    for restaurant in restaurants:\n        print(person + \" eats \" + restaurant)",
      "outputs": []
    },
    {
      "id": "416eb7cb-5c5b-4339-ab4d-d74ed5330290",
      "cell_type": "code",
      "metadata": {
        "jupyter": {
          "outputs_hidden": false,
          "source_hidden": false
        },
        "noteable": {
          "cell_type": "code",
          "output_collection_id": "5f4a85cd-c845-45a7-b1b1-39b79ce26a24"
        },
        "ExecuteTime": {
          "end_time": "2023-12-12T12:16:42.149082+00:00",
          "start_time": "2023-12-12T12:16:41.994090+00:00"
        }
      },
      "execution_count": null,
      "source": "persons = [ \"Lily\", \"Josh\", \"Maya\" ]\nslice = persons[0:2]   #get the first 2 persons in the list\nprint(slice)",
      "outputs": []
    },
    {
      "id": "e86220b6-3db5-461c-a4cc-3ba7c8c1c247",
      "cell_type": "code",
      "metadata": {
        "jupyter": {
          "outputs_hidden": false,
          "source_hidden": false
        },
        "noteable": {
          "cell_type": "code",
          "output_collection_id": "7d8d55ef-91be-410d-ad5d-83e709dd8131"
        },
        "ExecuteTime": {
          "end_time": "2023-12-12T12:18:15.974026+00:00",
          "start_time": "2023-12-12T12:18:15.819072+00:00"
        }
      },
      "execution_count": null,
      "source": "destination = \"summer holiday in Portugal\"\nmySlice = destination[0:10]   #slice first 10 characters in string\nprint(mySlice)",
      "outputs": []
    },
    {
      "id": "d8a15ea5-1034-4d60-8783-fdfaf7e7a2f2",
      "cell_type": "code",
      "metadata": {
        "jupyter": {
          "outputs_hidden": false,
          "source_hidden": false
        },
        "noteable": {
          "cell_type": "code",
          "output_collection_id": "3d12e23f-d586-4e55-98ac-db4ba71f05ef"
        },
        "ExecuteTime": {
          "end_time": "2023-12-12T12:23:49.090176+00:00",
          "start_time": "2023-12-12T12:23:48.934620+00:00"
        }
      },
      "execution_count": null,
      "source": "def getPerson():\n    name = \"Leona\"\n    age = 35\n    country = \"UK\"\n    return name,age,country\n\nname,age,country = getPerson()\nprint(name)\nprint(age)\nprint(country)",
      "outputs": []
    },
    {
      "id": "70338624-4ebd-4266-9e83-21663ee0b746",
      "cell_type": "code",
      "metadata": {
        "jupyter": {
          "outputs_hidden": false,
          "source_hidden": false
        },
        "noteable": {
          "cell_type": "code",
          "output_collection_id": "d29670f9-f814-4d51-baa9-ff6723b64c92"
        },
        "ExecuteTime": null
      },
      "execution_count": null,
      "source": "balance = 12\n\ndef addAmount(x):\n    global balance\n    balance = balance + x\n\naddAmount(5)\nprint(balance)",
      "outputs": []
    },
    {
      "id": "e359523c-f120-43a1-88f7-934994d31c3a",
      "cell_type": "code",
      "metadata": {
        "jupyter": {
          "outputs_hidden": false,
          "source_hidden": false
        },
        "noteable": {
          "cell_type": "code",
          "output_collection_id": "05751094-ca18-47b9-836f-fc332ea7dc84"
        },
        "ExecuteTime": null
      },
      "execution_count": null,
      "source": "import time\n\ntimenow = time.localtime(time.time())\nyear,month,day,hour,minute = timenow[0:5]\n\nprint(str(day) + \"/\" + str(month) + \"/\" + str(year))\nprint(str(hour) + \":\" + str(minute))",
      "outputs": []
    },
    {
      "id": "b29e472e-a589-4da8-93a8-d264c70a7745",
      "cell_type": "code",
      "metadata": {
        "jupyter": {
          "outputs_hidden": false,
          "source_hidden": false
        },
        "noteable": {
          "cell_type": "code",
          "output_collection_id": "c137f5cb-9d53-41f5-acd1-1f434f62324c"
        },
        "ExecuteTime": null
      },
      "execution_count": null,
      "source": "time.asctime()",
      "outputs": []
    },
    {
      "id": "578abc1f-8e7e-45af-a96b-ae051bb60717",
      "cell_type": "code",
      "metadata": {
        "jupyter": {
          "outputs_hidden": false,
          "source_hidden": false
        },
        "noteable": {
          "cell_type": "code",
          "output_collection_id": "7444a6a8-7b36-49e2-bc14-77031c94c42f"
        },
        "ExecuteTime": null
      },
      "execution_count": null,
      "source": "time.ctime()",
      "outputs": []
    },
    {
      "id": "d6489f1a-ac0d-4a13-a9c7-71d04591ae18",
      "cell_type": "code",
      "metadata": {
        "jupyter": {
          "outputs_hidden": false,
          "source_hidden": false
        },
        "noteable": {
          "cell_type": "code",
          "output_collection_id": "1a3380a9-93ab-4d84-a5b6-555170fdac69"
        },
        "ExecuteTime": null
      },
      "execution_count": null,
      "source": "import time\n\nprint(\"Hello\")\ntime.sleep(1)\nprint(\"World\")\ntime.sleep(1)",
      "outputs": []
    },
    {
      "id": "e840fdb4-9810-4ab6-b37a-9105968358d5",
      "cell_type": "code",
      "metadata": {
        "jupyter": {
          "outputs_hidden": false,
          "source_hidden": false
        },
        "noteable": {
          "cell_type": "code",
          "output_collection_id": "39687ac2-4246-4688-a8a3-5747728fbdd0"
        },
        "ExecuteTime": null
      },
      "execution_count": null,
      "source": "timenow = time.localtime(time.time())\nyear,month,day = timenow[0:3]\n\nprint(str(day) + \"/\" + str(month) + \"/\" + str(year))",
      "outputs": []
    },
    {
      "id": "95e69f73-4d76-406f-8f19-9a3576ca8a74",
      "cell_type": "code",
      "metadata": {
        "jupyter": {
          "outputs_hidden": false,
          "source_hidden": false
        },
        "noteable": {
          "cell_type": "code",
          "output_collection_id": "d063d0c9-49eb-4886-9f03-a7e0bdd8029d"
        },
        "ExecuteTime": null
      },
      "execution_count": null,
      "source": "try:\n    x = input(\"Enter number: \")\n    x = x + 1\n    print(x)\nexcept:\n    print(\"Invalid input\")\nfinally:\n    print(\"Valid input.\")",
      "outputs": []
    },
    {
      "id": "1915d954-ea3e-44f4-8bd6-afe8b174a6fb",
      "cell_type": "code",
      "metadata": {
        "jupyter": {
          "outputs_hidden": false,
          "source_hidden": false
        },
        "noteable": {
          "cell_type": "code",
          "output_collection_id": "482ba586-53af-4441-a5af-afb8f859b99d"
        },
        "ExecuteTime": null
      },
      "execution_count": null,
      "source": "x=11\nif x>2:\n    print('greater than two')\nelif x<10:\n    print('less than ten')\nelif x==10:\n    print('ten')\nelse:\n    print('between 2 and 10')",
      "outputs": []
    },
    {
      "id": "132f9eb4-c4c6-41bb-bd48-7e64e6f1b6ae",
      "cell_type": "code",
      "metadata": {
        "jupyter": {
          "outputs_hidden": false,
          "source_hidden": false
        },
        "noteable": {
          "cell_type": "code",
          "output_collection_id": "66574614-210b-49e8-bdb7-f6eb3a082297"
        },
        "ExecuteTime": null
      },
      "execution_count": null,
      "source": "word1 = input('enter first word')\nword2 = input('enter second word')\nif word1==word2:\n    print('same')\nelif word1>word2:\n    print(f'{word1} comes first')\nelse:\n    print(f'{word2} comes first')\n",
      "outputs": []
    },
    {
      "id": "3b1db8cd-c14d-460e-8410-1b0a640d85de",
      "cell_type": "code",
      "metadata": {
        "jupyter": {
          "outputs_hidden": false,
          "source_hidden": false
        },
        "noteable": {
          "cell_type": "code",
          "output_collection_id": "286d1169-57f8-479e-ae1a-f1f46fc2d0ce"
        },
        "ExecuteTime": null
      },
      "execution_count": null,
      "source": "name = input('enter yr name')\ncompany = input('enter yr company name')\nif name == 'Que' and company == 'Pharo':\n    print('You are me, how fascinating!')\nelif name =='Que' or company=='Pharo':\n    print('you are in my company')\nelse: print('wtf are you?!?')",
      "outputs": []
    },
    {
      "id": "27d84044-a55c-4715-a76e-695abaa04739",
      "cell_type": "code",
      "metadata": {
        "jupyter": {
          "outputs_hidden": false,
          "source_hidden": false
        },
        "noteable": {
          "cell_type": "code",
          "output_collection_id": "47820d4e-6d3e-4818-85bd-9e4a751d3dd7"
        },
        "ExecuteTime": null
      },
      "execution_count": null,
      "source": "x = 10.15\nfloat(x)\nint(x)\n",
      "outputs": []
    },
    {
      "id": "f0aca675-2ecf-4d0b-a29e-e04087a09f61",
      "cell_type": "code",
      "metadata": {
        "jupyter": {
          "outputs_hidden": false,
          "source_hidden": false
        },
        "noteable": {
          "cell_type": "code",
          "output_collection_id": "1e7457f0-01f8-4e2d-af9d-b1c6af96a1fb"
        },
        "ExecuteTime": null
      },
      "execution_count": null,
      "source": "x=1\ny=5\nx=x+1\nx +=1\nx+y\nstr(x) + '555'",
      "outputs": []
    },
    {
      "id": "cb79990a-ffe2-4c80-b3dc-e3083e09239c",
      "cell_type": "code",
      "metadata": {
        "jupyter": {
          "outputs_hidden": false,
          "source_hidden": false
        },
        "noteable": {
          "cell_type": "code",
          "output_collection_id": "8ef82e96-8303-4fe8-a4cf-202de0184bb7"
        },
        "ExecuteTime": {
          "end_time": "2023-12-14T13:45:18.065563+00:00",
          "start_time": "2023-12-14T13:45:17.909346+00:00"
        }
      },
      "execution_count": null,
      "source": "persons = [\"Lily\", \"Josh\", \"Maya\" ]\nslice = persons[1:2]   #get the second persons in the list\nprint(slice)",
      "outputs": []
    },
    {
      "id": "f8fb680d-521b-40c6-a786-4e1520ad044a",
      "cell_type": "code",
      "metadata": {
        "jupyter": {
          "outputs_hidden": false,
          "source_hidden": false
        },
        "noteable": {
          "cell_type": "code"
        }
      },
      "execution_count": null,
      "source": "",
      "outputs": []
    }
  ]
}