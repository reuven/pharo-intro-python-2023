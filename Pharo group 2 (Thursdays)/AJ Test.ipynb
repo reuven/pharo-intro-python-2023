{
  "nbformat": 4,
  "nbformat_minor": 5,
  "metadata": {
    "kernel_info": {
      "name": "python3.9-noteable"
    },
    "kernelspec": {
      "display_name": "Python 3.9 (Noteable)",
      "identifier": "noteable",
      "language": "python",
      "language_version": "3.9",
      "name": "python3.9-noteable"
    },
    "selected_hardware_size": "small"
  },
  "cells": [
    {
      "id": "d39ef8d8",
      "cell_type": "code",
      "metadata": {
        "noteable": {
          "output_collection_id": "235483d6-ebb2-4353-9d2a-f22752c3630b"
        },
        "ExecuteTime": null
      },
      "execution_count": null,
      "source": "name = 'AJ'\ngreeting = ' L O'\n\nname + greeting\n",
      "outputs": []
    },
    {
      "id": "20413cb0-1556-4a40-b8fd-b887501b0a59",
      "cell_type": "code",
      "metadata": {
        "jupyter": {
          "outputs_hidden": false,
          "source_hidden": false
        },
        "noteable": {
          "cell_type": "code",
          "output_collection_id": "c63534e7-625c-43f8-b759-3ce685b190de"
        },
        "ExecuteTime": {
          "end_time": "2023-12-08T13:22:31.545508+00:00",
          "start_time": "2023-12-08T13:10:24.066683+00:00"
        }
      },
      "execution_count": null,
      "source": " name = 'AJ'\nprint ('Hello ' + name + '!')\n\nname = input ('Enter something: ')\nprint (name + ' Boo ')\n     \n    \n    \nname = input('Enter name: ')\ncity = input('WHere you from: ')\no = f'name = {name}, city = {city}'\nprint(o)\nprint(f'Hello, {name} from {city}!')\n\n\n",
      "outputs": []
    },
    {
      "id": "5280b59f-7182-408e-bccc-5daee18fdf7d",
      "cell_type": "code",
      "metadata": {
        "jupyter": {
          "outputs_hidden": false,
          "source_hidden": false
        },
        "noteable": {
          "cell_type": "code"
        }
      },
      "execution_count": null,
      "source": "",
      "outputs": []
    },
    {
      "id": "7cb8262c-2a26-44f0-aa85-15404eaa045d",
      "cell_type": "code",
      "metadata": {
        "jupyter": {
          "outputs_hidden": false,
          "source_hidden": false
        },
        "noteable": {
          "cell_type": "code",
          "output_collection_id": "312039f2-795a-4885-b773-94238c118458"
        },
        "ExecuteTime": {
          "end_time": "2023-12-08T13:39:19.188213+00:00",
          "start_time": "2023-12-08T13:39:12.499361+00:00"
        }
      },
      "execution_count": null,
      "source": "first = input('Enter a word: ')\nsecond = input('Enter another word: ')\nif first < second:\n    print('alphabetical')\n    print(f'{first} then {second}!')\nelse:\n    print('not alphabetical')",
      "outputs": []
    },
    {
      "id": "02fb164c-8e2f-4a6f-b404-279648818e02",
      "cell_type": "code",
      "metadata": {
        "jupyter": {
          "outputs_hidden": false,
          "source_hidden": false
        },
        "noteable": {
          "cell_type": "code",
          "output_collection_id": "0cf7d448-0eb7-41c6-a7de-9841cd90104d"
        },
        "ExecuteTime": {
          "end_time": "2023-12-14T12:15:46.770154+00:00",
          "start_time": "2023-12-14T12:15:46.613529+00:00"
        }
      },
      "execution_count": null,
      "source": "x = 100\n\nif x == 50:\n    print('Yes, it is 50!')\nelif x == 75:\n    print('Yes, it is 75!')\nelif x == 100:\n    print('Yes, it is 100!')\nelse:\n    print('I have no idea what it is')",
      "outputs": []
    },
    {
      "id": "60c3fae3-ffcf-4ada-872e-8ddd9c051111",
      "cell_type": "code",
      "metadata": {
        "jupyter": {
          "outputs_hidden": false,
          "source_hidden": false
        },
        "noteable": {
          "cell_type": "code",
          "output_collection_id": "1ab52b77-0dc8-4690-afe1-dee49cb6026a"
        },
        "ExecuteTime": {
          "end_time": "2023-12-14T12:17:46.233290+00:00",
          "start_time": "2023-12-14T12:17:46.077877+00:00"
        }
      },
      "execution_count": null,
      "source": "x = 100\n\nif x > 100:\n    print('Yes, it is > 100!')\nelif x > 75:\n    print('Yes, it is > 75!')\nelif x > 50:\n    print('Yes, it is > 50!')\nelse:\n    print('I have no idea what it is')\n    ",
      "outputs": []
    },
    {
      "id": "59b49e4b-eb9a-4497-971d-bf5675c0d0bb",
      "cell_type": "code",
      "metadata": {
        "jupyter": {
          "outputs_hidden": false,
          "source_hidden": false
        },
        "noteable": {
          "cell_type": "code",
          "output_collection_id": "426ae0c5-2583-461b-8e5f-8b717f8a694a"
        },
        "ExecuteTime": {
          "end_time": "2023-12-14T12:24:34.149248+00:00",
          "start_time": "2023-12-14T12:24:21.900577+00:00"
        }
      },
      "execution_count": null,
      "source": "first = input('Enter a word: ')\nsecond = input('Enter another word: ')\nif first < second:\n        print(f'{first} then {second}!')\nelif first > second:\n    print(f'{first} then {second}!')\nelif first == second:\n    print(f'{first} then {second}!')",
      "outputs": []
    },
    {
      "id": "07cacea5-38a2-42d2-855e-49297671b670",
      "cell_type": "code",
      "metadata": {
        "jupyter": {
          "outputs_hidden": false,
          "source_hidden": false
        },
        "noteable": {
          "cell_type": "code",
          "output_collection_id": "5cd91235-f5fe-4fac-8519-edc9ad8438d9"
        },
        "ExecuteTime": {
          "end_time": "2023-12-14T12:39:30.203740+00:00",
          "start_time": "2023-12-14T12:39:21.710708+00:00"
        }
      },
      "execution_count": null,
      "source": "name = 'aj'\ncompany = 'ph'\nname1 = input('Enter a name: ')\ncompany1 = input('Enter a company: ')\n\nif name == name1 and company == company1:\n        print(f'hi {name1} from  {company1}!')\nelif  name == name1 or company == company1:\n    print(f'{name} from crappy {company1}!')\n",
      "outputs": []
    },
    {
      "id": "47afe751-468f-4d66-bce3-0b2d584cce4e",
      "cell_type": "code",
      "metadata": {
        "jupyter": {
          "outputs_hidden": false,
          "source_hidden": false
        },
        "noteable": {
          "cell_type": "code",
          "output_collection_id": "41b449d9-55d4-4819-8e91-cd23c1b71c40"
        },
        "ExecuteTime": {
          "end_time": "2023-12-14T13:18:38.340932+00:00",
          "start_time": "2023-12-14T13:18:38.185552+00:00"
        }
      },
      "execution_count": null,
      "source": "s = 'abcdefghijklmnopqrstuvwxyz'\n",
      "outputs": []
    },
    {
      "id": "072ac98b-c1e2-4133-8ce6-ca4508fa7da9",
      "cell_type": "code",
      "metadata": {
        "jupyter": {
          "outputs_hidden": false,
          "source_hidden": false
        },
        "noteable": {
          "cell_type": "code",
          "output_collection_id": "7d424087-0b10-4fe0-ad20-2c849ad508c5"
        },
        "ExecuteTime": {
          "end_time": "2023-12-14T13:18:58.356128+00:00",
          "start_time": "2023-12-14T13:18:58.196527+00:00"
        }
      },
      "execution_count": null,
      "source": "s",
      "outputs": []
    },
    {
      "id": "e664c9b9-ef0a-4c67-b4cc-a9410c2e0261",
      "cell_type": "code",
      "metadata": {
        "jupyter": {
          "outputs_hidden": false,
          "source_hidden": false
        },
        "noteable": {
          "cell_type": "code",
          "output_collection_id": "8251b5ac-d7a1-4e24-b65a-dcdb6407d782"
        },
        "ExecuteTime": {
          "end_time": "2023-12-14T13:19:31.167177+00:00",
          "start_time": "2023-12-14T13:19:31.011158+00:00"
        }
      },
      "execution_count": null,
      "source": "len(s)\n",
      "outputs": []
    },
    {
      "id": "f958b2c9-c243-4141-949f-869d0e4536d7",
      "cell_type": "code",
      "metadata": {
        "jupyter": {
          "outputs_hidden": false,
          "source_hidden": false
        },
        "noteable": {
          "cell_type": "code",
          "output_collection_id": "92b115f0-00ad-46b3-926b-34f53e5f08a5"
        },
        "ExecuteTime": {
          "end_time": "2023-12-14T13:20:02.013852+00:00",
          "start_time": "2023-12-14T13:20:01.857443+00:00"
        }
      },
      "execution_count": null,
      "source": "s[-6]\n",
      "outputs": []
    }
  ]
}