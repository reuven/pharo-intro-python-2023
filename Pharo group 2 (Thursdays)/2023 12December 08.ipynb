{
  "nbformat": 4,
  "nbformat_minor": 5,
  "metadata": {
    "kernel_info": {
      "name": "python3"
    },
    "kernelspec": {
      "display_name": "Python 3.9",
      "identifier": "legacy",
      "language": "python",
      "language_version": "3.9",
      "name": "python3"
    },
    "selected_hardware_size": "small"
  },
  "cells": [
    {
      "id": "59b0bc8c-f34d-4fc1-b51d-f97d5b99a32e",
      "cell_type": "markdown",
      "source": "# Agenda\n\n1. Fundamentals of programming + Python\n    - Values and variables\n    - Assignment\n    - Different data types\n    - Displaying things with `print`\n    - Getting input from the user with `input`\n    - Comparing values with `==`\n    - Basic conditionals with `if`\n2. Data structures\n    - Numbers (integers and floats)\n    - Strings (text)\n    - Loops (`for` and `while`)\n    - Lists and tuples\n    - Dictionaries \n    - Files (reading from, writing to)\n3. Functions\n    - What is a function?\n    - Writing (defining) our own functions\n    - Arguments and parameters\n    - Return values\n    - Local and global variables\n4. Modules and packages\n    - Using the Python standard library\n    - PyPI, and using third-party modules\n",
      "metadata": {}
    },
    {
      "id": "30f42e8c-54fc-48b2-95ad-6264dd462000",
      "cell_type": "markdown",
      "source": "# What is Python?\n\nWhen we write a program in a language, the computer needs to translate it into 1s and 0s. There are lots of different languages out there, each of which has its own plusses and minuses.\n\nSome languages execute super fast, but are hard to write and debug and maintain. \n\nOther languages run very slowly, but are easy to write, debug, and maintain.\n\nMost languages fall somewhere between these two, and that includes Python.\n\nPython is now used in a huge number of real-world situations:\n- #1 language in data science and machine learning\n- Education\n- Finance\n- Test automation\n\nThe big areas where Python isn't used is (a) mobile apps and (b) programs that absolutely need to run super-fast.\n\nLow floors and high ceilings",
      "metadata": {}
    },
    {
      "id": "3577f2b7-e242-4d4a-be9d-42a848a741bf",
      "cell_type": "code",
      "metadata": {
        "noteable": {
          "cell_type": "python",
          "output_collection_id": "4507fba2-ef1c-4856-b944-c9d629346047"
        },
        "ExecuteTime": {
          "end_time": "2023-12-08T12:32:45.116703+00:00",
          "start_time": "2023-12-08T12:32:44.959648+00:00"
        }
      },
      "execution_count": null,
      "source": "# I'm currently typing a comment. Comments start with # and go to the end of the line.\n# Comments are completely ignored by Python, but they are there for humans to read and \n# understand.\n\n# in this cell, I ran the \"print\" function. Functions are verbs in the programming world.\n# print is a function that displays things on the screen\n# I can say print(whatever-I-want-to-print)\n\n# If I want to print text, then I have to put that text inside of quotes\n# (either single or double quotes, but they have to match)\n\nprint('Hello!!!')    # to execute this cell, I click on the \"play\" button or shift+enter",
      "outputs": []
    },
    {
      "id": "926ef11a-3b51-4956-aaec-0b02372cc6fb",
      "cell_type": "code",
      "metadata": {
        "jupyter": {
          "outputs_hidden": false,
          "source_hidden": false
        },
        "noteable": {
          "cell_type": "code",
          "output_collection_id": "ceffe848-1448-4162-bb07-d7056b634ea2"
        },
        "ExecuteTime": {
          "end_time": "2023-12-08T12:34:57.256725+00:00",
          "start_time": "2023-12-08T12:34:57.102018+00:00"
        }
      },
      "execution_count": null,
      "source": "# our programs have different data structures -- different ways to work with \n# and think about information\n\n# one type of data is a number, specifically a whole number -- known as an integer\nprint(5)",
      "outputs": []
    },
    {
      "id": "50ad388f-7958-4fe0-b356-d36f1638a418",
      "cell_type": "code",
      "metadata": {
        "jupyter": {
          "outputs_hidden": false,
          "source_hidden": false
        },
        "noteable": {
          "cell_type": "code",
          "output_collection_id": "c3502a20-75e7-4fed-8500-0d7dcc96c419"
        },
        "ExecuteTime": {
          "end_time": "2023-12-08T12:35:02.891392+00:00",
          "start_time": "2023-12-08T12:35:02.736629+00:00"
        }
      },
      "execution_count": null,
      "source": "print(5 + 3)",
      "outputs": []
    },
    {
      "id": "f30b648f-c656-49dd-8d36-9db09355b037",
      "cell_type": "markdown",
      "source": "# Variables \n\nIf there's a value that I want to keep around and work with, then I should store it in a variable.\n\nJust as functions are the verbs of a programming language, variables are the pronouns of a programming language, referring to a value.\n\nI can give a variable a value with assignment.  Assignment in Python is done with `=`, which is **NOT** the same as `=` in math class.  In Python, when we assign a value to a variable,  the right side executes first, giving us a value, and then it's assigned to the variable on the left side.\n\nFor example:\n\n",
      "metadata": {}
    },
    {
      "id": "64ed8a94-9078-43f7-b03a-bcda71d83526",
      "cell_type": "code",
      "metadata": {
        "noteable": {
          "cell_type": "python",
          "output_collection_id": "3c6f0e52-dae2-436f-bd11-46563157edab"
        },
        "ExecuteTime": {
          "end_time": "2023-12-08T12:36:58.219467+00:00",
          "start_time": "2023-12-08T12:36:58.063612+00:00"
        }
      },
      "execution_count": null,
      "source": "# In Python, the first time that you assign to a variable, the variable is created.\n# If the variable already exists, then when you assign to it, the new value is kept around,\n# and the old value isn't.\n\nx = 10       # the integer 10 will be assigned to the variable x\n\nprint(x)",
      "outputs": []
    },
    {
      "id": "3cb1b537-efe6-4ce9-a601-be2c1dfc1681",
      "cell_type": "code",
      "metadata": {
        "jupyter": {
          "outputs_hidden": false,
          "source_hidden": false
        },
        "noteable": {
          "cell_type": "code",
          "output_collection_id": "a17c0859-2098-461e-83ac-b542ed660c5d"
        },
        "ExecuteTime": {
          "end_time": "2023-12-08T12:37:03.683835+00:00",
          "start_time": "2023-12-08T12:37:03.529562+00:00"
        }
      },
      "execution_count": null,
      "source": "print(x + x)",
      "outputs": []
    },
    {
      "id": "aff2116b-c989-495c-a891-a43b61d665e1",
      "cell_type": "code",
      "metadata": {
        "jupyter": {
          "outputs_hidden": false,
          "source_hidden": false
        },
        "noteable": {
          "cell_type": "code",
          "output_collection_id": "60c9f2db-4dde-4188-bff6-b5ac47d8fcdd"
        },
        "ExecuteTime": {
          "end_time": "2023-12-08T12:37:53.977746+00:00",
          "start_time": "2023-12-08T12:37:53.823580+00:00"
        }
      },
      "execution_count": null,
      "source": "x = 20\nprint(x + x)",
      "outputs": []
    },
    {
      "id": "34ef52ea-af11-445f-a6c6-376580b5f1e4",
      "cell_type": "markdown",
      "source": "# Variable names\n\nYou can use any combination of letters, digits, and `_` in your variable names, with a few rules / conventions:\n\n- Capital and lowercase letters are different from one another, and in Python, we normally only use lowercase letters.\n- Don't start your variable names with digits; that isn't allowed.\n- Don't start your variable names with `_`, which is allowed, but has all sorts of special connotations.\n- Use long, meaningful variable names.",
      "metadata": {}
    },
    {
      "id": "637736ed-d77d-4c9d-83b6-d70b22d13258",
      "cell_type": "code",
      "metadata": {
        "noteable": {
          "output_collection_id": "0809f8bc-fd9a-4322-9db0-23a615701056"
        },
        "ExecuteTime": {
          "end_time": "2023-12-08T12:40:33.207076+00:00",
          "start_time": "2023-12-08T12:40:33.050663+00:00"
        }
      },
      "execution_count": null,
      "source": "x = 10\ny = 20\n\nx + y    # here's a cool  notebook trick: the final line is just returned to us, without print",
      "outputs": []
    },
    {
      "id": "c649b803-747a-4d20-a3f1-f84f209e0fdd",
      "cell_type": "code",
      "metadata": {
        "jupyter": {
          "outputs_hidden": false,
          "source_hidden": false
        },
        "noteable": {
          "cell_type": "code",
          "output_collection_id": "86cb5da0-65b0-41bd-b953-e68f48138e20"
        },
        "ExecuteTime": {
          "end_time": "2023-12-08T12:41:03.934419+00:00",
          "start_time": "2023-12-08T12:41:03.776610+00:00"
        }
      },
      "execution_count": null,
      "source": "# what if I want to assign text to a variable? \nx = 'abcd'\ny = 'efgh'\n\nx + y",
      "outputs": []
    },
    {
      "id": "7583539b-01d3-4a22-bfd6-d76864af4a17",
      "cell_type": "code",
      "metadata": {
        "jupyter": {
          "outputs_hidden": false,
          "source_hidden": false
        },
        "noteable": {
          "cell_type": "code",
          "output_collection_id": "a77e1bfb-bd3c-489d-ac43-62c9fa2d8ffa"
        },
        "ExecuteTime": {
          "end_time": "2023-12-08T12:41:57.823808+00:00",
          "start_time": "2023-12-08T12:41:57.453787+00:00"
        }
      },
      "execution_count": null,
      "source": "# I can add numbers together with +\n# I can add text strings together with +\n\nx = 10\ny = '20'   # notice: this is a text string with the digits 20\n\nx + y\n# Python could treat them both as integers, and return 30\n# Python could treat them both as strings, and return '1020'\n# Python could give us an error message, saying that it refuses to guess what we want",
      "outputs": []
    },
    {
      "id": "669d4ca5-3732-42bb-a851-86b16306cb15",
      "cell_type": "markdown",
      "source": "# Exercise: Greet yourself\n\n1. Assign your name to a variable, `name`.\n2. Print a greeting to yourself, including a word before and after your name.\n\nExample:\n\n    Hello, Reuven!",
      "metadata": {}
    },
    {
      "id": "7e4d6ba0-6290-445a-960e-99b3557fa6df",
      "cell_type": "code",
      "metadata": {
        "noteable": {
          "cell_type": "python",
          "output_collection_id": "04a3e98c-03b8-4f3a-9e48-4331af760c8b"
        },
        "ExecuteTime": {
          "end_time": "2023-12-08T12:51:07.807279+00:00",
          "start_time": "2023-12-08T12:51:07.652591+00:00"
        }
      },
      "execution_count": null,
      "source": "# variables never, ever have quotes around their names\n# text strings (\"string literals\" as Python calls them) always have quotes around them\n\nname = 'Reuven'\nprint('Hello, ' + name + '!')",
      "outputs": []
    },
    {
      "id": "90e74801-5769-4141-b546-04ff59c20e3e",
      "cell_type": "code",
      "metadata": {
        "jupyter": {
          "outputs_hidden": false,
          "source_hidden": false
        },
        "noteable": {
          "cell_type": "code",
          "output_collection_id": "1ee5a85a-6293-4754-bfae-31e783785eb7"
        },
        "ExecuteTime": {
          "end_time": "2023-12-08T12:53:10.428760+00:00",
          "start_time": "2023-12-08T12:53:03.599370+00:00"
        }
      },
      "execution_count": null,
      "source": "# what if I actually want to let the user tell me their name?\n# I can use the \"input\" function\n\n# input works this way:\n# - call input, with ()\n# - in the parentheses, we put a text string -- the prompt to the user\n# - the function returns a string value, which can be on the right side of assignment\n\ns = input('Enter a word: ')   # whatever the user types will be assigned to s",
      "outputs": []
    },
    {
      "id": "32350b66-aa6a-41fb-8dbe-8e54b567d048",
      "cell_type": "code",
      "metadata": {
        "jupyter": {
          "outputs_hidden": false,
          "source_hidden": false
        },
        "noteable": {
          "cell_type": "code",
          "output_collection_id": "c899fb39-4917-4815-9a70-659f5e888bcc"
        },
        "ExecuteTime": {
          "end_time": "2023-12-08T12:53:13.977960+00:00",
          "start_time": "2023-12-08T12:53:13.823204+00:00"
        }
      },
      "execution_count": null,
      "source": "print(s)",
      "outputs": []
    },
    {
      "id": "42db0fc8-5f6e-469a-8769-1dd810fa132a",
      "cell_type": "code",
      "metadata": {
        "jupyter": {
          "outputs_hidden": false,
          "source_hidden": false
        },
        "noteable": {
          "cell_type": "code",
          "output_collection_id": "cfac1478-0744-49b4-95e6-31572bd98084"
        },
        "ExecuteTime": {
          "end_time": "2023-12-08T12:53:19.418624+00:00",
          "start_time": "2023-12-08T12:53:19.264265+00:00"
        }
      },
      "execution_count": null,
      "source": "print(s + s)",
      "outputs": []
    },
    {
      "id": "1e61a74e-6587-4710-9a6b-7af975c939c8",
      "cell_type": "code",
      "metadata": {
        "jupyter": {
          "outputs_hidden": false,
          "source_hidden": false
        },
        "noteable": {
          "cell_type": "code",
          "output_collection_id": "d1bb9c53-469c-4cec-9d92-1fa44b78e551"
        },
        "ExecuteTime": {
          "end_time": "2023-12-08T12:53:57.484446+00:00",
          "start_time": "2023-12-08T12:53:50.166914+00:00"
        }
      },
      "execution_count": null,
      "source": "name = input('Enter your name: ')\n\nprint('Hello, ' + name + '!')",
      "outputs": []
    },
    {
      "id": "7fd2269b-e9d6-472c-86b0-a23b1084c4de",
      "cell_type": "markdown",
      "source": "# Comparison operators\n\nJust as `+` sits between two values and returns a new value, we have comparison operators in Python that sit between two values and return ... an indication of how these values compare with one another.\n\nMeaning: I can find out if two variables contain the same value.\n\nIn Python, we use `==` to compare two values This operator returns one of two results: `True` or `False`.\n\nOther comparison operators:\n\n- `==` -- equals\n- `!=` -- not equals (≠)\n- `<` -- less than\n- `>` -- greater than\n- `<=` -- less than or equal to\n- `>=` -- greater than or equal to",
      "metadata": {}
    },
    {
      "id": "e5160945-22e9-4406-879a-a6767c4b8bc0",
      "cell_type": "code",
      "metadata": {
        "noteable": {
          "cell_type": "python",
          "output_collection_id": "38b55971-7c78-4dec-9de9-d3d5160f06c1"
        },
        "ExecuteTime": {
          "end_time": "2023-12-08T12:56:52.613860+00:00",
          "start_time": "2023-12-08T12:56:52.454712+00:00"
        }
      },
      "execution_count": null,
      "source": "10 > 5",
      "outputs": []
    },
    {
      "id": "f30286f5-819c-44fb-ad53-df734f36aa31",
      "cell_type": "code",
      "metadata": {
        "jupyter": {
          "outputs_hidden": false,
          "source_hidden": false
        },
        "noteable": {
          "cell_type": "code",
          "output_collection_id": "90fd112f-3d85-4770-883f-d2546aed2e97"
        },
        "ExecuteTime": {
          "end_time": "2023-12-08T12:56:59.874646+00:00",
          "start_time": "2023-12-08T12:56:59.716887+00:00"
        }
      },
      "execution_count": null,
      "source": "x = 10\ny = 5\n\nx > y",
      "outputs": []
    },
    {
      "id": "c900051b-b926-4a5b-8778-3ccef4e93910",
      "cell_type": "code",
      "metadata": {
        "jupyter": {
          "outputs_hidden": false,
          "source_hidden": false
        },
        "noteable": {
          "cell_type": "code",
          "output_collection_id": "1983ead5-237b-42a3-b114-880ce63948ec"
        },
        "ExecuteTime": {
          "end_time": "2023-12-08T12:57:12.595809+00:00",
          "start_time": "2023-12-08T12:57:12.439130+00:00"
        }
      },
      "execution_count": null,
      "source": "x = 10\ny = '10'\n\nx == y",
      "outputs": []
    },
    {
      "id": "16b9f665-b261-42da-a401-40027806a7ed",
      "cell_type": "code",
      "metadata": {
        "jupyter": {
          "outputs_hidden": false,
          "source_hidden": false
        },
        "noteable": {
          "cell_type": "code",
          "output_collection_id": "203a4c46-bbaa-4d00-aa9d-ec32a84a5c6a"
        },
        "ExecuteTime": {
          "end_time": "2023-12-08T12:59:06.036078+00:00",
          "start_time": "2023-12-08T12:59:05.881088+00:00"
        }
      },
      "execution_count": null,
      "source": "# how can we display things more easily?\n# can't we just create a string and tell Python, \"Stick this value in the string\"?\n# Yes! \n\n# We can use an f-string. (Short for \"format string\" or \"fancy string\")\n# An f-string starts with the letter f, just before the opening quote\n# Inside of an f-string, we can have {}\n# Inside of the {}, we can have a variable or any other expression\n# Outside of the {}, it's a regular ol' string\n\nx = 'abcd'\ny = 1234\n\ns = f'x = {x}, y = {y}!'   # I was able to put an integer inside of my string!\nprint(s)",
      "outputs": []
    },
    {
      "id": "01ff9001-ccef-46bd-97ba-1e186727606d",
      "cell_type": "markdown",
      "source": "# Exercise: More sophsticiated greeting\n\n1. Ask the user to enter their name, and assign to `name`.\n2. Ask the user to enter their city, and assign to `city`.\n3. Print a nice greeting, using an f-string, showing both their name and city.",
      "metadata": {}
    },
    {
      "id": "9686c680-0c2b-49b1-8374-306322ccabe5",
      "cell_type": "code",
      "metadata": {
        "noteable": {
          "output_collection_id": "8fe0b7d2-e5bd-49b6-9626-35072dc3d02d"
        },
        "ExecuteTime": {
          "end_time": "2023-12-08T13:09:15.800858+00:00",
          "start_time": "2023-12-08T13:09:06.868593+00:00"
        }
      },
      "execution_count": null,
      "source": "name = input('Enter your name: ')\ncity = input('Enter your city: ')\n\nprint(f'Hello, {name} from {city}!')",
      "outputs": []
    },
    {
      "id": "88edc48d-2df3-4d67-9822-76fdc8951e2a",
      "cell_type": "code",
      "metadata": {
        "jupyter": {
          "outputs_hidden": false,
          "source_hidden": false
        },
        "noteable": {
          "cell_type": "code",
          "output_collection_id": "5c383ee8-7653-4273-897d-76bcc3fa8f8c"
        },
        "ExecuteTime": {
          "end_time": "2023-12-08T13:09:54.674994+00:00",
          "start_time": "2023-12-08T13:09:54.520017+00:00"
        }
      },
      "execution_count": null,
      "source": "# if you want to have a newline in your text string, you can use \\n\n\nprint('abcd\\nefgh')",
      "outputs": []
    },
    {
      "id": "d1b5787d-48b8-488a-bead-fa4e751cd579",
      "cell_type": "code",
      "metadata": {
        "jupyter": {
          "outputs_hidden": false,
          "source_hidden": false
        },
        "noteable": {
          "cell_type": "code",
          "output_collection_id": "308c4297-c0c8-495d-af11-8d3a8c31d005"
        },
        "ExecuteTime": {
          "end_time": "2023-12-08T13:15:17.584223+00:00",
          "start_time": "2023-12-08T13:15:13.467199+00:00"
        }
      },
      "execution_count": null,
      "source": "# here, we ask the user to enter their name with input, and we assign that value to name\nname = input('Enter your name: ')\n\n# if in Python looks to its right, and checks to see if there is a True or False value there\n# - if the condition is True, then the block immediately following the \"if\" is run\n# - at the end of the \"if\" line, we need a colon (:)\n# - the block must be indented, traditionally with 4 spaces\n# - however many lines you want to be in the block is OK -- just keep them all indented\n# - any code you want at all can be inside of that indented block\n\n# if the condition to the right of \"if\" is False, and if there is an \"else\" block\n# then that \"else\" block runs\n\n# else doesn't have a condition -- it basically runs when if doesn't\n\n# either if or else will run -- one of them is guaranteed to run\n# it cannot be that zero or both will run\n\nif name == 'Reuven':\n    print('Hello, boss!')\n    print('It is great to see you again!')\nelse:\n    print(f'Hello, {name}.')",
      "outputs": []
    },
    {
      "id": "688c605d-f1ee-47d5-9f94-68e157c2c810",
      "cell_type": "markdown",
      "source": "# Exercise: Which comes first?\n\n1. Ask the user to enter a word, and assign it to `first`.\n2. Ask the user to enter a second (and different) word, and assign it to `second`.\n3. Tell the user which word comes first alphabetically.\n\nHints/ideas:\n1. If you use `<` and `>` on text strings, you'll be able to find out which word comes first (or last). Earlier in the alphabet is `<`, later in the alphabet is `>`.\n2. Only use lowercase letters, or things will go very badly very quickly.\n3. Don't enter the same word twice, or you'll get a bad bug.",
      "metadata": {}
    },
    {
      "id": "a124f111-e1ce-44e6-a7eb-12143976b80a",
      "cell_type": "code",
      "metadata": {
        "noteable": {
          "cell_type": "python",
          "output_collection_id": "d5aef3f0-c51e-4db1-8765-69abff4e2dee"
        },
        "ExecuteTime": {
          "end_time": "2023-12-08T13:25:39.273173+00:00",
          "start_time": "2023-12-08T13:25:28.263374+00:00"
        }
      },
      "execution_count": null,
      "source": "first = input('Enter a word: ')\nsecond = input('Enter a second word: ')\n\nif first < second:\n    print(f'{first} comes before {second}.')\nelse:\n    print(f'{second} comes before {first}')",
      "outputs": []
    },
    {
      "id": "9b11fcfc-54ed-4efb-85c1-bdafc2d53a6c",
      "cell_type": "markdown",
      "source": "# Next time\n\n1. More complex conditions\n2. Integers and floats -- working with numbers",
      "metadata": {}
    },
    {
      "id": "2e2dc6df-c7c9-4810-bf8e-dbcf84205cbd",
      "cell_type": "markdown",
      "source": "",
      "metadata": {
        "noteable": {
          "cell_type": "markdown"
        }
      }
    }
  ]
}