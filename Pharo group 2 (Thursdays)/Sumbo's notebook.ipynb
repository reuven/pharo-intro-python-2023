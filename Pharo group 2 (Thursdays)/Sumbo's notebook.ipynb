{
  "nbformat": 4,
  "nbformat_minor": 5,
  "metadata": {
    "kernel_info": {
      "name": "python3.9-noteable"
    },
    "kernelspec": {
      "display_name": "Python 3.9 (Noteable)",
      "identifier": "noteable",
      "language": "python",
      "language_version": "3.9",
      "name": "python3.9-noteable"
    },
    "selected_hardware_size": "small"
  },
  "cells": [
    {
      "id": "8f3c83e5",
      "cell_type": "code",
      "metadata": {
        "noteable": {
          "output_collection_id": "e58307d8-47c1-49f3-a515-650d03e9fe3c"
        },
        "ExecuteTime": null
      },
      "execution_count": null,
      "source": "name = 'Sumbo'\n\n'Hello ' + name + '!'",
      "outputs": []
    }
  ]
}