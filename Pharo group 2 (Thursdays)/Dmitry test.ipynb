{
  "nbformat": 4,
  "nbformat_minor": 5,
  "metadata": {
    "kernel_info": {
      "name": "python3"
    },
    "kernelspec": {
      "display_name": "Python 3.9",
      "identifier": "legacy",
      "language": "python",
      "language_version": "3.9",
      "name": "python3"
    },
    "selected_hardware_size": "small"
  },
  "cells": [
    {
      "id": "e30e3639",
      "cell_type": "code",
      "metadata": {
        "noteable": {
          "output_collection_id": "55492013-2ac1-47b5-bcc1-7def00d33dd5"
        },
        "ExecuteTime": {
          "end_time": "2023-12-04T18:02:18.068705+00:00",
          "start_time": "2023-12-04T18:02:00.031096+00:00"
        }
      },
      "execution_count": null,
      "source": "name = input(\"Enter your name:\")\ncity = input(\"Enter the city are from:\")\nprint('Hello ' + name + ', how is life in ' + city + '?')\n",
      "outputs": []
    },
    {
      "id": "607ecca7-ceb1-4425-8386-b2b64f45d6d2",
      "cell_type": "code",
      "metadata": {
        "jupyter": {
          "outputs_hidden": false,
          "source_hidden": false
        },
        "noteable": {
          "cell_type": "code",
          "output_collection_id": "4a79bd95-ef6b-489f-b3a5-4992af919e12"
        },
        "ExecuteTime": {
          "end_time": "2023-12-08T12:45:43.143928+00:00",
          "start_time": "2023-12-08T12:45:42.989192+00:00"
        }
      },
      "execution_count": null,
      "source": "name = 'Dmitry'\nprint(f'Hello there mr.{name}!')",
      "outputs": []
    }
  ]
}