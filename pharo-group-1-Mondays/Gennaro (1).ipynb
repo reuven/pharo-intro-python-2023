{
  "nbformat": 4,
  "nbformat_minor": 5,
  "metadata": {
    "kernel_info": {
      "name": "python3"
    },
    "kernelspec": {
      "display_name": "Python 3.9",
      "identifier": "legacy",
      "language": "python",
      "language_version": "3.9",
      "name": "python3"
    },
    "selected_hardware_size": "small"
  },
  "cells": [
    {
      "id": "9b415885",
      "cell_type": "code",
      "metadata": {
        "noteable": {
          "output_collection_id": "211df6dc-26d4-401d-a18b-b25cac8a6997"
        },
        "ExecuteTime": {
          "end_time": "2023-12-14T12:23:58.531514+00:00",
          "start_time": "2023-12-14T12:23:58.376101+00:00"
        }
      },
      "execution_count": null,
      "source": "x = 100\n\nif x == 50:\n    print('Yes, it is 50!')\nelif x == 75:\n    print('Yes, it is 75!')\nelif x == 100:\n    print('Yes, it is 100!')\nelse:\n    print('I have no idea what it is')",
      "outputs": []
    },
    {
      "id": "24196682-0512-4b97-a0ad-c8755e64038c",
      "cell_type": "code",
      "metadata": {
        "jupyter": {
          "outputs_hidden": false,
          "source_hidden": false
        },
        "noteable": {
          "cell_type": "code",
          "output_collection_id": "4ec3d47c-013b-4541-af70-20de91594abc"
        },
        "ExecuteTime": {
          "end_time": "2023-12-14T12:24:25.466532+00:00",
          "start_time": "2023-12-14T12:24:25.310931+00:00"
        }
      },
      "execution_count": null,
      "source": "x = 100\n\nif x > 50:\n    print('Yes, it is > 50!')\nelif x > 75:\n    print('Yes, it is > 75!')\nelif x > 100:\n    print('Yes, it is > 100!')\nelse:\n    print('I have no idea what it is')",
      "outputs": []
    },
    {
      "id": "5b225117-35f1-4d8e-9c59-4f3111e40a1d",
      "cell_type": "code",
      "metadata": {
        "jupyter": {
          "outputs_hidden": false,
          "source_hidden": false
        },
        "noteable": {
          "cell_type": "code",
          "output_collection_id": "a262ac5d-4e88-421b-a4d3-e97967f55775"
        },
        "ExecuteTime": {
          "end_time": "2023-12-14T12:24:42.164344+00:00",
          "start_time": "2023-12-14T12:24:42.008911+00:00"
        }
      },
      "execution_count": null,
      "source": "# Turn around the order\n\nx = 100\n\nif x > 100:\n    print('Yes, it is > 100!')\nelif x > 75:\n    print('Yes, it is > 75!')\nelif x > 50:\n    print('Yes, it is > 50!')\nelse:\n    print('I have no idea what it is')",
      "outputs": []
    },
    {
      "id": "d19c42a6-0f61-4f50-b186-6768836ef942",
      "cell_type": "code",
      "metadata": {
        "jupyter": {
          "outputs_hidden": false,
          "source_hidden": false
        },
        "noteable": {
          "cell_type": "code",
          "output_collection_id": "e4911ac9-7da7-4730-aa75-0da464c3b7bd"
        },
        "ExecuteTime": {
          "end_time": "2023-12-14T12:27:45.716507+00:00",
          "start_time": "2023-12-14T12:27:45.561838+00:00"
        }
      },
      "execution_count": null,
      "source": "word = 'hello'\nprint(word)",
      "outputs": []
    },
    {
      "id": "fe6ab30e-27d8-44eb-b40c-021a855f4f81",
      "cell_type": "code",
      "metadata": {
        "jupyter": {
          "outputs_hidden": false,
          "source_hidden": false
        },
        "noteable": {
          "cell_type": "code",
          "output_collection_id": "17d367e2-88cf-4b6e-ad8f-f2d2f5fc0f9e"
        },
        "ExecuteTime": {
          "end_time": "2023-12-14T12:31:10.042650+00:00",
          "start_time": "2023-12-14T12:30:30.902889+00:00"
        }
      },
      "execution_count": null,
      "source": "first = input('Enter first word: ')\nsecond = input('Enter second word: ')\n\nif first < second:\n    print(f'{first} comes before {second}')\nelif second < first:\n    print(f'{second} comes before {first}')\nelse:\n    print(f'{first} and {second} are the same')\n    ",
      "outputs": []
    },
    {
      "id": "472f0a62-2a22-498e-bca4-60187ccd3646",
      "cell_type": "code",
      "metadata": {
        "jupyter": {
          "outputs_hidden": false,
          "source_hidden": false
        },
        "noteable": {
          "cell_type": "code",
          "output_collection_id": "4e85e570-b954-4c96-ad2b-ca8bc48a5c6e"
        },
        "ExecuteTime": {
          "end_time": "2023-12-14T12:32:44.556991+00:00",
          "start_time": "2023-12-14T12:32:44.400606+00:00"
        }
      },
      "execution_count": null,
      "source": "x = 10    # integer\ny = '10'  # text string\n\nx == y",
      "outputs": []
    },
    {
      "id": "60116148-4a36-4ac6-b7f3-1f2ffeefed1e",
      "cell_type": "code",
      "metadata": {
        "jupyter": {
          "outputs_hidden": false,
          "source_hidden": false
        },
        "noteable": {
          "cell_type": "code",
          "output_collection_id": "4d71d346-8a5e-4827-a027-b426d641cf25"
        },
        "ExecuteTime": {
          "end_time": "2023-12-14T12:33:10.138032+00:00",
          "start_time": "2023-12-14T12:33:09.983131+00:00"
        }
      },
      "execution_count": null,
      "source": "x = 101\n\nif x == 100:\n    print('yes, it is 100!')\nelse:\n    print('No, it is not!')\n    print('Really!')\n    y = 200\n\nprint(\"Now I am done\")",
      "outputs": []
    },
    {
      "id": "6a9777ae-ac60-43b7-9e3f-6db89285f3b2",
      "cell_type": "code",
      "metadata": {
        "jupyter": {
          "outputs_hidden": false,
          "source_hidden": false
        },
        "noteable": {
          "cell_type": "code",
          "output_collection_id": "ca977858-2d85-49e6-b3c5-6593b8b795d6"
        },
        "ExecuteTime": {
          "end_time": "2023-12-14T12:48:03.667324+00:00",
          "start_time": "2023-12-14T12:47:29.270370+00:00"
        }
      },
      "execution_count": null,
      "source": "name = input('Enter your name: ')\ncompany = input('Enter your company: ')\n\nif name == 'Reuven' and company == 'Lerner':\n    print('Hey, you must be me!')\nelif name == 'Reuven':\n    print('Great name, awful company')\nelif company == 'Lerner':\n    print(f'Hello, {name}, my amazing colleague!')\nelse:\n    print(f'I do not know who you are, {name}... and do not want to...')",
      "outputs": []
    },
    {
      "id": "5a4294ce-68dc-4518-a40a-368fd194e813",
      "cell_type": "code",
      "metadata": {
        "jupyter": {
          "outputs_hidden": false,
          "source_hidden": false
        },
        "noteable": {
          "cell_type": "code",
          "output_collection_id": "90d92e94-2495-4567-b71d-d77399833849"
        },
        "ExecuteTime": {
          "end_time": "2023-12-14T12:48:51.184026+00:00",
          "start_time": "2023-12-14T12:48:35.687856+00:00"
        }
      },
      "execution_count": null,
      "source": "name = input('Enter your name: ')\ncompany = input('Enter your company: ')\n\nif name == 'Reuven' and company == 'Lerner':\n    print('Hey, you must be me!')\nelif name == 'Reuven':\n    print('Great name, awful company')\nelif company == 'Lerner':\n    print(f'Hello, {name}, my amazing colleague!')\nelse:\n    print(f'I do not know who you are, {name}... and do not want to...')",
      "outputs": []
    },
    {
      "id": "4438db85-a857-4ffd-b7dc-83e863134478",
      "cell_type": "code",
      "metadata": {
        "jupyter": {
          "outputs_hidden": false,
          "source_hidden": false
        },
        "noteable": {
          "cell_type": "code",
          "output_collection_id": "586ffcf5-6509-4843-9f16-34582364990b"
        },
        "ExecuteTime": {
          "end_time": "2023-12-14T12:57:04.743821+00:00",
          "start_time": "2023-12-14T12:57:04.587890+00:00"
        }
      },
      "execution_count": null,
      "source": "str(x) + '20'  ",
      "outputs": []
    },
    {
      "id": "2bd5dcbf-9f2a-4fb7-bd40-c2919b9d3aea",
      "cell_type": "code",
      "metadata": {
        "jupyter": {
          "outputs_hidden": false,
          "source_hidden": false
        },
        "noteable": {
          "cell_type": "code",
          "output_collection_id": "95f9dec0-fd17-4cde-a52c-da9adbb7e04d"
        },
        "ExecuteTime": {
          "end_time": "2023-12-14T12:57:41.985012+00:00",
          "start_time": "2023-12-14T12:57:41.829214+00:00"
        }
      },
      "execution_count": null,
      "source": "int(x) + 20",
      "outputs": []
    },
    {
      "id": "23d58327-6c89-4555-9b31-b1da3358c32f",
      "cell_type": "code",
      "metadata": {
        "jupyter": {
          "outputs_hidden": false,
          "source_hidden": false
        },
        "noteable": {
          "cell_type": "code",
          "output_collection_id": "f5f33722-c78c-4e75-925c-a8a02872a079"
        },
        "ExecuteTime": {
          "end_time": "2023-12-14T12:57:36.014895+00:00",
          "start_time": "2023-12-14T12:57:35.859240+00:00"
        }
      },
      "execution_count": null,
      "source": "x = 10    # x is an integer\nstr(x)    # give me a string based on x",
      "outputs": []
    },
    {
      "id": "3a7db6f7-2d72-4a4f-8544-01c7e2422938",
      "cell_type": "code",
      "metadata": {
        "jupyter": {
          "outputs_hidden": false,
          "source_hidden": false
        },
        "noteable": {
          "cell_type": "code",
          "output_collection_id": "449dc452-ff06-483c-9d44-15b0c3f29c9f"
        },
        "ExecuteTime": {
          "end_time": "2023-12-14T13:06:59.038246+00:00",
          "start_time": "2023-12-14T13:06:53.908033+00:00"
        }
      },
      "execution_count": null,
      "source": "number = 72\n\nguess = input('Guess the number: ')\nguess = int(guess)   # convert the input into an int\n\nif guess == number:\n    print('You got it!')\nelif guess < number:\n    print('Too low!')\nelse:\n    print('Too high!')",
      "outputs": []
    },
    {
      "id": "ed6a99b0-19ab-43e7-a056-533726edd1c6",
      "cell_type": "code",
      "metadata": {
        "jupyter": {
          "outputs_hidden": false,
          "source_hidden": false
        },
        "noteable": {
          "cell_type": "code",
          "output_collection_id": "2e533283-ddd3-4de3-a68e-a9422cba01d0"
        },
        "ExecuteTime": {
          "end_time": "2023-12-14T13:07:22.255733+00:00",
          "start_time": "2023-12-14T13:07:17.649782+00:00"
        }
      },
      "execution_count": null,
      "source": "number = 72\n\nguess = input('Guess the number: ')\nguess = int(guess)   # convert the input into an int\n\nif guess == number:\n    print('You got it!')\nelif guess < number:\n    print('Too low!')\nelse:\n    print('Too high!')",
      "outputs": []
    },
    {
      "id": "78392572-d59b-446f-ae0d-be9d0a4aab5c",
      "cell_type": "code",
      "metadata": {
        "jupyter": {
          "outputs_hidden": false,
          "source_hidden": false
        },
        "noteable": {
          "cell_type": "code",
          "output_collection_id": "a014de88-6036-40a3-9c39-9bc46d24df8c"
        },
        "ExecuteTime": {
          "end_time": "2023-12-14T13:07:44.071239+00:00",
          "start_time": "2023-12-14T13:07:39.781455+00:00"
        }
      },
      "execution_count": null,
      "source": "number = 72\n\nguess = input('Guess the number: ')\nguess = int(guess)   # convert the input into an int\n\nif guess == number:\n    print('You got it!')\nelif guess < number:\n    print('Too low!')\nelse:\n    print('Too high!')",
      "outputs": []
    },
    {
      "id": "761a1501-cefc-469c-a447-9f8271852a05",
      "cell_type": "code",
      "metadata": {
        "jupyter": {
          "outputs_hidden": false,
          "source_hidden": false
        },
        "noteable": {
          "cell_type": "code",
          "output_collection_id": "af2ca1aa-fc45-4534-b3d8-7b23d998e86b"
        },
        "ExecuteTime": {
          "end_time": "2023-12-14T13:14:33.948339+00:00",
          "start_time": "2023-12-14T13:14:33.792377+00:00"
        }
      },
      "execution_count": null,
      "source": "s = 'abcdefghijklmnopqrstuvwxyz'\n\n# get the length of this string with the len() function\nlen(s)",
      "outputs": []
    },
    {
      "id": "5865a880-45c3-4896-bdb2-f8d47d28c4ff",
      "cell_type": "code",
      "metadata": {
        "jupyter": {
          "outputs_hidden": false,
          "source_hidden": false
        },
        "noteable": {
          "cell_type": "code",
          "output_collection_id": "e159180c-80d6-46ad-9a98-1d687c0e1a7b"
        },
        "ExecuteTime": {
          "end_time": "2023-12-14T13:17:54.706473+00:00",
          "start_time": "2023-12-14T13:17:54.550152+00:00"
        }
      },
      "execution_count": null,
      "source": "# final character in this way...\ns[  len(s)-1  ]",
      "outputs": []
    },
    {
      "id": "fb5373be-6f45-4d82-ae83-bb42f025505c",
      "cell_type": "code",
      "metadata": {
        "jupyter": {
          "outputs_hidden": false,
          "source_hidden": false
        },
        "noteable": {
          "cell_type": "code",
          "output_collection_id": "3a513be7-d850-4a61-a4a7-bfa241a77e7a"
        },
        "ExecuteTime": {
          "end_time": "2023-12-14T13:22:33.533039+00:00",
          "start_time": "2023-12-14T13:22:33.378096+00:00"
        }
      },
      "execution_count": null,
      "source": "i = 5\ns[i]",
      "outputs": []
    },
    {
      "id": "dfc53b8e-81c5-4d50-8cc2-a6e2de49591c",
      "cell_type": "code",
      "metadata": {
        "jupyter": {
          "outputs_hidden": false,
          "source_hidden": false
        },
        "noteable": {
          "cell_type": "code",
          "output_collection_id": "d4f11c7e-58e1-45fb-95d4-7172360e04da"
        },
        "ExecuteTime": {
          "end_time": "2023-12-14T13:23:11.784287+00:00",
          "start_time": "2023-12-14T13:23:11.628086+00:00"
        }
      },
      "execution_count": null,
      "source": "s[  len(s)-1  ]",
      "outputs": []
    },
    {
      "id": "8c0f541d-b44b-4fa5-a19a-e0c7b26a3970",
      "cell_type": "code",
      "metadata": {
        "jupyter": {
          "outputs_hidden": false,
          "source_hidden": false
        },
        "noteable": {
          "cell_type": "code",
          "output_collection_id": "4d8290f0-c0c5-4008-8fea-489035be3d69"
        },
        "ExecuteTime": {
          "end_time": "2023-12-14T13:23:29.601558+00:00",
          "start_time": "2023-12-14T13:23:29.445433+00:00"
        }
      },
      "execution_count": null,
      "source": "s[-1]",
      "outputs": []
    },
    {
      "id": "61a5d5d8-3aa9-45c6-975b-f6f466f574e2",
      "cell_type": "code",
      "metadata": {
        "jupyter": {
          "outputs_hidden": false,
          "source_hidden": false
        },
        "noteable": {
          "cell_type": "code",
          "output_collection_id": "0a9d25b6-ba23-40be-97c2-6eb3338f2bfe"
        },
        "ExecuteTime": {
          "end_time": "2023-12-14T13:23:57.202475+00:00",
          "start_time": "2023-12-14T13:23:57.045960+00:00"
        }
      },
      "execution_count": null,
      "source": "s[-10]  # means: count 10 characters from the end of the string",
      "outputs": []
    },
    {
      "id": "41089bfa-6ce0-40f7-a3ce-afafc7dfee3c",
      "cell_type": "code",
      "metadata": {
        "jupyter": {
          "outputs_hidden": false,
          "source_hidden": false
        },
        "noteable": {
          "cell_type": "code"
        }
      },
      "execution_count": null,
      "source": "",
      "outputs": []
    }
  ]
}