{
 "cells": [
  {
   "cell_type": "code",
   "execution_count": null,
   "id": "bd8e3a18",
   "metadata": {},
   "outputs": [],
   "source": [
    "s = input('Enter a string: ')\n",
    "\n",
    "vowels: 0\n",
    "digits: 0\n",
    "others: 0\n",
    "\n",
    "for vowels in s:\n",
    "    if "
   ]
  }
 ],
 "metadata": {
  "kernelspec": {
   "display_name": "Python 3 (ipykernel)",
   "language": "python",
   "name": "python3"
  },
  "language_info": {
   "codemirror_mode": {
    "name": "ipython",
    "version": 3
   },
   "file_extension": ".py",
   "mimetype": "text/x-python",
   "name": "python",
   "nbconvert_exporter": "python",
   "pygments_lexer": "ipython3",
   "version": "3.11.6"
  }
 },
 "nbformat": 4,
 "nbformat_minor": 5
}
