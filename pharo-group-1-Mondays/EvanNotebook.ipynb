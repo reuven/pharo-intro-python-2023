{
 "cells": [
  {
   "cell_type": "code",
   "execution_count": 5,
   "id": "732f4990",
   "metadata": {},
   "outputs": [
    {
     "name": "stdout",
     "output_type": "stream",
     "text": [
      "Enter a string: sea123\n",
      "vowels = 2\n",
      "digits = 3\n",
      "others = 1\n"
     ]
    }
   ],
   "source": [
    "vowels = 0\n",
    "digits = 0\n",
    "others = 0\n",
    "\n",
    "s = input('Enter a string: ').strip()\n",
    "\n",
    "for one_character in s:\n",
    "    if one_character.isdigit():\n",
    "        #print(f'{one character} is a digit')\n",
    "        digits += 1\n",
    "        \n",
    "    elif one_character in 'aeiou':\n",
    "        #print(f'{one character} is a vowel')\n",
    "        vowels += 1\n",
    "        \n",
    "    else:\n",
    "        #print(f'{one_character} is something else')\n",
    "        others += 1\n",
    "        \n",
    "print(f'vowels = {vowels}')        \n",
    "print(f'digits = {digits}')\n",
    "print(f'others = {others}')"
   ]
  },
  {
   "cell_type": "code",
   "execution_count": 14,
   "id": "10d1e5b8",
   "metadata": {},
   "outputs": [
    {
     "name": "stdout",
     "output_type": "stream",
     "text": [
      "E\n",
      "E\n",
      "Ev\n",
      "Eva\n",
      "Evan\n"
     ]
    }
   ],
   "source": [
    "s = 'Evan'\n",
    "\n",
    "print(s[:1])\n",
    "\n",
    "for maxindex in range(4):\n",
    "    print(s[:maxindex+1])\n",
    "    \n",
    "    \n",
    "    \n"
   ]
  },
  {
   "cell_type": "code",
   "execution_count": 15,
   "id": "db2d6626",
   "metadata": {},
   "outputs": [
    {
     "name": "stdout",
     "output_type": "stream",
     "text": [
      "E\n",
      "Ev\n",
      "Eva\n",
      "Evan\n"
     ]
    }
   ],
   "source": [
    "s = 'Evan'\n",
    "\n",
    "for maxindex in range(len(s)):\n",
    "    print(s[:maxindex+1])"
   ]
  },
  {
   "cell_type": "code",
   "execution_count": 16,
   "id": "87347936",
   "metadata": {},
   "outputs": [
    {
     "name": "stdout",
     "output_type": "stream",
     "text": [
      "Enter your name: evan\n",
      "e\n",
      "ev\n",
      "eva\n",
      "evan\n"
     ]
    }
   ],
   "source": [
    "s = input('Enter your name: ').strip()\n",
    "\n",
    "for maxindex in range(len(s)):\n",
    "    print(s[:maxindex+1])"
   ]
  },
  {
   "cell_type": "code",
   "execution_count": 20,
   "id": "4030844f",
   "metadata": {},
   "outputs": [
    {
     "name": "stdout",
     "output_type": "stream",
     "text": [
      "Enter an integer: 1234\n",
      "1 * 10 ** 3\n",
      "2 * 10 ** 2\n",
      "3 * 10 ** 1\n",
      "4 * 10 ** 0\n"
     ]
    }
   ],
   "source": [
    "s = input('Enter an integer: ').strip()\n",
    "\n",
    "for index, one_digit in enumerate(s):\n",
    "    print(f'{one_digit} * 10 ** {len(s) - index - 1}')"
   ]
  },
  {
   "cell_type": "code",
   "execution_count": null,
   "id": "a5339151",
   "metadata": {},
   "outputs": [],
   "source": [
    "total = 0\n",
    "\n",
    "while total < 100\n",
    "    s = inpout"
   ]
  }
 ],
 "metadata": {
  "kernelspec": {
   "display_name": "Python 3 (ipykernel)",
   "language": "python",
   "name": "python3"
  },
  "language_info": {
   "codemirror_mode": {
    "name": "ipython",
    "version": 3
   },
   "file_extension": ".py",
   "mimetype": "text/x-python",
   "name": "python",
   "nbconvert_exporter": "python",
   "pygments_lexer": "ipython3",
   "version": "3.11.6"
  }
 },
 "nbformat": 4,
 "nbformat_minor": 5
}
