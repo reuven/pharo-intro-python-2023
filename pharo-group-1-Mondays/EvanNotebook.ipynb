{
 "cells": [
  {
   "cell_type": "code",
   "execution_count": 5,
   "id": "1a0dbbac",
   "metadata": {},
   "outputs": [
    {
     "name": "stdout",
     "output_type": "stream",
     "text": [
      "Enter a string: sea123\n",
      "vowels = 2\n",
      "digits = 3\n",
      "others = 1\n"
     ]
    }
   ],
   "source": [
    "vowels = 0\n",
    "digits = 0\n",
    "others = 0\n",
    "\n",
    "s = input('Enter a string: ').strip()\n",
    "\n",
    "for one_character in s:\n",
    "    if one_character.isdigit():\n",
    "        #print(f'{one character} is a digit')\n",
    "        digits += 1\n",
    "        \n",
    "    elif one_character in 'aeiou':\n",
    "        #print(f'{one character} is a vowel')\n",
    "        vowels += 1\n",
    "        \n",
    "    else:\n",
    "        #print(f'{one_character} is something else')\n",
    "        others += 1\n",
    "        \n",
    "print(f'vowels = {vowels}')        \n",
    "print(f'digits = {digits}')\n",
    "print(f'others = {others}')"
   ]
  },
  {
   "cell_type": "code",
   "execution_count": null,
   "id": "0bb9798d",
   "metadata": {},
   "outputs": [],
   "source": [
    "s = input('Enter your name: ')\n",
    "\n",
    "for "
   ]
  }
 ],
 "metadata": {
  "kernelspec": {
   "display_name": "Python 3 (ipykernel)",
   "language": "python",
   "name": "python3"
  },
  "language_info": {
   "codemirror_mode": {
    "name": "ipython",
    "version": 3
   },
   "file_extension": ".py",
   "mimetype": "text/x-python",
   "name": "python",
   "nbconvert_exporter": "python",
   "pygments_lexer": "ipython3",
   "version": "3.11.6"
  }
 },
 "nbformat": 4,
 "nbformat_minor": 5
}
