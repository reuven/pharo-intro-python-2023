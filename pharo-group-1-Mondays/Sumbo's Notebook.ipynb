{
 "cells": [
  {
   "cell_type": "markdown",
   "id": "15895345",
   "metadata": {
    "noteable": {
     "cell_type": "markdown"
    }
   },
   "source": [
    "Exercise: Which word comes first?\n",
    "Ask the user (with input) to enter a word, and assign to first.\n",
    "Ask the user (with input) to enter a second word, and assign to second.\n",
    "Use if and else to tell the user which of these words comes first in the dictionary.\n",
    "Hints/ideas:\n",
    "\n",
    "You can use < and > on text strings, and whatever is \"less\" comes earlier in the dictionary.\n",
    "Only use lowercase letters -- no capitals, no symbols, no integers -- because that'll throw off the dictionary order.\n",
    "For now, assume the user enters two different words."
   ]
  },
  {
   "cell_type": "code",
   "execution_count": null,
   "id": "af6fdc54-b4d8-4266-be9d-343cc8061cee",
   "metadata": {
    "ExecuteTime": null,
    "jupyter": {
     "outputs_hidden": false,
     "source_hidden": false
    },
    "noteable": {
     "cell_type": "code",
     "output_collection_id": "a3118f10-6525-4040-be76-aebd539020bf"
    }
   },
   "outputs": [],
   "source": [
    "first = input('Please enter your first word: ')\n",
    "second = input('Please enter your second word: ')\n",
    "\n",
    "if first < second:\n",
    "    print (f'{first} comes before {second}')\n",
    "else:\n",
    "    print(f'{second} comes before {first}')\n",
    "    "
   ]
  },
  {
   "cell_type": "markdown",
   "id": "d1c1d6c8-48ad-44e9-8f44-596c2bd8389c",
   "metadata": {
    "noteable": {
     "cell_type": "markdown"
    }
   },
   "source": [
    "Exercise: Name and company\n",
    "\n",
    "Ask the user to enter their name, and assign to name\n",
    "Ask the user to enter their company, and assign to company\n",
    "Give one of four outputs:\n",
    "If both match you, then give a nice greeting (\"you must be me\")\n",
    "If only the name is the same, then compliment their name\n",
    "If only the company is the same, then greet your colleague\n",
    "If neither is the same, then be snarky"
   ]
  },
  {
   "cell_type": "code",
   "execution_count": null,
   "id": "f12720ff-a652-4c6b-a2d7-e2b1e7557a24",
   "metadata": {
    "ExecuteTime": null,
    "noteable": {
     "cell_type": "python",
     "output_collection_id": "9258805e-d2fa-43de-bdbe-9027733739a8"
    }
   },
   "outputs": [],
   "source": [
    "name = input('Please enter your name: ')\n",
    "company = input(\"Please enter your company's name: \")\n",
    "\n",
    "if name == 'Sumbo' and company == 'Pharo':\n",
    "    print('You must be me')\n",
    "elif name == 'Sumbo':\n",
    "    print('That is a great name!, Sumbos are the best!')\n",
    "elif company == 'Pharo':\n",
    "    print('Hey dear colleague')\n",
    "else:\n",
    "    print('Who are you?!')\n"
   ]
  },
  {
   "cell_type": "markdown",
   "id": "e84d3a7e",
   "metadata": {},
   "source": [
    "Exercise: Vowels, digits, and others\n",
    "Define three variables -- vowels, digits, and others all to be equal to 0.\n",
    "Ask the user to enter a string (with input), and assign to a variable, s.\n",
    "Go through each character in the string, and check:\n",
    "If it's a digit (0-9) then add 1 to digits\n",
    "If it's a vowel (a, e, i, o, u) then add 1 to vowels\n",
    "If it's neither, then add 1 to others\n",
    "Print the values of vowels, digits, and others.\n",
    "Example:\n",
    "\n",
    "Enter a string: hello!! 123\n",
    "vowels: 2\n",
    "digits: 3\n",
    "others: 6\n",
    "Hints/reminders:\n",
    "\n",
    "You can use the str.isdigit method to check if a character (or string) contains only the digits 0-9, as in s.isdigit()\n",
    "You can use in to check whether SMALL in BIG, where SMALL and BIG are both strings, and you'll get a True value back if SMALL can be found in BIG."
   ]
  },
  {
   "cell_type": "code",
   "execution_count": 5,
   "id": "e7dd0a48",
   "metadata": {
    "scrolled": false
   },
   "outputs": [
    {
     "ename": "SyntaxError",
     "evalue": "invalid syntax (1666104870.py, line 1)",
     "output_type": "error",
     "traceback": [
      "\u001b[0;36m  Cell \u001b[0;32mIn[5], line 1\u001b[0;36m\u001b[0m\n\u001b[0;31m    For Loops - 2 Jan 24\u001b[0m\n\u001b[0m        ^\u001b[0m\n\u001b[0;31mSyntaxError\u001b[0m\u001b[0;31m:\u001b[0m invalid syntax\n"
     ]
    }
   ],
   "source": [
    "For Loops - 2 Jan 24"
   ]
  },
  {
   "cell_type": "code",
   "execution_count": 3,
   "id": "74e2e8fb",
   "metadata": {},
   "outputs": [
    {
     "name": "stdout",
     "output_type": "stream",
     "text": [
      "Enter a string please12345a\n",
      "vowels = 1\n",
      "digits = 5\n",
      "others = 0\n"
     ]
    }
   ],
   "source": [
    "vowels = 0\n",
    "digits = 0\n",
    "others = 0\n",
    "\n",
    "s = input('Enter a string please').strip()\n",
    "\n",
    "for one_character in s:\n",
    "    if one_character.isdigit():\n",
    "        digits += 1\n",
    "    elif one_character in 'aeiou':\n",
    "        vowels += 1\n",
    "    else:\n",
    "        others += 1\n",
    "        \n",
    "print(f'vowels = {vowels}')        \n",
    "print(f'digits = {digits}')\n",
    "print(f'others = {others}')"
   ]
  },
  {
   "cell_type": "markdown",
   "id": "63032ffd",
   "metadata": {},
   "source": [
    "Ask the user to enter their name.\n",
    "Print the user's name in the form of a triangle:\n",
    "On the first line, just print the first letter of their name.\n",
    "On the second line, print the first two letters\n",
    "On the third line, the first three letters\n",
    "etc. etc. etc.\n",
    "On the final line, print the entire name A few things to remember:\n",
    "range will give us the number of iterations we ask for, but from 0 - one less than the maximum\n",
    "len gives us the length of a string\n",
    "Slices look like s[start:end+1], and remember that end will be one index higher than the value we get back.\n",
    "Watch out for off-by-one errors, where you're just one character too long or short.\n",
    "Slices don't care if one of the named indexes in the slice is too high or too low."
   ]
  },
  {
   "cell_type": "code",
   "execution_count": 15,
   "id": "cfcdc44d",
   "metadata": {},
   "outputs": [
    {
     "name": "stdout",
     "output_type": "stream",
     "text": [
      "Please enter your name: Sumbo\n",
      "S\n",
      "Su\n",
      "Sum\n",
      "Sumb\n",
      "Sumbo\n"
     ]
    }
   ],
   "source": [
    "name = input('Please enter your name: ')\n",
    "\n",
    "for one_character in range(len(name)):\n",
    "    print(name[:one_character+1])\n",
    "    "
   ]
  },
  {
   "cell_type": "markdown",
   "id": "306137a5",
   "metadata": {},
   "source": [
    "## Lesson 4\n",
    "- while\n",
    "- break and continue\n",
    "- then speak about Lists"
   ]
  },
  {
   "cell_type": "code",
   "execution_count": null,
   "id": "cde90ae0",
   "metadata": {},
   "outputs": [],
   "source": []
  }
 ],
 "metadata": {
  "kernel_info": {
   "name": "python3.9-noteable"
  },
  "kernelspec": {
   "display_name": "Python 3 (ipykernel)",
   "language": "python",
   "name": "python3"
  },
  "language_info": {
   "codemirror_mode": {
    "name": "ipython",
    "version": 3
   },
   "file_extension": ".py",
   "mimetype": "text/x-python",
   "name": "python",
   "nbconvert_exporter": "python",
   "pygments_lexer": "ipython3",
   "version": "3.11.6"
  },
  "selected_hardware_size": "small"
 },
 "nbformat": 4,
 "nbformat_minor": 5
}
