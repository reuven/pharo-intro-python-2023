{
 "cells": [
  {
   "cell_type": "markdown",
   "id": "1905c160-934d-4121-915f-eee981989f4c",
   "metadata": {},
   "source": [
    "https://app.noteable.io/f/3b1d538a-7e1c-4235-afc8-5c30b7b29b65/Session-01%2C-Nov-27.ipynb"
   ]
  },
  {
   "cell_type": "markdown",
   "id": "a8d85fde-7933-4923-bf37-ead4fe0f5e4e",
   "metadata": {
    "noteable": {
     "cell_type": "markdown"
    }
   },
   "source": [
    "# What is this?\n",
    "\n",
    "This is Noteable, a commercial version of Jupyter, which lets you use Python inside of your browser.\n",
    "\n",
    "It also lets you type text and documentation using a format called Markdown"
   ]
  },
  {
   "cell_type": "code",
   "execution_count": null,
   "id": "ccf1a6fb-c7e5-4d26-b703-0e1d15afdff4",
   "metadata": {
    "ExecuteTime": {
     "end_time": "2023-12-04T17:13:40.496004+00:00",
     "start_time": "2023-12-04T17:13:40.340445+00:00"
    },
    "noteable": {
     "cell_type": "python",
     "output_collection_id": "458996e6-10e3-4a6c-9b2b-2f2da9e04ec3"
    }
   },
   "outputs": [],
   "source": [
    "# any line in a Python cell / program that starts with a # \n",
    "# is considered a comment -- Python ignores it completely, and it is meant\n",
    "# for human consumption.\n",
    "\n",
    "# print is the function we use to display something on the screen\n",
    "# function == a verb, something that does something \n",
    "\n",
    "# in order to execute (\"call\") the print function, we need to give it parentheses ()\n",
    "# whatever we put in the parentheses will then be printed on the screen\n",
    "\n",
    "# notice that text needs to be inside of quotes. You can use either single quotes\n",
    "# or double quotes, but you have to be consistent inside of one use of print\n",
    "\n",
    "\n",
    "print('Hello, world!')   # you can use shift+enter to \"execute \" this cell"
   ]
  },
  {
   "cell_type": "markdown",
   "id": "2eaad097-0393-471c-bd54-aaaae55dba10",
   "metadata": {},
   "source": [
    "# What is a programming language?\n",
    "\n",
    "At the end of the day, everything on your computer is 1s and 0s. But no one really wants to (or nowadays can) program with 1s and 0s. We want to work at a higher level.\n",
    "\n",
    "There are lots of programming languges out there that allow us to work in something that kinda sorta resembles English, but is then translated into 1s and 0s.\n",
    "\n",
    "Python has been around for more than 30 years, and for a long time, it was just one of many high-level languages that people used. But it wasn't super popular.\n",
    "\n",
    "About 10 years ago, that changed. Python is now incredibly popular, and is used in a lot of areas:\n",
    "\n",
    "- Data science and machine learning\n",
    "- Automated testing\n",
    "- Web applications\n",
    "- Financial analysis\n",
    "- Education\n",
    "\n",
    "Part of the reason why Python is so popular is that it's relatively easy to learn, but it's a real language that can be used in real applications.\n",
    "\n"
   ]
  },
  {
   "cell_type": "markdown",
   "id": "b2ef0c96-0cfb-4290-95d1-f7f8d5332e6c",
   "metadata": {},
   "source": [
    "# What are we going to learn?\n",
    "\n",
    "- Fundamentals of Python\n",
    "    - Basic input and output\n",
    "    - Variables and assignment\n",
    "    - Different data types\n",
    "    - Basic operations\n",
    "    - Comparisons\n",
    "    - Making decisions\n",
    "- Data structures\n",
    "    - Numbers (integers and floats)\n",
    "    - Text (strings)\n",
    "    - Loops (`for` and `while`)\n",
    "    - Lists\n",
    "    - Tuples\n",
    "    - Dictionaries\n",
    "    - Files (reading from and writing)\n",
    "- Functions\n",
    "    - What are functions\n",
    "    - Defining functions\n",
    "    - Arguments and parameters\n",
    "    - Return values\n",
    "- Modules and packages\n",
    "    - Using the Python standard library\n",
    "    - Using third-party packages from the Internet\n",
    "    "
   ]
  },
  {
   "cell_type": "markdown",
   "id": "1d04db88-9d21-4527-bfad-15e1b6af39d3",
   "metadata": {
    "noteable": {
     "cell_type": "markdown"
    }
   },
   "source": [
    "Even though your computer uses 1s and 0s, we want to think at a higher level, using data structures (organizational tools for our information) that make sense to us as people.\n",
    "\n",
    "The two most common, and easiest, data structures to think about are integers (whole numbers) and strings (text).\n",
    "\n",
    "If you type digits into Python, those are considered an integer.\n",
    "\n",
    "If you type text into Python, surrounded by quotes (either single or double), then those are considered a string."
   ]
  },
  {
   "cell_type": "code",
   "execution_count": null,
   "id": "4823db0c-1e35-4db4-b8d5-d4dbf77932ee",
   "metadata": {
    "ExecuteTime": {
     "end_time": "2023-12-04T19:39:06.134462+00:00",
     "start_time": "2023-12-04T19:39:05.979907+00:00"
    },
    "noteable": {
     "cell_type": "python",
     "output_collection_id": "7ab6a708-8918-4e77-9ab3-0e6329953170"
    }
   },
   "outputs": [],
   "source": [
    "print(10)   # I'm calling the print function, and giving it the integer 10"
   ]
  },
  {
   "cell_type": "code",
   "execution_count": null,
   "id": "3496e845-eadb-4f5c-9770-158b0db4fa9b",
   "metadata": {
    "ExecuteTime": {
     "end_time": "2023-12-04T19:39:07.285728+00:00",
     "start_time": "2023-12-04T19:39:07.131450+00:00"
    },
    "jupyter": {
     "outputs_hidden": false,
     "source_hidden": false
    },
    "noteable": {
     "cell_type": "code",
     "output_collection_id": "e9405095-3a7f-4542-8a64-6f4b4cd5c55d"
    }
   },
   "outputs": [],
   "source": [
    "print(10 + 3)    # now I'm using the + operator between numbers, getting 13, and printing"
   ]
  },
  {
   "cell_type": "code",
   "execution_count": null,
   "id": "6718a6d4-ee1a-4251-ad92-f8164ffeb764",
   "metadata": {
    "ExecuteTime": {
     "end_time": "2023-12-04T19:39:08.470506+00:00",
     "start_time": "2023-12-04T19:39:08.315420+00:00"
    },
    "jupyter": {
     "outputs_hidden": false,
     "source_hidden": false
    },
    "noteable": {
     "cell_type": "code",
     "output_collection_id": "3297c456-a86d-4884-8031-456b06bd8568"
    }
   },
   "outputs": [],
   "source": [
    "# I can give print any expression -- any value, either a direct value or the result of\n",
    "# an operation.\n",
    "\n",
    "print('Reuven')"
   ]
  },
  {
   "cell_type": "code",
   "execution_count": null,
   "id": "7ce79d3e-23ee-4da2-90a2-b70ed24a1071",
   "metadata": {
    "ExecuteTime": {
     "end_time": "2023-12-04T19:39:09.311089+00:00",
     "start_time": "2023-12-04T19:39:09.155752+00:00"
    },
    "jupyter": {
     "outputs_hidden": false,
     "source_hidden": false
    },
    "noteable": {
     "cell_type": "code",
     "output_collection_id": "aae68b19-d354-4c0b-ab64-051b47960a04"
    }
   },
   "outputs": [],
   "source": [
    "# we can use + on text strings\n",
    "# we can use + more than once to join multiple numbers/text together!\n",
    "print('Reuven' + ' ' + 'Lerner')"
   ]
  },
  {
   "cell_type": "code",
   "execution_count": null,
   "id": "7755d3f0-7edb-47da-898f-53228ed072f6",
   "metadata": {
    "ExecuteTime": {
     "end_time": "2023-12-04T19:39:09.469587+00:00",
     "start_time": "2023-12-04T19:39:09.315776+00:00"
    },
    "jupyter": {
     "outputs_hidden": false,
     "source_hidden": false
    },
    "noteable": {
     "cell_type": "code",
     "output_collection_id": "d36d048d-38e2-4625-b01f-60d6b0cbae90"
    }
   },
   "outputs": [],
   "source": [
    "# here, I'll join two strings together with +\n",
    "# the computer takes this very literally -- whatever characters are in the\n",
    "# first, and whatever characters are in the second are joined together into\n",
    "# a new string, which we then print\n",
    "\n",
    "print('Reuven' + 'Lerner')"
   ]
  },
  {
   "cell_type": "code",
   "execution_count": null,
   "id": "a075cce3-0192-47ae-af26-64fb3fa599f5",
   "metadata": {
    "ExecuteTime": {
     "end_time": "2023-12-04T19:39:09.627606+00:00",
     "start_time": "2023-12-04T19:39:09.474491+00:00"
    },
    "jupyter": {
     "outputs_hidden": false,
     "source_hidden": false
    },
    "noteable": {
     "cell_type": "code",
     "output_collection_id": "15c03ab4-e20b-40ba-a955-62309249611f"
    }
   },
   "outputs": [],
   "source": [
    "# what if I don't want to type my name each time I use it? Or I don't want to \n",
    "# enter a number each time I want it? Can't I store it in some location, and then\n",
    "# refer to it?\n",
    "\n",
    "# we can define a variable which refers to a value.\n",
    "\n",
    "# we do that by assigning to a variable"
   ]
  },
  {
   "cell_type": "markdown",
   "id": "97945605-1b04-4b11-b433-abf0d521cbbe",
   "metadata": {},
   "source": [
    "# Assignment with `=`\n",
    "\n",
    "In school, you probably learned that `=` means \"equals\" and that it means \"the two sides of the equation are the same.\"\n",
    "\n",
    "That's fine, but `=` in Python has a *completely different meaning*.  It means: I want to assign the value on the right side to the variable on the left side.\n",
    "\n",
    "After doing this, the variable will refer to that value, and can be used in place of that value."
   ]
  },
  {
   "cell_type": "code",
   "execution_count": null,
   "id": "5cfa2cee-c56b-43bb-9211-4e2f6cb30aff",
   "metadata": {
    "ExecuteTime": {
     "end_time": "2023-12-04T19:39:11.071216+00:00",
     "start_time": "2023-12-04T19:39:10.916592+00:00"
    },
    "noteable": {
     "cell_type": "python",
     "output_collection_id": "9a549610-4cb1-4c7f-b494-ad4e6ed86fe9"
    }
   },
   "outputs": [],
   "source": [
    "print('Reuven')"
   ]
  },
  {
   "cell_type": "code",
   "execution_count": null,
   "id": "2ca6ba2d-c8c6-485d-9ad3-49dfa3d7c5dd",
   "metadata": {
    "ExecuteTime": {
     "end_time": "2023-12-04T19:39:13.345700+00:00",
     "start_time": "2023-12-04T19:39:13.191165+00:00"
    },
    "jupyter": {
     "outputs_hidden": false,
     "source_hidden": false
    },
    "noteable": {
     "cell_type": "code",
     "output_collection_id": "725b3839-adc8-488f-9b96-3e77ddd00c36"
    }
   },
   "outputs": [],
   "source": [
    "# no quotes around variable names!\n",
    "\n",
    "name = 'Reuven'    # here, I assign the string \"Reuven\" to the variable name\n",
    "print(name)"
   ]
  },
  {
   "cell_type": "markdown",
   "id": "bb9f09bb-6f25-4f36-91fb-1c220d60e037",
   "metadata": {},
   "source": [
    "# What are legal variable names?\n",
    "\n",
    "1. Any combination of letters, numbers, and `_` (so long as it starts with a letter).\n",
    "2. Capital and lowercase letters are different.\n",
    "3. Traditionally, we use only lowercase letters in Python variable names.\n",
    "    "
   ]
  },
  {
   "cell_type": "code",
   "execution_count": null,
   "id": "eeea0b9e-152d-4e50-b07e-17d3f5fb6d00",
   "metadata": {
    "ExecuteTime": {
     "end_time": "2023-12-04T17:35:11.978227+00:00",
     "start_time": "2023-12-04T17:35:11.823385+00:00"
    },
    "noteable": {
     "cell_type": "python",
     "output_collection_id": "7cfb72e6-6acf-4853-b788-175924b68bc7"
    }
   },
   "outputs": [],
   "source": [
    "x = 10   # I assign the integer value 10 to the variable x\n",
    "y = 30   # I assign the integer value 30 to the variable y\n",
    "\n",
    "print(x + y)"
   ]
  },
  {
   "cell_type": "code",
   "execution_count": null,
   "id": "b8f7af37-de9a-4069-a61e-1ca6b37611f0",
   "metadata": {
    "ExecuteTime": {
     "end_time": "2023-12-04T17:35:30.935214+00:00",
     "start_time": "2023-12-04T17:35:30.778401+00:00"
    },
    "jupyter": {
     "outputs_hidden": false,
     "source_hidden": false
    },
    "noteable": {
     "cell_type": "code",
     "output_collection_id": "e883dd9f-3e40-4440-b964-378039edcf7f"
    }
   },
   "outputs": [],
   "source": [
    "# surprise! In Jupyter/ Noteable, if a value is on the final line of a cell,\n",
    "# I don't need to use print\n",
    "\n",
    "x + y"
   ]
  },
  {
   "cell_type": "code",
   "execution_count": null,
   "id": "72f631e4-ccfe-465d-8556-89d550c8b366",
   "metadata": {
    "ExecuteTime": {
     "end_time": "2023-12-04T17:36:04.528669+00:00",
     "start_time": "2023-12-04T17:36:04.373489+00:00"
    },
    "jupyter": {
     "outputs_hidden": false,
     "source_hidden": false
    },
    "noteable": {
     "cell_type": "code",
     "output_collection_id": "1425aaea-7ba9-4714-9dab-c46cea9677f6"
    }
   },
   "outputs": [],
   "source": [
    "5 * 3"
   ]
  },
  {
   "cell_type": "markdown",
   "id": "f924c2ad-3bb5-46f3-84e0-062eca9c6a61",
   "metadata": {},
   "source": [
    "# What about declaring variables?\n",
    "\n",
    "In many programming languages, before I can use a variable, or assign to it, I have to declare it -- telling the programming language that I intend for `x` to be a variable, or even that I intend for `x` to contain integers or text.\n",
    "\n",
    "Not so in Python!\n",
    "\n",
    "The first time you assign to a variable, it is created. Any next time you assign to a variable, it'll refer to the new value.\n",
    "\n",
    "After you assign a new value to a variable, the old value is no longer accessible via the variable.\n",
    "\n",
    "Any variable in Python can refer to any type of value. The same variable can first refer to integers and then to strings."
   ]
  },
  {
   "cell_type": "markdown",
   "id": "9afeefb7-fd6a-43c2-af99-a338b8c1ca46",
   "metadata": {
    "noteable": {
     "cell_type": "markdown"
    }
   },
   "source": [
    "# Exercise: Printing basics\n",
    "\n",
    "1. Define the variable `name`, and assign your name to it. Print \"Hello\" followed by your name.  Can you get it to print \"Hello\" followed by your name and then a period or exclamation point?\n",
    "\n",
    "2. Define a variable called `birthyear`, and then another variable called `year` (with the value 2023).  Assign to a new variable, `age_this_year`, how old you turned this year. Print this value.  Hint: You can use `-` for subtraction."
   ]
  },
  {
   "cell_type": "code",
   "execution_count": null,
   "id": "f9d879d7-2e19-4c97-93dd-2b7d86015719",
   "metadata": {
    "ExecuteTime": {
     "end_time": "2023-12-04T17:47:09.313186+00:00",
     "start_time": "2023-12-04T17:47:09.158819+00:00"
    },
    "noteable": {
     "cell_type": "python",
     "output_collection_id": "ec66553d-dfae-41a7-82a2-967c17b55a88"
    }
   },
   "outputs": [],
   "source": [
    "name = 'Reuven'\n",
    "print('Hello, ' + name + \"!\")   # three strings "
   ]
  },
  {
   "cell_type": "code",
   "execution_count": null,
   "id": "a65d2998-ce00-4c98-949c-ed87ac4a416d",
   "metadata": {
    "ExecuteTime": {
     "end_time": "2023-12-04T17:48:33.259304+00:00",
     "start_time": "2023-12-04T17:48:33.104246+00:00"
    },
    "jupyter": {
     "outputs_hidden": false,
     "source_hidden": false
    },
    "noteable": {
     "cell_type": "code",
     "output_collection_id": "cef12c6f-3072-4a77-bcd1-e99e55c5efe3"
    }
   },
   "outputs": [],
   "source": [
    "year = 2023\n",
    "birthyear = 1970\n",
    "\n",
    "# all assignment is:\n",
    "# variable on the left\n",
    "# expression on the right\n",
    "# it's executed right to left\n",
    "age_this_year = year - birthyear\n",
    "\n",
    "print(age_this_year)"
   ]
  },
  {
   "cell_type": "code",
   "execution_count": null,
   "id": "e88f2f51-8c7c-4146-94f8-80d5c27d4c9d",
   "metadata": {
    "ExecuteTime": {
     "end_time": "2023-12-04T17:48:46.896513+00:00",
     "start_time": "2023-12-04T17:48:46.392313+00:00"
    },
    "jupyter": {
     "outputs_hidden": false,
     "source_hidden": false
    },
    "noteable": {
     "cell_type": "code",
     "output_collection_id": "4200cfb5-bcf1-4a12-bb08-d7d421d8a5ae"
    }
   },
   "outputs": [],
   "source": [
    "print('This year, I will turn ' + age_this_year)"
   ]
  },
  {
   "cell_type": "markdown",
   "id": "6d67300a-41a3-46a3-a46b-7cee0e749527",
   "metadata": {},
   "source": [
    "# Different types\n",
    "\n",
    "If I try to add together (with `+`) a string and an integer, it'll fail.\n",
    "\n",
    "That's because Python could make a number of decisions, and rather than decide, it'll throw its hands up and ask us to figure it out."
   ]
  },
  {
   "cell_type": "code",
   "execution_count": null,
   "id": "30beab95-fd71-4acb-93c5-84e8d50ce19e",
   "metadata": {},
   "outputs": [],
   "source": [
    "x = 10\n",
    "y = '20'   # string 20, not the integer 20\n",
    "\n",
    "# if I add x+y, Python could:\n",
    "# (1) turn y into an integer and give me 30\n",
    "# (2) turn x into a string and give me 1020\n",
    "# (3) raise an error, forcing to me to resolve the ambiguity\n",
    "\n",
    "x + y\n"
   ]
  },
  {
   "cell_type": "code",
   "execution_count": null,
   "id": "aa776b25-2fa1-42e7-8793-47d43e04d22f",
   "metadata": {
    "ExecuteTime": {
     "end_time": "2023-12-04T17:51:38.037065+00:00",
     "start_time": "2023-12-04T17:51:37.881545+00:00"
    },
    "jupyter": {
     "outputs_hidden": false,
     "source_hidden": false
    },
    "noteable": {
     "cell_type": "code",
     "output_collection_id": "e9ef0873-4c40-4fff-abb7-5c7edae0f74b"
    }
   },
   "outputs": [],
   "source": [
    "# we can take data of one type and get data of another type\n",
    "# by saying what we want\n",
    "\n",
    "# if I have a string containing only digits, and I want to get an integer\n",
    "# based on it, I can call `int` on that string, and get that integer\n",
    "\n",
    "int('10')  # this returns the integer 10"
   ]
  },
  {
   "cell_type": "code",
   "execution_count": null,
   "id": "106e5287-f169-46aa-a7d1-37e64b7527ba",
   "metadata": {
    "ExecuteTime": {
     "end_time": "2023-12-04T17:51:54.720719+00:00",
     "start_time": "2023-12-04T17:51:54.564989+00:00"
    },
    "jupyter": {
     "outputs_hidden": false,
     "source_hidden": false
    },
    "noteable": {
     "cell_type": "code",
     "output_collection_id": "afb8fb57-79ba-4a6c-8728-1069ebd73a74"
    }
   },
   "outputs": [],
   "source": [
    "str(10)   # this returns the string based on the integer 10"
   ]
  },
  {
   "cell_type": "code",
   "execution_count": null,
   "id": "8ba28b63-634d-4db3-af95-104aca94eb7c",
   "metadata": {
    "ExecuteTime": {
     "end_time": "2023-12-04T17:52:23.926713+00:00",
     "start_time": "2023-12-04T17:52:23.761776+00:00"
    },
    "jupyter": {
     "outputs_hidden": false,
     "source_hidden": false
    },
    "noteable": {
     "cell_type": "code",
     "output_collection_id": "b53c5d27-92bd-41bf-8bd7-25fdc5535563"
    }
   },
   "outputs": [],
   "source": [
    "# what if I try to create an integer based on a string that doesn't have digits?\n",
    "\n",
    "int('hello')"
   ]
  },
  {
   "cell_type": "code",
   "execution_count": null,
   "id": "f5c90c61-a8d7-4538-9a0f-1831c36fab45",
   "metadata": {
    "ExecuteTime": {
     "end_time": "2023-12-04T17:55:20.976684+00:00",
     "start_time": "2023-12-04T17:55:11.941278+00:00"
    },
    "jupyter": {
     "outputs_hidden": false,
     "source_hidden": false
    },
    "noteable": {
     "cell_type": "code",
     "output_collection_id": "8c470eee-a8c5-4bd3-bfba-e5b785f3e790"
    }
   },
   "outputs": [],
   "source": [
    "# how can we get input from the user, so that we don't have to hard-code everything?\n",
    "# the answer: the \"input\" function, which waits to get input from the user, and then\n",
    "# gives us a string containing the user's information\n",
    "\n",
    "# here, I have assignment, meaning: expression on the right, variable on the left\n",
    "# when input executes, it pauses the program, displays the string we gave in (), \n",
    "#   and waits for the user to type something\n",
    "# whatever the user types is returned a a text string EVEN IF IT IS ONLY DIGITS!\n",
    "\n",
    "name = input('Enter your name: ')\n",
    "print('Hello, ' + name + '!')"
   ]
  },
  {
   "cell_type": "markdown",
   "id": "01043d73-cbd4-43a0-ad3a-ec58fbdba8cf",
   "metadata": {},
   "source": [
    "# Exercise: Name and city\n",
    "\n",
    "1. Ask the user to enter their name, and assign to the `name` variable\n",
    "2. Ask the user to enter where they live, and assign to the `city` variable\n",
    "3. Print a nice greeting to the user including both their name and city."
   ]
  },
  {
   "cell_type": "code",
   "execution_count": null,
   "id": "3607cac3-d844-46a9-8954-6d00c5c95976",
   "metadata": {
    "ExecuteTime": {
     "end_time": "2023-12-04T18:05:32.899558+00:00",
     "start_time": "2023-12-04T18:05:22.557149+00:00"
    },
    "noteable": {
     "output_collection_id": "924ab734-5bda-4c90-8689-e9f749671ee9"
    }
   },
   "outputs": [],
   "source": [
    "name = input('Enter your name: ')\n",
    "city = input('Enter your city: ')\n",
    "\n",
    "print('Hello, ' + name + ', from ' + city + '.')"
   ]
  },
  {
   "cell_type": "code",
   "execution_count": null,
   "id": "8f7eb40c-961c-47b8-b308-47a66b358eb3",
   "metadata": {
    "ExecuteTime": {
     "end_time": "2023-12-04T18:07:46.711543+00:00",
     "start_time": "2023-12-04T18:07:46.555891+00:00"
    },
    "jupyter": {
     "outputs_hidden": false,
     "source_hidden": false
    },
    "noteable": {
     "cell_type": "code",
     "output_collection_id": "a7a60d0c-3fc7-4be3-aa73-6eb884a5337f"
    }
   },
   "outputs": [],
   "source": [
    "# inside of a text string, you can have any character you want\n",
    "# that includes some special characters, such as \\n\n",
    "# when that is in a string, it means \"newline, \" to go down a line\n",
    "\n",
    "print('abcd\\nefgh')"
   ]
  },
  {
   "cell_type": "code",
   "execution_count": null,
   "id": "28dee55f-997a-4abb-acd8-9ba83eddb8fe",
   "metadata": {
    "ExecuteTime": {
     "end_time": "2023-12-04T18:08:57.080445+00:00",
     "start_time": "2023-12-04T18:08:54.231522+00:00"
    },
    "jupyter": {
     "outputs_hidden": false,
     "source_hidden": false
    },
    "noteable": {
     "cell_type": "code",
     "output_collection_id": "df695b17-7a6b-4cf7-858e-feb1879a676b"
    }
   },
   "outputs": [],
   "source": [
    "name = input('Enter your name: ')"
   ]
  },
  {
   "cell_type": "code",
   "execution_count": null,
   "id": "e93953bf-060f-4e6a-8bfd-029ae08566a9",
   "metadata": {
    "ExecuteTime": {
     "end_time": "2023-12-04T18:09:11.477138+00:00",
     "start_time": "2023-12-04T18:09:05.281593+00:00"
    },
    "jupyter": {
     "outputs_hidden": false,
     "source_hidden": false
    },
    "noteable": {
     "cell_type": "code",
     "output_collection_id": "543e0ebc-f6ee-4c87-b1cc-165dda9a5672"
    }
   },
   "outputs": [],
   "source": [
    "city = input('Enter your city: ')\n",
    "\n",
    "print('Hello, ' + name + ', from ' + city + '.')"
   ]
  },
  {
   "cell_type": "code",
   "execution_count": null,
   "id": "f69ad539-e55d-4eba-a82f-29ead9577162",
   "metadata": {
    "ExecuteTime": {
     "end_time": "2023-12-04T18:10:42.183594+00:00",
     "start_time": "2023-12-04T18:10:42.024295+00:00"
    },
    "jupyter": {
     "outputs_hidden": false,
     "source_hidden": false
    },
    "noteable": {
     "cell_type": "code",
     "output_collection_id": "af1722a1-4cd1-484c-8cd9-0e1b7a1a0002"
    }
   },
   "outputs": [],
   "source": [
    "# printing this way is a real pain\n",
    "# what I really want is to say: Print this string, and \n",
    "# replace these variables inside of it\n",
    "\n",
    "# put f before the opening quote (format string / fancy string)\n",
    "print(f'Hello, {name}, from {city}.')   "
   ]
  },
  {
   "cell_type": "code",
   "execution_count": null,
   "id": "61b12180-e0be-499e-a4aa-51b9aa501a64",
   "metadata": {
    "ExecuteTime": {
     "end_time": "2023-12-04T18:11:24.058343+00:00",
     "start_time": "2023-12-04T18:11:23.903433+00:00"
    },
    "jupyter": {
     "outputs_hidden": false,
     "source_hidden": false
    },
    "noteable": {
     "cell_type": "code",
     "output_collection_id": "5ff31ca5-8029-4b57-8e01-177137040c93"
    }
   },
   "outputs": [],
   "source": [
    "# we saw that we cannot have both strings and integers in the same\n",
    "# print statement. f-strings solve this!\n",
    "\n",
    "x = 10\n",
    "print(f'My favorite number is {x}, and one more than that is {x+1}.')"
   ]
  },
  {
   "cell_type": "code",
   "execution_count": null,
   "id": "8c004ff8-de3a-454c-9ae1-6f5772ae6692",
   "metadata": {
    "ExecuteTime": {
     "end_time": "2023-12-04T18:13:34.340370+00:00",
     "start_time": "2023-12-04T18:13:34.184511+00:00"
    },
    "jupyter": {
     "outputs_hidden": false,
     "source_hidden": false
    },
    "noteable": {
     "cell_type": "code",
     "output_collection_id": "7459e299-56d6-47c1-986e-34c7269aa8f9"
    }
   },
   "outputs": [],
   "source": [
    "# we've seen some operators so far, such as + (addition) and - (subtraction).\n",
    "# there are some other operators that we can use, too -- for comparison.\n",
    "\n",
    "x = 10\n",
    "y = 10\n",
    "\n",
    "# I want to know if x and y contain the same value.\n",
    "# in math class, we would use = to check .. but = has already been taken by assignment\n",
    "\n",
    "# we'll check, and compare their values, with ==\n",
    "# the result of this is one of the two values True or False (yes, with capital letters)\n",
    "\n",
    "x == y"
   ]
  },
  {
   "cell_type": "code",
   "execution_count": null,
   "id": "ca56773c-3b10-49f7-a4af-2b2237cdf3e7",
   "metadata": {
    "ExecuteTime": {
     "end_time": "2023-12-04T18:13:46.590530+00:00",
     "start_time": "2023-12-04T18:13:46.433983+00:00"
    },
    "jupyter": {
     "outputs_hidden": false,
     "source_hidden": false
    },
    "noteable": {
     "cell_type": "code",
     "output_collection_id": "e9d5065e-1d0f-4393-9200-be7dc3d71bf0"
    }
   },
   "outputs": [],
   "source": [
    "10 == '10'"
   ]
  },
  {
   "cell_type": "markdown",
   "id": "26f70ff1-dd07-43a3-96ac-87dfe1b125f9",
   "metadata": {},
   "source": [
    "# Comparison operators\n",
    "\n",
    "- `==` -- equality\n",
    "- `!=` -- inequality, sort of like the ≠ operator, but that wasn't available\n",
    "- `<` -- less than\n",
    "- `<=` -- less than or equal\n",
    "- `>` -- greater than\n",
    "- `>=` -- greater than or equal"
   ]
  },
  {
   "cell_type": "code",
   "execution_count": null,
   "id": "ea6cac12-bfdc-4ee1-9291-57f378595efc",
   "metadata": {
    "ExecuteTime": {
     "end_time": "2023-12-04T18:23:57.180967+00:00",
     "start_time": "2023-12-04T18:23:52.811395+00:00"
    },
    "noteable": {
     "output_collection_id": "a02ab257-d900-4ad6-a286-f357b861b27a"
    }
   },
   "outputs": [],
   "source": [
    "# how can I use these comparison operators?\n",
    "# answer: to make decisions\n",
    "\n",
    "# the way that we handle *conditions* in Python is with the \"if\" statement\n",
    "\n",
    "name = input('Enter your name: ')\n",
    "\n",
    "# if looks to its right, and checks to see if it has a True or False value\n",
    "# if the expression is True, then it executes its block\n",
    "# a block comes after a colon (must be at the end of an if line)\n",
    "# the block's start and end are indicated with indentation -- not optional!\n",
    "# traditionally, that indentation is 4 spaces (not a tab)\n",
    "# if you're typing space-space-space-space then you're doing it wrong\n",
    "\n",
    "if name == 'Reuven':\n",
    "    print('Hi, boss!')\n",
    "    print('It is nice to see you again!')\n",
    "\n",
    "# else is optional \n",
    "# if you want an else block, then it comes right after the \"if\" block's close\n",
    "# it also has a colon and an indented block\n",
    "# it executes if the \"if\" block didn't\n",
    "\n",
    "else:\n",
    "    print(f'Hello, {name}.')\n",
    "    \n",
    "# one, and only one, of these blocks will run. They are mutually exclusive    "
   ]
  },
  {
   "cell_type": "code",
   "execution_count": null,
   "id": "fd637d3c-8b1c-4edf-8d34-a23c55daba26",
   "metadata": {
    "ExecuteTime": {
     "end_time": "2023-12-04T18:29:19.896622+00:00",
     "start_time": "2023-12-04T18:29:17.425916+00:00"
    },
    "jupyter": {
     "outputs_hidden": false,
     "source_hidden": false
    },
    "noteable": {
     "cell_type": "code",
     "output_collection_id": "422f6083-0d1f-447b-bd25-1cbd616b5e7e"
    }
   },
   "outputs": [],
   "source": [
    "# redo the birthyear exercise\n",
    "\n",
    "year = 2023\n",
    "\n",
    "# here, input is getting a string, even if has digits\n",
    "birthyear = input('Enter your birthyear: ')\n",
    "birthyear = int(birthyear)   # get an integer back from the string\n",
    "\n",
    "age_this_year = year - birthyear\n",
    "\n",
    "print(f'This year, you are turning {age_this_year}')"
   ]
  },
  {
   "cell_type": "markdown",
   "id": "d9c7c58c-107d-4fe6-a917-510b9338dbee",
   "metadata": {},
   "source": [
    "# Next time\n",
    "\n",
    "- More complex comparisons\n",
    "- More complex conditions\n",
    "- Numbers (integers and floats)\n",
    "\n",
    "Optional homework: \n",
    "- Ask the user to enter the price of a meal (without tax). Calculate the tax on that, and print the original price, the tax, and the total."
   ]
  },
  {
   "cell_type": "markdown",
   "id": "fd092d61-78eb-4782-a2fd-c7324d1bfe94",
   "metadata": {
    "noteable": {
     "cell_type": "markdown"
    }
   },
   "source": []
  }
 ],
 "metadata": {
  "kernel_info": {
   "name": "python3"
  },
  "kernelspec": {
   "display_name": "Python 3 (ipykernel)",
   "language": "python",
   "name": "python3"
  },
  "language_info": {
   "codemirror_mode": {
    "name": "ipython",
    "version": 3
   },
   "file_extension": ".py",
   "mimetype": "text/x-python",
   "name": "python",
   "nbconvert_exporter": "python",
   "pygments_lexer": "ipython3",
   "version": "3.11.6"
  },
  "noteable": {
   "db_connection": "@noteable"
  },
  "selected_hardware_size": "small"
 },
 "nbformat": 4,
 "nbformat_minor": 5
}
