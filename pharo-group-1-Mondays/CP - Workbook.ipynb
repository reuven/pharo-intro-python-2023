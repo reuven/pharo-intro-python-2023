{
 "cells": [
  {
   "cell_type": "code",
   "execution_count": 1,
   "id": "ae945216",
   "metadata": {},
   "outputs": [
    {
     "name": "stdout",
     "output_type": "stream",
     "text": [
      "hello world\n"
     ]
    }
   ],
   "source": [
    "print('hello world')"
   ]
  },
  {
   "cell_type": "code",
   "execution_count": 4,
   "id": "9de9029d",
   "metadata": {},
   "outputs": [
    {
     "name": "stdout",
     "output_type": "stream",
     "text": [
      "bonjour\n"
     ]
    }
   ],
   "source": [
    "y=100\n",
    "if y==100:\n",
    "    print('bonjour')"
   ]
  },
  {
   "cell_type": "code",
   "execution_count": 6,
   "id": "e43ef5cb",
   "metadata": {},
   "outputs": [
    {
     "name": "stdout",
     "output_type": "stream",
     "text": [
      "computers\n",
      "rule\n"
     ]
    }
   ],
   "source": [
    "s = 'computers\\nrule'\n",
    "print (s)"
   ]
  },
  {
   "cell_type": "code",
   "execution_count": 8,
   "id": "b8a0d15a",
   "metadata": {},
   "outputs": [
    {
     "data": {
      "text/plain": [
       "14"
      ]
     },
     "execution_count": 8,
     "metadata": {},
     "output_type": "execute_result"
    }
   ],
   "source": [
    "len(s)"
   ]
  },
  {
   "cell_type": "code",
   "execution_count": 11,
   "id": "dcf28d3b",
   "metadata": {},
   "outputs": [],
   "source": [
    "#windows has this a lot"
   ]
  },
  {
   "cell_type": "code",
   "execution_count": 13,
   "id": "bc20e6e7",
   "metadata": {},
   "outputs": [],
   "source": [
    "s = 'afarfarvfbrfvurfv'"
   ]
  },
  {
   "cell_type": "code",
   "execution_count": 16,
   "id": "e99fbe3f",
   "metadata": {},
   "outputs": [
    {
     "data": {
      "text/plain": [
       "'a'"
      ]
     },
     "execution_count": 16,
     "metadata": {},
     "output_type": "execute_result"
    }
   ],
   "source": [
    "s[5]"
   ]
  },
  {
   "cell_type": "code",
   "execution_count": 18,
   "id": "23589c4b",
   "metadata": {},
   "outputs": [],
   "source": [
    "s = '123456789'"
   ]
  },
  {
   "cell_type": "code",
   "execution_count": 21,
   "id": "977f65ce",
   "metadata": {},
   "outputs": [
    {
     "data": {
      "text/plain": [
       "'6'"
      ]
     },
     "execution_count": 21,
     "metadata": {},
     "output_type": "execute_result"
    }
   ],
   "source": [
    "s[5]"
   ]
  },
  {
   "cell_type": "code",
   "execution_count": 24,
   "id": "4e9585a5",
   "metadata": {},
   "outputs": [
    {
     "data": {
      "text/plain": [
       "'2345'"
      ]
     },
     "execution_count": 24,
     "metadata": {},
     "output_type": "execute_result"
    }
   ],
   "source": [
    "s[1:5]"
   ]
  },
  {
   "cell_type": "code",
   "execution_count": 26,
   "id": "f80712a7",
   "metadata": {},
   "outputs": [
    {
     "data": {
      "text/plain": [
       "True"
      ]
     },
     "execution_count": 26,
     "metadata": {},
     "output_type": "execute_result"
    }
   ],
   "source": [
    "'123' in s"
   ]
  },
  {
   "cell_type": "code",
   "execution_count": 27,
   "id": "c3f29984",
   "metadata": {},
   "outputs": [
    {
     "data": {
      "text/plain": [
       "False"
      ]
     },
     "execution_count": 27,
     "metadata": {},
     "output_type": "execute_result"
    }
   ],
   "source": [
    "'321' in s"
   ]
  },
  {
   "cell_type": "code",
   "execution_count": 28,
   "id": "07f69066",
   "metadata": {},
   "outputs": [],
   "source": [
    "s = 'abcde'"
   ]
  },
  {
   "cell_type": "code",
   "execution_count": 30,
   "id": "bf30a765",
   "metadata": {},
   "outputs": [],
   "source": [
    "s= s + 'fghi'"
   ]
  },
  {
   "cell_type": "code",
   "execution_count": 33,
   "id": "4900c5be",
   "metadata": {},
   "outputs": [
    {
     "data": {
      "text/plain": [
       "'abcdefghifghi'"
      ]
     },
     "execution_count": 33,
     "metadata": {},
     "output_type": "execute_result"
    }
   ],
   "source": [
    "s"
   ]
  },
  {
   "cell_type": "code",
   "execution_count": 42,
   "id": "05ab9b1c",
   "metadata": {},
   "outputs": [
    {
     "ename": "SyntaxError",
     "evalue": "Missing parentheses in call to 'print'. Did you mean print(...)? (2739032442.py, line 5)",
     "output_type": "error",
     "traceback": [
      "\u001b[0;36m  Cell \u001b[0;32mIn[42], line 5\u001b[0;36m\u001b[0m\n\u001b[0;31m    print word + 'way'\u001b[0m\n\u001b[0m    ^\u001b[0m\n\u001b[0;31mSyntaxError\u001b[0m\u001b[0;31m:\u001b[0m Missing parentheses in call to 'print'. Did you mean print(...)?\n"
     ]
    }
   ],
   "source": [
    "word = input('enter a word')\n",
    "\n",
    "vowels = 'aeiou'\n",
    "if word[0] in vowels:\n",
    "    print word + 'way'\n",
    "else:\n",
    "    for i in range(len(word)):\n",
    "        if word[i] in vowels:\n",
    "            return word[i:] + word[:i] + 'ay'"
   ]
  },
  {
   "cell_type": "code",
   "execution_count": null,
   "id": "c588299a",
   "metadata": {},
   "outputs": [],
   "source": []
  }
 ],
 "metadata": {
  "kernelspec": {
   "display_name": "Python 3 (ipykernel)",
   "language": "python",
   "name": "python3"
  },
  "language_info": {
   "codemirror_mode": {
    "name": "ipython",
    "version": 3
   },
   "file_extension": ".py",
   "mimetype": "text/x-python",
   "name": "python",
   "nbconvert_exporter": "python",
   "pygments_lexer": "ipython3",
   "version": "3.11.6"
  }
 },
 "nbformat": 4,
 "nbformat_minor": 5
}
