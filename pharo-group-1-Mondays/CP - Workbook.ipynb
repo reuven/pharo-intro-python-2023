{
 "cells": [
  {
   "cell_type": "code",
   "execution_count": 1,
   "id": "ae945216",
   "metadata": {},
   "outputs": [
    {
     "name": "stdout",
     "output_type": "stream",
     "text": [
      "hello world\n"
     ]
    }
   ],
   "source": [
    "print('hello world')"
   ]
  },
  {
   "cell_type": "code",
   "execution_count": 4,
   "id": "9de9029d",
   "metadata": {},
   "outputs": [
    {
     "name": "stdout",
     "output_type": "stream",
     "text": [
      "bonjour\n"
     ]
    }
   ],
   "source": [
    "y=100\n",
    "if y==100:\n",
    "    print('bonjour')"
   ]
  },
  {
   "cell_type": "code",
   "execution_count": 6,
   "id": "e43ef5cb",
   "metadata": {},
   "outputs": [
    {
     "name": "stdout",
     "output_type": "stream",
     "text": [
      "computers\n",
      "rule\n"
     ]
    }
   ],
   "source": [
    "s = 'computers\\nrule'\n",
    "print (s)"
   ]
  },
  {
   "cell_type": "code",
   "execution_count": 8,
   "id": "5762f304",
   "metadata": {},
   "outputs": [
    {
     "data": {
      "text/plain": [
       "14"
      ]
     },
     "execution_count": 8,
     "metadata": {},
     "output_type": "execute_result"
    }
   ],
   "source": [
    "len(s)"
   ]
  },
  {
   "cell_type": "code",
   "execution_count": 11,
   "id": "3bf1ae22",
   "metadata": {},
   "outputs": [],
   "source": [
    "#windows has this a lot"
   ]
  },
  {
   "cell_type": "code",
   "execution_count": 13,
   "id": "d9fd397e",
   "metadata": {},
   "outputs": [],
   "source": [
    "s = 'afarfarvfbrfvurfv'"
   ]
  },
  {
   "cell_type": "code",
   "execution_count": 16,
   "id": "264c422b",
   "metadata": {},
   "outputs": [
    {
     "data": {
      "text/plain": [
       "'a'"
      ]
     },
     "execution_count": 16,
     "metadata": {},
     "output_type": "execute_result"
    }
   ],
   "source": [
    "s[5]"
   ]
  },
  {
   "cell_type": "code",
   "execution_count": 18,
   "id": "0456b8bd",
   "metadata": {},
   "outputs": [],
   "source": [
    "s = '123456789'"
   ]
  },
  {
   "cell_type": "code",
   "execution_count": 21,
   "id": "d3fd1e11",
   "metadata": {},
   "outputs": [
    {
     "data": {
      "text/plain": [
       "'6'"
      ]
     },
     "execution_count": 21,
     "metadata": {},
     "output_type": "execute_result"
    }
   ],
   "source": [
    "s[5]"
   ]
  },
  {
   "cell_type": "code",
   "execution_count": 24,
   "id": "f765cd9e",
   "metadata": {},
   "outputs": [
    {
     "data": {
      "text/plain": [
       "'2345'"
      ]
     },
     "execution_count": 24,
     "metadata": {},
     "output_type": "execute_result"
    }
   ],
   "source": [
    "s[1:5]"
   ]
  },
  {
   "cell_type": "code",
   "execution_count": 26,
   "id": "af51c953",
   "metadata": {},
   "outputs": [
    {
     "data": {
      "text/plain": [
       "True"
      ]
     },
     "execution_count": 26,
     "metadata": {},
     "output_type": "execute_result"
    }
   ],
   "source": [
    "'123' in s"
   ]
  },
  {
   "cell_type": "code",
   "execution_count": 27,
   "id": "b69c48f5",
   "metadata": {},
   "outputs": [
    {
     "data": {
      "text/plain": [
       "False"
      ]
     },
     "execution_count": 27,
     "metadata": {},
     "output_type": "execute_result"
    }
   ],
   "source": [
    "'321' in s"
   ]
  },
  {
   "cell_type": "code",
   "execution_count": 28,
   "id": "6aed5ecf",
   "metadata": {},
   "outputs": [],
   "source": [
    "s = 'abcde'"
   ]
  },
  {
   "cell_type": "code",
   "execution_count": 30,
   "id": "e62e07ee",
   "metadata": {},
   "outputs": [],
   "source": [
    "s= s + 'fghi'"
   ]
  },
  {
   "cell_type": "code",
   "execution_count": 33,
   "id": "3dfaa6bb",
   "metadata": {},
   "outputs": [
    {
     "data": {
      "text/plain": [
       "'abcdefghifghi'"
      ]
     },
     "execution_count": 33,
     "metadata": {},
     "output_type": "execute_result"
    }
   ],
   "source": [
    "s"
   ]
  },
  {
   "cell_type": "code",
   "execution_count": null,
   "id": "aba1cc35",
   "metadata": {},
   "outputs": [],
   "source": [
    "word = input('enter a word:')\n",
    "\n",
    "if word[0] in 'aeiou':\n",
    "    print (word + 'way')\n",
    "else:\n",
    "    print(word[1:] + word[0] + 'ay')"
   ]
  },
  {
   "cell_type": "code",
   "execution_count": null,
   "id": "457c01cd",
   "metadata": {},
   "outputs": [],
   "source": [
    "word = input('enter a word:')\n",
    "if word[0] in 'aeiou':\n",
    "    print (word + 'way')\n",
    "else:\n",
    "    print(word[1:] + word[0] + 'ay')"
   ]
  },
  {
   "cell_type": "code",
   "execution_count": null,
   "id": "7b637b4c",
   "metadata": {},
   "outputs": [],
   "source": []
  },
  {
   "cell_type": "code",
   "execution_count": null,
   "id": "4cf28b04",
   "metadata": {},
   "outputs": [],
   "source": []
  },
  {
   "cell_type": "code",
   "execution_count": null,
   "id": "2cebdedb",
   "metadata": {},
   "outputs": [],
   "source": []
  },
  {
   "cell_type": "code",
   "execution_count": null,
   "id": "3a444d59",
   "metadata": {},
   "outputs": [],
   "source": []
  },
  {
   "cell_type": "code",
   "execution_count": 51,
   "id": "3e7d4ead",
   "metadata": {},
   "outputs": [
    {
     "data": {
      "text/plain": [
       "810000"
      ]
     },
     "execution_count": 51,
     "metadata": {},
     "output_type": "execute_result"
    }
   ],
   "source": [
    "x=900\n",
    "y=900\n",
    "x*y"
   ]
  },
  {
   "cell_type": "code",
   "execution_count": null,
   "id": "ffc7bb19",
   "metadata": {},
   "outputs": [],
   "source": []
  },
  {
   "cell_type": "code",
   "execution_count": null,
   "id": "a96bbe88",
   "metadata": {},
   "outputs": [],
   "source": [
    "word = input('enter a word:')\n",
    "if word[0] in 'aeiou':\n",
    "    print (word + 'way')\n",
    "else:\n",
    "    print(word[1:] + word[0] + 'ay')"
   ]
  },
  {
   "cell_type": "code",
   "execution_count": 56,
   "id": "744fd623",
   "metadata": {},
   "outputs": [
    {
     "data": {
      "text/plain": [
       "'gighhvjhvjhvjhv'"
      ]
     },
     "execution_count": 56,
     "metadata": {},
     "output_type": "execute_result"
    }
   ],
   "source": [
    "s = 'GigHHVjhvjhVJHV'\n",
    "s.lower()"
   ]
  },
  {
   "cell_type": "code",
   "execution_count": 58,
   "id": "62c08fb6",
   "metadata": {},
   "outputs": [
    {
     "data": {
      "text/plain": [
       "'ced'"
      ]
     },
     "execution_count": 58,
     "metadata": {},
     "output_type": "execute_result"
    }
   ],
   "source": [
    "s = 'AbcEDF'\n",
    "\n",
    "s.strip().lower()[2:5]"
   ]
  }
 ],
 "metadata": {
  "kernelspec": {
   "display_name": "Python 3 (ipykernel)",
   "language": "python",
   "name": "python3"
  },
  "language_info": {
   "codemirror_mode": {
    "name": "ipython",
    "version": 3
   },
   "file_extension": ".py",
   "mimetype": "text/x-python",
   "name": "python",
   "nbconvert_exporter": "python",
   "pygments_lexer": "ipython3",
   "version": "3.11.6"
  }
 },
 "nbformat": 4,
 "nbformat_minor": 5
}
