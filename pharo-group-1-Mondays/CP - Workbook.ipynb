{
 "cells": [
  {
   "cell_type": "code",
   "execution_count": 1,
   "id": "ae945216",
   "metadata": {},
   "outputs": [
    {
     "name": "stdout",
     "output_type": "stream",
     "text": [
      "hello world\n"
     ]
    }
   ],
   "source": [
    "print('hello world')"
   ]
  },
  {
   "cell_type": "code",
   "execution_count": 4,
   "id": "9de9029d",
   "metadata": {},
   "outputs": [
    {
     "name": "stdout",
     "output_type": "stream",
     "text": [
      "bonjour\n"
     ]
    }
   ],
   "source": [
    "y=100\n",
    "if y==100:\n",
    "    print('bonjour')"
   ]
  },
  {
   "cell_type": "code",
   "execution_count": 6,
   "id": "e43ef5cb",
   "metadata": {},
   "outputs": [
    {
     "name": "stdout",
     "output_type": "stream",
     "text": [
      "computers\n",
      "rule\n"
     ]
    }
   ],
   "source": [
    "s = 'computers\\nrule'\n",
    "print (s)"
   ]
  },
  {
   "cell_type": "code",
   "execution_count": 8,
   "id": "8a9f258b",
   "metadata": {},
   "outputs": [
    {
     "data": {
      "text/plain": [
       "14"
      ]
     },
     "execution_count": 8,
     "metadata": {},
     "output_type": "execute_result"
    }
   ],
   "source": [
    "len(s)"
   ]
  },
  {
   "cell_type": "code",
   "execution_count": 11,
   "id": "14d65dce",
   "metadata": {},
   "outputs": [],
   "source": [
    "#windows has this a lot"
   ]
  },
  {
   "cell_type": "code",
   "execution_count": 13,
   "id": "3bdd3580",
   "metadata": {},
   "outputs": [],
   "source": [
    "s = 'afarfarvfbrfvurfv'"
   ]
  },
  {
   "cell_type": "code",
   "execution_count": 16,
   "id": "57ff6499",
   "metadata": {},
   "outputs": [
    {
     "data": {
      "text/plain": [
       "'a'"
      ]
     },
     "execution_count": 16,
     "metadata": {},
     "output_type": "execute_result"
    }
   ],
   "source": [
    "s[5]"
   ]
  },
  {
   "cell_type": "code",
   "execution_count": 18,
   "id": "6c34234f",
   "metadata": {},
   "outputs": [],
   "source": [
    "s = '123456789'"
   ]
  },
  {
   "cell_type": "code",
   "execution_count": 21,
   "id": "a39ded51",
   "metadata": {},
   "outputs": [
    {
     "data": {
      "text/plain": [
       "'6'"
      ]
     },
     "execution_count": 21,
     "metadata": {},
     "output_type": "execute_result"
    }
   ],
   "source": [
    "s[5]"
   ]
  },
  {
   "cell_type": "code",
   "execution_count": 24,
   "id": "4344d6f0",
   "metadata": {},
   "outputs": [
    {
     "data": {
      "text/plain": [
       "'2345'"
      ]
     },
     "execution_count": 24,
     "metadata": {},
     "output_type": "execute_result"
    }
   ],
   "source": [
    "s[1:5]"
   ]
  },
  {
   "cell_type": "code",
   "execution_count": 26,
   "id": "165b5b91",
   "metadata": {},
   "outputs": [
    {
     "data": {
      "text/plain": [
       "True"
      ]
     },
     "execution_count": 26,
     "metadata": {},
     "output_type": "execute_result"
    }
   ],
   "source": [
    "'123' in s"
   ]
  },
  {
   "cell_type": "code",
   "execution_count": 27,
   "id": "f0030b95",
   "metadata": {},
   "outputs": [
    {
     "data": {
      "text/plain": [
       "False"
      ]
     },
     "execution_count": 27,
     "metadata": {},
     "output_type": "execute_result"
    }
   ],
   "source": [
    "'321' in s"
   ]
  },
  {
   "cell_type": "code",
   "execution_count": 28,
   "id": "7d754af8",
   "metadata": {},
   "outputs": [],
   "source": [
    "s = 'abcde'"
   ]
  },
  {
   "cell_type": "code",
   "execution_count": 30,
   "id": "0dfcb25d",
   "metadata": {},
   "outputs": [],
   "source": [
    "s= s + 'fghi'"
   ]
  },
  {
   "cell_type": "code",
   "execution_count": 33,
   "id": "ee4606e5",
   "metadata": {},
   "outputs": [
    {
     "data": {
      "text/plain": [
       "'abcdefghifghi'"
      ]
     },
     "execution_count": 33,
     "metadata": {},
     "output_type": "execute_result"
    }
   ],
   "source": [
    "s"
   ]
  },
  {
   "cell_type": "code",
   "execution_count": null,
   "id": "514b82d6",
   "metadata": {},
   "outputs": [],
   "source": [
    "word = input('enter a word:')\n",
    "\n",
    "if word[0] in 'aeiou':\n",
    "    print (word + 'way')\n",
    "else:\n",
    "    print(word[1:] + word[0] + 'ay')"
   ]
  },
  {
   "cell_type": "code",
   "execution_count": null,
   "id": "029402c4",
   "metadata": {},
   "outputs": [],
   "source": [
    "word = input('enter a word:')\n",
    "if word[0] in 'aeiou':\n",
    "    print (word + 'way')\n",
    "else:\n",
    "    print(word[1:] + word[0] + 'ay')"
   ]
  },
  {
   "cell_type": "code",
   "execution_count": null,
   "id": "54fc11c8",
   "metadata": {},
   "outputs": [],
   "source": []
  },
  {
   "cell_type": "code",
   "execution_count": null,
   "id": "c396dd70",
   "metadata": {},
   "outputs": [],
   "source": []
  },
  {
   "cell_type": "code",
   "execution_count": null,
   "id": "a041e141",
   "metadata": {},
   "outputs": [],
   "source": []
  },
  {
   "cell_type": "code",
   "execution_count": null,
   "id": "875c7d7b",
   "metadata": {},
   "outputs": [],
   "source": []
  },
  {
   "cell_type": "code",
   "execution_count": 51,
   "id": "54ff5e2b",
   "metadata": {},
   "outputs": [
    {
     "data": {
      "text/plain": [
       "810000"
      ]
     },
     "execution_count": 51,
     "metadata": {},
     "output_type": "execute_result"
    }
   ],
   "source": [
    "x=900\n",
    "y=900\n",
    "x*y"
   ]
  },
  {
   "cell_type": "code",
   "execution_count": null,
   "id": "b8f9172b",
   "metadata": {},
   "outputs": [],
   "source": []
  },
  {
   "cell_type": "code",
   "execution_count": null,
   "id": "500c7457",
   "metadata": {},
   "outputs": [],
   "source": [
    "word = input('enter a word:')\n",
    "if word[0] in 'aeiou':\n",
    "    print (word + 'way')\n",
    "else:\n",
    "    print(word[1:] + word[0] + 'ay')"
   ]
  },
  {
   "cell_type": "code",
   "execution_count": 56,
   "id": "4a99c7dd",
   "metadata": {},
   "outputs": [
    {
     "data": {
      "text/plain": [
       "'gighhvjhvjhvjhv'"
      ]
     },
     "execution_count": 56,
     "metadata": {},
     "output_type": "execute_result"
    }
   ],
   "source": [
    "s = 'GigHHVjhvjhVJHV'\n",
    "s.lower()"
   ]
  },
  {
   "cell_type": "code",
   "execution_count": 60,
   "id": "0d2d3f8d",
   "metadata": {},
   "outputs": [
    {
     "data": {
      "text/plain": [
       "'ced'"
      ]
     },
     "execution_count": 60,
     "metadata": {},
     "output_type": "execute_result"
    }
   ],
   "source": [
    "s = 'AbcEDF'\n",
    "\n",
    "s.strip().lower()[2:5]"
   ]
  },
  {
   "cell_type": "code",
   "execution_count": 62,
   "id": "7fa7c829",
   "metadata": {},
   "outputs": [
    {
     "name": "stdout",
     "output_type": "stream",
     "text": [
      "Enter first integer10\n",
      "Enter second integer15\n"
     ]
    }
   ],
   "source": [
    "x = input('Enter first integer')\n",
    "y = input('Enter second integer')\n",
    "\n",
    "if y=int():\n",
    "    y=n\n",
    "if x=int"
   ]
  },
  {
   "cell_type": "code",
   "execution_count": null,
   "id": "abc83f6c",
   "metadata": {},
   "outputs": [],
   "source": []
  },
  {
   "cell_type": "code",
   "execution_count": null,
   "id": "f2a58427",
   "metadata": {},
   "outputs": [],
   "source": []
  }
 ],
 "metadata": {
  "kernelspec": {
   "display_name": "Python 3 (ipykernel)",
   "language": "python",
   "name": "python3"
  },
  "language_info": {
   "codemirror_mode": {
    "name": "ipython",
    "version": 3
   },
   "file_extension": ".py",
   "mimetype": "text/x-python",
   "name": "python",
   "nbconvert_exporter": "python",
   "pygments_lexer": "ipython3",
   "version": "3.11.6"
  }
 },
 "nbformat": 4,
 "nbformat_minor": 5
}
