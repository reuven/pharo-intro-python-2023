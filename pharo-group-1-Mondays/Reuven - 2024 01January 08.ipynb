{
 "cells": [
  {
   "cell_type": "markdown",
   "id": "ee82fb8f",
   "metadata": {},
   "source": [
    "# Agenda\n",
    "\n",
    "- `while`\n",
    "- `break` and `continue`\n",
    "- Start talking about lists!"
   ]
  },
  {
   "cell_type": "code",
   "execution_count": null,
   "id": "312792f6",
   "metadata": {},
   "outputs": [],
   "source": [
    "# pharo.lerner.co.il\n",
    "# password: pharopw\n",
    "\n"
   ]
  },
  {
   "cell_type": "markdown",
   "id": "9c695d0c",
   "metadata": {},
   "source": [
    "# Loops\n",
    "\n",
    "We've been using `for` loops to iterate over data structures:\n",
    "\n",
    "- When we iterate over a string, we get its characters\n",
    "- When we iterate over a `range`, we get integers -- `range(5)` will give us 0, 1, 2, 3, and 4\n",
    "- We even saw a little bit of `enumerate`, which gives us the index as well as the element when we iterate\n",
    "\n",
    "```python\n",
    "for index, one_character in enumerate('abcd'):  # we get two items with each iteration!\n",
    "    print(f'{index}: {one_character}')          # here, we just print those variable values\n",
    "```\n",
    "\n",
    "The basic idea in a `for` loop is that there is some sequence of values, and we want to execute the loop body on each value in that sequence.\n",
    "\n",
    "There are many places in programming where that will come in handy:\n",
    "\n",
    "- For each month of the year, show sales totals\n",
    "- For each user on our system, show the number of logins\n",
    "- For each credit card, show the current balance\n",
    "- For each file in our system, make sure that it doesn't contain a virus\n",
    "\n",
    "But there are also many cases in which we want to repeat our code, but we don't have a sequence to repeat on. That's because we don't know in advance how many times we're going to need to iterate.\n",
    "\n",
    "That's where `while` loops come in. They will run as many (or few) times as needed to achieve a certain goal.\n",
    "\n",
    "You can think of `while` as kind of like `if` -- there is a condition, and if the condition is `True`, then the body executes. The difference between `while` and `if` is that `if` executes its body *once*. By contrast, `while` executes its body once, then goes back and checks the condition -- and if the condition is still `True`, then we execute it again. And again. And again. Each time, we check the condition."
   ]
  },
  {
   "cell_type": "code",
   "execution_count": 1,
   "id": "052273c1",
   "metadata": {},
   "outputs": [
    {
     "name": "stdout",
     "output_type": "stream",
     "text": [
      "Start\n",
      "5\n",
      "4\n",
      "3\n",
      "2\n",
      "1\n",
      "Done\n"
     ]
    }
   ],
   "source": [
    "# example of a while loop:\n",
    "\n",
    "x = 5\n",
    "\n",
    "print('Start')\n",
    "while x > 0:\n",
    "    print(x)\n",
    "    x = x - 1   # fancy syntax: x -= 1\n",
    "print('Done')\n",
    "    "
   ]
  },
  {
   "cell_type": "markdown",
   "id": "bff587ab",
   "metadata": {},
   "source": [
    "# VERY IMPORTANT\n",
    "\n",
    "Make sure that your `while` loop body affects the condition somehow! Otherwise, you could end up with an infinite loop.\n",
    "\n",
    "If you're in Jupyter and find yourself in such a loop, go to the \"Kernel\" menu at the top, and select \"interrupt\""
   ]
  },
  {
   "cell_type": "markdown",
   "id": "036ba4fa",
   "metadata": {},
   "source": [
    "# Exercise: Sum to 100\n",
    "\n",
    "1. Define `total` to be 0.\n",
    "2. Ask the user, repeatedly, to enter a number.\n",
    "    - If they enter something that isn't a number, scold them and then let them try again\n",
    "3. Add the number to `total`\n",
    "4. Keep asking, until/unless the total >= 100, at which point you can stop asking and print the total.\n",
    "\n",
    "Example:\n",
    "\n",
    "    Enter a number: 20\n",
    "        total == 20\n",
    "    Enter a number: 40\n",
    "        total == 60\n",
    "    Enter a number: hello\n",
    "        hello is not numeric!\n",
    "    Enter a number: 30\n",
    "        total == 90\n",
    "    Enter a number: 30\n",
    "        total == 120\n",
    "    Done; total is 120\n",
    "    \n",
    "Hints/reminders:\n",
    "- `input` always returns a string\n",
    "- Use `int` to get an integer based on a string\n",
    "- Use the `str.isdigit` method to check if a string can be turned into an integer"
   ]
  },
  {
   "cell_type": "code",
   "execution_count": 4,
   "id": "b431fab9",
   "metadata": {},
   "outputs": [
    {
     "name": "stdout",
     "output_type": "stream",
     "text": [
      "Enter a number: 98\n",
      "\ttotal == 98\n",
      "Enter a number: 1\n",
      "\ttotal == 99\n",
      "Enter a number: 1\n",
      "\ttotal == 100\n",
      "Done; total is 100\n"
     ]
    }
   ],
   "source": [
    "total = 0\n",
    "\n",
    "while total < 100:\n",
    "    s = input('Enter a number: ').strip()    # the strip method returns a new string without leading/trailing whitespace\n",
    "    \n",
    "    if s.isdigit():    # do we only have digits 0-9 in s?\n",
    "        n = int(s)     # get an integer based on the user's input\n",
    "        total += n     # add n to total\n",
    "        print(f'\\ttotal == {total}')   # \\t means: tab, aka move to the next column that's a multiple of 8\n",
    "    else:\n",
    "        print(f'\\t{s} is not numeric')  # I really love using \\t!\n",
    "    \n",
    "print(f'Done; total is {total}')"
   ]
  },
  {
   "cell_type": "markdown",
   "id": "e885f57f",
   "metadata": {},
   "source": [
    "Python tutor link:\n",
    "\n",
    "https://pythontutor.com/render.html#code=total%20%3D%200%0A%0Awhile%20total%20%3C%20100%3A%0A%20%20%20%20s%20%3D%20input%28'Enter%20a%20number%3A%20'%29.strip%28%29%0A%20%20%20%20%0A%20%20%20%20if%20s.isdigit%28%29%3A%20%20%20%20%23%20do%20we%20only%20have%20digits%200-9%20in%20s%3F%0A%20%20%20%20%20%20%20%20n%20%3D%20int%28s%29%20%20%20%20%20%23%20get%20an%20integer%20based%20on%20the%20user's%20input%0A%20%20%20%20%20%20%20%20total%20%2B%3D%20n%20%20%20%20%20%23%20add%20n%20to%20total%0A%20%20%20%20%20%20%20%20print%28f'%5Cttotal%20%3D%3D%20%7Btotal%7D'%29%0A%20%20%20%20else%3A%0A%20%20%20%20%20%20%20%20print%28f'%5Ct%7Bs%7D%20is%20not%20numeric'%29%0A%20%20%20%20%0Aprint%28f'Done%3B%20total%20is%20%7Btotal%7D'%29&cumulative=false&curInstr=25&heapPrimitives=nevernest&mode=display&origin=opt-frontend.js&py=311&rawInputLstJSON=%5B%2230%22,%2250%22,%22hello%22,%2250%22%5D&textReferences=false"
   ]
  },
  {
   "cell_type": "code",
   "execution_count": 6,
   "id": "13f25581",
   "metadata": {},
   "outputs": [
    {
     "name": "stdout",
     "output_type": "stream",
     "text": [
      "a\n",
      "b\n",
      "d\n",
      "e\n"
     ]
    }
   ],
   "source": [
    "s = 'abcde'\n",
    "look_for = 'c'\n",
    "\n",
    "# let's print each of the characters in s\n",
    "# ... except if the character matches the value in look_for\n",
    "\n",
    "# option 1: use if\n",
    "\n",
    "for one_character in s:\n",
    "    if one_character != look_for:\n",
    "        print(one_character)"
   ]
  },
  {
   "cell_type": "code",
   "execution_count": 10,
   "id": "2e2e7cf7",
   "metadata": {},
   "outputs": [
    {
     "name": "stdout",
     "output_type": "stream",
     "text": [
      "a\n",
      "b\n",
      "d\n",
      "e\n"
     ]
    }
   ],
   "source": [
    "# option 2: use continue\n",
    "\n",
    "# the continue statement means: skip to the next iteration of the loop\n",
    "# ignore the remainder of the loop body\n",
    "\n",
    "# usually, continue means: the current iteration is no longer relevant\n",
    "# so let's just move ahead\n",
    "\n",
    "# advantages of using continue:\n",
    "# (1) it removes the indentation from the rest of the loop body, especially\n",
    "#     useful when there is a lot left\n",
    "# (2) semantically, it allows us to remove things that are outliers or \n",
    "#     errors -- we can just get rid of those, and concentrate on important/interesting things\n",
    "\n",
    "for one_character in s:\n",
    "    if one_character == look_for:\n",
    "        continue   # this means: skip the rest of the loop body, and go back for the next iteration\n",
    "\n",
    "    print(one_character)"
   ]
  },
  {
   "cell_type": "code",
   "execution_count": 11,
   "id": "11c41191",
   "metadata": {},
   "outputs": [
    {
     "ename": "SyntaxError",
     "evalue": "'continue' not properly in loop (3139248272.py, line 2)",
     "output_type": "error",
     "traceback": [
      "\u001b[0;36m  Cell \u001b[0;32mIn[11], line 2\u001b[0;36m\u001b[0m\n\u001b[0;31m    continue\u001b[0m\n\u001b[0m    ^\u001b[0m\n\u001b[0;31mSyntaxError\u001b[0m\u001b[0;31m:\u001b[0m 'continue' not properly in loop\n"
     ]
    }
   ],
   "source": [
    "# what happens if you try to use continue outside of a loop?\n",
    "continue"
   ]
  },
  {
   "cell_type": "code",
   "execution_count": 12,
   "id": "8c79c93a",
   "metadata": {},
   "outputs": [],
   "source": [
    "# continue works just fine in while loops, also -- not just for loops\n"
   ]
  },
  {
   "cell_type": "markdown",
   "id": "191d63d3",
   "metadata": {},
   "source": [
    "Another way we can control our loops is with `break`. \n",
    "\n",
    "- `continue` means: Skip the rest of the loop body, and continue with the next iteration\n",
    "- `break` means: Stop the loop right now, and continue with the program after the loop body ends\n",
    "\n",
    "`break` typically means: we have achieved our goal, and there's no reason to continue any more"
   ]
  },
  {
   "cell_type": "code",
   "execution_count": 13,
   "id": "cbafd240",
   "metadata": {},
   "outputs": [
    {
     "name": "stdout",
     "output_type": "stream",
     "text": [
      "Enter your name: Reuven\n",
      "Hello, Reuven!\n",
      "Enter your name: asdfasdfsa\n",
      "Hello, asdfasdfsa!\n",
      "Enter your name: asdfasfsafdasfas\n",
      "Hello, asdfasfsafdasfas!\n",
      "Enter your name: \n"
     ]
    }
   ],
   "source": [
    "# simple example of break\n",
    "# also: a crazy loop (in other languages) that is very common in Python\n",
    "\n",
    "while True:   # yes, this is an infinite loop!\n",
    "    name = input('Enter your name: ').strip()\n",
    "    \n",
    "    if name == '':   # empty string? exit the loop!\n",
    "        break\n",
    "        \n",
    "    print(f'Hello, {name}!')\n"
   ]
  },
  {
   "cell_type": "markdown",
   "id": "c6ac6a77",
   "metadata": {},
   "source": [
    "# Exercise: Sum digits\n",
    "\n",
    "1. Define `total` to be 0\n",
    "2. Ask the user, repeatedly, to enter a string\n",
    "    - If it's the empty string, then stop asking, and exit the program printing `total`\n",
    "3. Go through each character in the string\n",
    "    - If it is not a digit, then scold the user and continue to the next value\n",
    "    - If it's a digit, then turn it into an integer and add to `total`\n",
    "4. Print `total`\n",
    "\n",
    "Example:\n",
    "\n",
    "    Enter digits: 123a4\n",
    "    Enter digits: 56qr7\n",
    "    Enter digits: [ENTER]\n",
    "    a is not numeric\n",
    "    q is not numeric\n",
    "    r is not numeric\n",
    "    Total is 28\n",
    "    \n",
    "Consider:\n",
    "- Use `while True`, because you don't know how many inputs you'll get\n",
    "- Check for an empty string -- then `break`\n",
    "- use a `for` loop to go through each character\n",
    "- Use `str.isdigit` to check if it's a digit -- and if not, then `continue`\n"
   ]
  },
  {
   "cell_type": "code",
   "execution_count": 18,
   "id": "959e6fe9",
   "metadata": {},
   "outputs": [
    {
     "name": "stdout",
     "output_type": "stream",
     "text": [
      "Enter a string: 123abc\n",
      "total = 6\n",
      "Enter a string: 456def\n",
      "total = 21\n",
      "Enter a string: 91q\n",
      "total = 31\n",
      "Enter a string: \n"
     ]
    }
   ],
   "source": [
    "total = 0\n",
    "\n",
    "while True:\n",
    "    s = input('Enter a string: ').strip()\n",
    "    \n",
    "    if s == '':                            # empty string? exit the loop\n",
    "        break\n",
    "\n",
    "    for one_character in s:\n",
    "        if not one_character.isdigit():    # not a digit?\n",
    "            continue                       #     go onto the next character\n",
    "\n",
    "        total += int(one_character)        # get an int, and add to total\n",
    "\n",
    "    print(f'total = {total}')    "
   ]
  },
  {
   "cell_type": "code",
   "execution_count": 21,
   "id": "d44ae6b3",
   "metadata": {},
   "outputs": [
    {
     "name": "stdout",
     "output_type": "stream",
     "text": [
      "Enter a number:10\n",
      "\ttotal == 10\n",
      "Done; total is 10\n",
      "Enter a number:50\n",
      "\ttotal == 60\n",
      "Done; total is 60\n",
      "Enter a number:90\n",
      "\ttotal == 150\n",
      "Done; total is 150\n"
     ]
    }
   ],
   "source": [
    "total = 0\n",
    "\n",
    "while total < 100:\n",
    "    s = input('Enter a number:').strip() \n",
    "\n",
    "    if s.isdigit():\n",
    "        n = int(s)     \n",
    "        total += n     \n",
    "        print(f'\\ttotal == {total}')\n",
    "    print(f'Done; total is {total}')"
   ]
  },
  {
   "cell_type": "markdown",
   "id": "81754531",
   "metadata": {},
   "source": [
    "# Lists\n",
    "\n",
    "So far, we've been (mostly) using integers and strings. We're now going to use lists.\n",
    "\n",
    "- Lists are containers for other objects\n",
    "- A list can contain any number of any combination of any Python objects\n",
    "- The convention in the Python world is to have lists with only one type -- a list of strings, a list of integers, a list of lists, a list of dictionaries, etc.\n",
    "- Lists are not arrays\n",
    "\n",
    "## How do we define a list?\n",
    "\n",
    "- We use `[]` to define a list\n",
    "- Between the elements, we put commas (`,`)\n",
    "- If it's an empty list, then it's just defined as `[]`"
   ]
  },
  {
   "cell_type": "code",
   "execution_count": 22,
   "id": "8b6de060",
   "metadata": {},
   "outputs": [
    {
     "data": {
      "text/plain": [
       "list"
      ]
     },
     "execution_count": 22,
     "metadata": {},
     "output_type": "execute_result"
    }
   ],
   "source": [
    "# please don't use the variable \"list\" in Python\n",
    "# You can do this, but it'll be painful at some point\n",
    "\n",
    "mylist = [10, 20, 30, 40, 50, 60, 70, 80, 90, 100]\n",
    "\n",
    "# what kind of data structure is this?\n",
    "type(mylist)"
   ]
  },
  {
   "cell_type": "code",
   "execution_count": 23,
   "id": "d3b348f8",
   "metadata": {},
   "outputs": [
    {
     "data": {
      "text/plain": [
       "10"
      ]
     },
     "execution_count": 23,
     "metadata": {},
     "output_type": "execute_result"
    }
   ],
   "source": [
    "# lists have similar capabilities to strings in many ways\n",
    "\n",
    "# retrieve one element with [] and an index\n",
    "mylist[0]"
   ]
  },
  {
   "cell_type": "code",
   "execution_count": 24,
   "id": "810287a9",
   "metadata": {},
   "outputs": [
    {
     "data": {
      "text/plain": [
       "20"
      ]
     },
     "execution_count": 24,
     "metadata": {},
     "output_type": "execute_result"
    }
   ],
   "source": [
    "mylist[1]"
   ]
  },
  {
   "cell_type": "code",
   "execution_count": 25,
   "id": "18d0af6c",
   "metadata": {},
   "outputs": [
    {
     "data": {
      "text/plain": [
       "100"
      ]
     },
     "execution_count": 25,
     "metadata": {},
     "output_type": "execute_result"
    }
   ],
   "source": [
    "mylist[-1]   # final element"
   ]
  },
  {
   "cell_type": "code",
   "execution_count": 26,
   "id": "5e218a87",
   "metadata": {},
   "outputs": [
    {
     "data": {
      "text/plain": [
       "[40, 50, 60, 70]"
      ]
     },
     "execution_count": 26,
     "metadata": {},
     "output_type": "execute_result"
    }
   ],
   "source": [
    "# retrieve a slice of elements with [start:stop]\n",
    "\n",
    "mylist[3:7] # start at index 3, stop just before index 7"
   ]
  },
  {
   "cell_type": "code",
   "execution_count": 27,
   "id": "5af6c3d5",
   "metadata": {},
   "outputs": [
    {
     "data": {
      "text/plain": [
       "True"
      ]
     },
     "execution_count": 27,
     "metadata": {},
     "output_type": "execute_result"
    }
   ],
   "source": [
    "# search for an item using \"in\"\n",
    "\n",
    "60 in mylist"
   ]
  },
  {
   "cell_type": "code",
   "execution_count": 28,
   "id": "5391e90d",
   "metadata": {},
   "outputs": [
    {
     "data": {
      "text/plain": [
       "False"
      ]
     },
     "execution_count": 28,
     "metadata": {},
     "output_type": "execute_result"
    }
   ],
   "source": [
    "'hello' in mylist"
   ]
  },
  {
   "cell_type": "code",
   "execution_count": 29,
   "id": "84b22c25",
   "metadata": {},
   "outputs": [
    {
     "name": "stdout",
     "output_type": "stream",
     "text": [
      "10\n",
      "20\n",
      "30\n",
      "40\n",
      "50\n",
      "60\n",
      "70\n",
      "80\n",
      "90\n",
      "100\n"
     ]
    }
   ],
   "source": [
    "# iterate over a list with a \"for\" loop\n",
    "\n",
    "for one_item in mylist:\n",
    "    print(one_item)"
   ]
  },
  {
   "cell_type": "markdown",
   "id": "14aa2c6c",
   "metadata": {},
   "source": [
    "# Lists are mutable!\n",
    "\n",
    "You might remember that we cannot change strings; they are \"immutable.\"\n",
    "\n",
    "By contrast, lists are mutable -- we can change them! This has huge implications in Python."
   ]
  },
  {
   "cell_type": "code",
   "execution_count": 30,
   "id": "2015d60a",
   "metadata": {},
   "outputs": [
    {
     "ename": "TypeError",
     "evalue": "'str' object does not support item assignment",
     "output_type": "error",
     "traceback": [
      "\u001b[0;31m---------------------------------------------------------------------------\u001b[0m",
      "\u001b[0;31mTypeError\u001b[0m                                 Traceback (most recent call last)",
      "Cell \u001b[0;32mIn[30], line 2\u001b[0m\n\u001b[1;32m      1\u001b[0m s \u001b[38;5;241m=\u001b[39m \u001b[38;5;124m'\u001b[39m\u001b[38;5;124mabcdefghij\u001b[39m\u001b[38;5;124m'\u001b[39m\n\u001b[0;32m----> 2\u001b[0m \u001b[43ms\u001b[49m\u001b[43m[\u001b[49m\u001b[38;5;241;43m0\u001b[39;49m\u001b[43m]\u001b[49m \u001b[38;5;241m=\u001b[39m \u001b[38;5;124m'\u001b[39m\u001b[38;5;124m!\u001b[39m\u001b[38;5;124m'\u001b[39m\n",
      "\u001b[0;31mTypeError\u001b[0m: 'str' object does not support item assignment"
     ]
    }
   ],
   "source": [
    "s = 'abcdefghij'\n",
    "s[0] = '!'"
   ]
  },
  {
   "cell_type": "code",
   "execution_count": 31,
   "id": "05ea7b05",
   "metadata": {},
   "outputs": [],
   "source": [
    "mylist = [10, 20, 30, 40, 50]\n",
    "mylist[0] = '!'"
   ]
  },
  {
   "cell_type": "code",
   "execution_count": 32,
   "id": "cead93bd",
   "metadata": {},
   "outputs": [
    {
     "data": {
      "text/plain": [
       "['!', 20, 30, 40, 50]"
      ]
     },
     "execution_count": 32,
     "metadata": {},
     "output_type": "execute_result"
    }
   ],
   "source": [
    "mylist"
   ]
  },
  {
   "cell_type": "code",
   "execution_count": 33,
   "id": "b4011fde",
   "metadata": {},
   "outputs": [
    {
     "data": {
      "text/plain": [
       "[10, 20, 30, 40, 50]"
      ]
     },
     "execution_count": 33,
     "metadata": {},
     "output_type": "execute_result"
    }
   ],
   "source": [
    "# even more common than modifying a list element is adding to a list, and removing from a list\n",
    "\n",
    "mylist = [10, 20, 30, 40]\n",
    "mylist.append(50)    # the append method adds a new value to the end of a list\n",
    "\n",
    "mylist"
   ]
  },
  {
   "cell_type": "code",
   "execution_count": 34,
   "id": "29b574fb",
   "metadata": {},
   "outputs": [
    {
     "data": {
      "text/plain": [
       "[10, 20, 30, 40, 50, 'abcd']"
      ]
     },
     "execution_count": 34,
     "metadata": {},
     "output_type": "execute_result"
    }
   ],
   "source": [
    "mylist.append('abcd')\n",
    "mylist"
   ]
  },
  {
   "cell_type": "code",
   "execution_count": 35,
   "id": "c8f6d4a9",
   "metadata": {},
   "outputs": [
    {
     "data": {
      "text/plain": [
       "[10, 20, 30, 40, 50, 'abcd', [100, 200, 300]]"
      ]
     },
     "execution_count": 35,
     "metadata": {},
     "output_type": "execute_result"
    }
   ],
   "source": [
    "mylist.append([100, 200, 300])\n",
    "mylist"
   ]
  },
  {
   "cell_type": "code",
   "execution_count": 36,
   "id": "e36c6e58",
   "metadata": {},
   "outputs": [
    {
     "data": {
      "text/plain": [
       "7"
      ]
     },
     "execution_count": 36,
     "metadata": {},
     "output_type": "execute_result"
    }
   ],
   "source": [
    "len(mylist)"
   ]
  },
  {
   "cell_type": "code",
   "execution_count": 37,
   "id": "21b4b2f2",
   "metadata": {},
   "outputs": [
    {
     "data": {
      "text/plain": [
       "[100, 200, 300]"
      ]
     },
     "execution_count": 37,
     "metadata": {},
     "output_type": "execute_result"
    }
   ],
   "source": [
    "mylist[-1]   # what's the final element?"
   ]
  },
  {
   "cell_type": "code",
   "execution_count": 38,
   "id": "2c578b03",
   "metadata": {},
   "outputs": [
    {
     "data": {
      "text/plain": [
       "[100, 200, 300]"
      ]
     },
     "execution_count": 38,
     "metadata": {},
     "output_type": "execute_result"
    }
   ],
   "source": [
    "# what if I want to remove an element?\n",
    "# we can use the \"pop\" method, which removes + returns the final element\n",
    "\n",
    "mylist.pop()"
   ]
  },
  {
   "cell_type": "code",
   "execution_count": 39,
   "id": "32a7a987",
   "metadata": {},
   "outputs": [
    {
     "data": {
      "text/plain": [
       "[10, 20, 30, 40, 50, 'abcd']"
      ]
     },
     "execution_count": 39,
     "metadata": {},
     "output_type": "execute_result"
    }
   ],
   "source": [
    "mylist"
   ]
  },
  {
   "cell_type": "code",
   "execution_count": 40,
   "id": "c057a1c2",
   "metadata": {},
   "outputs": [
    {
     "data": {
      "text/plain": [
       "'abcd'"
      ]
     },
     "execution_count": 40,
     "metadata": {},
     "output_type": "execute_result"
    }
   ],
   "source": [
    "mylist.pop()"
   ]
  },
  {
   "cell_type": "code",
   "execution_count": 41,
   "id": "abeaf5ee",
   "metadata": {},
   "outputs": [
    {
     "data": {
      "text/plain": [
       "[10, 20, 30, 40, 50]"
      ]
     },
     "execution_count": 41,
     "metadata": {},
     "output_type": "execute_result"
    }
   ],
   "source": [
    "mylist"
   ]
  },
  {
   "cell_type": "code",
   "execution_count": 42,
   "id": "f2e08c19",
   "metadata": {},
   "outputs": [
    {
     "data": {
      "text/plain": [
       "30"
      ]
     },
     "execution_count": 42,
     "metadata": {},
     "output_type": "execute_result"
    }
   ],
   "source": [
    "# if you want, you can pass an integer (index) to pop, and remove another element\n",
    "\n",
    "mylist.pop(2)"
   ]
  },
  {
   "cell_type": "code",
   "execution_count": 44,
   "id": "b023c0ea",
   "metadata": {},
   "outputs": [
    {
     "data": {
      "text/plain": [
       "[10, 20, 40, 50]"
      ]
     },
     "execution_count": 44,
     "metadata": {},
     "output_type": "execute_result"
    }
   ],
   "source": [
    "mylist"
   ]
  },
  {
   "cell_type": "markdown",
   "id": "e5c7f7a4",
   "metadata": {},
   "source": [
    "Stack in CS is known as a \"LIFO\" -- last in, first out\n",
    "\n",
    "- You add items to a stack using the \"push\" command\n",
    "- You remove items from a stack using the \"pop\" command"
   ]
  },
  {
   "cell_type": "code",
   "execution_count": 45,
   "id": "e17d3cbd",
   "metadata": {},
   "outputs": [
    {
     "data": {
      "text/plain": [
       "[10, 40, 50]"
      ]
     },
     "execution_count": 45,
     "metadata": {},
     "output_type": "execute_result"
    }
   ],
   "source": [
    "mylist.remove(20)   # this removes the first instance of 20 it finds from the left\n",
    "mylist"
   ]
  },
  {
   "cell_type": "code",
   "execution_count": 46,
   "id": "ceb6ccb9",
   "metadata": {},
   "outputs": [
    {
     "ename": "ValueError",
     "evalue": "list.remove(x): x not in list",
     "output_type": "error",
     "traceback": [
      "\u001b[0;31m---------------------------------------------------------------------------\u001b[0m",
      "\u001b[0;31mValueError\u001b[0m                                Traceback (most recent call last)",
      "Cell \u001b[0;32mIn[46], line 1\u001b[0m\n\u001b[0;32m----> 1\u001b[0m \u001b[43mmylist\u001b[49m\u001b[38;5;241;43m.\u001b[39;49m\u001b[43mremove\u001b[49m\u001b[43m(\u001b[49m\u001b[38;5;241;43m20\u001b[39;49m\u001b[43m)\u001b[49m\n",
      "\u001b[0;31mValueError\u001b[0m: list.remove(x): x not in list"
     ]
    }
   ],
   "source": [
    "mylist.remove(20)"
   ]
  },
  {
   "cell_type": "code",
   "execution_count": 47,
   "id": "4cae828d",
   "metadata": {},
   "outputs": [
    {
     "data": {
      "text/plain": [
       "[10, 10, 20, 30, 30]"
      ]
     },
     "execution_count": 47,
     "metadata": {},
     "output_type": "execute_result"
    }
   ],
   "source": [
    "mylist = [10, 10, 20, 20, 30, 30]\n",
    "\n",
    "mylist.remove(20)\n",
    "mylist"
   ]
  },
  {
   "cell_type": "code",
   "execution_count": null,
   "id": "57640313",
   "metadata": {},
   "outputs": [],
   "source": [
    "mylist = [10, 20, 30, 10, 20, 30, 20]\n",
    "\n",
    "# how can we remove 20 from our list?\n",
    "# option 1: use a for loop and a new list\n",
    "\n",
    "newlist = []\n",
    "\n",
    "for one_item in mylist:\n",
    "    if one_item != 20:\n",
    "        newlist.append(one_item)"
   ]
  }
 ],
 "metadata": {
  "kernelspec": {
   "display_name": "Python 3 (ipykernel)",
   "language": "python",
   "name": "python3"
  },
  "language_info": {
   "codemirror_mode": {
    "name": "ipython",
    "version": 3
   },
   "file_extension": ".py",
   "mimetype": "text/x-python",
   "name": "python",
   "nbconvert_exporter": "python",
   "pygments_lexer": "ipython3",
   "version": "3.11.6"
  }
 },
 "nbformat": 4,
 "nbformat_minor": 5
}
