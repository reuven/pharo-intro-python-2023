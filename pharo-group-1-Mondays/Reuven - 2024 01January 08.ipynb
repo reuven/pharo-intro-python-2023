{
 "cells": [
  {
   "cell_type": "markdown",
   "id": "ee82fb8f",
   "metadata": {},
   "source": [
    "# Agenda\n",
    "\n",
    "- `while`\n",
    "- `break` and `continue`\n",
    "- Start talking about lists!"
   ]
  },
  {
   "cell_type": "code",
   "execution_count": null,
   "id": "73b66086",
   "metadata": {},
   "outputs": [],
   "source": [
    "# pharo.lerner.co.il\n",
    "# password: pharopw\n",
    "\n"
   ]
  },
  {
   "cell_type": "markdown",
   "id": "9f119ab4",
   "metadata": {},
   "source": [
    "# Loops\n",
    "\n",
    "We've been using `for` loops to iterate over data structures:\n",
    "\n",
    "- When we iterate over a string, we get its characters\n",
    "- When we iterate over a `range`, we get integers -- `range(5)` will give us 0, 1, 2, 3, and 4\n",
    "- We even saw a little bit of `enumerate`, which gives us the index as well as the element when we iterate\n",
    "\n",
    "```python\n",
    "for index, one_character in enumerate('abcd'):  # we get two items with each iteration!\n",
    "    print(f'{index}: {one_character}')          # here, we just print those variable values\n",
    "```"
   ]
  }
 ],
 "metadata": {
  "kernelspec": {
   "display_name": "Python 3 (ipykernel)",
   "language": "python",
   "name": "python3"
  },
  "language_info": {
   "codemirror_mode": {
    "name": "ipython",
    "version": 3
   },
   "file_extension": ".py",
   "mimetype": "text/x-python",
   "name": "python",
   "nbconvert_exporter": "python",
   "pygments_lexer": "ipython3",
   "version": "3.11.6"
  }
 },
 "nbformat": 4,
 "nbformat_minor": 5
}
