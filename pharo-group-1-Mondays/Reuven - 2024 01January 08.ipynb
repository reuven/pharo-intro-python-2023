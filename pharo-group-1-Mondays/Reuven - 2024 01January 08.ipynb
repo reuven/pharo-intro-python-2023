{
 "cells": [
  {
   "cell_type": "markdown",
   "id": "ee82fb8f",
   "metadata": {},
   "source": [
    "# Agenda\n",
    "\n",
    "- `while`\n",
    "- `break` and `continue`\n",
    "- Start talking about lists!"
   ]
  },
  {
   "cell_type": "code",
   "execution_count": null,
   "id": "66ce96ca",
   "metadata": {},
   "outputs": [],
   "source": [
    "# pharo.lerner.co.il\n",
    "# password: pharopw\n",
    "\n"
   ]
  },
  {
   "cell_type": "markdown",
   "id": "d3266973",
   "metadata": {},
   "source": [
    "# Loops\n",
    "\n",
    "We've been using `for` loops to iterate over data structures:\n",
    "\n",
    "- When we iterate over a string, we get its characters\n",
    "- When we iterate over a `range`, we get integers -- `range(5)` will give us 0, 1, 2, 3, and 4\n",
    "- We even saw a little bit of `enumerate`, which gives us the index as well as the element when we iterate\n",
    "\n",
    "```python\n",
    "for index, one_character in enumerate('abcd'):  # we get two items with each iteration!\n",
    "    print(f'{index}: {one_character}')          # here, we just print those variable values\n",
    "```\n",
    "\n",
    "The basic idea in a `for` loop is that there is some sequence of values, and we want to execute the loop body on each value in that sequence.\n",
    "\n",
    "There are many places in programming where that will come in handy:\n",
    "\n",
    "- For each month of the year, show sales totals\n",
    "- For each user on our system, show the number of logins\n",
    "- For each credit card, show the current balance\n",
    "- For each file in our system, make sure that it doesn't contain a virus\n",
    "\n",
    "But there are also many cases in which we want to repeat our code, but we don't have a sequence to repeat on. That's because we don't know in advance how many times we're going to need to iterate.\n",
    "\n",
    "That's where `while` loops come in. They will run as many (or few) times as needed to achieve a certain goal.\n",
    "\n",
    "You can think of `while` as kind of like `if` -- there is a condition, and if the condition is `True`, then the body executes. The difference between `while` and `if` is that `if` executes its body *once*. By contrast, `while` executes its body once, then goes back and checks the condition -- and if the condition is still `True`, then we execute it again. And again. And again. Each time, we check the condition."
   ]
  },
  {
   "cell_type": "code",
   "execution_count": 1,
   "id": "9eb8af12",
   "metadata": {},
   "outputs": [
    {
     "name": "stdout",
     "output_type": "stream",
     "text": [
      "Start\n",
      "5\n",
      "4\n",
      "3\n",
      "2\n",
      "1\n",
      "Done\n"
     ]
    }
   ],
   "source": [
    "# example of a while loop:\n",
    "\n",
    "x = 5\n",
    "\n",
    "print('Start')\n",
    "while x > 0:\n",
    "    print(x)\n",
    "    x = x - 1   # fancy syntax: x -= 1\n",
    "print('Done')\n",
    "    "
   ]
  },
  {
   "cell_type": "markdown",
   "id": "5d6ac655",
   "metadata": {},
   "source": [
    "# VERY IMPORTANT\n",
    "\n",
    "Make sure that your `while` loop body affects the condition somehow! Otherwise, you could end up with an infinite loop.\n",
    "\n",
    "If you're in Jupyter and find yourself in such a loop, go to the \"Kernel\" menu at the top, and select \"interrupt\""
   ]
  },
  {
   "cell_type": "markdown",
   "id": "e8febd43",
   "metadata": {},
   "source": [
    "# Exercise: Sum to 100\n",
    "\n",
    "1. Define `total` to be 0.\n",
    "2. Ask the user, repeatedly, to enter a number.\n",
    "    - If they enter something that isn't a number, scold them and then let them try again\n",
    "3. Add the number to `total`\n",
    "4. Keep asking, until/unless the total >= 100, at which point you can stop asking and print the total.\n",
    "\n",
    "Example:\n",
    "\n",
    "    Enter a number: 20\n",
    "        total == 20\n",
    "    Enter a number: 40\n",
    "        total == 60\n",
    "    Enter a number: hello\n",
    "        hello is not numeric!\n",
    "    Enter a number: 30\n",
    "        total == 90\n",
    "    Enter a number: 30\n",
    "        total == 120\n",
    "    Done; total is 120\n",
    "    \n",
    "Hints/reminders:\n",
    "- `input` always returns a string\n",
    "- Use `int` to get an integer based on a string\n",
    "- Use the `str.isdigit` method to check if a string can be turned into an integer"
   ]
  },
  {
   "cell_type": "code",
   "execution_count": 4,
   "id": "435f4fe2",
   "metadata": {},
   "outputs": [
    {
     "name": "stdout",
     "output_type": "stream",
     "text": [
      "Enter a number: 98\n",
      "\ttotal == 98\n",
      "Enter a number: 1\n",
      "\ttotal == 99\n",
      "Enter a number: 1\n",
      "\ttotal == 100\n",
      "Done; total is 100\n"
     ]
    }
   ],
   "source": [
    "total = 0\n",
    "\n",
    "while total < 100:\n",
    "    s = input('Enter a number: ').strip()    # the strip method returns a new string without leading/trailing whitespace\n",
    "    \n",
    "    if s.isdigit():    # do we only have digits 0-9 in s?\n",
    "        n = int(s)     # get an integer based on the user's input\n",
    "        total += n     # add n to total\n",
    "        print(f'\\ttotal == {total}')   # \\t means: tab, aka move to the next column that's a multiple of 8\n",
    "    else:\n",
    "        print(f'\\t{s} is not numeric')  # I really love using \\t!\n",
    "    \n",
    "print(f'Done; total is {total}')"
   ]
  },
  {
   "cell_type": "markdown",
   "id": "8133d477",
   "metadata": {},
   "source": [
    "Python tutor link:\n",
    "\n",
    "https://pythontutor.com/render.html#code=total%20%3D%200%0A%0Awhile%20total%20%3C%20100%3A%0A%20%20%20%20s%20%3D%20input%28'Enter%20a%20number%3A%20'%29.strip%28%29%0A%20%20%20%20%0A%20%20%20%20if%20s.isdigit%28%29%3A%20%20%20%20%23%20do%20we%20only%20have%20digits%200-9%20in%20s%3F%0A%20%20%20%20%20%20%20%20n%20%3D%20int%28s%29%20%20%20%20%20%23%20get%20an%20integer%20based%20on%20the%20user's%20input%0A%20%20%20%20%20%20%20%20total%20%2B%3D%20n%20%20%20%20%20%23%20add%20n%20to%20total%0A%20%20%20%20%20%20%20%20print%28f'%5Cttotal%20%3D%3D%20%7Btotal%7D'%29%0A%20%20%20%20else%3A%0A%20%20%20%20%20%20%20%20print%28f'%5Ct%7Bs%7D%20is%20not%20numeric'%29%0A%20%20%20%20%0Aprint%28f'Done%3B%20total%20is%20%7Btotal%7D'%29&cumulative=false&curInstr=25&heapPrimitives=nevernest&mode=display&origin=opt-frontend.js&py=311&rawInputLstJSON=%5B%2230%22,%2250%22,%22hello%22,%2250%22%5D&textReferences=false"
   ]
  },
  {
   "cell_type": "code",
   "execution_count": 6,
   "id": "069c8eb2",
   "metadata": {},
   "outputs": [
    {
     "name": "stdout",
     "output_type": "stream",
     "text": [
      "a\n",
      "b\n",
      "d\n",
      "e\n"
     ]
    }
   ],
   "source": [
    "s = 'abcde'\n",
    "look_for = 'c'\n",
    "\n",
    "# let's print each of the characters in s\n",
    "# ... except if the character matches the value in look_for\n",
    "\n",
    "# option 1: use if\n",
    "\n",
    "for one_character in s:\n",
    "    if one_character != look_for:\n",
    "        print(one_character)"
   ]
  },
  {
   "cell_type": "code",
   "execution_count": 10,
   "id": "d80b4fe5",
   "metadata": {},
   "outputs": [
    {
     "name": "stdout",
     "output_type": "stream",
     "text": [
      "a\n",
      "b\n",
      "d\n",
      "e\n"
     ]
    }
   ],
   "source": [
    "# option 2: use continue\n",
    "\n",
    "# the continue statement means: skip to the next iteration of the loop\n",
    "# ignore the remainder of the loop body\n",
    "\n",
    "# usually, continue means: the current iteration is no longer relevant\n",
    "# so let's just move ahead\n",
    "\n",
    "# advantages of using continue:\n",
    "# (1) it removes the indentation from the rest of the loop body, especially\n",
    "#     useful when there is a lot left\n",
    "# (2) semantically, it allows us to remove things that are outliers or \n",
    "#     errors -- we can just get rid of those, and concentrate on important/interesting things\n",
    "\n",
    "for one_character in s:\n",
    "    if one_character == look_for:\n",
    "        continue   # this means: skip the rest of the loop body, and go back for the next iteration\n",
    "\n",
    "    print(one_character)"
   ]
  },
  {
   "cell_type": "code",
   "execution_count": 11,
   "id": "4a1be3ed",
   "metadata": {},
   "outputs": [
    {
     "ename": "SyntaxError",
     "evalue": "'continue' not properly in loop (3139248272.py, line 2)",
     "output_type": "error",
     "traceback": [
      "\u001b[0;36m  Cell \u001b[0;32mIn[11], line 2\u001b[0;36m\u001b[0m\n\u001b[0;31m    continue\u001b[0m\n\u001b[0m    ^\u001b[0m\n\u001b[0;31mSyntaxError\u001b[0m\u001b[0;31m:\u001b[0m 'continue' not properly in loop\n"
     ]
    }
   ],
   "source": [
    "# what happens if you try to use continue outside of a loop?\n",
    "continue"
   ]
  },
  {
   "cell_type": "code",
   "execution_count": 12,
   "id": "1f06ea4e",
   "metadata": {},
   "outputs": [],
   "source": [
    "# continue works just fine in while loops, also -- not just for loops\n"
   ]
  },
  {
   "cell_type": "markdown",
   "id": "7ee78da8",
   "metadata": {},
   "source": [
    "Another way we can control our loops is with `break`. \n",
    "\n",
    "- `continue` means: Skip the rest of the loop body, and continue with the next iteration\n",
    "- `break` means: Stop the loop right now, and continue with the program after the loop body ends\n",
    "\n",
    "`break` typically means: we have achieved our goal, and there's no reason to continue any more"
   ]
  },
  {
   "cell_type": "code",
   "execution_count": 13,
   "id": "337c05c8",
   "metadata": {},
   "outputs": [
    {
     "name": "stdout",
     "output_type": "stream",
     "text": [
      "Enter your name: Reuven\n",
      "Hello, Reuven!\n",
      "Enter your name: asdfasdfsa\n",
      "Hello, asdfasdfsa!\n",
      "Enter your name: asdfasfsafdasfas\n",
      "Hello, asdfasfsafdasfas!\n",
      "Enter your name: \n"
     ]
    }
   ],
   "source": [
    "# simple example of break\n",
    "# also: a crazy loop (in other languages) that is very common in Python\n",
    "\n",
    "while True:   # yes, this is an infinite loop!\n",
    "    name = input('Enter your name: ').strip()\n",
    "    \n",
    "    if name == '':   # empty string? exit the loop!\n",
    "        break\n",
    "        \n",
    "    print(f'Hello, {name}!')\n"
   ]
  },
  {
   "cell_type": "markdown",
   "id": "b28bf8a5",
   "metadata": {},
   "source": [
    "# Exercise: Sum digits\n",
    "\n",
    "1. Define `total` to be 0\n",
    "2. Ask the user, repeatedly, to enter a string\n",
    "    - If it's the empty string, then stop asking, and exit the program printing `total`\n",
    "3. Go through each character in the string\n",
    "    - If it is not a digit, then scold the user and continue to the next value\n",
    "    - If it's a digit, then turn it into an integer and add to `total`\n",
    "4. Print `total`\n",
    "\n",
    "Example:\n",
    "\n",
    "    Enter digits: 123a4\n",
    "    Enter digits: 56qr7\n",
    "    Enter digits: [ENTER]\n",
    "    a is not numeric\n",
    "    q is not numeric\n",
    "    r is not numeric\n",
    "    Total is 28\n",
    "    \n",
    "Consider:\n",
    "- Use `while True`, because you don't know how many inputs you'll get\n",
    "- Check for an empty string -- then `break`\n",
    "- use a `for` loop to go through each character\n",
    "- Use `str.isdigit` to check if it's a digit -- and if not, then `continue`\n"
   ]
  },
  {
   "cell_type": "code",
   "execution_count": 18,
   "id": "e38d0d47",
   "metadata": {},
   "outputs": [
    {
     "name": "stdout",
     "output_type": "stream",
     "text": [
      "Enter a string: 123abc\n",
      "total = 6\n",
      "Enter a string: 456def\n",
      "total = 21\n",
      "Enter a string: 91q\n",
      "total = 31\n",
      "Enter a string: \n"
     ]
    }
   ],
   "source": [
    "total = 0\n",
    "\n",
    "while True:\n",
    "    s = input('Enter a string: ').strip()\n",
    "    \n",
    "    if s == '':                            # empty string? exit the loop\n",
    "        break\n",
    "\n",
    "    for one_character in s:\n",
    "        if not one_character.isdigit():    # not a digit?\n",
    "            continue                       #     go onto the next character\n",
    "\n",
    "        total += int(one_character)        # get an int, and add to total\n",
    "\n",
    "    print(f'total = {total}')    "
   ]
  },
  {
   "cell_type": "code",
   "execution_count": 21,
   "id": "bf89841c",
   "metadata": {},
   "outputs": [
    {
     "name": "stdout",
     "output_type": "stream",
     "text": [
      "Enter a number:10\n",
      "\ttotal == 10\n",
      "Done; total is 10\n",
      "Enter a number:50\n",
      "\ttotal == 60\n",
      "Done; total is 60\n",
      "Enter a number:90\n",
      "\ttotal == 150\n",
      "Done; total is 150\n"
     ]
    }
   ],
   "source": [
    "total = 0\n",
    "\n",
    "while total < 100:\n",
    "    s = input('Enter a number:').strip() \n",
    "\n",
    "    if s.isdigit():\n",
    "        n = int(s)     \n",
    "        total += n     \n",
    "        print(f'\\ttotal == {total}')\n",
    "    print(f'Done; total is {total}')"
   ]
  },
  {
   "cell_type": "markdown",
   "id": "37dadce5",
   "metadata": {},
   "source": [
    "# Lists\n",
    "\n",
    "So far, we've been (mostly) using integers and strings. We're now going to use lists.\n",
    "\n",
    "- Lists are containers for other objects\n",
    "- A list can contain any number of any combination of any Python objects\n",
    "- The convention in the Python world is to have lists with only one type -- a list of strings, a list of integers, a list of lists, a list of dictionaries, etc.\n",
    "- Lists are not arrays\n",
    "\n",
    "## How do we define a list?\n",
    "\n",
    "- We use `[]` to define a list\n",
    "- Between the elements, we put commas (`,`)\n",
    "- If it's an empty s"
   ]
  }
 ],
 "metadata": {
  "kernelspec": {
   "display_name": "Python 3 (ipykernel)",
   "language": "python",
   "name": "python3"
  },
  "language_info": {
   "codemirror_mode": {
    "name": "ipython",
    "version": 3
   },
   "file_extension": ".py",
   "mimetype": "text/x-python",
   "name": "python",
   "nbconvert_exporter": "python",
   "pygments_lexer": "ipython3",
   "version": "3.11.6"
  }
 },
 "nbformat": 4,
 "nbformat_minor": 5
}
