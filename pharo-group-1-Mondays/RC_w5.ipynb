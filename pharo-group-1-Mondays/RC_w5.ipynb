{
 "cells": [
  {
   "cell_type": "code",
   "execution_count": 4,
   "id": "973ece36",
   "metadata": {},
   "outputs": [
    {
     "name": "stdout",
     "output_type": "stream",
     "text": [
      "Start\n",
      "5\n",
      "4\n",
      "3\n",
      "2\n",
      "1\n",
      "Done\n"
     ]
    }
   ],
   "source": [
    "# example of a while loop:\n",
    "\n",
    "x = 5\n",
    "\n",
    "print('Start')\n",
    "while x > 0:\n",
    "    print(x)\n",
    "    x = x - 1   \n",
    "print('Done')"
   ]
  },
  {
   "cell_type": "code",
   "execution_count": 32,
   "id": "463bb831",
   "metadata": {},
   "outputs": [
    {
     "name": "stdout",
     "output_type": "stream",
     "text": [
      "Enter a number: 80\n",
      "Enter a number: 30\n",
      "Done; total is 110\n"
     ]
    }
   ],
   "source": [
    "total = 0\n",
    "\n",
    "while total < 100:\n",
    "    s = input('Enter a number: ').strip()\n",
    "    \n",
    "    if s.isdigit():    # do we only have digits 0-9 in s?\n",
    "        n = int(s)     # get an integer based on the user's input\n",
    "        total += n     # add n to total\n",
    "        print(f'\\ttotal == {total}')\n",
    "    else:\n",
    "        print(f'\\t{s} is not numeric')\n",
    "    \n",
    "print(f'Done; total is {total}')"
   ]
  },
  {
   "cell_type": "markdown",
   "id": "d48c236b",
   "metadata": {},
   "source": [
    "Exercise: Sum digits\n",
    "Define total to be 0\n",
    "Ask the user, repeatedly, to enter a string\n",
    "If it's the empty string, then stop asking, and exit the program printing total\n",
    "Go through each character in the string\n",
    "If it is not a digit, then scold the user and continue to the next value\n",
    "If it's a digit, then turn it into an integer and add to total\n",
    "Print total\n",
    "Example:\n",
    "\n",
    "Enter digits: 123a4\n",
    "Enter digits: 56qr7\n",
    "Enter digits: [ENTER]\n",
    "a is not numeric\n",
    "q is not numeric\n",
    "r is not numeric\n",
    "Total is 28\n",
    "Consider:\n",
    "\n",
    "Use while True, because you don't know how many inputs you'll get\n",
    "Check for an empty string -- then break\n",
    "use a for loop to go through each character\n",
    "Use str.isdigit to check if it's a digit -- and if not, then continue"
   ]
  },
  {
   "cell_type": "code",
   "execution_count": 40,
   "id": "e2db1881",
   "metadata": {},
   "outputs": [
    {
     "ename": "SyntaxError",
     "evalue": "unterminated string literal (detected at line 4) (152445035.py, line 4)",
     "output_type": "error",
     "traceback": [
      "\u001b[0;36m  Cell \u001b[0;32mIn[40], line 4\u001b[0;36m\u001b[0m\n\u001b[0;31m    print(f'Done. Total is {total})\u001b[0m\n\u001b[0m          ^\u001b[0m\n\u001b[0;31mSyntaxError\u001b[0m\u001b[0;31m:\u001b[0m unterminated string literal (detected at line 4)\n"
     ]
    }
   ],
   "source": [
    "total = 0\n",
    "s = input('Enter a string: ').strip()\n",
    "if s == '':\n",
    "    print(f'Done. Total is {total}'')"
   ]
  },
  {
   "cell_type": "code",
   "execution_count": null,
   "id": "13256b4e",
   "metadata": {},
   "outputs": [],
   "source": []
  },
  {
   "cell_type": "code",
   "execution_count": null,
   "id": "183760ff",
   "metadata": {},
   "outputs": [],
   "source": []
  }
 ],
 "metadata": {
  "kernelspec": {
   "display_name": "Python 3 (ipykernel)",
   "language": "python",
   "name": "python3"
  },
  "language_info": {
   "codemirror_mode": {
    "name": "ipython",
    "version": 3
   },
   "file_extension": ".py",
   "mimetype": "text/x-python",
   "name": "python",
   "nbconvert_exporter": "python",
   "pygments_lexer": "ipython3",
   "version": "3.11.6"
  }
 },
 "nbformat": 4,
 "nbformat_minor": 5
}
