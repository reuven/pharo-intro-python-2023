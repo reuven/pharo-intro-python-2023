{
 "cells": [
  {
   "cell_type": "code",
   "execution_count": 4,
   "id": "22142977",
   "metadata": {},
   "outputs": [
    {
     "name": "stdout",
     "output_type": "stream",
     "text": [
      "Start\n",
      "5\n",
      "4\n",
      "3\n",
      "2\n",
      "1\n",
      "Done\n"
     ]
    }
   ],
   "source": [
    "# example of a while loop:\n",
    "\n",
    "x = 5\n",
    "\n",
    "print('Start')\n",
    "while x > 0:\n",
    "    print(x)\n",
    "    x = x - 1   \n",
    "print('Done')"
   ]
  },
  {
   "cell_type": "code",
   "execution_count": 24,
   "id": "bf79dd46",
   "metadata": {},
   "outputs": [
    {
     "name": "stdout",
     "output_type": "stream",
     "text": [
      "Enter a number 50\n",
      "50\n",
      "Enter a number 60\n",
      "110\n"
     ]
    }
   ],
   "source": [
    "Total = 0\n",
    "while Total < 100:\n",
    "    Total = Total + int(input(\"Enter a number \"))\n",
    "    print(Total)"
   ]
  },
  {
   "cell_type": "code",
   "execution_count": null,
   "id": "38cd0b30",
   "metadata": {},
   "outputs": [],
   "source": []
  },
  {
   "cell_type": "code",
   "execution_count": null,
   "id": "2fa57edb",
   "metadata": {},
   "outputs": [],
   "source": []
  },
  {
   "cell_type": "code",
   "execution_count": null,
   "id": "66b1631f",
   "metadata": {},
   "outputs": [],
   "source": []
  },
  {
   "cell_type": "code",
   "execution_count": null,
   "id": "156179fe",
   "metadata": {},
   "outputs": [],
   "source": []
  }
 ],
 "metadata": {
  "kernelspec": {
   "display_name": "Python 3 (ipykernel)",
   "language": "python",
   "name": "python3"
  },
  "language_info": {
   "codemirror_mode": {
    "name": "ipython",
    "version": 3
   },
   "file_extension": ".py",
   "mimetype": "text/x-python",
   "name": "python",
   "nbconvert_exporter": "python",
   "pygments_lexer": "ipython3",
   "version": "3.11.6"
  }
 },
 "nbformat": 4,
 "nbformat_minor": 5
}
