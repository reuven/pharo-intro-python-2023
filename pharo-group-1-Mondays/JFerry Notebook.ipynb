{
 "cells": [
  {
   "cell_type": "code",
   "execution_count": 24,
   "id": "c1b75937",
   "metadata": {},
   "outputs": [
    {
     "name": "stdout",
     "output_type": "stream",
     "text": [
      "Please translate a word to Pig Latin awdasd sa \n",
      "awdasd sa way\n"
     ]
    }
   ],
   "source": [
    "s = input('Please translate a word to Pig Latin ')\n",
    "\n",
    "if s[0] in ['a', 'e', 'i', 'o', 'u']:\n",
    "    print(s + 'way')\n",
    "\n",
    "else:\n",
    "    print(s[1:] + s[0] + 'ay')\n",
    "    "
   ]
  },
  {
   "cell_type": "code",
   "execution_count": 26,
   "id": "aba1012b",
   "metadata": {},
   "outputs": [
    {
     "name": "stdout",
     "output_type": "stream",
     "text": [
      "input your name:         jor          \n",
      "jor\n"
     ]
    }
   ],
   "source": [
    "name = input('input your name: ' )\n",
    "name = name.strip()\n",
    "print(name)"
   ]
  },
  {
   "cell_type": "code",
   "execution_count": 30,
   "id": "fd45914c",
   "metadata": {},
   "outputs": [
    {
     "ename": "IndentationError",
     "evalue": "expected an indented block after 'if' statement on line 3 (2366492061.py, line 4)",
     "output_type": "error",
     "traceback": [
      "\u001b[0;36m  Cell \u001b[0;32mIn[30], line 4\u001b[0;36m\u001b[0m\n\u001b[0;31m    else:\u001b[0m\n\u001b[0m    ^\u001b[0m\n\u001b[0;31mIndentationError\u001b[0m\u001b[0;31m:\u001b[0m expected an indented block after 'if' statement on line 3\n"
     ]
    }
   ],
   "source": [
    "a = input('input your first number: ')\n",
    "b = input('input your second number: ')\n",
    "\n",
    "if a.isdigit() or b.isdigit()\n",
    "        \n",
    "else:\n",
    "    print(f'{i} is not numeric!')\n",
    "    \n",
    "    "
   ]
  },
  {
   "cell_type": "code",
   "execution_count": null,
   "id": "0d0cb4f7",
   "metadata": {},
   "outputs": [],
   "source": []
  }
 ],
 "metadata": {
  "kernelspec": {
   "display_name": "Python 3 (ipykernel)",
   "language": "python",
   "name": "python3"
  },
  "language_info": {
   "codemirror_mode": {
    "name": "ipython",
    "version": 3
   },
   "file_extension": ".py",
   "mimetype": "text/x-python",
   "name": "python",
   "nbconvert_exporter": "python",
   "pygments_lexer": "ipython3",
   "version": "3.11.6"
  }
 },
 "nbformat": 4,
 "nbformat_minor": 5
}
