{
 "cells": [
  {
   "cell_type": "code",
   "execution_count": 24,
   "id": "db3c8b0f",
   "metadata": {},
   "outputs": [
    {
     "name": "stdout",
     "output_type": "stream",
     "text": [
      "Please translate a word to Pig Latin awdasd sa \n",
      "awdasd sa way\n"
     ]
    }
   ],
   "source": [
    "s = input('Please translate a word to Pig Latin ')\n",
    "\n",
    "if s[0] in ['a', 'e', 'i', 'o', 'u']:\n",
    "    print(s + 'way')\n",
    "\n",
    "else:\n",
    "    print(s[1:] + s[0] + 'ay')\n",
    "    "
   ]
  },
  {
   "cell_type": "code",
   "execution_count": 26,
   "id": "4bff87db",
   "metadata": {},
   "outputs": [
    {
     "name": "stdout",
     "output_type": "stream",
     "text": [
      "input your name:         jor          \n",
      "jor\n"
     ]
    }
   ],
   "source": [
    "name = input('input your name: ' )\n",
    "name = name.strip()\n",
    "print(name)"
   ]
  },
  {
   "cell_type": "code",
   "execution_count": 41,
   "id": "ae2c9ae6",
   "metadata": {},
   "outputs": [
    {
     "name": "stdout",
     "output_type": "stream",
     "text": [
      "Input your first number: asdadsas \n",
      "Input your second number: asd a123 3\n",
      "Input \"asdadsas\" is not numeric\n",
      "Input \"asd a123 3\" is not numeric\n"
     ]
    }
   ],
   "source": [
    "a = input('Input your first number: ').strip()\n",
    "b = input('Input your second number: ').strip()\n",
    "\n",
    "if a.isdigit() and b.isdigit():\n",
    "    a = int(a)\n",
    "    b = int(b)\n",
    "    print(f'{a} + {b} = {a + b}')\n",
    "        \n",
    "else:\n",
    "    if not a.isdigit():\n",
    "        print(f'Input \"{a}\" is not numeric')\n",
    "    if not b.isdigit():\n",
    "        print(f'Input \"{b}\" is not numeric')\n",
    "    \n",
    "    "
   ]
  },
  {
   "cell_type": "code",
   "execution_count": null,
   "id": "30c7d1a9",
   "metadata": {},
   "outputs": [],
   "source": []
  }
 ],
 "metadata": {
  "kernelspec": {
   "display_name": "Python 3 (ipykernel)",
   "language": "python",
   "name": "python3"
  },
  "language_info": {
   "codemirror_mode": {
    "name": "ipython",
    "version": 3
   },
   "file_extension": ".py",
   "mimetype": "text/x-python",
   "name": "python",
   "nbconvert_exporter": "python",
   "pygments_lexer": "ipython3",
   "version": "3.11.6"
  }
 },
 "nbformat": 4,
 "nbformat_minor": 5
}
