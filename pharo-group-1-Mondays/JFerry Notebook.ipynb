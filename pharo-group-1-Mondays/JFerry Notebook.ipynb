{
 "cells": [
  {
   "cell_type": "code",
   "execution_count": 24,
   "id": "f7de5fad",
   "metadata": {},
   "outputs": [
    {
     "name": "stdout",
     "output_type": "stream",
     "text": [
      "Please translate a word to Pig Latin awdasd sa \n",
      "awdasd sa way\n"
     ]
    }
   ],
   "source": [
    "s = input('Please translate a word to Pig Latin ')\n",
    "\n",
    "if s[0] in ['a', 'e', 'i', 'o', 'u']:\n",
    "    print(s + 'way')\n",
    "\n",
    "else:\n",
    "    print(s[1:] + s[0] + 'ay')\n",
    "    "
   ]
  },
  {
   "cell_type": "code",
   "execution_count": 26,
   "id": "65ec4d82",
   "metadata": {},
   "outputs": [
    {
     "name": "stdout",
     "output_type": "stream",
     "text": [
      "input your name:         jor          \n",
      "jor\n"
     ]
    }
   ],
   "source": [
    "name = input('input your name: ' )\n",
    "name = name.strip()\n",
    "print(name)"
   ]
  },
  {
   "cell_type": "code",
   "execution_count": null,
   "id": "edb918d3",
   "metadata": {},
   "outputs": [],
   "source": []
  },
  {
   "cell_type": "code",
   "execution_count": null,
   "id": "5c31085a",
   "metadata": {},
   "outputs": [],
   "source": []
  }
 ],
 "metadata": {
  "kernelspec": {
   "display_name": "Python 3 (ipykernel)",
   "language": "python",
   "name": "python3"
  },
  "language_info": {
   "codemirror_mode": {
    "name": "ipython",
    "version": 3
   },
   "file_extension": ".py",
   "mimetype": "text/x-python",
   "name": "python",
   "nbconvert_exporter": "python",
   "pygments_lexer": "ipython3",
   "version": "3.11.6"
  }
 },
 "nbformat": 4,
 "nbformat_minor": 5
}
