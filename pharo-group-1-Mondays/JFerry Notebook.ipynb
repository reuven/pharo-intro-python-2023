{
 "cells": [
  {
   "cell_type": "code",
   "execution_count": 24,
   "id": "10aa83c3",
   "metadata": {},
   "outputs": [
    {
     "name": "stdout",
     "output_type": "stream",
     "text": [
      "Please translate a word to Pig Latin awdasd sa \n",
      "awdasd sa way\n"
     ]
    }
   ],
   "source": [
    "s = input('Please translate a word to Pig Latin ')\n",
    "\n",
    "if s[0] in ['a', 'e', 'i', 'o', 'u']:\n",
    "    print(s + 'way')\n",
    "\n",
    "else:\n",
    "    print(s[1:] + s[0] + 'ay')\n",
    "    "
   ]
  },
  {
   "cell_type": "code",
   "execution_count": 26,
   "id": "a5691d42",
   "metadata": {},
   "outputs": [
    {
     "name": "stdout",
     "output_type": "stream",
     "text": [
      "input your name:         jor          \n",
      "jor\n"
     ]
    }
   ],
   "source": [
    "name = input('input your name: ' )\n",
    "name = name.strip()\n",
    "print(name)"
   ]
  },
  {
   "cell_type": "code",
   "execution_count": 40,
   "id": "7f974d5b",
   "metadata": {},
   "outputs": [
    {
     "name": "stdout",
     "output_type": "stream",
     "text": [
      "input your first number: 12\n",
      "input your second number: 8\n",
      "12 + 8 = 20\n"
     ]
    }
   ],
   "source": [
    "a = input('input your first number: ').strip()\n",
    "b = input('input your second number: ').strip()\n",
    "\n",
    "if a.isdigit() and b.isdigit():\n",
    "    a = int(a)\n",
    "    b = int(b)\n",
    "    print(f'{a} + {b} = {a + b}')\n",
    "        \n",
    "else:\n",
    "    if not a.isdigit():\n",
    "        print(f'Input \"{a}\" is not numeric')\n",
    "    if not b.isdigit():\n",
    "        print(f'Input \"{b}\" is not numeric')\n",
    "    \n",
    "    "
   ]
  },
  {
   "cell_type": "code",
   "execution_count": null,
   "id": "12bddca8",
   "metadata": {},
   "outputs": [],
   "source": []
  }
 ],
 "metadata": {
  "kernelspec": {
   "display_name": "Python 3 (ipykernel)",
   "language": "python",
   "name": "python3"
  },
  "language_info": {
   "codemirror_mode": {
    "name": "ipython",
    "version": 3
   },
   "file_extension": ".py",
   "mimetype": "text/x-python",
   "name": "python",
   "nbconvert_exporter": "python",
   "pygments_lexer": "ipython3",
   "version": "3.11.6"
  }
 },
 "nbformat": 4,
 "nbformat_minor": 5
}
