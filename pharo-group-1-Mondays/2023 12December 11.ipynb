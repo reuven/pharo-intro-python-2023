{
  "nbformat": 4,
  "nbformat_minor": 5,
  "metadata": {
    "kernel_info": {
      "name": "python3"
    },
    "kernelspec": {
      "display_name": "Python 3.9",
      "identifier": "legacy",
      "language": "python",
      "language_version": "3.9",
      "name": "python3"
    },
    "selected_hardware_size": "small"
  },
  "cells": [
    {
      "id": "0bfcbd03ad054aaabe4a5e0a1b24a231",
      "cell_type": "markdown",
      "source": "# Agenda\n\n1. Q&A\n2. Quick review of last time \n3. Conditionals\n4. `elif`\n5. `and` and `or`\n6. A bit about numbers (integers and floats)",
      "metadata": {}
    },
    {
      "id": "0dbae82e-910e-4c8b-8016-7ae8288c7fb9",
      "cell_type": "markdown",
      "source": "# Text strings\n\nIf I want to use text in Python, I use a \"string,\" which means text inside of quotes. Whatever I type in a string is taken literally.\n\nBut sometimes, I want to mix literal text with the value of a variable. We saw that we can do that with `+`, if we have string values in our variables and literal strings.",
      "metadata": {}
    },
    {
      "id": "d2862798-2caf-459c-93b9-f8c07371864c",
      "cell_type": "code",
      "metadata": {
        "noteable": {
          "output_collection_id": "ea780454-8cb1-49b4-a786-254b31af2c89"
        },
        "ExecuteTime": null
      },
      "execution_count": null,
      "source": "x = 'abcd'\ny = 'efgh'\n\nx + y\n",
      "outputs": []
    },
    {
      "id": "787bc975-8728-4c46-8b36-6b99608d08b5",
      "cell_type": "code",
      "metadata": {
        "jupyter": {
          "outputs_hidden": false,
          "source_hidden": false
        },
        "noteable": {
          "cell_type": "code",
          "output_collection_id": "1cda6e10-c273-4cf1-97b4-90c169a1637c"
        },
        "ExecuteTime": null
      },
      "execution_count": null,
      "source": "'Hello, ' + x + ' there ' + y",
      "outputs": []
    },
    {
      "id": "085949c9-ff8b-4366-a438-328873d3a58a",
      "cell_type": "code",
      "metadata": {
        "jupyter": {
          "outputs_hidden": false,
          "source_hidden": false
        },
        "noteable": {
          "cell_type": "code",
          "output_collection_id": "4a138f12-54e0-4de0-8883-7904876d4ed0"
        },
        "ExecuteTime": null
      },
      "execution_count": null,
      "source": "# f-strings to the rescue!\n# if we create a string with an f at the start (before the first quote)\n# then the string is still a string, like all other strings\n# *BUT* we can put {} inside of the f-string, and then any Python expression \n# we want, including the name of a variable\n\nf'Hello, {x} there {y}'",
      "outputs": []
    },
    {
      "id": "9012265f-955b-4aa3-9368-e0528475bd48",
      "cell_type": "code",
      "metadata": {
        "jupyter": {
          "outputs_hidden": false,
          "source_hidden": false
        },
        "noteable": {
          "cell_type": "code",
          "output_collection_id": "1115178c-acb3-4599-9fc5-3b9d3fa3489e"
        },
        "ExecuteTime": null
      },
      "execution_count": null,
      "source": "print(f'Hello, {x} there {y}')",
      "outputs": []
    },
    {
      "id": "4ebfb08f-d8cc-45a0-8c8d-7295a3f84f75",
      "cell_type": "code",
      "metadata": {
        "jupyter": {
          "outputs_hidden": false,
          "source_hidden": false
        },
        "noteable": {
          "cell_type": "code",
          "output_collection_id": "f4a8084a-e1aa-4f47-9691-ffa961d20664"
        },
        "ExecuteTime": null
      },
      "execution_count": null,
      "source": "print('Hello, {x} there {y}')",
      "outputs": []
    },
    {
      "id": "e41fb334-831d-4cfe-ae87-fa41cf3d95a8",
      "cell_type": "code",
      "metadata": {
        "jupyter": {
          "outputs_hidden": false,
          "source_hidden": false
        },
        "noteable": {
          "cell_type": "code",
          "output_collection_id": "6e6a9e34-e74c-46e6-b8a9-8380da3170d1"
        },
        "ExecuteTime": null
      },
      "execution_count": null,
      "source": "print(f'Hello, {x} there {y}, and x+y = {x+y}')",
      "outputs": []
    },
    {
      "id": "5e0a2f0f-12f0-4f09-b3c5-cc480d654782",
      "cell_type": "code",
      "metadata": {
        "jupyter": {
          "outputs_hidden": false,
          "source_hidden": false
        },
        "noteable": {
          "cell_type": "code",
          "output_collection_id": "6749d941-0e9d-4f23-97ab-f9438a085a54"
        },
        "ExecuteTime": null
      },
      "execution_count": null,
      "source": "x = 10\ny = 5\n\nprint(f'{x} * {y} = {x*y}')   # multiplication is done with *",
      "outputs": []
    },
    {
      "id": "f33c25b4-455e-4f84-925c-7aa061590c38",
      "cell_type": "code",
      "metadata": {
        "jupyter": {
          "outputs_hidden": false,
          "source_hidden": false
        },
        "noteable": {
          "cell_type": "code",
          "output_collection_id": "46552829-7c4b-44c4-9595-622328f08448"
        },
        "ExecuteTime": null
      },
      "execution_count": null,
      "source": "# I can find out if two values are the same with == \n# (not to be confused with =, which is used for assignment!)\n\nx = 10\ny = 10\n\nx == y    # are these the same value?",
      "outputs": []
    },
    {
      "id": "632f2381-e831-4b6a-b949-986bd2928d55",
      "cell_type": "code",
      "metadata": {
        "jupyter": {
          "outputs_hidden": false,
          "source_hidden": false
        },
        "noteable": {
          "cell_type": "code",
          "output_collection_id": "dcc3393e-5928-47ad-8f94-40af28e4e1c7"
        },
        "ExecuteTime": null
      },
      "execution_count": null,
      "source": "# I can then use == (or any other comparison operator, such as < or >)\n# in an \"if\" statement. \"if\" looks to its right, and checks if the value is True\n# if so, then the if statement's block runs. If not, then the else block runs (if we have one)\n\nx = 10\ny = 10\n\nif x == y:    # after if comes the condition, and then comes a :  \n    print('Yes, they are they same!')\n    print('That is fantastic!')\n\n# once we're done with the if block, we can go on with the program\n# or we can have an \"else\" block, which runs if the \"if\" block didn't run\n\n# else has no condition, but it does have a colon, and then an indented block\n\nelse:\n    print('That is super weird... I would have expected them to be equal')",
      "outputs": []
    },
    {
      "id": "c1a349d7-803b-4df8-8d04-776cc81ef2d5",
      "cell_type": "markdown",
      "source": "# Exercise: Which word comes first?\n\n1. Ask the user (with `input`) to enter a word, and assign to `first`.\n2. Ask the user (with `input`) to enter a second word, and assign to `second`.\n3. Use `if` and `else` to tell the user which of these words comes first in the dictionary.\n\nHints/ideas:\n1. You can use `<` and `>` on text strings, and whatever is \"less\" comes earlier in the dictionary.\n2. Only use lowercase letters -- no capitals, no symbols, no integers -- because that'll throw off the dictionary order.\n3. For now, assume the user enters two different words.",
      "metadata": {}
    },
    {
      "id": "89fc19a9-fa02-4df7-a96d-16531d196007",
      "cell_type": "code",
      "metadata": {
        "noteable": {
          "output_collection_id": "b47fb647-b32f-4494-b417-627d9683b258"
        },
        "ExecuteTime": null
      },
      "execution_count": null,
      "source": "first = input('Enter first word: ')\nsecond = input('Enter second word: ')\n\nif first < second: \n    print(f'{first} comes before {second}')\nelse:\n    print(f'{second} comes before {first}')\n",
      "outputs": []
    },
    {
      "id": "63176820-d888-4899-9264-1ba856c1d0d9",
      "cell_type": "markdown",
      "source": "# Complex conditionals\n\nWhat if we have more than two options? We can have additional clauses between `if` and `else` called `elif` (\"else if\"). The `elif` clauses have their own conditions and their own blocks.  The first condition that is considered `True` then has its block run, and the comparisons end.\n\nYou don't need an `else` block if there's `elif`, but I think it's usually a good idea.\n\n",
      "metadata": {}
    },
    {
      "id": "7d41e774-a1dd-4c06-a574-25d2014d83f5",
      "cell_type": "code",
      "metadata": {
        "noteable": {
          "output_collection_id": "6fef97a5-cc45-459c-b3dd-df967eb0c8d3"
        },
        "ExecuteTime": null
      },
      "execution_count": null,
      "source": "name = input('Enter your name: ')\n\nif name == 'Reuven':\n    print('Hi, boss!')\nelif name == 'someone else':\n    print('Hi, someone else')\nelse:\n    print(f'Hello, {name}')",
      "outputs": []
    },
    {
      "id": "6e2a8c39-b635-4c5c-9933-d79266e3ed95",
      "cell_type": "markdown",
      "source": "",
      "metadata": {}
    },
    {
      "id": "188f3acf-278d-42f1-ae29-9799094ab8be",
      "cell_type": "markdown",
      "source": "# `and` and `or`  to combine comparisons\n\nWhat if I want to check not one thing, but two things? I can use `and` and `or` for these purposes. (No, you cannot use the symbols `&` or `|`, either singly or doubly.)\n\n",
      "metadata": {
        "noteable": {
          "cell_type": "markdown"
        }
      }
    },
    {
      "id": "0a21c93e-fd0d-4bf0-a3d0-ce1665a4a0a8",
      "cell_type": "code",
      "metadata": {
        "noteable": {
          "output_collection_id": "67d25c3a-0b13-420c-a05f-2b413f80be00"
        },
        "ExecuteTime": null
      },
      "execution_count": null,
      "source": "x = 10\ny = 20\n\n#     True      and       True\nif    x == 10   and     y == 20:\n    print('Yes, these are what you want!')",
      "outputs": []
    },
    {
      "id": "667526f5-6855-4f4a-97e9-b31b0471df77",
      "cell_type": "code",
      "metadata": {
        "jupyter": {
          "outputs_hidden": false,
          "source_hidden": false
        },
        "noteable": {
          "cell_type": "code",
          "output_collection_id": "2c1f7e1c-f6db-42e8-aa4b-d869b8a26d01"
        },
        "ExecuteTime": null
      },
      "execution_count": null,
      "source": "x = 10\ny = 20\n\n#       True     and      False   --> False\nif    x == 10   and     y == 55:\n    print('Yes, these are what you want!')",
      "outputs": []
    },
    {
      "id": "256a856b-098c-4041-9d9a-ad4c3d9cf0f0",
      "cell_type": "code",
      "metadata": {
        "jupyter": {
          "outputs_hidden": false,
          "source_hidden": false
        },
        "noteable": {
          "cell_type": "code",
          "output_collection_id": "43390e27-62a7-48af-a464-f7f1311ccb5e"
        },
        "ExecuteTime": null
      },
      "execution_count": null,
      "source": "# another, related operator is \"or\"\n# \"or\" works the same way, except that it returns True if one (or both) of \n# the conditions are True\n\nx = 10\ny = 20\n\n#      True     or      True -->True\nif    x == 10   or     y == 20:\n    print('One or both is what you want')",
      "outputs": []
    },
    {
      "id": "24aa78a7-3f43-40a9-b48a-2b6b0058537c",
      "cell_type": "code",
      "metadata": {
        "jupyter": {
          "outputs_hidden": false,
          "source_hidden": false
        },
        "noteable": {
          "cell_type": "code",
          "output_collection_id": "5c4fa56c-f416-4262-b9ab-3da056dee242"
        },
        "ExecuteTime": null
      },
      "execution_count": null,
      "source": "\nx = 10\ny = 20\n\n#       True     or     False --> True\nif    x == 10   or     y == 92:\n    print('One or both is what you want')",
      "outputs": []
    },
    {
      "id": "b9b37b54-913c-4597-837d-494bc20ebed0",
      "cell_type": "markdown",
      "source": "# Exercise: Name and company\n\n1. Ask the user to enter their name, and assign to `name`\n2. Ask the user to enter their company, and assign to `company`\n3. Give one of four outputs:\n    - If both match you, then give a nice greeting (\"you must be me\")\n    - If only the name is the same, then compliment their name\n    - If only the company is the same, then greet your colleague\n    - If neither is the same, then be snarky\n    \n    ",
      "metadata": {}
    },
    {
      "id": "31c15666-e0e3-4f87-9087-8f16e2f78244",
      "cell_type": "code",
      "metadata": {
        "noteable": {
          "output_collection_id": "2264ef4e-5561-43bb-a044-526a5cd80b1b"
        },
        "ExecuteTime": null
      },
      "execution_count": null,
      "source": "x = 10   # integer\ny = '10'  # text string\n\nx == y\n",
      "outputs": []
    },
    {
      "id": "78949dd6-787b-40d1-818d-e6e3a7167b80",
      "cell_type": "code",
      "metadata": {
        "jupyter": {
          "outputs_hidden": false,
          "source_hidden": false
        },
        "noteable": {
          "cell_type": "code",
          "output_collection_id": "76e49ea0-b809-4942-8dd0-c5c734128205"
        },
        "ExecuteTime": null
      },
      "execution_count": null,
      "source": "name = input('Enter your name: ')\ncompany = input('Enter your company: ')\n\nif name == 'Reuven' and company == 'Lerner':\n    print('Hey, you are me!')\nelif name == 'Reuven': \n    print('Great name, but a bad company')\nelif company == 'Lerner':\n    print('Great company, but who are you?')\nelse:\n    print('Bad name, bad company... what else can I say?')",
      "outputs": []
    },
    {
      "id": "d7b4c65e-0b81-4cd7-a76e-551bacd18420",
      "cell_type": "markdown",
      "source": "# Numbers\n\nWe think of numbers as ... numbers. But computers actually have two different types of numbers, and Python reflects this:\n\n- integers (whole numbers)\n- floats (floating-point numbers, which have a decimal point)\n\n",
      "metadata": {}
    },
    {
      "id": "fed46445-b095-4276-bc9b-6e9ff25223ef",
      "cell_type": "code",
      "metadata": {
        "noteable": {
          "output_collection_id": "d0518541-c6c1-46cc-b200-33363094ac0f"
        },
        "ExecuteTime": null
      },
      "execution_count": null,
      "source": "x = 10\n\n# this is an integer... how can I know?\n# I can ask Python to tell me, with the \"type\" function\ntype(x)",
      "outputs": []
    },
    {
      "id": "c6eb26c7-1dae-4f71-95b8-101eb47505fa",
      "cell_type": "code",
      "metadata": {
        "jupyter": {
          "outputs_hidden": false,
          "source_hidden": false
        },
        "noteable": {
          "cell_type": "code",
          "output_collection_id": "9d4b2d8e-f001-4e21-a49c-32a949bd64a0"
        },
        "ExecuteTime": null
      },
      "execution_count": null,
      "source": "x = 10\ny = 3\n\n# I can perform all sorts of mathematical operations\nx + y",
      "outputs": []
    },
    {
      "id": "0df12d06-24dc-438f-8c7f-e1c8fb3bb125",
      "cell_type": "code",
      "metadata": {
        "jupyter": {
          "outputs_hidden": false,
          "source_hidden": false
        },
        "noteable": {
          "cell_type": "code",
          "output_collection_id": "1ba79289-5f98-449f-90d0-d0666e864b74"
        },
        "ExecuteTime": null
      },
      "execution_count": null,
      "source": "x - y",
      "outputs": []
    },
    {
      "id": "8ddd75ae-bc9c-461b-b0b1-f61003eb5c91",
      "cell_type": "code",
      "metadata": {
        "jupyter": {
          "outputs_hidden": false,
          "source_hidden": false
        },
        "noteable": {
          "cell_type": "code",
          "output_collection_id": "016ff64b-2a54-4976-8181-915b41b08cc9"
        },
        "ExecuteTime": null
      },
      "execution_count": null,
      "source": "x * y   ",
      "outputs": []
    },
    {
      "id": "7bee5cf8-cc10-4dbc-a6c7-38452cb0173c",
      "cell_type": "code",
      "metadata": {
        "jupyter": {
          "outputs_hidden": false,
          "source_hidden": false
        },
        "noteable": {
          "cell_type": "code",
          "output_collection_id": "f309a425-2ac5-4def-a9ca-b0bf3ababbe8"
        },
        "ExecuteTime": null
      },
      "execution_count": null,
      "source": "# / is known as \"truediv\"\nx / y   # we have two integers... but the result will be a float!",
      "outputs": []
    },
    {
      "id": "7793b6b6-a30e-4d13-97f2-38f7ee59474b",
      "cell_type": "code",
      "metadata": {
        "jupyter": {
          "outputs_hidden": false,
          "source_hidden": false
        },
        "noteable": {
          "cell_type": "code",
          "output_collection_id": "aabddb8f-bcc3-4075-9f4b-b437ce5034ee"
        },
        "ExecuteTime": null
      },
      "execution_count": null,
      "source": "# Python also supplies \"floordiv\", which is //\n# this gives us the result, chopping off any non-whole portion of the result\nx // y",
      "outputs": []
    },
    {
      "id": "5b889d09-195d-4fe3-ace3-20ba47035e39",
      "cell_type": "code",
      "metadata": {
        "jupyter": {
          "outputs_hidden": false,
          "source_hidden": false
        },
        "noteable": {
          "cell_type": "code",
          "output_collection_id": "9e20a9af-2140-43b5-9b76-8bc552920755"
        },
        "ExecuteTime": null
      },
      "execution_count": null,
      "source": "# \"modulo\" return the remainder after dividing x by y\nx % y",
      "outputs": []
    },
    {
      "id": "5f07c4ca-85ef-41b9-967c-7654b3dcfac9",
      "cell_type": "code",
      "metadata": {
        "jupyter": {
          "outputs_hidden": false,
          "source_hidden": false
        },
        "noteable": {
          "cell_type": "code",
          "output_collection_id": "d15eafaa-9e46-4f9c-a8b9-c5a606aea71f"
        },
        "ExecuteTime": null
      },
      "execution_count": null,
      "source": "# exponentiation\nx ** y",
      "outputs": []
    },
    {
      "id": "a2fb68a3-3138-405f-977a-04890fad258d",
      "cell_type": "code",
      "metadata": {
        "jupyter": {
          "outputs_hidden": false,
          "source_hidden": false
        },
        "noteable": {
          "cell_type": "code",
          "output_collection_id": "1f0c90eb-cbdd-4af6-88cc-6c4606a70e5b"
        },
        "ExecuteTime": null
      },
      "execution_count": null,
      "source": "# what if I have an integer in a variable, and I want to add\n# a number to it, storing the result in a variable?\n\nx = 10\nx = x + 1      # calculate x+1, then assign back to x\nx",
      "outputs": []
    },
    {
      "id": "9f7a13f6-fa6b-4a8c-9669-2c813744e0b1",
      "cell_type": "code",
      "metadata": {
        "jupyter": {
          "outputs_hidden": false,
          "source_hidden": false
        },
        "noteable": {
          "cell_type": "code",
          "output_collection_id": "c577e180-a5ba-4d5f-9914-1b34d7ff1b65"
        },
        "ExecuteTime": null
      },
      "execution_count": null,
      "source": "# this is so common, we have a special operator for it\nx += 1    # this means: x = x + 1\nx",
      "outputs": []
    },
    {
      "id": "0d062966-1bd3-411a-ae1f-43b1c2b96717",
      "cell_type": "code",
      "metadata": {
        "jupyter": {
          "outputs_hidden": false,
          "source_hidden": false
        },
        "noteable": {
          "cell_type": "code",
          "output_collection_id": "1fb81f12-ba07-40ff-9f07-5076a2236f40"
        },
        "ExecuteTime": null
      },
      "execution_count": null,
      "source": "# what happens here?\nx = 10     # int\ny = '20'   # string (str)\n\nx + y",
      "outputs": []
    },
    {
      "id": "362abbb5-e005-4ab5-af66-3d04c599e36a",
      "cell_type": "code",
      "metadata": {
        "jupyter": {
          "outputs_hidden": false,
          "source_hidden": false
        },
        "noteable": {
          "cell_type": "code",
          "output_collection_id": "18656bdd-3a16-4273-8c24-202daccc347d"
        },
        "ExecuteTime": null
      },
      "execution_count": null,
      "source": "# what if we could turn y's value into an integer?\n# we can invoke int() as a function on y, getting back an integer based on y\n# this doesn't change y -- it returns a new value, which we *could* assign back to y\n\nint(y)",
      "outputs": []
    },
    {
      "id": "d75cd6ed-249a-41d7-b278-f3ded0d940ae",
      "cell_type": "code",
      "metadata": {
        "jupyter": {
          "outputs_hidden": false,
          "source_hidden": false
        },
        "noteable": {
          "cell_type": "code",
          "output_collection_id": "21b3c211-8a73-4f7d-8fd3-0df91584a1a6"
        },
        "ExecuteTime": null
      },
      "execution_count": null,
      "source": "x + int(y)   # this works!",
      "outputs": []
    },
    {
      "id": "44dbaa9d-39b7-4309-846f-2ecbdce4c1be",
      "cell_type": "code",
      "metadata": {
        "jupyter": {
          "outputs_hidden": false,
          "source_hidden": false
        },
        "noteable": {
          "cell_type": "code",
          "output_collection_id": "c4a495f4-e26c-412f-a472-b65fae98d5d4"
        },
        "ExecuteTime": null
      },
      "execution_count": null,
      "source": "y = int(y)   # transform y into an int value\nx + y",
      "outputs": []
    },
    {
      "id": "3f36b674-e5bc-4361-b84c-49ec69b7b976",
      "cell_type": "code",
      "metadata": {
        "jupyter": {
          "outputs_hidden": false,
          "source_hidden": false
        },
        "noteable": {
          "cell_type": "code",
          "output_collection_id": "caefc93e-f441-4f3d-8bd8-bbdc2afdde18"
        },
        "ExecuteTime": null
      },
      "execution_count": null,
      "source": "# what happens if we try to create an int based on a string that isn't a legal int?\nint('abcd')",
      "outputs": []
    },
    {
      "id": "1aa0a99b-b23e-429e-ae06-b09b544dcf07",
      "cell_type": "code",
      "metadata": {
        "jupyter": {
          "outputs_hidden": false,
          "source_hidden": false
        },
        "noteable": {
          "cell_type": "code",
          "output_collection_id": "0d199065-7a9c-490f-89d1-e0b6b6b02ba6"
        },
        "ExecuteTime": null
      },
      "execution_count": null,
      "source": "y = 20.5\nint(y)",
      "outputs": []
    },
    {
      "id": "a1bbb2c8-91dd-4d5a-8567-f0228e062124",
      "cell_type": "code",
      "metadata": {
        "jupyter": {
          "outputs_hidden": false,
          "source_hidden": false
        },
        "noteable": {
          "cell_type": "code",
          "output_collection_id": "689a8100-47e2-4917-8dcf-4252b1d0da25"
        },
        "ExecuteTime": null
      },
      "execution_count": null,
      "source": "# floats, which have decimal points, can be tricky...\n\n0.1 + 0.2",
      "outputs": []
    },
    {
      "id": "a5ce6635-19b8-45e6-a7ea-e8808e1d3559",
      "cell_type": "code",
      "metadata": {
        "jupyter": {
          "outputs_hidden": false,
          "source_hidden": false
        },
        "noteable": {
          "cell_type": "code",
          "output_collection_id": "a2e1d8ef-a14b-41da-8cab-1690998e8e65"
        },
        "ExecuteTime": null
      },
      "execution_count": null,
      "source": "x = 1/10\ny = 2/10\n\nx + y",
      "outputs": []
    },
    {
      "id": "e15293c1-9e8e-4952-a813-98447922ecad",
      "cell_type": "markdown",
      "source": "# Converting values\n\nThe basic Python rule of converting values is that you invoke the type you want on the original value.\n\nTo get an integer from something else, say `int(x)`. This works on strings and on floats. \n\nTo get a float from something else, say `float(x)`. This works on strings and ints.\n\nTo get a string from something else, say `str(x)`. This works on *everything* in Python.",
      "metadata": {}
    },
    {
      "id": "92f4f83f-b8bc-4a7a-8324-90a9e9f093c3",
      "cell_type": "code",
      "metadata": {
        "noteable": {
          "output_collection_id": "cb80e98e-9c97-4c62-8474-b28cbb13a43d"
        },
        "ExecuteTime": null
      },
      "execution_count": null,
      "source": "str(10) + str(20)",
      "outputs": []
    },
    {
      "id": "093daa27-d09f-405e-94eb-1e7b86fb8ac8",
      "cell_type": "markdown",
      "source": "",
      "metadata": {}
    },
    {
      "id": "5ec19966-b089-41fd-bec4-10c62c3d2458",
      "cell_type": "markdown",
      "source": "# Exercise: Guessing game\n\nThe idea of this game is that we'll set a secret number, and then we'll ask the user to guess that secret number. We'll then tell the user that they got it, they're too low, or they're too high. After one guess, that's it -- game over.\n\nExample:\n\n    Guess: 50\n    Too low!\n    \n",
      "metadata": {
        "noteable": {
          "cell_type": "markdown"
        }
      }
    },
    {
      "id": "ec290fc2-ee1d-4e7b-801f-0384a62f9636",
      "cell_type": "code",
      "metadata": {
        "noteable": {
          "output_collection_id": "98e780ce-40c5-4550-996a-d28aaba64e3c"
        },
        "ExecuteTime": null
      },
      "execution_count": null,
      "source": "secret_number = 72\n\nguess = input('Enter a guess: ')\nguess = int(guess)\n\nif guess == secret_number:\n    print('You got it!')\nelif guess < secret_number:\n    print('Too low!')\nelse:\n    print('Too high!')",
      "outputs": []
    },
    {
      "id": "9527930d-cbb9-4136-8c7b-d10cbf822e1d",
      "cell_type": "code",
      "metadata": {
        "jupyter": {
          "outputs_hidden": false,
          "source_hidden": false
        },
        "noteable": {
          "cell_type": "code",
          "output_collection_id": "08dc3781-7d6f-4dfc-b575-d5ce3b8c9206"
        },
        "ExecuteTime": null
      },
      "execution_count": null,
      "source": "10 == '12'",
      "outputs": []
    },
    {
      "id": "e495f335-9db7-4a64-b6af-0e4e4ef122f9",
      "cell_type": "code",
      "metadata": {
        "jupyter": {
          "outputs_hidden": false,
          "source_hidden": false
        },
        "noteable": {
          "cell_type": "code",
          "output_collection_id": "b1bc72a8-ff6b-4438-add0-66e5abd30407"
        },
        "ExecuteTime": null
      },
      "execution_count": null,
      "source": "10 < '12'",
      "outputs": []
    },
    {
      "id": "328c8c0d-d518-490c-881e-327a12f725d8",
      "cell_type": "markdown",
      "source": "# Strings\n\nNo matter how big or how small your text is, it will be in a string in Python.\n\nWe can create strings, as we've seen, with either single quotes or double quotes. Python doesn't distinguish between these, although you do need to use the same kind of quote on both ends of the string.\n\nIf you're using `''` for your string and want a `'` inside of the string, then you can use a `\\` before the quote, as in `\\'` (known as \"escaping\"). Normally, it's best to use double quotes in such circumstances.",
      "metadata": {}
    },
    {
      "id": "9606a19b-5544-496b-b740-e03e6e80935c",
      "cell_type": "code",
      "metadata": {
        "noteable": {
          "output_collection_id": "20e04251-a530-4d47-a4a4-26d414d4625f"
        },
        "ExecuteTime": null
      },
      "execution_count": null,
      "source": "# what can I do with a string?\n\ns = 'abcdefghijklmnopqrstuvwxyz'\n\n# let's get the string's length\nlen(s)   # returns an integer, the number of characters in s",
      "outputs": []
    },
    {
      "id": "938b2d63-a1a3-41db-bfed-58a5a850a20f",
      "cell_type": "code",
      "metadata": {
        "jupyter": {
          "outputs_hidden": false,
          "source_hidden": false
        },
        "noteable": {
          "cell_type": "code",
          "output_collection_id": "edbcb336-5214-41ff-a39d-9dd6641f7f72"
        },
        "ExecuteTime": null
      },
      "execution_count": null,
      "source": "# what about retrieving an element of our string?\n# I use [], and in the [], I put an integer indicating the index I want\n# note: indexes start with 0\n\n# the first character is at index 0\ns[0]  ",
      "outputs": []
    },
    {
      "id": "54cdfad9-77ce-4e8a-a4d3-7ff3484a9ae2",
      "cell_type": "code",
      "metadata": {
        "jupyter": {
          "outputs_hidden": false,
          "source_hidden": false
        },
        "noteable": {
          "cell_type": "code",
          "output_collection_id": "01c74a0d-2583-4829-8248-873364a068be"
        },
        "ExecuteTime": null
      },
      "execution_count": null,
      "source": "# the second charcter is at index 1\ns[1]",
      "outputs": []
    },
    {
      "id": "f2ab4e83-3fdb-4d45-9cb3-7682d76919f4",
      "cell_type": "code",
      "metadata": {
        "jupyter": {
          "outputs_hidden": false,
          "source_hidden": false
        },
        "noteable": {
          "cell_type": "code",
          "output_collection_id": "937d6f9b-a811-48e8-ada4-1ef230a13658"
        },
        "ExecuteTime": null
      },
      "execution_count": null,
      "source": "# I can use a variable instead of a literal integer\ni = 5\ns[i]",
      "outputs": []
    },
    {
      "id": "1543ac58-21d0-4eb0-88f3-0df691add222",
      "cell_type": "code",
      "metadata": {
        "jupyter": {
          "outputs_hidden": false,
          "source_hidden": false
        },
        "noteable": {
          "cell_type": "code",
          "output_collection_id": "0bb5c034-7361-4819-9779-be8de6fc429a"
        },
        "ExecuteTime": null
      },
      "execution_count": null,
      "source": "# how can I get 'z' from s?\ns[26]",
      "outputs": []
    },
    {
      "id": "cfcea66a-5b65-4779-869b-2fd34e25133a",
      "cell_type": "code",
      "metadata": {
        "jupyter": {
          "outputs_hidden": false,
          "source_hidden": false
        },
        "noteable": {
          "cell_type": "code",
          "output_collection_id": "d8c70594-9f6e-44d8-9592-fc4dafa893ad"
        },
        "ExecuteTime": null
      },
      "execution_count": null,
      "source": "s[25]  # z is at 25, because a is at 0",
      "outputs": []
    },
    {
      "id": "73cc76a1-a87e-4f6a-a4b9-544f71656a57",
      "cell_type": "code",
      "metadata": {
        "jupyter": {
          "outputs_hidden": false,
          "source_hidden": false
        },
        "noteable": {
          "cell_type": "code",
          "output_collection_id": "ece9f4f6-5d90-41e5-be0c-0dde4cbb46de"
        },
        "ExecuteTime": null
      },
      "execution_count": null,
      "source": "# I could use len to get z\ns[   len(s) - 1   ]",
      "outputs": []
    },
    {
      "id": "ab907b6d-8145-47df-8f76-3d60d8c7fe7f",
      "cell_type": "code",
      "metadata": {
        "jupyter": {
          "outputs_hidden": false,
          "source_hidden": false
        },
        "noteable": {
          "cell_type": "code",
          "output_collection_id": "f32f4791-d376-4bfa-86f4-64cf26399852"
        },
        "ExecuteTime": null
      },
      "execution_count": null,
      "source": "# much easier is to use a negative index, which counts from the right\ns[-1]",
      "outputs": []
    },
    {
      "id": "44a042c7-f269-4b64-9b44-88a6ce9fc2bc",
      "cell_type": "code",
      "metadata": {
        "jupyter": {
          "outputs_hidden": false,
          "source_hidden": false
        },
        "noteable": {
          "cell_type": "code",
          "output_collection_id": "5c86e69c-17c0-48b2-b703-23a66f38a4e1"
        },
        "ExecuteTime": null
      },
      "execution_count": null,
      "source": "s[-2]",
      "outputs": []
    },
    {
      "id": "84d7c0c9-79d7-412a-aa72-0f56994dc543",
      "cell_type": "markdown",
      "source": "# Exercise: Get a character\n\n1. Ask the user to enter a string, and assign it to `s`.\n2. Ask the user to enter an index, and assign it to `i`.\n3. If `i` is less than 0, print an error message.\n4. If `i` is larger than the max index, print an error message.\n5. Otherwise, print something like \"index 3 in hello is l\".",
      "metadata": {}
    },
    {
      "id": "9e3d9bcc-92fb-48c5-b812-52543bc96bb3",
      "cell_type": "code",
      "metadata": {
        "noteable": {
          "output_collection_id": "00c9c603-625e-428e-a9f5-2513d064f6c4"
        },
        "ExecuteTime": null
      },
      "execution_count": null,
      "source": "s = input('Enter a string: ')\n\ni = input('Enter an index: ')\ni = int(i)\n\nif i < 0:\n    print(f'Too low; min is 0')\nelif i >= len(s):\n    print(f'Too high; max is {len(s)-1}')\nelse:\n    print(f'index \"{i}\" in string \"{s}\" is \"{s[i]}\"')",
      "outputs": []
    },
    {
      "id": "bf5bd678-f861-4dee-8e54-e79118e86af9",
      "cell_type": "code",
      "metadata": {
        "jupyter": {
          "outputs_hidden": false,
          "source_hidden": false
        },
        "noteable": {
          "cell_type": "code",
          "output_collection_id": "d098b399-7530-482e-9406-8e7b2235d3af"
        },
        "ExecuteTime": null
      },
      "execution_count": null,
      "source": "s = 'abc  def  ghi'\nlen(s)",
      "outputs": []
    },
    {
      "id": "dde3a8a9-c803-4a1c-beeb-377deb8ee0f0",
      "cell_type": "code",
      "metadata": {
        "jupyter": {
          "outputs_hidden": false,
          "source_hidden": false
        },
        "noteable": {
          "cell_type": "code",
          "output_collection_id": "89e1e3a4-27be-403a-826f-b9a8a9808b08"
        },
        "ExecuteTime": null
      },
      "execution_count": null,
      "source": "print(s[4])",
      "outputs": []
    },
    {
      "id": "713efbd3-83ec-4a9b-a79f-854033413abc",
      "cell_type": "markdown",
      "source": "",
      "metadata": {}
    },
    {
      "id": "a25055af-41c4-41ec-82c0-2524294d94d9",
      "cell_type": "markdown",
      "source": "# Next time: More strings!\n\n- Slices\n- Strings are immutable\n- Methods",
      "metadata": {}
    }
  ]
}