{
 "cells": [
  {
   "cell_type": "code",
   "execution_count": null,
   "id": "6481ac8c-1938-466d-b626-ae1481f90869",
   "metadata": {
    "jupyter": {
     "outputs_hidden": false,
     "source_hidden": false
    },
    "noteable": {
     "cell_type": "code"
    }
   },
   "outputs": [],
   "source": []
  },
  {
   "cell_type": "code",
   "execution_count": null,
   "id": "055166a5-ff39-4f69-8508-13ba364cba69",
   "metadata": {
    "jupyter": {
     "outputs_hidden": false,
     "source_hidden": false
    },
    "noteable": {
     "cell_type": "code"
    }
   },
   "outputs": [],
   "source": []
  },
  {
   "cell_type": "code",
   "execution_count": null,
   "id": "2d1e960a",
   "metadata": {
    "ExecuteTime": {
     "end_time": "2023-12-14T20:13:04.615481+00:00",
     "start_time": "2023-12-14T20:13:04.458961+00:00"
    },
    "noteable": {
     "output_collection_id": "971a3fb5-ba6b-4b00-84f5-231441f6d42d"
    }
   },
   "outputs": [],
   "source": [
    "x = 10\n",
    "y = '20'\n",
    "\n",
    "x+int(y)\n"
   ]
  },
  {
   "cell_type": "code",
   "execution_count": null,
   "id": "69d29ad0-47a6-4425-8ce0-2f5c01c58202",
   "metadata": {
    "ExecuteTime": {
     "end_time": "2023-12-14T21:26:36.955164+00:00",
     "start_time": "2023-12-14T21:26:26.714167+00:00"
    },
    "jupyter": {
     "outputs_hidden": false,
     "source_hidden": false
    },
    "noteable": {
     "cell_type": "code",
     "output_collection_id": "0463f1a1-fbf4-4711-a665-f87e9dc41a7e"
    }
   },
   "outputs": [],
   "source": [
    "name = input ('Enter your name: ')\n",
    "\n",
    "city = input('Enter your city')\n",
    "\n",
    "print('Hello, ' + name + ',from ' + city + '.')"
   ]
  }
 ],
 "metadata": {
  "kernel_info": {
   "name": "python3.9-noteable"
  },
  "kernelspec": {
   "display_name": "Python 3 (ipykernel)",
   "language": "python",
   "name": "python3"
  },
  "language_info": {
   "codemirror_mode": {
    "name": "ipython",
    "version": 3
   },
   "file_extension": ".py",
   "mimetype": "text/x-python",
   "name": "python",
   "nbconvert_exporter": "python",
   "pygments_lexer": "ipython3",
   "version": "3.11.6"
  },
  "selected_hardware_size": "small"
 },
 "nbformat": 4,
 "nbformat_minor": 5
}
