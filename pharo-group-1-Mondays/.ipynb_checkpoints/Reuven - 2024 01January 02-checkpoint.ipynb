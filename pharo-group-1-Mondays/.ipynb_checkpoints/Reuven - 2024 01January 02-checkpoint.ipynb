{
 "cells": [
  {
   "cell_type": "markdown",
   "id": "399fcfba",
   "metadata": {},
   "source": [
    "# Agenda\n",
    "\n",
    "1. Q&A\n",
    "2. Loops\n",
    "    - `for`\n",
    "    - looping over numbers\n",
    "    - indexes?!?\n",
    "    - `while`\n"
   ]
  },
  {
   "cell_type": "markdown",
   "id": "9cf7f20c",
   "metadata": {},
   "source": [
    "# DRY (\"don't repeat yourself\") rule of programming\n",
    "\n",
    "I first read about this rule in the book, \"The Pragmatic Programmer.\" \n",
    "\n",
    "The idea is: If you have the same code (exactly or close to it) in more than one place in your program, then you're probably making a mistake.\n",
    "\n",
    "- You're writing too much!\n",
    "- You (and others) will have more to debug\n",
    "- The different places might get out of sync\n",
    "- Less cognitive load\n",
    "\n",
    "How do we do that?"
   ]
  },
  {
   "cell_type": "code",
   "execution_count": 2,
   "id": "0d4aa06c",
   "metadata": {},
   "outputs": [
    {
     "name": "stdout",
     "output_type": "stream",
     "text": [
      "a\n",
      "b\n",
      "c\n",
      "d\n"
     ]
    }
   ],
   "source": [
    "# I have a string, and want to print every character in that string\n",
    "\n",
    "s = 'abcd'\n",
    "\n",
    "print(s[0])\n",
    "print(s[1])\n",
    "print(s[2])\n",
    "print(s[3])   # unfortunately, this works!"
   ]
  },
  {
   "cell_type": "code",
   "execution_count": 3,
   "id": "2b11ecdd",
   "metadata": {},
   "outputs": [],
   "source": [
    "# a better way to do this is with a loop\n",
    "# meaning: we give general instructions, with slight variations, and then repeat them\n",
    "\n",
    "# Python has two types of loops:\n",
    "# - for\n",
    "# - while\n",
    "\n",
    "# we'll start with \"for\" loops"
   ]
  },
  {
   "cell_type": "code",
   "execution_count": 4,
   "id": "95e8b554",
   "metadata": {},
   "outputs": [
    {
     "name": "stdout",
     "output_type": "stream",
     "text": [
      "a\n",
      "b\n",
      "c\n",
      "d\n"
     ]
    }
   ],
   "source": [
    "s = 'abcd'\n",
    "\n",
    "for one_character in s:\n",
    "    print(one_character)"
   ]
  },
  {
   "cell_type": "markdown",
   "id": "5afe0fbd",
   "metadata": {},
   "source": [
    "# How does a `for` loop work?\n",
    "\n",
    "1. The `for` loop turns to the object at the end of the line (here, that's `s`), and asks it: Are you iterable? Do you know how to behave inside of a `for` loop?\n",
    "    - If not, then we get an error message, and the loop exits with an error\n",
    "    - Notice that the syntax is `for VARIABLE in OBJECT:`, with a `:` at the end of the line\n",
    "    - The indented block following the `:` is known as \"the loop body\"\n",
    "    - The loop body can be as long or as short as we want, and can contain any code at all!\n",
    "2. If the object is iterable, then the `for` loop turns to it and says: Give me your next value. Here, `for` turns to `s` and says: Give me your next thing.\n",
    "    - If there are no more values to provide, then the loop exits (without an error message), and the program continues executing after the loop body.\n",
    "3. The value is assigned to our variable (here, `one_character`)\n",
    "4. The loop body executes with `one_charcter` assigned to the current value\n",
    "5. We go back to step 2, asking for the next value\n",
    "\n",
    "# A few things to notice about `for` loops\n",
    "\n",
    "1. The loop has no idea of how many times we'll be iterating. That's up to the object to decide.\n",
    "2. The fact that I named the variable `one_character` has *zero* impact on what type of value we get back from `s`. We aren't getting characters, one at a time, because I called the variable `one_character`. Rather, I called the variable `one_character` because I know that all strings, when iterated over in a loop, will give us one character at a time. The behavior would be identical if I were to call it `one_paragraph` or `one_terabyte`.\n",
    "3. The loop body will execute once for each element (character, here) in `s`."
   ]
  },
  {
   "cell_type": "markdown",
   "id": "727a0dc2",
   "metadata": {},
   "source": [
    "# Exercise: Vowels, digits, and others \n",
    "\n",
    "1. Define three variables -- `vowels`, `digits`, and `others` all to be equal to 0.\n",
    "2. Ask the user to enter a string (with `input`), and assign to a variable, `s`.\n",
    "3. Go through each character in the string, and check:\n",
    "    - If it's a digit (0-9) then add 1 to `digits`\n",
    "    - If it's a vowel (a, e, i, o, u) then add 1 to `vowels`\n",
    "    - If it's neither, then add 1 to `others`\n",
    "4. Print the values of `vowels`, `digits`, and `others`.\n",
    "\n",
    "Example:\n",
    "\n",
    "    Enter a string: hello!! 123\n",
    "    vowels: 2\n",
    "    digits: 3\n",
    "    others: 6\n",
    "    \n",
    "Hints/reminders:\n",
    "- You can use the `str.isdigit` method to check if a character (or string) contains only the digits 0-9, as in `s.isdigit()`\n",
    "- You can use `in` to check whether `SMALL in BIG`, where `SMALL` and `BIG` are both strings, and you'll get a `True` value back if `SMALL` can be found in `BIG`."
   ]
  },
  {
   "cell_type": "code",
   "execution_count": 8,
   "id": "3a53a206",
   "metadata": {},
   "outputs": [
    {
     "name": "stdout",
     "output_type": "stream",
     "text": [
      "Enter a string: hello!! 123\n",
      "vowels = 2\n",
      "digits = 3\n",
      "others = 6\n"
     ]
    }
   ],
   "source": [
    "vowels = 0\n",
    "digits = 0\n",
    "others = 0\n",
    "\n",
    "s = input('Enter a string: ').strip()\n",
    "\n",
    "for one_character in s:\n",
    "    if one_character.isdigit():\n",
    "        # print(f'{one_character} is a digit')\n",
    "        digits += 1\n",
    "\n",
    "    elif one_character in 'aeiou':\n",
    "        # print(f'{one_character} is a vowel')\n",
    "        vowels += 1\n",
    "\n",
    "    else:\n",
    "        # print(f'{one_character} is something else')\n",
    "        others += 1\n",
    "        \n",
    "print(f'vowels = {vowels}')        \n",
    "print(f'digits = {digits}')\n",
    "print(f'others = {others}')"
   ]
  },
  {
   "cell_type": "code",
   "execution_count": 9,
   "id": "87892624",
   "metadata": {},
   "outputs": [
    {
     "name": "stdout",
     "output_type": "stream",
     "text": [
      "Hooray!\n",
      "Hooray!\n",
      "Hooray!\n"
     ]
    }
   ],
   "source": [
    "# what if we want to iterate a certain number of times?\n",
    "# in a string, we iterate over each character, but what if I just want to do something 3 times?\n",
    "\n",
    "print('Hooray!')\n",
    "print('Hooray!')\n",
    "print('Hooray!')\n"
   ]
  },
  {
   "cell_type": "code",
   "execution_count": 10,
   "id": "b84960ca",
   "metadata": {},
   "outputs": [
    {
     "ename": "TypeError",
     "evalue": "'int' object is not iterable",
     "output_type": "error",
     "traceback": [
      "\u001b[0;31m---------------------------------------------------------------------------\u001b[0m",
      "\u001b[0;31mTypeError\u001b[0m                                 Traceback (most recent call last)",
      "Cell \u001b[0;32mIn[10], line 4\u001b[0m\n\u001b[1;32m      1\u001b[0m \u001b[38;5;66;03m# by the DRY rule, I shouldn't do that. Instead, I should use a loop.\u001b[39;00m\n\u001b[1;32m      2\u001b[0m \u001b[38;5;66;03m# it's tempting to do this:\u001b[39;00m\n\u001b[0;32m----> 4\u001b[0m \u001b[38;5;28;01mfor\u001b[39;00m counter \u001b[38;5;129;01min\u001b[39;00m \u001b[38;5;241m3\u001b[39m:\n\u001b[1;32m      5\u001b[0m     \u001b[38;5;28mprint\u001b[39m(\u001b[38;5;124m'\u001b[39m\u001b[38;5;124mHooray!\u001b[39m\u001b[38;5;124m'\u001b[39m)\n",
      "\u001b[0;31mTypeError\u001b[0m: 'int' object is not iterable"
     ]
    }
   ],
   "source": [
    "# by the DRY rule, I shouldn't do that. Instead, I should use a loop.\n",
    "# it's tempting to do this:\n",
    "\n",
    "for counter in 3:\n",
    "    print('Hooray!')"
   ]
  },
  {
   "cell_type": "code",
   "execution_count": 11,
   "id": "9a02b7ba",
   "metadata": {},
   "outputs": [
    {
     "name": "stdout",
     "output_type": "stream",
     "text": [
      "Hooray!\n",
      "Hooray!\n",
      "Hooray!\n"
     ]
    }
   ],
   "source": [
    "# if you want to iterate a certain number of times, you cannot just run\n",
    "# a for loop on an integer. Rather, you need to use the \"range\" builtin,\n",
    "# and run that on the integer.\n",
    "\n",
    "for counter in range(3):     # notice that we use range(3), and it works!\n",
    "    print('Hooray!')"
   ]
  },
  {
   "cell_type": "code",
   "execution_count": 12,
   "id": "f6ddc548",
   "metadata": {},
   "outputs": [
    {
     "name": "stdout",
     "output_type": "stream",
     "text": [
      "0 Hooray!\n",
      "1 Hooray!\n",
      "2 Hooray!\n"
     ]
    }
   ],
   "source": [
    "# what is the value of counter in each of these iterations?\n",
    "\n",
    "for counter in range(3): \n",
    "    print(f'{counter} Hooray!')"
   ]
  },
  {
   "cell_type": "markdown",
   "id": "b1b3e302",
   "metadata": {},
   "source": [
    "When we call `range` with an integer, we get a special `range` object back. It knows how to behave in a `for` loop, and will give us the number of iterations that we asked for.\n",
    "\n",
    "With each iteration, we'll get back a new integer starting with 0.\n",
    "\n",
    "This means that calling `range(5)` will give us integers 0, 1, 2, 3, and 4 -- up to, but not including 5. However, we will get 5 iterations -- we just won't ever see the number 5.\n",
    "\n",
    "- You can use a variable (containing an integer) as the argument to `range`\n",
    "- You can even pass a function call as the argument to `range`, assuming that the function returns an integer. For example, you could say `range(len(x))`, and that'll give us the number of iterations that we got back from calling `len(x)`."
   ]
  },
  {
   "cell_type": "markdown",
   "id": "79b51911",
   "metadata": {},
   "source": [
    "# Exercise: Name triangles\n",
    "\n",
    "1. Ask the user to enter their name.\n",
    "2. Print the user's name in the form of a triangle:\n",
    "    - On the first line, just print the first letter of their name.\n",
    "    - On the second line, print the first two letters\n",
    "    - On the third line, the first three letters\n",
    "    - etc. etc. etc.\n",
    "    - On the final line, print the entire name\n",
    "    \n",
    "A few things to remember:\n",
    "- `range` will give us the number of iterations we ask for, *but* from 0 - one less than the maximum\n",
    "- `len` gives us the length of a string\n",
    "- Slices look like `s[start:end+1]`, and remember that `end` will be one index higher than the value we get back.\n",
    "- Watch out for off-by-one errors, where you're just one character too long or short.\n",
    "- Slices don't care if one of the named indexes in the slice is too high or too low.\n",
    "\n",
    "Example:\n",
    "\n",
    "    Enter your name: Reuven\n",
    "    R\n",
    "    Re\n",
    "    Reu\n",
    "    Reuv\n",
    "    Reuve\n",
    "    Reuven"
   ]
  },
  {
   "cell_type": "code",
   "execution_count": 14,
   "id": "0cc18fb7",
   "metadata": {},
   "outputs": [
    {
     "name": "stdout",
     "output_type": "stream",
     "text": [
      "R\n",
      "Re\n",
      "Reu\n",
      "Reuv\n",
      "Reuve\n",
      "Reuven\n"
     ]
    }
   ],
   "source": [
    "s = 'Reuven'\n",
    "\n",
    "print(s[:1])\n",
    "print(s[:2])\n",
    "print(s[:3])\n",
    "print(s[:4])\n",
    "print(s[:5])\n",
    "print(s[:6])"
   ]
  },
  {
   "cell_type": "code",
   "execution_count": 21,
   "id": "fc6c92f4",
   "metadata": {},
   "outputs": [
    {
     "name": "stdout",
     "output_type": "stream",
     "text": [
      "Enter your name: veryveryverylongandsillyname\n",
      "v\n",
      "ve\n",
      "ver\n",
      "very\n",
      "veryv\n",
      "veryve\n",
      "veryver\n",
      "veryvery\n",
      "veryveryv\n",
      "veryveryve\n",
      "veryveryver\n",
      "veryveryvery\n",
      "veryveryveryl\n",
      "veryveryverylo\n",
      "veryveryverylon\n",
      "veryveryverylong\n",
      "veryveryverylonga\n",
      "veryveryverylongan\n",
      "veryveryverylongand\n",
      "veryveryverylongands\n",
      "veryveryverylongandsi\n",
      "veryveryverylongandsil\n",
      "veryveryverylongandsill\n",
      "veryveryverylongandsilly\n",
      "veryveryverylongandsillyn\n",
      "veryveryverylongandsillyna\n",
      "veryveryverylongandsillynam\n",
      "veryveryverylongandsillyname\n"
     ]
    }
   ],
   "source": [
    "# now let's use a loop:\n",
    "\n",
    "s = input('Enter your name: ').strip()\n",
    "\n",
    "for maxindex in range(len(s)):\n",
    "    print(s[:maxindex+1])"
   ]
  },
  {
   "cell_type": "code",
   "execution_count": 18,
   "id": "8c82c704",
   "metadata": {},
   "outputs": [
    {
     "data": {
      "text/plain": [
       "'R'"
      ]
     },
     "execution_count": 18,
     "metadata": {},
     "output_type": "execute_result"
    }
   ],
   "source": [
    "s[0]"
   ]
  },
  {
   "cell_type": "code",
   "execution_count": 19,
   "id": "9f5e3c46",
   "metadata": {},
   "outputs": [
    {
     "data": {
      "text/plain": [
       "'n'"
      ]
     },
     "execution_count": 19,
     "metadata": {},
     "output_type": "execute_result"
    }
   ],
   "source": [
    "s[5]"
   ]
  },
  {
   "cell_type": "code",
   "execution_count": 20,
   "id": "4e68a4f7",
   "metadata": {},
   "outputs": [
    {
     "data": {
      "text/plain": [
       "'Reuve'"
      ]
     },
     "execution_count": 20,
     "metadata": {},
     "output_type": "execute_result"
    }
   ],
   "source": [
    "s[0:5]   # from index 0 until (and not including) index 5"
   ]
  },
  {
   "cell_type": "markdown",
   "id": "20bac1ba",
   "metadata": {},
   "source": [
    "# The story so far\n",
    "\n",
    "- We can iterate, using a `for` loop, over the characters of a string.\n",
    "- We can also iterate, using a `for` loop, over a range of integers starting at 0 with `range`.\n",
    "\n",
    "Where are the indexes? In many other programming languages, a `for` loop is something like this:\n",
    "\n",
    "```\n",
    "for (i=0; i<10; i+=1)\n",
    "```\n",
    "\n",
    "Definitely not in Python...  Why not?\n",
    "\n",
    "1. In Python, the objects are in control, not the loops. Each object knows what the next value is that it'll provide; we don't need to do that.\n",
    "2. The whole point of iterating over a bunch of values is to get the *values*, not to deal with the indexes. If you don't need the index, then why would you want to use it?\n",
    "\n",
    "That said, there are definitely times when we will want the indexes. For example, just printing the index along with the value can be useful in debugging.\n",
    "\n",
    "There are two basic ways to do that:"
   ]
  },
  {
   "cell_type": "code",
   "execution_count": 23,
   "id": "17460c97",
   "metadata": {},
   "outputs": [
    {
     "name": "stdout",
     "output_type": "stream",
     "text": [
      "0: a\n",
      "1: b\n",
      "2: c\n",
      "3: d\n"
     ]
    }
   ],
   "source": [
    "# option 1: manual handling of the index\n",
    "\n",
    "s = 'abcd'\n",
    "index = 0\n",
    "\n",
    "for one_character in s:\n",
    "    print(f'{index}: {one_character}')\n",
    "    index += 1"
   ]
  },
  {
   "cell_type": "code",
   "execution_count": 25,
   "id": "9bfd8842",
   "metadata": {},
   "outputs": [
    {
     "name": "stdout",
     "output_type": "stream",
     "text": [
      "a\n",
      "b\n",
      "c\n",
      "d\n"
     ]
    }
   ],
   "source": [
    "# option 2: use range\n",
    "\n",
    "s = 'abcd'\n",
    "\n",
    "for index in range(len(s)):\n",
    "    print(s[index])"
   ]
  },
  {
   "cell_type": "code",
   "execution_count": 26,
   "id": "054ec64e",
   "metadata": {},
   "outputs": [
    {
     "name": "stdout",
     "output_type": "stream",
     "text": [
      "(0, 'a')\n",
      "(1, 'b')\n",
      "(2, 'c')\n",
      "(3, 'd')\n"
     ]
    }
   ],
   "source": [
    "# option 3: use enumerate\n",
    "\n",
    "# the enumerate builtin function is designed for precisely this kind of situation\n",
    "# you invoke it, passing as an argument the value you want to iterate over\n",
    "# you get a tuple back with each iteration containing the current index (as counted by enumerate)\n",
    "# and the value\n",
    "\n",
    "for t in enumerate(s):\n",
    "    print(t)"
   ]
  },
  {
   "cell_type": "code",
   "execution_count": 27,
   "id": "575eaea1",
   "metadata": {},
   "outputs": [
    {
     "name": "stdout",
     "output_type": "stream",
     "text": [
      "0: a\n",
      "1: b\n",
      "2: c\n",
      "3: d\n"
     ]
    }
   ],
   "source": [
    "# this is nice... but can't we make it a bit nicer?\n",
    "# yes, with unpacking!\n",
    "\n",
    "for t in enumerate(s):\n",
    "    index, one_character = t   # unpacking\n",
    "    print(f'{index}: {one_character}')"
   ]
  },
  {
   "cell_type": "code",
   "execution_count": 30,
   "id": "e89350d5",
   "metadata": {},
   "outputs": [
    {
     "name": "stdout",
     "output_type": "stream",
     "text": [
      "0: a\n",
      "1: b\n",
      "2: c\n",
      "3: d\n"
     ]
    }
   ],
   "source": [
    "# but we can do even better!\n",
    "# this is the Pythonic way to get the index from something over which you're iterating\n",
    "\n",
    "for index, one_character in enumerate(s):\n",
    "    print(f'{index}: {one_character}')"
   ]
  },
  {
   "cell_type": "code",
   "execution_count": null,
   "id": "38d99460",
   "metadata": {},
   "outputs": [],
   "source": []
  }
 ],
 "metadata": {
  "kernelspec": {
   "display_name": "Python 3 (ipykernel)",
   "language": "python",
   "name": "python3"
  },
  "language_info": {
   "codemirror_mode": {
    "name": "ipython",
    "version": 3
   },
   "file_extension": ".py",
   "mimetype": "text/x-python",
   "name": "python",
   "nbconvert_exporter": "python",
   "pygments_lexer": "ipython3",
   "version": "3.11.6"
  }
 },
 "nbformat": 4,
 "nbformat_minor": 5
}
