{
 "cells": [
  {
   "cell_type": "code",
   "execution_count": 1,
   "id": "ae945216",
   "metadata": {},
   "outputs": [
    {
     "name": "stdout",
     "output_type": "stream",
     "text": [
      "hello world\n"
     ]
    }
   ],
   "source": [
    "print('hello world')"
   ]
  },
  {
   "cell_type": "code",
   "execution_count": 4,
   "id": "9de9029d",
   "metadata": {},
   "outputs": [
    {
     "name": "stdout",
     "output_type": "stream",
     "text": [
      "bonjour\n"
     ]
    }
   ],
   "source": [
    "y=100\n",
    "if y==100:\n",
    "    print('bonjour')"
   ]
  },
  {
   "cell_type": "code",
   "execution_count": 6,
   "id": "e43ef5cb",
   "metadata": {},
   "outputs": [
    {
     "name": "stdout",
     "output_type": "stream",
     "text": [
      "computers\n",
      "rule\n"
     ]
    }
   ],
   "source": [
    "s = 'computers\\nrule'\n",
    "print (s)"
   ]
  },
  {
   "cell_type": "code",
   "execution_count": 8,
   "id": "511d5d9a",
   "metadata": {},
   "outputs": [
    {
     "data": {
      "text/plain": [
       "14"
      ]
     },
     "execution_count": 8,
     "metadata": {},
     "output_type": "execute_result"
    }
   ],
   "source": [
    "len(s)"
   ]
  },
  {
   "cell_type": "code",
   "execution_count": 11,
   "id": "3639252e",
   "metadata": {},
   "outputs": [],
   "source": [
    "#windows has this a lot"
   ]
  },
  {
   "cell_type": "code",
   "execution_count": 13,
   "id": "cc82dc15",
   "metadata": {},
   "outputs": [],
   "source": [
    "s = 'afarfarvfbrfvurfv'"
   ]
  },
  {
   "cell_type": "code",
   "execution_count": 16,
   "id": "b686fabf",
   "metadata": {},
   "outputs": [
    {
     "data": {
      "text/plain": [
       "'a'"
      ]
     },
     "execution_count": 16,
     "metadata": {},
     "output_type": "execute_result"
    }
   ],
   "source": [
    "s[5]"
   ]
  },
  {
   "cell_type": "code",
   "execution_count": 18,
   "id": "22a1c2f7",
   "metadata": {},
   "outputs": [],
   "source": [
    "s = '123456789'"
   ]
  },
  {
   "cell_type": "code",
   "execution_count": 21,
   "id": "0f972da9",
   "metadata": {},
   "outputs": [
    {
     "data": {
      "text/plain": [
       "'6'"
      ]
     },
     "execution_count": 21,
     "metadata": {},
     "output_type": "execute_result"
    }
   ],
   "source": [
    "s[5]"
   ]
  },
  {
   "cell_type": "code",
   "execution_count": 24,
   "id": "7c4ce539",
   "metadata": {},
   "outputs": [
    {
     "data": {
      "text/plain": [
       "'2345'"
      ]
     },
     "execution_count": 24,
     "metadata": {},
     "output_type": "execute_result"
    }
   ],
   "source": [
    "s[1:5]"
   ]
  },
  {
   "cell_type": "code",
   "execution_count": 26,
   "id": "03c632bf",
   "metadata": {},
   "outputs": [
    {
     "data": {
      "text/plain": [
       "True"
      ]
     },
     "execution_count": 26,
     "metadata": {},
     "output_type": "execute_result"
    }
   ],
   "source": [
    "'123' in s"
   ]
  },
  {
   "cell_type": "code",
   "execution_count": 27,
   "id": "5feb6cc1",
   "metadata": {},
   "outputs": [
    {
     "data": {
      "text/plain": [
       "False"
      ]
     },
     "execution_count": 27,
     "metadata": {},
     "output_type": "execute_result"
    }
   ],
   "source": [
    "'321' in s"
   ]
  },
  {
   "cell_type": "code",
   "execution_count": 28,
   "id": "7b48c91a",
   "metadata": {},
   "outputs": [],
   "source": [
    "s = 'abcde'"
   ]
  },
  {
   "cell_type": "code",
   "execution_count": 30,
   "id": "88bc6145",
   "metadata": {},
   "outputs": [],
   "source": [
    "s= s + 'fghi'"
   ]
  },
  {
   "cell_type": "code",
   "execution_count": 33,
   "id": "2326112e",
   "metadata": {},
   "outputs": [
    {
     "data": {
      "text/plain": [
       "'abcdefghifghi'"
      ]
     },
     "execution_count": 33,
     "metadata": {},
     "output_type": "execute_result"
    }
   ],
   "source": [
    "s"
   ]
  },
  {
   "cell_type": "code",
   "execution_count": null,
   "id": "80d295e3",
   "metadata": {},
   "outputs": [],
   "source": [
    "word = input('enter a word:')\n",
    "\n",
    "if word[0] in 'aeiou':\n",
    "    print (word + 'way')\n",
    "else:\n",
    "    print(word[1:] + word[0] + 'ay')"
   ]
  },
  {
   "cell_type": "code",
   "execution_count": null,
   "id": "6149ea79",
   "metadata": {},
   "outputs": [],
   "source": [
    "word = input('enter a word:')\n",
    "if word[0] in 'aeiou':\n",
    "    print (word + 'way')\n",
    "else:\n",
    "    print(word[1:] + word[0] + 'ay')"
   ]
  },
  {
   "cell_type": "code",
   "execution_count": null,
   "id": "40d2d9aa",
   "metadata": {},
   "outputs": [],
   "source": []
  },
  {
   "cell_type": "code",
   "execution_count": null,
   "id": "ce259e64",
   "metadata": {},
   "outputs": [],
   "source": []
  },
  {
   "cell_type": "code",
   "execution_count": null,
   "id": "cabe0611",
   "metadata": {},
   "outputs": [],
   "source": []
  },
  {
   "cell_type": "code",
   "execution_count": null,
   "id": "cf55c3ff",
   "metadata": {},
   "outputs": [],
   "source": []
  },
  {
   "cell_type": "code",
   "execution_count": null,
   "id": "ad84b85b",
   "metadata": {},
   "outputs": [],
   "source": [
    "x=900\n",
    "y=900\n",
    "x*y"
   ]
  },
  {
   "cell_type": "code",
   "execution_count": null,
   "id": "805a21cb",
   "metadata": {},
   "outputs": [],
   "source": []
  }
 ],
 "metadata": {
  "kernelspec": {
   "display_name": "Python 3 (ipykernel)",
   "language": "python",
   "name": "python3"
  },
  "language_info": {
   "codemirror_mode": {
    "name": "ipython",
    "version": 3
   },
   "file_extension": ".py",
   "mimetype": "text/x-python",
   "name": "python",
   "nbconvert_exporter": "python",
   "pygments_lexer": "ipython3",
   "version": "3.11.6"
  }
 },
 "nbformat": 4,
 "nbformat_minor": 5
}
