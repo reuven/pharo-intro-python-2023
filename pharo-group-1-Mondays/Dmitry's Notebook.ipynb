{
 "cells": [
  {
   "cell_type": "code",
   "execution_count": null,
   "id": "11521548",
   "metadata": {
    "ExecuteTime": {
     "end_time": "2023-12-11T17:27:31.577491+00:00",
     "start_time": "2023-12-11T17:27:23.813983+00:00"
    },
    "noteable": {
     "output_collection_id": "124a2e7b-d2e4-4ce7-80a6-09530dd2491f"
    }
   },
   "outputs": [],
   "source": [
    "a = input(f'Enter first string: ')\n",
    "b = input(f'Enter second string: ')\n",
    "\n",
    "print(f'a = {a} , b = {b}')\n",
    "\n",
    "if a > b :\n",
    "    print(f'{a} is earlier than {b}')\n",
    "else:\n",
    "    print(f'{b} is earlier than {a}')"
   ]
  },
  {
   "cell_type": "code",
   "execution_count": null,
   "id": "6d7130b8-69b1-4d73-a622-44eaaf81de37",
   "metadata": {
    "ExecuteTime": {
     "end_time": "2023-12-11T17:45:15.325820+00:00",
     "start_time": "2023-12-11T17:45:01.468045+00:00"
    },
    "jupyter": {
     "outputs_hidden": false,
     "source_hidden": false
    },
    "noteable": {
     "cell_type": "code",
     "output_collection_id": "e69ece32-d21f-418c-b017-9e3bb187ab79"
    }
   },
   "outputs": [],
   "source": [
    "first = input(f'Enter first name: ')\n",
    "last = input(f'Enter last name: ')\n",
    "\n",
    "print(f'first name = {first} , last name = {last}')\n",
    "\n",
    "if first == 'Dmitry' and last == 'Samuylov' :\n",
    "    print(f'hello! you are me!')\n",
    "elif first == 'Dmitry' :\n",
    "    print(f'hey, that is a great name!')\n",
    "elif last == 'Samuylov' :\n",
    "    print(f'hey, we have the same last name!')\n",
    "else:\n",
    "    print(f'sorry, don not know who you are, bye bye!')\n",
    "          "
   ]
  },
  {
   "cell_type": "code",
   "execution_count": null,
   "id": "ed19737f-e0d7-4f43-855f-fe2263835c84",
   "metadata": {
    "ExecuteTime": {
     "end_time": "2023-12-11T18:07:55.254745+00:00",
     "start_time": "2023-12-11T18:07:52.225209+00:00"
    },
    "jupyter": {
     "outputs_hidden": false,
     "source_hidden": false
    },
    "noteable": {
     "cell_type": "code",
     "output_collection_id": "966cd4cc-1707-434c-8d7c-0ae5cdc7fb9b"
    }
   },
   "outputs": [],
   "source": [
    "import random\n",
    "secret = random.randrange(1,10)\n",
    "print(secret)\n",
    "\n",
    "guess = int(input(f'guess a number from 1-10: '))\n",
    "\n",
    "if secret == guess :\n",
    "    print(f'You guessed it!')\n",
    "elif secret < guess :\n",
    "    print(f'too high!')\n",
    "elif secret > guess :\n",
    "    print(f'too low!')"
   ]
  },
  {
   "cell_type": "code",
   "execution_count": 6,
   "id": "064befcc-9049-4411-840c-7aad9d97d16c",
   "metadata": {
    "jupyter": {
     "outputs_hidden": false,
     "source_hidden": false
    },
    "noteable": {
     "cell_type": "code"
    }
   },
   "outputs": [
    {
     "name": "stdout",
     "output_type": "stream",
     "text": [
      "give me a work to convert into pig latin: something\n",
      "our starting word is: something\n",
      "omethinomethingsay\n"
     ]
    }
   ],
   "source": [
    "word = input('give me a work to convert into pig latin: ')\n",
    "print(f'our starting word is: {word}')\n",
    "\n",
    "wordlen = len(word)\n",
    "\n",
    "if 'a' in word :\n",
    "    word = word + 'way'\n",
    "else:\n",
    "    word = word[1:] + word[0] + 'ay'\n",
    "    \n",
    "print(word)"
   ]
  },
  {
   "cell_type": "code",
   "execution_count": null,
   "id": "4150afdf",
   "metadata": {},
   "outputs": [],
   "source": []
  },
  {
   "cell_type": "code",
   "execution_count": null,
   "id": "ddaaff76",
   "metadata": {},
   "outputs": [],
   "source": []
  }
 ],
 "metadata": {
  "kernel_info": {
   "name": "python3"
  },
  "kernelspec": {
   "display_name": "Python 3 (ipykernel)",
   "language": "python",
   "name": "python3"
  },
  "language_info": {
   "codemirror_mode": {
    "name": "ipython",
    "version": 3
   },
   "file_extension": ".py",
   "mimetype": "text/x-python",
   "name": "python",
   "nbconvert_exporter": "python",
   "pygments_lexer": "ipython3",
   "version": "3.11.6"
  },
  "selected_hardware_size": "small"
 },
 "nbformat": 4,
 "nbformat_minor": 5
}
