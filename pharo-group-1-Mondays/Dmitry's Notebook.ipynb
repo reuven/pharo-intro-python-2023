{
  "nbformat": 4,
  "nbformat_minor": 5,
  "metadata": {
    "kernel_info": {
      "name": "python3"
    },
    "kernelspec": {
      "display_name": "Python 3.9",
      "identifier": "legacy",
      "language": "python",
      "language_version": "3.9",
      "name": "python3"
    },
    "selected_hardware_size": "small"
  },
  "cells": [
    {
      "id": "11521548",
      "cell_type": "code",
      "metadata": {
        "noteable": {
          "output_collection_id": "124a2e7b-d2e4-4ce7-80a6-09530dd2491f"
        },
        "ExecuteTime": {
          "end_time": "2023-12-11T17:27:31.577491+00:00",
          "start_time": "2023-12-11T17:27:23.813983+00:00"
        }
      },
      "execution_count": null,
      "source": "a = input(f'Enter first string: ')\nb = input(f'Enter second string: ')\n\nprint(f'a = {a} , b = {b}')\n\nif a > b :\n    print(f'{a} is earlier than {b}')\nelse:\n    print(f'{b} is earlier than {a}')",
      "outputs": []
    },
    {
      "id": "6d7130b8-69b1-4d73-a622-44eaaf81de37",
      "cell_type": "code",
      "metadata": {
        "jupyter": {
          "outputs_hidden": false,
          "source_hidden": false
        },
        "noteable": {
          "cell_type": "code",
          "output_collection_id": "e69ece32-d21f-418c-b017-9e3bb187ab79"
        },
        "ExecuteTime": {
          "end_time": "2023-12-11T17:45:15.325820+00:00",
          "start_time": "2023-12-11T17:45:01.468045+00:00"
        }
      },
      "execution_count": null,
      "source": "first = input(f'Enter first name: ')\nlast = input(f'Enter last name: ')\n\nprint(f'first name = {first} , last name = {last}')\n\nif first == 'Dmitry' and last == 'Samuylov' :\n    print(f'hello! you are me!')\nelif first == 'Dmitry' :\n    print(f'hey, that is a great name!')\nelif last == 'Samuylov' :\n    print(f'hey, we have the same last name!')\nelse:\n    print(f'sorry, don not know who you are, bye bye!')\n          ",
      "outputs": []
    },
    {
      "id": "ed19737f-e0d7-4f43-855f-fe2263835c84",
      "cell_type": "code",
      "metadata": {
        "jupyter": {
          "outputs_hidden": false,
          "source_hidden": false
        },
        "noteable": {
          "cell_type": "code",
          "output_collection_id": "966cd4cc-1707-434c-8d7c-0ae5cdc7fb9b"
        },
        "ExecuteTime": {
          "end_time": "2023-12-11T18:07:55.254745+00:00",
          "start_time": "2023-12-11T18:07:52.225209+00:00"
        }
      },
      "execution_count": null,
      "source": "import random\nsecret = random.randrange(1,10)\nprint(secret)\n\nguess = int(input(f'guess a number from 1-10: '))\n\nif secret == guess :\n    print(f'You guessed it!')\nelif secret < guess :\n    print(f'too high!')\nelif secret > guess :\n    print(f'too low!')",
      "outputs": []
    },
    {
      "id": "064befcc-9049-4411-840c-7aad9d97d16c",
      "cell_type": "code",
      "metadata": {
        "jupyter": {
          "outputs_hidden": false,
          "source_hidden": false
        },
        "noteable": {
          "cell_type": "code"
        }
      },
      "execution_count": null,
      "source": "",
      "outputs": []
    }
  ]
}