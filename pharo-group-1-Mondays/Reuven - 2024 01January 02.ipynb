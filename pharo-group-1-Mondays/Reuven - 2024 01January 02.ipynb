{
 "cells": [
  {
   "cell_type": "markdown",
   "id": "f5092922",
   "metadata": {},
   "source": [
    "# Agenda\n",
    "\n",
    "1. Q&A\n",
    "2. Loops\n",
    "    - `for`\n",
    "    - looping over numbers\n",
    "    - indexes?!?\n",
    "    - `while`\n"
   ]
  },
  {
   "cell_type": "markdown",
   "id": "19bbe449",
   "metadata": {},
   "source": [
    "# DRY (\"don't repeat yourself\") rule of programming\n",
    "\n",
    "I first read about this rule in the book, \"The Pragmatic Programmer.\" \n",
    "\n",
    "The idea is: If you have the same code (exactly or close to it) in more than one place in your program, then you're probably making a mistake.\n",
    "\n",
    "- You're writing too much!\n",
    "- You (and others) will have more to debug\n",
    "- The different places might get out of sync\n",
    "- Less cognitive load\n",
    "\n",
    "How do we do that?"
   ]
  },
  {
   "cell_type": "code",
   "execution_count": 2,
   "id": "7ef6abb4",
   "metadata": {},
   "outputs": [
    {
     "name": "stdout",
     "output_type": "stream",
     "text": [
      "a\n",
      "b\n",
      "c\n",
      "d\n"
     ]
    }
   ],
   "source": [
    "# I have a string, and want to print every character in that string\n",
    "\n",
    "s = 'abcd'\n",
    "\n",
    "print(s[0])\n",
    "print(s[1])\n",
    "print(s[2])\n",
    "print(s[3])   # unfortunately, this works!"
   ]
  },
  {
   "cell_type": "code",
   "execution_count": 3,
   "id": "f8389ab8",
   "metadata": {},
   "outputs": [],
   "source": [
    "# a better way to do this is with a loop\n",
    "# meaning: we give general instructions, with slight variations, and then repeat them\n",
    "\n",
    "# Python has two types of loops:\n",
    "# - for\n",
    "# - while\n",
    "\n",
    "# we'll start with \"for\" loops"
   ]
  },
  {
   "cell_type": "code",
   "execution_count": 4,
   "id": "269f82c8",
   "metadata": {},
   "outputs": [
    {
     "name": "stdout",
     "output_type": "stream",
     "text": [
      "a\n",
      "b\n",
      "c\n",
      "d\n"
     ]
    }
   ],
   "source": [
    "s = 'abcd'\n",
    "\n",
    "for one_character in s:\n",
    "    print(one_character)"
   ]
  },
  {
   "cell_type": "markdown",
   "id": "1f00517f",
   "metadata": {},
   "source": [
    "# How does a `for` loop work?\n",
    "\n",
    "1. The `for` loop turns to the object at the end of the line (here, that's `s`), and asks it: Are you iterable? Do you know how to behave inside of a `for` loop?\n",
    "    - If not, then we get an error message, and the loop exits with an error\n",
    "    - Notice that the syntax is `for VARIABLE in OBJECT:`, with a `:` at the end of the line\n",
    "    - The indented block following the `:` is known as \"the loop body\"\n",
    "    - The loop body can be as long or as short as we want, and can contain any code at all!\n",
    "2. If the object is iterable, then the `for` loop turns to it and says: Give me your next value. Here, `for` turns to `s` and says: Give me your next thing.\n",
    "    - If there are no more values to provide, then the loop exits (without an error message), and the program continues executing after the loop body.\n",
    "3. The value is assigned to our variable (here, `one_character`)\n",
    "4. The loop body executes with `one_charcter` assigned to the current value\n",
    "5. We go back to step 2, asking for the next value\n",
    "\n",
    "# A few things to notice about `for` loops\n",
    "\n",
    "1. The loop has no idea of how many times we'll be iterating. That's up to the object to decide.\n",
    "2. The fact that I named the variable `one_character` has *zero* impact on what type of value we get back from `s`. We aren't getting characters, one at a time, because I called the variable `one_character`. Rather, I called the variable `one_character` because I know that all strings, when iterated over in a loop, will give us one character at a time. The behavior would be identical if I were to call it `one_paragraph` or `one_terabyte`.\n",
    "3. The loop body will execute once for each element (character, here) in `s`."
   ]
  },
  {
   "cell_type": "markdown",
   "id": "d96ebfe2",
   "metadata": {},
   "source": [
    "# Exercise: Vowels, digits, and others \n",
    "\n",
    "1. Define three variables -- `vowels`, `digits`, and `others` all to be equal to 0.\n",
    "2. Ask the user to enter a string (with `input`), and assign to a variable, `s`.\n",
    "3. Go through each character in the string, and check:\n",
    "    - If it's a digit (0-9) then add 1 to `digits`\n",
    "    - If it's a vowel (a, e, i, o, u) then add 1 to `vowels`\n",
    "    - If it's neither, then add 1 to `others`\n",
    "4. Print the values of `vowels`, `digits`, and `others`.\n",
    "\n",
    "Example:\n",
    "\n",
    "    Enter a string: hello!! 123\n",
    "    vowels: 2\n",
    "    digits: 3\n",
    "    others: 6\n",
    "    \n",
    "Hints/reminders:\n",
    "- You can use the `str.isdigit` method to check if a character (or string) contains only the digits 0-9, as in `s.isdigit()`\n",
    "- You can use `in` to check whether `SMALL in BIG`, where `SMALL` and `BIG` are both strings, and you'll get a `True` value back if `SMALL` can be found in `BIG`."
   ]
  },
  {
   "cell_type": "code",
   "execution_count": null,
   "id": "6336fd96",
   "metadata": {},
   "outputs": [],
   "source": []
  }
 ],
 "metadata": {
  "kernelspec": {
   "display_name": "Python 3 (ipykernel)",
   "language": "python",
   "name": "python3"
  },
  "language_info": {
   "codemirror_mode": {
    "name": "ipython",
    "version": 3
   },
   "file_extension": ".py",
   "mimetype": "text/x-python",
   "name": "python",
   "nbconvert_exporter": "python",
   "pygments_lexer": "ipython3",
   "version": "3.11.6"
  }
 },
 "nbformat": 4,
 "nbformat_minor": 5
}
