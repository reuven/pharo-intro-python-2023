{
 "cells": [
  {
   "cell_type": "markdown",
   "id": "8e3e6cef",
   "metadata": {},
   "source": [
    "# Agenda\n",
    "\n",
    "1. Q&A\n",
    "2. Loops\n",
    "    - `for`\n",
    "    - looping over numbers\n",
    "    - indexes?!?\n",
    "    - `while`\n"
   ]
  },
  {
   "cell_type": "markdown",
   "id": "8c542a41",
   "metadata": {},
   "source": [
    "# DRY (\"don't repeat yourself\") rule of programming\n",
    "\n",
    "I first read about this rule in the book, \"The Pragmatic Programmer.\" \n",
    "\n",
    "The idea is: If you have the same code (exactly or close to it) in more than one place in your program, then you're probably making a mistake.\n",
    "\n",
    "- You're writing too much!\n",
    "- You (and others) will have more to debug\n",
    "- The different places might get out of syn"
   ]
  }
 ],
 "metadata": {
  "kernelspec": {
   "display_name": "Python 3 (ipykernel)",
   "language": "python",
   "name": "python3"
  },
  "language_info": {
   "codemirror_mode": {
    "name": "ipython",
    "version": 3
   },
   "file_extension": ".py",
   "mimetype": "text/x-python",
   "name": "python",
   "nbconvert_exporter": "python",
   "pygments_lexer": "ipython3",
   "version": "3.11.6"
  }
 },
 "nbformat": 4,
 "nbformat_minor": 5
}
