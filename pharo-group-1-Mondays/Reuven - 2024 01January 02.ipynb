{
 "cells": [
  {
   "cell_type": "markdown",
   "id": "3fd6ede0",
   "metadata": {},
   "source": [
    "# Agenda\n",
    "\n",
    "1. Q&A\n",
    "2. Loops\n",
    "    - `for`\n",
    "    - looping over numbers\n",
    "    - indexes?!?\n",
    "    - `while`\n"
   ]
  },
  {
   "cell_type": "markdown",
   "id": "47c7bb49",
   "metadata": {},
   "source": [
    "# DRY (\"don't repeat yourself\") rule of programming\n",
    "\n",
    "I first read about this rule in the book, \"The Pragmatic Programmer.\" \n",
    "\n",
    "The idea is: If you have the same code (exactly or close to it) in more than one place in your program, then you're probably making a mistake.\n",
    "\n",
    "- You're writing too much!\n",
    "- You (and others) will have more to debug\n",
    "- The different places might get out of sync\n",
    "- Less cognitive load\n",
    "\n",
    "How do we do that?"
   ]
  },
  {
   "cell_type": "code",
   "execution_count": 2,
   "id": "137c5738",
   "metadata": {},
   "outputs": [
    {
     "name": "stdout",
     "output_type": "stream",
     "text": [
      "a\n",
      "b\n",
      "c\n",
      "d\n"
     ]
    }
   ],
   "source": [
    "# I have a string, and want to print every character in that string\n",
    "\n",
    "s = 'abcd'\n",
    "\n",
    "print(s[0])\n",
    "print(s[1])\n",
    "print(s[2])\n",
    "print(s[3])   # unfortunately, this works!"
   ]
  },
  {
   "cell_type": "code",
   "execution_count": null,
   "id": "09ec4c8f",
   "metadata": {},
   "outputs": [],
   "source": [
    "# a better way to do this is with a loop\n",
    "# meaning: we give general instructions, with slight variations, and then r"
   ]
  }
 ],
 "metadata": {
  "kernelspec": {
   "display_name": "Python 3 (ipykernel)",
   "language": "python",
   "name": "python3"
  },
  "language_info": {
   "codemirror_mode": {
    "name": "ipython",
    "version": 3
   },
   "file_extension": ".py",
   "mimetype": "text/x-python",
   "name": "python",
   "nbconvert_exporter": "python",
   "pygments_lexer": "ipython3",
   "version": "3.11.6"
  }
 },
 "nbformat": 4,
 "nbformat_minor": 5
}
