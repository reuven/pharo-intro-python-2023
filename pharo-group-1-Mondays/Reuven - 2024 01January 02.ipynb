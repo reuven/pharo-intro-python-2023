{
 "cells": [
  {
   "cell_type": "markdown",
   "id": "9c558dfe",
   "metadata": {},
   "source": [
    "# Agenda\n",
    "\n",
    "1. Q&A\n",
    "2. Loops\n",
    "    - `for`\n",
    "    - looping over numbers\n",
    "    - indexes?!?\n",
    "    - `while`\n"
   ]
  },
  {
   "cell_type": "markdown",
   "id": "4b128390",
   "metadata": {},
   "source": [
    "# DRY (\"don't repeat yourself\") rule of programming\n",
    "\n",
    "I first read about this rule in the book, \"The Pragmatic Programmer.\" \n",
    "\n",
    "The idea is: If you have the same code (exactly or close to it) in more than one place in your program, then you're probably making a mistake.\n",
    "\n",
    "- You're writing too much!\n",
    "- You (and others) will have more to debug\n",
    "- The different places might get out of sync\n",
    "- Less cognitive load\n",
    "\n",
    "How do we do that?"
   ]
  },
  {
   "cell_type": "code",
   "execution_count": 2,
   "id": "8df41e4d",
   "metadata": {},
   "outputs": [
    {
     "name": "stdout",
     "output_type": "stream",
     "text": [
      "a\n",
      "b\n",
      "c\n",
      "d\n"
     ]
    }
   ],
   "source": [
    "# I have a string, and want to print every character in that string\n",
    "\n",
    "s = 'abcd'\n",
    "\n",
    "print(s[0])\n",
    "print(s[1])\n",
    "print(s[2])\n",
    "print(s[3])   # unfortunately, this works!"
   ]
  },
  {
   "cell_type": "code",
   "execution_count": 3,
   "id": "99b30f2c",
   "metadata": {},
   "outputs": [],
   "source": [
    "# a better way to do this is with a loop\n",
    "# meaning: we give general instructions, with slight variations, and then repeat them\n",
    "\n",
    "# Python has two types of loops:\n",
    "# - for\n",
    "# - while\n",
    "\n",
    "# we'll start with \"for\" loops"
   ]
  },
  {
   "cell_type": "code",
   "execution_count": 4,
   "id": "d486d536",
   "metadata": {},
   "outputs": [
    {
     "name": "stdout",
     "output_type": "stream",
     "text": [
      "a\n",
      "b\n",
      "c\n",
      "d\n"
     ]
    }
   ],
   "source": [
    "s = 'abcd'\n",
    "\n",
    "for one_character in s:\n",
    "    print(one_character)"
   ]
  },
  {
   "cell_type": "markdown",
   "id": "8f51e391",
   "metadata": {},
   "source": [
    "# How does a `for` loop work?\n",
    "\n",
    "1. The `for` loop turns to the object at the end of the line (here, that's `s`), and asks it: Are you iterable? Do you know how to behave inside of a `for` loop?\n",
    "    - If not, then we get an error message, and the loop exits with an error\n",
    "    - Notice that the syntax is `for VARIABLE in OBJECT:`, with a `:` at the end of the line\n",
    "    - The indented block following the `:` is kn"
   ]
  },
  {
   "cell_type": "code",
   "execution_count": null,
   "id": "e424e3a1",
   "metadata": {},
   "outputs": [],
   "source": [
    "#"
   ]
  }
 ],
 "metadata": {
  "kernelspec": {
   "display_name": "Python 3 (ipykernel)",
   "language": "python",
   "name": "python3"
  },
  "language_info": {
   "codemirror_mode": {
    "name": "ipython",
    "version": 3
   },
   "file_extension": ".py",
   "mimetype": "text/x-python",
   "name": "python",
   "nbconvert_exporter": "python",
   "pygments_lexer": "ipython3",
   "version": "3.11.6"
  }
 },
 "nbformat": 4,
 "nbformat_minor": 5
}
