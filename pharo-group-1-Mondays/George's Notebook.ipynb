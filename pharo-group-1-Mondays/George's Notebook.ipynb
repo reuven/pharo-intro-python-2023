{
  "nbformat": 4,
  "nbformat_minor": 5,
  "metadata": {
    "kernel_info": {
      "name": "python3"
    },
    "kernelspec": {
      "display_name": "Python 3.9",
      "identifier": "legacy",
      "language": "python",
      "language_version": "3.9",
      "name": "python3"
    },
    "selected_hardware_size": "small"
  },
  "cells": [
    {
      "id": "14d96ce5",
      "cell_type": "code",
      "metadata": {
        "noteable": {
          "output_collection_id": "b63779f5-a9e5-42fd-bfc3-dba73590e5db"
        },
        "ExecuteTime": null
      },
      "execution_count": null,
      "source": "first=input('Enter name')\nsecond=input('Enter another')\nif first > second:\n    print('Yes')\nelse:\n    print('No')",
      "outputs": []
    },
    {
      "id": "bb6743a9-d8fb-4db0-97c5-afa4b154f469",
      "cell_type": "code",
      "metadata": {
        "jupyter": {
          "outputs_hidden": false,
          "source_hidden": false
        },
        "noteable": {
          "cell_type": "code",
          "output_collection_id": "8384de93-554e-446c-a378-71695418d19f"
        },
        "ExecuteTime": null
      },
      "execution_count": null,
      "source": "name=input('Enter name')\ncompany=input('Enter company')\nmycompany='Pharo'\nmyname='GeorgeCarter'\n\nif company == mycompany and name == myname:\n    print('you must be me')\nelif company == mycompany and name != myname:\n    print('hey colleague')\nelif company != mycompany and name == myname:\n    print('nice name')\nelse:\n    print('go away')",
      "outputs": []
    },
    {
      "id": "8e4a0347-d7ec-4ad0-a5d9-d3b9282e0d81",
      "cell_type": "code",
      "metadata": {
        "jupyter": {
          "outputs_hidden": false,
          "source_hidden": false
        },
        "noteable": {
          "cell_type": "code",
          "output_collection_id": "b09dece8-ff15-42b7-9de3-e5a545ba7bb8"
        },
        "ExecuteTime": null
      },
      "execution_count": null,
      "source": "Correct=10\n\nGuess=int(input('whats your guess'))\n\nif Guess == Correct:\n    print('correct')\nelse:\n    print('gamme over')",
      "outputs": []
    },
    {
      "id": "c6a19757-73d4-4e7a-9b94-a20f75f35a60",
      "cell_type": "code",
      "metadata": {
        "jupyter": {
          "outputs_hidden": false,
          "source_hidden": false
        },
        "noteable": {
          "cell_type": "code",
          "output_collection_id": "af18684c-4e07-4fcd-8bbb-7c7c18904012"
        },
        "ExecuteTime": null
      },
      "execution_count": null,
      "source": "s=input('enter string')\ni=input('enter index'))\n\nif i < 0 or i > s\n    print('error')\nelse:\n    print('index [i] in [s] is s(i)')",
      "outputs": []
    },
    {
      "id": "567fedb2-2217-4995-95e4-d610dd5ddcdd",
      "cell_type": "code",
      "metadata": {
        "jupyter": {
          "outputs_hidden": false,
          "source_hidden": false
        },
        "noteable": {
          "cell_type": "code"
        }
      },
      "execution_count": null,
      "source": "",
      "outputs": []
    }
  ]
}