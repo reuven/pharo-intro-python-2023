{
 "cells": [
  {
   "cell_type": "code",
   "execution_count": null,
   "id": "14d96ce5",
   "metadata": {
    "ExecuteTime": null,
    "noteable": {
     "output_collection_id": "b63779f5-a9e5-42fd-bfc3-dba73590e5db"
    }
   },
   "outputs": [],
   "source": [
    "first=input('Enter name')\n",
    "second=input('Enter another')\n",
    "if first > second:\n",
    "    print('Yes')\n",
    "else:\n",
    "    print('No')"
   ]
  },
  {
   "cell_type": "code",
   "execution_count": null,
   "id": "bb6743a9-d8fb-4db0-97c5-afa4b154f469",
   "metadata": {
    "ExecuteTime": null,
    "jupyter": {
     "outputs_hidden": false,
     "source_hidden": false
    },
    "noteable": {
     "cell_type": "code",
     "output_collection_id": "8384de93-554e-446c-a378-71695418d19f"
    }
   },
   "outputs": [],
   "source": [
    "name=input('Enter name')\n",
    "company=input('Enter company')\n",
    "mycompany='Pharo'\n",
    "myname='GeorgeCarter'\n",
    "\n",
    "if company == mycompany and name == myname:\n",
    "    print('you must be me')\n",
    "elif company == mycompany and name != myname:\n",
    "    print('hey colleague')\n",
    "elif company != mycompany and name == myname:\n",
    "    print('nice name')\n",
    "else:\n",
    "    print('go away')"
   ]
  },
  {
   "cell_type": "code",
   "execution_count": null,
   "id": "8e4a0347-d7ec-4ad0-a5d9-d3b9282e0d81",
   "metadata": {
    "ExecuteTime": null,
    "jupyter": {
     "outputs_hidden": false,
     "source_hidden": false
    },
    "noteable": {
     "cell_type": "code",
     "output_collection_id": "b09dece8-ff15-42b7-9de3-e5a545ba7bb8"
    }
   },
   "outputs": [],
   "source": [
    "Correct=10\n",
    "\n",
    "Guess=int(input('whats your guess'))\n",
    "\n",
    "if Guess == Correct:\n",
    "    print('correct')\n",
    "else:\n",
    "    print('gamme over')"
   ]
  },
  {
   "cell_type": "code",
   "execution_count": null,
   "id": "c6a19757-73d4-4e7a-9b94-a20f75f35a60",
   "metadata": {
    "ExecuteTime": null,
    "jupyter": {
     "outputs_hidden": false,
     "source_hidden": false
    },
    "noteable": {
     "cell_type": "code",
     "output_collection_id": "af18684c-4e07-4fcd-8bbb-7c7c18904012"
    }
   },
   "outputs": [],
   "source": [
    "s=input('enter string')\n",
    "i=input('enter index'))\n",
    "\n",
    "if i < 0 or i > s\n",
    "    print('error')\n",
    "else:\n",
    "    print('index [i] in [s] is s(i)')"
   ]
  },
  {
   "cell_type": "code",
   "execution_count": 9,
   "id": "567fedb2-2217-4995-95e4-d610dd5ddcdd",
   "metadata": {
    "jupyter": {
     "outputs_hidden": false,
     "source_hidden": false
    },
    "noteable": {
     "cell_type": "code"
    }
   },
   "outputs": [
    {
     "name": "stdout",
     "output_type": "stream",
     "text": [
      "Enter wordaeoiu\n",
      "0\n",
      "5\n",
      "0\n"
     ]
    }
   ],
   "source": [
    "vowels=0\n",
    "digits=0\n",
    "others=0\n",
    "\n",
    "s=input('Enter word').strip()\n",
    "\n",
    "for each_character in s:\n",
    "    if each_character.isdigit():\n",
    "        digits=digits+1\n",
    "    elif each_character in 'aeiou':\n",
    "        vowels=vowels+1\n",
    "    else:\n",
    "        others=others+1\n",
    "\n",
    "print(digits)\n",
    "print(vowels)\n",
    "print(others)\n"
   ]
  },
  {
   "cell_type": "code",
   "execution_count": 6,
   "id": "697f8188",
   "metadata": {},
   "outputs": [
    {
     "ename": "SyntaxError",
     "evalue": "invalid syntax (2403489239.py, line 1)",
     "output_type": "error",
     "traceback": [
      "\u001b[0;36m  Cell \u001b[0;32mIn[6], line 1\u001b[0;36m\u001b[0m\n\u001b[0;31m    123 HELLO\u001b[0m\n\u001b[0m        ^\u001b[0m\n\u001b[0;31mSyntaxError\u001b[0m\u001b[0;31m:\u001b[0m invalid syntax\n"
     ]
    }
   ],
   "source": [
    "123 HELLO"
   ]
  },
  {
   "cell_type": "code",
   "execution_count": 14,
   "id": "aa40fa1b",
   "metadata": {},
   "outputs": [
    {
     "name": "stdout",
     "output_type": "stream",
     "text": [
      "enter wordgeorge\n",
      "g\n",
      "ge\n",
      "geo\n",
      "geor\n",
      "georg\n",
      "george\n"
     ]
    }
   ],
   "source": [
    "s=input('enter word').lower().strip()\n",
    "\n",
    "for counter in range(len(s)):\n",
    "    print(s[0:counter+1])"
   ]
  },
  {
   "cell_type": "code",
   "execution_count": null,
   "id": "c1e4d5bb",
   "metadata": {},
   "outputs": [],
   "source": [
    "s=input('enter digit only').strip()\n",
    "\n",
    "int(s)=s\n",
    "\n",
    "for one_digit in s\n",
    "\n"
   ]
  }
 ],
 "metadata": {
  "kernel_info": {
   "name": "python3"
  },
  "kernelspec": {
   "display_name": "Python 3 (ipykernel)",
   "language": "python",
   "name": "python3"
  },
  "language_info": {
   "codemirror_mode": {
    "name": "ipython",
    "version": 3
   },
   "file_extension": ".py",
   "mimetype": "text/x-python",
   "name": "python",
   "nbconvert_exporter": "python",
   "pygments_lexer": "ipython3",
   "version": "3.11.6"
  },
  "selected_hardware_size": "small"
 },
 "nbformat": 4,
 "nbformat_minor": 5
}
