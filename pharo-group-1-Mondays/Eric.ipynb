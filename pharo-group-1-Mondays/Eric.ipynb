{
  "nbformat": 4,
  "nbformat_minor": 5,
  "metadata": {
    "kernel_info": {
      "name": "python3"
    },
    "kernelspec": {
      "display_name": "Python 3.9",
      "identifier": "legacy",
      "language": "python",
      "language_version": "3.9",
      "name": "python3"
    },
    "selected_hardware_size": "small"
  },
  "cells": [
    {
      "id": "20047426",
      "cell_type": "code",
      "metadata": {
        "noteable": {
          "output_collection_id": "2c6d459e-8899-41da-893a-fa6f8497110b"
        },
        "ExecuteTime": {
          "end_time": "2023-12-11T17:40:12.327330+00:00",
          "start_time": "2023-12-11T17:37:12.205153+00:00"
        }
      },
      "execution_count": null,
      "source": "first=input(\"Enter a word: \")\nsecond=input(\"Enter another word: \")\n\nif (first<second):\n    print(f\"{first} comes before {second}.\")\nelse:\n    print(f\"{second} comes before {first}.\")\n        ",
      "outputs": []
    },
    {
      "id": "ab974d38-6f2d-4ddd-930e-ffd2393eb6fa",
      "cell_type": "code",
      "metadata": {
        "jupyter": {
          "outputs_hidden": false,
          "source_hidden": false
        },
        "noteable": {
          "cell_type": "code",
          "output_collection_id": "f50a9636-f738-481b-b8f2-31e24d08922b"
        },
        "ExecuteTime": {
          "end_time": "2023-12-11T17:47:35.480821+00:00",
          "start_time": "2023-12-11T17:47:22.705877+00:00"
        }
      },
      "execution_count": null,
      "source": "name=input(\"Your name:\")\ncompany=input(\"Your company: \")\n\nis_me=name==\"Eric\"\nis_pharo=company==\"Pharo\"\n\nif is_me and is_pharo:\n    print(\"You must be me.\")\nelif is_me:\n    print(\"Nice name.\")\nelif is_pharo:\n    print(f\"Hello {name}!\")\nelse:\n    print(\"Hi\")\n        \n        ",
      "outputs": []
    },
    {
      "id": "472c21cc-413b-4f1d-8a67-429bc424ffc7",
      "cell_type": "code",
      "metadata": {
        "jupyter": {
          "outputs_hidden": false,
          "source_hidden": false
        },
        "noteable": {
          "cell_type": "code",
          "output_collection_id": "c972fb4f-9034-46e7-a814-b561e2a9790e"
        },
        "ExecuteTime": {
          "end_time": "2023-12-11T18:24:19.808251+00:00",
          "start_time": "2023-12-11T18:22:08.556738+00:00"
        }
      },
      "execution_count": null,
      "source": "target=40\nguess=int(input(\"Enter a guess: \"))\n\nif target==guess:\n    print(\"Contact!\")\nelif target<guess:\n    print(\"Too high!\")\nelse:\n    print(\"Too low!\")\n        ",
      "outputs": []
    },
    {
      "id": "0a04bab0-9c6c-4421-a79c-e777d224a535",
      "cell_type": "code",
      "metadata": {
        "jupyter": {
          "outputs_hidden": false,
          "source_hidden": false
        },
        "noteable": {
          "cell_type": "code",
          "output_collection_id": "ed880bca-64b6-4840-a5c1-ae69cc3907ed"
        },
        "ExecuteTime": {
          "end_time": "2023-12-11T18:25:28.556948+00:00",
          "start_time": "2023-12-11T18:25:21.747286+00:00"
        }
      },
      "execution_count": null,
      "source": "s=input(\"Enter a string: \")\ni=int(input(\"Enter an index: \"))\nif i<0 or i>=len(s):\n    print(\"Error!\")\nelse:\n    print(f\"Index {i} in {s} is {s[i]}.\")",
      "outputs": []
    }
  ]
}