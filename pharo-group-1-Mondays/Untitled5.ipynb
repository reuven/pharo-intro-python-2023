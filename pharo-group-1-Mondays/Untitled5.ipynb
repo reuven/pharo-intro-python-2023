{
 "cells": [
  {
   "cell_type": "code",
   "execution_count": 9,
   "id": "2c20b501",
   "metadata": {},
   "outputs": [
    {
     "name": "stdout",
     "output_type": "stream",
     "text": [
      "enter any string, words, letters, numbers, whatever: gjhgEAUOGIYUJjkyyurdido987678574^%$%^#^%&\n",
      "number of vowels: 9\n",
      "number of digits: 9\n",
      "number of other characters: 23\n"
     ]
    }
   ],
   "source": [
    "vowels=0\n",
    "digits=0\n",
    "other=0\n",
    "s=input('enter any string, words, letters, numbers, whatever: ')\n",
    "for i in s:\n",
    "    if i.isdigit():\n",
    "        digits+=1\n",
    "    elif i in 'aeiouAEIOU':\n",
    "        vowels+=1\n",
    "    else:\n",
    "        other+=1\n",
    "print('number of vowels: '+ str(vowels))\n",
    "print('number of digits: '+ str(digits))\n",
    "print('number of other characters: '+ str(other))        "
   ]
  },
  {
   "cell_type": "code",
   "execution_count": 13,
   "id": "bf727a25",
   "metadata": {},
   "outputs": [
    {
     "name": "stdout",
     "output_type": "stream",
     "text": [
      "What is your name? Marcio\n",
      "6\n",
      "M\n",
      "\n",
      "M\n",
      "Ma\n",
      "Mar\n",
      "Marc\n",
      "Marci\n",
      "Marcio\n"
     ]
    }
   ],
   "source": [
    "# name triangle\n",
    "\n",
    "name=input('What is your name? ')\n",
    "print(str(len(name)))\n",
    "print(name[0])\n",
    "for i in range(len(name)+1):\n",
    "    print(name[0:i])\n",
    "    "
   ]
  },
  {
   "cell_type": "code",
   "execution_count": 19,
   "id": "c03e64e0",
   "metadata": {},
   "outputs": [
    {
     "name": "stdout",
     "output_type": "stream",
     "text": [
      "enter a number - digits only: 546\n",
      "(5* 10**1)(4* 10**2)(6* 10**3)\n"
     ]
    }
   ],
   "source": [
    "number=input('enter a number - digits only: ')\n",
    "tam=len(number)\n",
    "numero=''\n",
    "for index, i in enumerate(number):\n",
    "    numero = numero + '(' + number[index] + ' * 10**' + str(index+1) + ')'\n",
    "print(numero)"
   ]
  },
  {
   "cell_type": "code",
   "execution_count": null,
   "id": "78790c1d",
   "metadata": {},
   "outputs": [],
   "source": []
  },
  {
   "cell_type": "code",
   "execution_count": null,
   "id": "835f1238",
   "metadata": {},
   "outputs": [],
   "source": []
  },
  {
   "cell_type": "code",
   "execution_count": null,
   "id": "6b22968d",
   "metadata": {},
   "outputs": [],
   "source": []
  }
 ],
 "metadata": {
  "kernelspec": {
   "display_name": "Python 3 (ipykernel)",
   "language": "python",
   "name": "python3"
  },
  "language_info": {
   "codemirror_mode": {
    "name": "ipython",
    "version": 3
   },
   "file_extension": ".py",
   "mimetype": "text/x-python",
   "name": "python",
   "nbconvert_exporter": "python",
   "pygments_lexer": "ipython3",
   "version": "3.11.6"
  }
 },
 "nbformat": 4,
 "nbformat_minor": 5
}
