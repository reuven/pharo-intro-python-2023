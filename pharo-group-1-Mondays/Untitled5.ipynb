{
 "cells": [
  {
   "cell_type": "code",
   "execution_count": 9,
   "id": "610585af",
   "metadata": {},
   "outputs": [
    {
     "name": "stdout",
     "output_type": "stream",
     "text": [
      "enter any string, words, letters, numbers, whatever: gjhgEAUOGIYUJjkyyurdido987678574^%$%^#^%&\n",
      "number of vowels: 9\n",
      "number of digits: 9\n",
      "number of other characters: 23\n"
     ]
    }
   ],
   "source": [
    "vowels=0\n",
    "digits=0\n",
    "other=0\n",
    "s=input('enter any string, words, letters, numbers, whatever: ')\n",
    "for i in s:\n",
    "    if i.isdigit():\n",
    "        digits+=1\n",
    "    elif i in 'aeiouAEIOU':\n",
    "        vowels+=1\n",
    "    else:\n",
    "        other+=1\n",
    "print('number of vowels: '+ str(vowels))\n",
    "print('number of digits: '+ str(digits))\n",
    "print('number of other characters: '+ str(other))        "
   ]
  },
  {
   "cell_type": "code",
   "execution_count": 11,
   "id": "679c4677",
   "metadata": {},
   "outputs": [
    {
     "name": "stdout",
     "output_type": "stream",
     "text": [
      "What is your name? Marcio\n",
      "\n",
      "M\n",
      "Ma\n",
      "Mar\n",
      "Marc\n",
      "Marci\n",
      "Marcio\n"
     ]
    }
   ],
   "source": [
    "# name triangle\n",
    "\n",
    "name=input('What is your name? ')\n",
    "print(str(len()))\n",
    "for i in range(len(name)+1):\n",
    "    print(name[0:i])\n",
    "    "
   ]
  },
  {
   "cell_type": "code",
   "execution_count": null,
   "id": "ef648e3e",
   "metadata": {},
   "outputs": [],
   "source": []
  },
  {
   "cell_type": "code",
   "execution_count": null,
   "id": "1b94bbb8",
   "metadata": {},
   "outputs": [],
   "source": []
  },
  {
   "cell_type": "code",
   "execution_count": null,
   "id": "aeb890fb",
   "metadata": {},
   "outputs": [],
   "source": []
  },
  {
   "cell_type": "code",
   "execution_count": null,
   "id": "1f0a007f",
   "metadata": {},
   "outputs": [],
   "source": []
  }
 ],
 "metadata": {
  "kernelspec": {
   "display_name": "Python 3 (ipykernel)",
   "language": "python",
   "name": "python3"
  },
  "language_info": {
   "codemirror_mode": {
    "name": "ipython",
    "version": 3
   },
   "file_extension": ".py",
   "mimetype": "text/x-python",
   "name": "python",
   "nbconvert_exporter": "python",
   "pygments_lexer": "ipython3",
   "version": "3.11.6"
  }
 },
 "nbformat": 4,
 "nbformat_minor": 5
}
