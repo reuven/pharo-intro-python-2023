{
 "cells": [
  {
   "cell_type": "markdown",
   "id": "a25055af-41c4-41ec-82c0-2524294d94d9",
   "metadata": {},
   "source": [
    "# Agenda\n",
    "\n",
    "- Slices\n",
    "- Strings are immutable\n",
    "- Methods"
   ]
  },
  {
   "cell_type": "markdown",
   "id": "ef9e3e69",
   "metadata": {},
   "source": [
    "# Strings\n",
    "\n",
    "We can create strings with quotes (either single or double). The strings can contain any characters we want from Unicode (which is a fancy way of saying: all languages + emjois + icons + flags). We can also have special characters, such as `\\n` (newline) or `\\t` (tab).  We write those with two characters (backslash + something), but it really takes up one character."
   ]
  },
  {
   "cell_type": "code",
   "execution_count": 1,
   "id": "b796fa20",
   "metadata": {},
   "outputs": [
    {
     "name": "stdout",
     "output_type": "stream",
     "text": [
      "abcd\n",
      "efgh\n"
     ]
    }
   ],
   "source": [
    "s = 'abcd\\nefgh'   # abcd + newline + efgh\n",
    "\n",
    "print(s)"
   ]
  },
  {
   "cell_type": "code",
   "execution_count": 2,
   "id": "3145b0e2",
   "metadata": {},
   "outputs": [
    {
     "data": {
      "text/plain": [
       "9"
      ]
     },
     "execution_count": 2,
     "metadata": {},
     "output_type": "execute_result"
    }
   ],
   "source": [
    "len(s)   # how many characters?"
   ]
  },
  {
   "cell_type": "code",
   "execution_count": 3,
   "id": "3a222b19",
   "metadata": {},
   "outputs": [
    {
     "data": {
      "text/plain": [
       "10"
      ]
     },
     "execution_count": 3,
     "metadata": {},
     "output_type": "execute_result"
    }
   ],
   "source": [
    "s = 'a  b  c  d'\n",
    "len(s)"
   ]
  },
  {
   "cell_type": "code",
   "execution_count": 4,
   "id": "cc02af1d",
   "metadata": {},
   "outputs": [],
   "source": [
    "# spaces are characters, too -- they take up space!"
   ]
  },
  {
   "cell_type": "code",
   "execution_count": 5,
   "id": "d6191c0c",
   "metadata": {},
   "outputs": [
    {
     "name": "stdout",
     "output_type": "stream",
     "text": [
      "Enter something: this is something\n"
     ]
    }
   ],
   "source": [
    "# when I get input from the user, I'm getting a string\n",
    "\n",
    "s = input('Enter something: ')\n",
    "\n"
   ]
  },
  {
   "cell_type": "code",
   "execution_count": 6,
   "id": "9e65c909",
   "metadata": {},
   "outputs": [
    {
     "data": {
      "text/plain": [
       "'i'"
      ]
     },
     "execution_count": 6,
     "metadata": {},
     "output_type": "execute_result"
    }
   ],
   "source": [
    "# I can retrieve a character from that string\n",
    "\n",
    "s[5]   # character #6, because character #0 is the first one"
   ]
  },
  {
   "cell_type": "code",
   "execution_count": 7,
   "id": "b7448187",
   "metadata": {},
   "outputs": [
    {
     "data": {
      "text/plain": [
       "1"
      ]
     },
     "execution_count": 7,
     "metadata": {},
     "output_type": "execute_result"
    }
   ],
   "source": [
    "s = '\\n'\n",
    "len(s)"
   ]
  },
  {
   "cell_type": "code",
   "execution_count": 8,
   "id": "7ff1045d",
   "metadata": {},
   "outputs": [
    {
     "name": "stdout",
     "output_type": "stream",
     "text": [
      "abcd\\nefgh\n"
     ]
    }
   ],
   "source": [
    "# if you want a literal backslash, then you need to escape it with ... a backslash\n",
    "\n",
    "s = 'abcd\\\\nefgh'\n",
    "print(s)\n"
   ]
  },
  {
   "cell_type": "code",
   "execution_count": 9,
   "id": "249ac016",
   "metadata": {},
   "outputs": [
    {
     "data": {
      "text/plain": [
       "10"
      ]
     },
     "execution_count": 9,
     "metadata": {},
     "output_type": "execute_result"
    }
   ],
   "source": [
    "len(s)"
   ]
  },
  {
   "cell_type": "code",
   "execution_count": 10,
   "id": "a378f586",
   "metadata": {},
   "outputs": [
    {
     "name": "stdout",
     "output_type": "stream",
     "text": [
      "c:\u0007bcd\\efgh\\ijkl.txt\n"
     ]
    }
   ],
   "source": [
    "# if you're using Windows, and if you want to work with files, then\n",
    "# you'll undoubtedly have all sorts of filenames and paths like this:\n",
    "\n",
    "filename = 'c:\\abcd\\efgh\\ijkl.txt'\n",
    "\n",
    "print(filename)"
   ]
  },
  {
   "cell_type": "code",
   "execution_count": 11,
   "id": "42cb23cb",
   "metadata": {},
   "outputs": [
    {
     "name": "stdout",
     "output_type": "stream",
     "text": [
      "c:\\abcd\\efgh\\ijkl.txt\n"
     ]
    }
   ],
   "source": [
    "# \\a is also a special character, the \"alarm bell\"\n",
    "# what can we do?\n",
    "\n",
    "# option 1: double the backslash, so that \\a becomes \\\\a then the \\ isn't special any more\n",
    "filename = 'c:\\\\abcd\\\\efgh\\\\ijkl.txt'\n",
    "\n",
    "# now we can be sure that we have the literal backslashes, and not special characters\n",
    "print(filename)\n"
   ]
  },
  {
   "cell_type": "code",
   "execution_count": 13,
   "id": "c48e021f",
   "metadata": {},
   "outputs": [
    {
     "name": "stdout",
     "output_type": "stream",
     "text": [
      "c:\\abcd\\efgh\\ijkl.txt\n"
     ]
    }
   ],
   "source": [
    "# why work so hard?\n",
    "# Python provides \"raw strings\" where all of the backslashes are doubled\n",
    "# this is perfect for working with Windows filenames\n",
    "\n",
    "# raw string has r before the opening quote\n",
    "\n",
    "filename = r'c:\\abcd\\efgh\\ijkl.txt'   # thanks to the opening r, all \\ become \\\\\n",
    "print(filename)\n"
   ]
  },
  {
   "cell_type": "code",
   "execution_count": 14,
   "id": "56c1560e",
   "metadata": {},
   "outputs": [
    {
     "name": "stdout",
     "output_type": "stream",
     "text": [
      "abcd\n",
      "efgh\n"
     ]
    }
   ],
   "source": [
    "# when we use print, we're asking Python to display things on the screen\n",
    "# this means that \\n becomes an actual newline, etc.\n",
    "\n",
    "s = 'abcd\\nefgh'\n",
    "print(s)"
   ]
  },
  {
   "cell_type": "code",
   "execution_count": 15,
   "id": "dc79ef19",
   "metadata": {},
   "outputs": [
    {
     "data": {
      "text/plain": [
       "'abcd\\nefgh'"
      ]
     },
     "execution_count": 15,
     "metadata": {},
     "output_type": "execute_result"
    }
   ],
   "source": [
    "# so what happens in Jupyter when I just type s?  What am I seeing?\n",
    "s"
   ]
  },
  {
   "cell_type": "code",
   "execution_count": 16,
   "id": "7fc3198e",
   "metadata": {},
   "outputs": [],
   "source": [
    "# that's known as the \"printed representation\" of the data\n",
    "# it's really meant for programmers to see precisely what the value is\n",
    "# the quotes show us that we have a string\n",
    "# the \\n shows us it's a newline character, without actually descending a line"
   ]
  },
  {
   "cell_type": "code",
   "execution_count": 17,
   "id": "a0eadd07",
   "metadata": {},
   "outputs": [],
   "source": [
    "# I can use an index to retrieve any character I want from a string\n",
    "# what if I want multiple characters?\n",
    "\n",
    "# that's where a \"slice\" comes in"
   ]
  },
  {
   "cell_type": "code",
   "execution_count": null,
   "id": "a3d63507",
   "metadata": {},
   "outputs": [],
   "source": [
    "s = 'abcdefghijklmnopqrstuvwxyz'\n",
    "\n",
    "s[10]  # this means: give me the character at index 10 (i.e., cha)"
   ]
  }
 ],
 "metadata": {
  "kernelspec": {
   "display_name": "Python 3 (ipykernel)",
   "language": "python",
   "name": "python3"
  },
  "language_info": {
   "codemirror_mode": {
    "name": "ipython",
    "version": 3
   },
   "file_extension": ".py",
   "mimetype": "text/x-python",
   "name": "python",
   "nbconvert_exporter": "python",
   "pygments_lexer": "ipython3",
   "version": "3.11.6"
  }
 },
 "nbformat": 4,
 "nbformat_minor": 5
}
