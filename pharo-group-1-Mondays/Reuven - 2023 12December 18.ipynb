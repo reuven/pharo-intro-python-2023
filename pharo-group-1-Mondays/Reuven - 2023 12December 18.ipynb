{
 "cells": [
  {
   "cell_type": "markdown",
   "id": "a25055af-41c4-41ec-82c0-2524294d94d9",
   "metadata": {},
   "source": [
    "# Agenda\n",
    "\n",
    "- Slices\n",
    "- Strings are immutable\n",
    "- Methods"
   ]
  },
  {
   "cell_type": "markdown",
   "id": "983be07d",
   "metadata": {},
   "source": [
    "# Strings\n",
    "\n",
    "We can create strings with quotes (either single or double). The strings can contain any characters we want from Unicode (which is a fancy way of saying: all languages + emjois + icons + flags). We can also have special characters, such as `\\n` (newline) or `\\t` (tab).  We write those with two characters (backslash + something), but it really takes up one character."
   ]
  },
  {
   "cell_type": "code",
   "execution_count": 1,
   "id": "a82d00ee",
   "metadata": {},
   "outputs": [
    {
     "name": "stdout",
     "output_type": "stream",
     "text": [
      "abcd\n",
      "efgh\n"
     ]
    }
   ],
   "source": [
    "s = 'abcd\\nefgh'   # abcd + newline + efgh\n",
    "\n",
    "print(s)"
   ]
  },
  {
   "cell_type": "code",
   "execution_count": 2,
   "id": "3c1fcd48",
   "metadata": {},
   "outputs": [
    {
     "data": {
      "text/plain": [
       "9"
      ]
     },
     "execution_count": 2,
     "metadata": {},
     "output_type": "execute_result"
    }
   ],
   "source": [
    "len(s)   # how many characters?"
   ]
  },
  {
   "cell_type": "code",
   "execution_count": 3,
   "id": "9bc71967",
   "metadata": {},
   "outputs": [
    {
     "data": {
      "text/plain": [
       "10"
      ]
     },
     "execution_count": 3,
     "metadata": {},
     "output_type": "execute_result"
    }
   ],
   "source": [
    "s = 'a  b  c  d'\n",
    "len(s)"
   ]
  },
  {
   "cell_type": "code",
   "execution_count": 4,
   "id": "568c2de1",
   "metadata": {},
   "outputs": [],
   "source": [
    "# spaces are characters, too -- they take up space!"
   ]
  },
  {
   "cell_type": "code",
   "execution_count": 5,
   "id": "78033c5a",
   "metadata": {},
   "outputs": [
    {
     "name": "stdout",
     "output_type": "stream",
     "text": [
      "Enter something: this is something\n"
     ]
    }
   ],
   "source": [
    "# when I get input from the user, I'm getting a string\n",
    "\n",
    "s = input('Enter something: ')\n",
    "\n"
   ]
  },
  {
   "cell_type": "code",
   "execution_count": 6,
   "id": "75b687bd",
   "metadata": {},
   "outputs": [
    {
     "data": {
      "text/plain": [
       "'i'"
      ]
     },
     "execution_count": 6,
     "metadata": {},
     "output_type": "execute_result"
    }
   ],
   "source": [
    "# I can retrieve a character from that string\n",
    "\n",
    "s[5]   # character #6, because character #0 is the first one"
   ]
  },
  {
   "cell_type": "code",
   "execution_count": 7,
   "id": "bb1baa04",
   "metadata": {},
   "outputs": [
    {
     "data": {
      "text/plain": [
       "1"
      ]
     },
     "execution_count": 7,
     "metadata": {},
     "output_type": "execute_result"
    }
   ],
   "source": [
    "s = '\\n'\n",
    "len(s)"
   ]
  },
  {
   "cell_type": "code",
   "execution_count": 8,
   "id": "5350de08",
   "metadata": {},
   "outputs": [
    {
     "name": "stdout",
     "output_type": "stream",
     "text": [
      "abcd\\nefgh\n"
     ]
    }
   ],
   "source": [
    "# if you want a literal backslash, then you need to escape it with ... a backslash\n",
    "\n",
    "s = 'abcd\\\\nefgh'\n",
    "print(s)\n"
   ]
  },
  {
   "cell_type": "code",
   "execution_count": 9,
   "id": "1987e574",
   "metadata": {},
   "outputs": [
    {
     "data": {
      "text/plain": [
       "10"
      ]
     },
     "execution_count": 9,
     "metadata": {},
     "output_type": "execute_result"
    }
   ],
   "source": [
    "len(s)"
   ]
  },
  {
   "cell_type": "code",
   "execution_count": 10,
   "id": "f8d26928",
   "metadata": {},
   "outputs": [
    {
     "name": "stdout",
     "output_type": "stream",
     "text": [
      "c:\u0007bcd\\efgh\\ijkl.txt\n"
     ]
    }
   ],
   "source": [
    "# if you're using Windows, and if you want to work with files, then\n",
    "# you'll undoubtedly have all sorts of filenames and paths like this:\n",
    "\n",
    "filename = 'c:\\abcd\\efgh\\ijkl.txt'\n",
    "\n",
    "print(filename)"
   ]
  },
  {
   "cell_type": "code",
   "execution_count": 11,
   "id": "618cb1ae",
   "metadata": {},
   "outputs": [
    {
     "name": "stdout",
     "output_type": "stream",
     "text": [
      "c:\\abcd\\efgh\\ijkl.txt\n"
     ]
    }
   ],
   "source": [
    "# \\a is also a special character, the \"alarm bell\"\n",
    "# what can we do?\n",
    "\n",
    "# option 1: double the backslash, so that \\a becomes \\\\a then the \\ isn't special any more\n",
    "filename = 'c:\\\\abcd\\\\efgh\\\\ijkl.txt'\n",
    "\n",
    "# now we can be sure that we have the literal backslashes, and not special characters\n",
    "print(filename)\n"
   ]
  },
  {
   "cell_type": "code",
   "execution_count": 13,
   "id": "e2eac934",
   "metadata": {},
   "outputs": [
    {
     "name": "stdout",
     "output_type": "stream",
     "text": [
      "c:\\abcd\\efgh\\ijkl.txt\n"
     ]
    }
   ],
   "source": [
    "# why work so hard?\n",
    "# Python provides \"raw strings\" where all of the backslashes are doubled\n",
    "# this is perfect for working with Windows filenames\n",
    "\n",
    "# raw string has r before the opening quote\n",
    "\n",
    "filename = r'c:\\abcd\\efgh\\ijkl.txt'   # thanks to the opening r, all \\ become \\\\\n",
    "print(filename)\n"
   ]
  },
  {
   "cell_type": "code",
   "execution_count": 14,
   "id": "2d62a869",
   "metadata": {},
   "outputs": [
    {
     "name": "stdout",
     "output_type": "stream",
     "text": [
      "abcd\n",
      "efgh\n"
     ]
    }
   ],
   "source": [
    "# when we use print, we're asking Python to display things on the screen\n",
    "# this means that \\n becomes an actual newline, etc.\n",
    "\n",
    "s = 'abcd\\nefgh'\n",
    "print(s)"
   ]
  },
  {
   "cell_type": "code",
   "execution_count": 15,
   "id": "3bc8871a",
   "metadata": {},
   "outputs": [
    {
     "data": {
      "text/plain": [
       "'abcd\\nefgh'"
      ]
     },
     "execution_count": 15,
     "metadata": {},
     "output_type": "execute_result"
    }
   ],
   "source": [
    "# so what happens in Jupyter when I just type s?  What am I seeing?\n",
    "s"
   ]
  },
  {
   "cell_type": "code",
   "execution_count": 16,
   "id": "1fa8c810",
   "metadata": {},
   "outputs": [],
   "source": [
    "# that's known as the \"printed representation\" of the data\n",
    "# it's really meant for programmers to see precisely what the value is\n",
    "# the quotes show us that we have a string\n",
    "# the \\n shows us it's a newline character, without actually descending a line"
   ]
  },
  {
   "cell_type": "code",
   "execution_count": 17,
   "id": "7b4d80f9",
   "metadata": {},
   "outputs": [],
   "source": [
    "# I can use an index to retrieve any character I want from a string\n",
    "# what if I want multiple characters?\n",
    "\n",
    "# that's where a \"slice\" comes in"
   ]
  },
  {
   "cell_type": "code",
   "execution_count": 18,
   "id": "95306e0e",
   "metadata": {},
   "outputs": [
    {
     "data": {
      "text/plain": [
       "'k'"
      ]
     },
     "execution_count": 18,
     "metadata": {},
     "output_type": "execute_result"
    }
   ],
   "source": [
    "s = 'abcdefghijklmnopqrstuvwxyz'\n",
    "\n",
    "s[10]  # this means: give me index 10 (i.e., character #11)"
   ]
  },
  {
   "cell_type": "code",
   "execution_count": 23,
   "id": "e79b2bec",
   "metadata": {},
   "outputs": [
    {
     "data": {
      "text/plain": [
       "'klmnopqrst'"
      ]
     },
     "execution_count": 23,
     "metadata": {},
     "output_type": "execute_result"
    }
   ],
   "source": [
    "s[10:20]  # this means: give me the slice starting at index 10, until (not including) index 20"
   ]
  },
  {
   "cell_type": "code",
   "execution_count": 21,
   "id": "306be632",
   "metadata": {},
   "outputs": [
    {
     "data": {
      "text/plain": [
       "'abcde'"
      ]
     },
     "execution_count": 21,
     "metadata": {},
     "output_type": "execute_result"
    }
   ],
   "source": [
    "# the syntax is always: [start:end+1]  \n",
    "# meaning, the end index is always 1 beyond what we'll see\n",
    "\n",
    "s[0:5] # start at index 0, go up to (and not including) index 5"
   ]
  },
  {
   "cell_type": "code",
   "execution_count": 22,
   "id": "afff831d",
   "metadata": {},
   "outputs": [
    {
     "ename": "IndexError",
     "evalue": "string index out of range",
     "output_type": "error",
     "traceback": [
      "\u001b[0;31m---------------------------------------------------------------------------\u001b[0m",
      "\u001b[0;31mIndexError\u001b[0m                                Traceback (most recent call last)",
      "Cell \u001b[0;32mIn[22], line 1\u001b[0m\n\u001b[0;32m----> 1\u001b[0m \u001b[43ms\u001b[49m\u001b[43m[\u001b[49m\u001b[38;5;241;43m100\u001b[39;49m\u001b[43m]\u001b[49m   \u001b[38;5;66;03m# this index is too big!\u001b[39;00m\n",
      "\u001b[0;31mIndexError\u001b[0m: string index out of range"
     ]
    }
   ],
   "source": [
    "s[100]   # this index is too big!"
   ]
  },
  {
   "cell_type": "code",
   "execution_count": 24,
   "id": "10035f93",
   "metadata": {},
   "outputs": [
    {
     "data": {
      "text/plain": [
       "'klmnopqrst'"
      ]
     },
     "execution_count": 24,
     "metadata": {},
     "output_type": "execute_result"
    }
   ],
   "source": [
    "# some slices\n",
    "\n",
    "s[10:20]   # start at index 10, up to and not including index 20"
   ]
  },
  {
   "cell_type": "code",
   "execution_count": 25,
   "id": "f157eed1",
   "metadata": {},
   "outputs": [
    {
     "data": {
      "text/plain": [
       "'abcdefghijklmnopqrst'"
      ]
     },
     "execution_count": 25,
     "metadata": {},
     "output_type": "execute_result"
    }
   ],
   "source": [
    "s[:20]    # start at the beginning (index 0), up to and not including index 20"
   ]
  },
  {
   "cell_type": "code",
   "execution_count": 26,
   "id": "0722d67c",
   "metadata": {},
   "outputs": [
    {
     "data": {
      "text/plain": [
       "'uvwxyz'"
      ]
     },
     "execution_count": 26,
     "metadata": {},
     "output_type": "execute_result"
    }
   ],
   "source": [
    "s[20:]   # start at index 20, go through the end of the string"
   ]
  },
  {
   "cell_type": "code",
   "execution_count": 27,
   "id": "88d8575d",
   "metadata": {},
   "outputs": [
    {
     "data": {
      "text/plain": [
       "'uvwxy'"
      ]
     },
     "execution_count": 27,
     "metadata": {},
     "output_type": "execute_result"
    }
   ],
   "source": [
    "# remember, if we were to specify index 25 (i.e., 'z'), it would up to and not including\n",
    "s[20:25]"
   ]
  },
  {
   "cell_type": "code",
   "execution_count": 28,
   "id": "e664df93",
   "metadata": {},
   "outputs": [
    {
     "data": {
      "text/plain": [
       "'uvwxyz'"
      ]
     },
     "execution_count": 28,
     "metadata": {},
     "output_type": "execute_result"
    }
   ],
   "source": [
    "# it turns out, though, that slices are forgiving if you go beyond the edge\n",
    "s[20:2000]"
   ]
  },
  {
   "cell_type": "code",
   "execution_count": 29,
   "id": "898d91db",
   "metadata": {},
   "outputs": [
    {
     "data": {
      "text/plain": [
       "True"
      ]
     },
     "execution_count": 29,
     "metadata": {},
     "output_type": "execute_result"
    }
   ],
   "source": [
    "# other string things\n",
    "# search in a string with \"in\" operator\n",
    "\n",
    "'j' in s"
   ]
  },
  {
   "cell_type": "code",
   "execution_count": 30,
   "id": "93e55046",
   "metadata": {},
   "outputs": [
    {
     "data": {
      "text/plain": [
       "False"
      ]
     },
     "execution_count": 30,
     "metadata": {},
     "output_type": "execute_result"
    }
   ],
   "source": [
    "'!' in s"
   ]
  },
  {
   "cell_type": "code",
   "execution_count": 31,
   "id": "043a014f",
   "metadata": {},
   "outputs": [
    {
     "data": {
      "text/plain": [
       "True"
      ]
     },
     "execution_count": 31,
     "metadata": {},
     "output_type": "execute_result"
    }
   ],
   "source": [
    "'fgh' in s  # this means: is the sequence 'fgh' in s?"
   ]
  },
  {
   "cell_type": "code",
   "execution_count": 32,
   "id": "22cbc092",
   "metadata": {},
   "outputs": [
    {
     "data": {
      "text/plain": [
       "False"
      ]
     },
     "execution_count": 32,
     "metadata": {},
     "output_type": "execute_result"
    }
   ],
   "source": [
    "'fhy' in s"
   ]
  },
  {
   "cell_type": "markdown",
   "id": "708e7b18",
   "metadata": {},
   "source": [
    "# Strings are immutable\n",
    "\n",
    "That is: You can never change a string once you have defined it.\n",
    "\n",
    "This *doesn't* mean that you're prevented from assigning a new string value to a variable that already referred to a string. Rather, it means that you can't change strings."
   ]
  },
  {
   "cell_type": "code",
   "execution_count": 33,
   "id": "dcc7c1a5",
   "metadata": {},
   "outputs": [
    {
     "ename": "TypeError",
     "evalue": "'str' object does not support item assignment",
     "output_type": "error",
     "traceback": [
      "\u001b[0;31m---------------------------------------------------------------------------\u001b[0m",
      "\u001b[0;31mTypeError\u001b[0m                                 Traceback (most recent call last)",
      "Cell \u001b[0;32mIn[33], line 1\u001b[0m\n\u001b[0;32m----> 1\u001b[0m \u001b[43ms\u001b[49m\u001b[43m[\u001b[49m\u001b[38;5;241;43m0\u001b[39;49m\u001b[43m]\u001b[49m \u001b[38;5;241m=\u001b[39m \u001b[38;5;124m'\u001b[39m\u001b[38;5;124m!\u001b[39m\u001b[38;5;124m'\u001b[39m     \u001b[38;5;66;03m# can I assign a new character to s at index 0?\u001b[39;00m\n",
      "\u001b[0;31mTypeError\u001b[0m: 'str' object does not support item assignment"
     ]
    }
   ],
   "source": [
    "s[0] = '!'     # can I assign a new character to s at index 0?"
   ]
  },
  {
   "cell_type": "code",
   "execution_count": 34,
   "id": "ad9a86fe",
   "metadata": {},
   "outputs": [],
   "source": [
    "s = 'abcde'\n",
    "s = s + 'fghij'   # isn't this modifying a string?  NO"
   ]
  },
  {
   "cell_type": "code",
   "execution_count": 35,
   "id": "80a85079",
   "metadata": {},
   "outputs": [
    {
     "data": {
      "text/plain": [
       "'abcdefghij'"
      ]
     },
     "execution_count": 35,
     "metadata": {},
     "output_type": "execute_result"
    }
   ],
   "source": [
    "s"
   ]
  },
  {
   "cell_type": "code",
   "execution_count": 36,
   "id": "888b5b5e",
   "metadata": {},
   "outputs": [
    {
     "data": {
      "text/plain": [
       "'abcdefghij!'"
      ]
     },
     "execution_count": 36,
     "metadata": {},
     "output_type": "execute_result"
    }
   ],
   "source": [
    "s += '!'   # doesn't this change the string?\n",
    "s"
   ]
  },
  {
   "cell_type": "markdown",
   "id": "ac914e6d",
   "metadata": {},
   "source": [
    "# Exercise: Pig Latin\n",
    "\n",
    "1. Ask the user to enter a word. (One word, all lowercase, no punctuation, no spaces.)\n",
    "2. Print the word's translation into Pig Latin.\n",
    "\n",
    "The rules of Pig Latin:\n",
    "- Check the first letter of a word.\n",
    "- If the first letter is a vowel (a, e, i, o, or u) then add `way` to the word.\n",
    "- In all other cases, move the first letter to the end, and then add `ay`.\n",
    "\n",
    "Some examples:\n",
    "- `table` -> `abletay`\n",
    "- `computer` -> `omputercay`\n",
    "- `elephant` -> `elephantway`\n",
    "- `papaya` -> `apayapay`\n"
   ]
  },
  {
   "cell_type": "code",
   "execution_count": 39,
   "id": "956864a2",
   "metadata": {},
   "outputs": [
    {
     "name": "stdout",
     "output_type": "stream",
     "text": [
      "Enter a word: computer\n"
     ]
    }
   ],
   "source": [
    "word = input('Enter a word: ')\n",
    "\n",
    "# does the word start with a vowel?\n",
    "if word[0] == 'a' or word[0] == 'e' or word[0] == 'i' or word[0] == 'o' or word[0] == 'u':\n",
    "    print(word + 'way')"
   ]
  },
  {
   "cell_type": "code",
   "execution_count": 44,
   "id": "7a05abde",
   "metadata": {},
   "outputs": [
    {
     "name": "stdout",
     "output_type": "stream",
     "text": [
      "Enter a word: computer\n",
      "computerway\n"
     ]
    }
   ],
   "source": [
    "# let's try this instead:\n",
    "\n",
    "word = input('Enter a word: ')\n",
    "\n",
    "# this is effectively\n",
    "# if word[0] == 'a' or True or True or True or True:    which is always True!\n",
    "if word[0] == 'a' or 'e' or 'i' or 'o' or 'u':\n",
    "    print(word + 'way')\n",
    "    \n",
    "# why does it think that every word starts with a vowel?"
   ]
  },
  {
   "cell_type": "code",
   "execution_count": 45,
   "id": "ae076151",
   "metadata": {},
   "outputs": [
    {
     "name": "stdout",
     "output_type": "stream",
     "text": [
      "Enter a word: computer\n",
      "omputercay\n"
     ]
    }
   ],
   "source": [
    "# there is an even better way\n",
    "\n",
    "word = input('Enter a word: ')\n",
    "\n",
    "if word[0] in 'aeiou':\n",
    "    print(word + 'way')  \n",
    "#     print(f'{word}way')\n",
    "\n",
    "# move the first letter to the end\n",
    "# add ay\n",
    "else:\n",
    "    print(word[1:] + word[0] + 'ay')    # all but the first + the first + ay\n",
    "#     print(f'{word[1:]}{word[0]}ay')"
   ]
  },
  {
   "cell_type": "code",
   "execution_count": null,
   "id": "932102ea",
   "metadata": {},
   "outputs": [],
   "source": []
  }
 ],
 "metadata": {
  "kernelspec": {
   "display_name": "Python 3 (ipykernel)",
   "language": "python",
   "name": "python3"
  },
  "language_info": {
   "codemirror_mode": {
    "name": "ipython",
    "version": 3
   },
   "file_extension": ".py",
   "mimetype": "text/x-python",
   "name": "python",
   "nbconvert_exporter": "python",
   "pygments_lexer": "ipython3",
   "version": "3.11.6"
  }
 },
 "nbformat": 4,
 "nbformat_minor": 5
}
