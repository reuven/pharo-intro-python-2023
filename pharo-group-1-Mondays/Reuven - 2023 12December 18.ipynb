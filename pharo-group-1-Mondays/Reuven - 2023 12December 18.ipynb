{
 "cells": [
  {
   "cell_type": "markdown",
   "id": "a25055af-41c4-41ec-82c0-2524294d94d9",
   "metadata": {},
   "source": [
    "# Agenda\n",
    "\n",
    "- Slices\n",
    "- Strings are immutable\n",
    "- Methods"
   ]
  },
  {
   "cell_type": "markdown",
   "id": "0dd42b5a",
   "metadata": {},
   "source": [
    "# Strings\n",
    "\n",
    "We can create strings with quotes (either single or double). The strings can contain any characters we want from Unicode (which is a fancy way of saying: all languages + emjois + icons + flags). We can also have special characters, such as `\\n` (newline) or `\\t` (tab).  We write those with two characters (backslash + something), but it really takes up one character."
   ]
  },
  {
   "cell_type": "code",
   "execution_count": 1,
   "id": "0ad6f28f",
   "metadata": {},
   "outputs": [
    {
     "name": "stdout",
     "output_type": "stream",
     "text": [
      "abcd\n",
      "efgh\n"
     ]
    }
   ],
   "source": [
    "s = 'abcd\\nefgh'   # abcd + newline + efgh\n",
    "\n",
    "print(s)"
   ]
  },
  {
   "cell_type": "code",
   "execution_count": 2,
   "id": "9d8212bb",
   "metadata": {},
   "outputs": [
    {
     "data": {
      "text/plain": [
       "9"
      ]
     },
     "execution_count": 2,
     "metadata": {},
     "output_type": "execute_result"
    }
   ],
   "source": [
    "len(s)   # how many characters?"
   ]
  },
  {
   "cell_type": "code",
   "execution_count": 3,
   "id": "e88bc134",
   "metadata": {},
   "outputs": [
    {
     "data": {
      "text/plain": [
       "10"
      ]
     },
     "execution_count": 3,
     "metadata": {},
     "output_type": "execute_result"
    }
   ],
   "source": [
    "s = 'a  b  c  d'\n",
    "len(s)"
   ]
  },
  {
   "cell_type": "code",
   "execution_count": 4,
   "id": "21a332f5",
   "metadata": {},
   "outputs": [],
   "source": [
    "# spaces are characters, too -- they take up space!"
   ]
  },
  {
   "cell_type": "code",
   "execution_count": 5,
   "id": "cd41f43d",
   "metadata": {},
   "outputs": [
    {
     "name": "stdout",
     "output_type": "stream",
     "text": [
      "Enter something: this is something\n"
     ]
    }
   ],
   "source": [
    "# when I get input from the user, I'm getting a string\n",
    "\n",
    "s = input('Enter something: ')\n",
    "\n"
   ]
  },
  {
   "cell_type": "code",
   "execution_count": 6,
   "id": "e2ef3472",
   "metadata": {},
   "outputs": [
    {
     "data": {
      "text/plain": [
       "'i'"
      ]
     },
     "execution_count": 6,
     "metadata": {},
     "output_type": "execute_result"
    }
   ],
   "source": [
    "# I can retrieve a character from that string\n",
    "\n",
    "s[5]   # character #6, because character #0 is the first one"
   ]
  },
  {
   "cell_type": "code",
   "execution_count": 7,
   "id": "4bfa719f",
   "metadata": {},
   "outputs": [
    {
     "data": {
      "text/plain": [
       "1"
      ]
     },
     "execution_count": 7,
     "metadata": {},
     "output_type": "execute_result"
    }
   ],
   "source": [
    "s = '\\n'\n",
    "len(s)"
   ]
  },
  {
   "cell_type": "code",
   "execution_count": 8,
   "id": "fc343bd9",
   "metadata": {},
   "outputs": [
    {
     "name": "stdout",
     "output_type": "stream",
     "text": [
      "abcd\\nefgh\n"
     ]
    }
   ],
   "source": [
    "# if you want a literal backslash, then you need to escape it with ... a backslash\n",
    "\n",
    "s = 'abcd\\\\nefgh'\n",
    "print(s)\n"
   ]
  },
  {
   "cell_type": "code",
   "execution_count": 9,
   "id": "9132cc40",
   "metadata": {},
   "outputs": [
    {
     "data": {
      "text/plain": [
       "10"
      ]
     },
     "execution_count": 9,
     "metadata": {},
     "output_type": "execute_result"
    }
   ],
   "source": [
    "len(s)"
   ]
  },
  {
   "cell_type": "code",
   "execution_count": 10,
   "id": "06926f42",
   "metadata": {},
   "outputs": [
    {
     "name": "stdout",
     "output_type": "stream",
     "text": [
      "c:\u0007bcd\\efgh\\ijkl.txt\n"
     ]
    }
   ],
   "source": [
    "# if you're using Windows, and if you want to work with files, then\n",
    "# you'll undoubtedly have all sorts of filenames and paths like this:\n",
    "\n",
    "filename = 'c:\\abcd\\efgh\\ijkl.txt'\n",
    "\n",
    "print(filename)"
   ]
  },
  {
   "cell_type": "code",
   "execution_count": 11,
   "id": "74463a85",
   "metadata": {},
   "outputs": [
    {
     "name": "stdout",
     "output_type": "stream",
     "text": [
      "c:\\abcd\\efgh\\ijkl.txt\n"
     ]
    }
   ],
   "source": [
    "# \\a is also a special character, the \"alarm bell\"\n",
    "# what can we do?\n",
    "\n",
    "# option 1: double the backslash, so that \\a becomes \\\\a then the \\ isn't special any more\n",
    "filename = 'c:\\\\abcd\\\\efgh\\\\ijkl.txt'\n",
    "\n",
    "# now we can be sure that we have the literal backslashes, and not special characters\n",
    "print(filename)\n"
   ]
  },
  {
   "cell_type": "code",
   "execution_count": 13,
   "id": "fd3beb36",
   "metadata": {},
   "outputs": [
    {
     "name": "stdout",
     "output_type": "stream",
     "text": [
      "c:\\abcd\\efgh\\ijkl.txt\n"
     ]
    }
   ],
   "source": [
    "# why work so hard?\n",
    "# Python provides \"raw strings\" where all of the backslashes are doubled\n",
    "# this is perfect for working with Windows filenames\n",
    "\n",
    "# raw string has r before the opening quote\n",
    "\n",
    "filename = r'c:\\abcd\\efgh\\ijkl.txt'   # thanks to the opening r, all \\ become \\\\\n",
    "print(filename)\n"
   ]
  },
  {
   "cell_type": "code",
   "execution_count": 14,
   "id": "831dc464",
   "metadata": {},
   "outputs": [
    {
     "name": "stdout",
     "output_type": "stream",
     "text": [
      "abcd\n",
      "efgh\n"
     ]
    }
   ],
   "source": [
    "# when we use print, we're asking Python to display things on the screen\n",
    "# this means that \\n becomes an actual newline, etc.\n",
    "\n",
    "s = 'abcd\\nefgh'\n",
    "print(s)"
   ]
  },
  {
   "cell_type": "code",
   "execution_count": 15,
   "id": "f5c13761",
   "metadata": {},
   "outputs": [
    {
     "data": {
      "text/plain": [
       "'abcd\\nefgh'"
      ]
     },
     "execution_count": 15,
     "metadata": {},
     "output_type": "execute_result"
    }
   ],
   "source": [
    "# so what happens in Jupyter when I just type s?  What am I seeing?\n",
    "s"
   ]
  },
  {
   "cell_type": "code",
   "execution_count": 16,
   "id": "699374be",
   "metadata": {},
   "outputs": [],
   "source": [
    "# that's known as the \"printed representation\" of the data\n",
    "# it's really meant for programmers to see precisely what the value is\n",
    "# the quotes show us that we have a string\n",
    "# the \\n shows us it's a newline character, without actually descending a line"
   ]
  },
  {
   "cell_type": "code",
   "execution_count": 17,
   "id": "baf09f2c",
   "metadata": {},
   "outputs": [],
   "source": [
    "# I can use an index to retrieve any character I want from a string\n",
    "# what if I want multiple characters?\n",
    "\n",
    "# that's where a \"slice\" comes in"
   ]
  },
  {
   "cell_type": "code",
   "execution_count": 18,
   "id": "4e9cd323",
   "metadata": {},
   "outputs": [
    {
     "data": {
      "text/plain": [
       "'k'"
      ]
     },
     "execution_count": 18,
     "metadata": {},
     "output_type": "execute_result"
    }
   ],
   "source": [
    "s = 'abcdefghijklmnopqrstuvwxyz'\n",
    "\n",
    "s[10]  # this means: give me the character at index 10 (i.e., character #11)"
   ]
  },
  {
   "cell_type": "code",
   "execution_count": 23,
   "id": "39edae1f",
   "metadata": {},
   "outputs": [
    {
     "data": {
      "text/plain": [
       "'klmnopqrst'"
      ]
     },
     "execution_count": 23,
     "metadata": {},
     "output_type": "execute_result"
    }
   ],
   "source": [
    "s[10:20]  # this means: give me the slice starting at index 10, until (not including) index 20"
   ]
  },
  {
   "cell_type": "code",
   "execution_count": 21,
   "id": "e7405f5c",
   "metadata": {},
   "outputs": [
    {
     "data": {
      "text/plain": [
       "'abcde'"
      ]
     },
     "execution_count": 21,
     "metadata": {},
     "output_type": "execute_result"
    }
   ],
   "source": [
    "# the syntax is always: [start:end+1]  \n",
    "# meaning, the end index is always 1 beyond what we'll see\n",
    "\n",
    "s[0:5] # start at index 0, go up to (and not including) index 5"
   ]
  },
  {
   "cell_type": "code",
   "execution_count": 22,
   "id": "2ad448d9",
   "metadata": {},
   "outputs": [
    {
     "ename": "IndexError",
     "evalue": "string index out of range",
     "output_type": "error",
     "traceback": [
      "\u001b[0;31m---------------------------------------------------------------------------\u001b[0m",
      "\u001b[0;31mIndexError\u001b[0m                                Traceback (most recent call last)",
      "Cell \u001b[0;32mIn[22], line 1\u001b[0m\n\u001b[0;32m----> 1\u001b[0m \u001b[43ms\u001b[49m\u001b[43m[\u001b[49m\u001b[38;5;241;43m100\u001b[39;49m\u001b[43m]\u001b[49m   \u001b[38;5;66;03m# this index is too big!\u001b[39;00m\n",
      "\u001b[0;31mIndexError\u001b[0m: string index out of range"
     ]
    }
   ],
   "source": [
    "s[100]   # this index is too big!"
   ]
  },
  {
   "cell_type": "code",
   "execution_count": null,
   "id": "06d8d657",
   "metadata": {},
   "outputs": [],
   "source": []
  }
 ],
 "metadata": {
  "kernelspec": {
   "display_name": "Python 3 (ipykernel)",
   "language": "python",
   "name": "python3"
  },
  "language_info": {
   "codemirror_mode": {
    "name": "ipython",
    "version": 3
   },
   "file_extension": ".py",
   "mimetype": "text/x-python",
   "name": "python",
   "nbconvert_exporter": "python",
   "pygments_lexer": "ipython3",
   "version": "3.11.6"
  }
 },
 "nbformat": 4,
 "nbformat_minor": 5
}
