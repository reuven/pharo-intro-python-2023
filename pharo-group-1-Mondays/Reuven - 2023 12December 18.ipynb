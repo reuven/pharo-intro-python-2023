{
 "cells": [
  {
   "cell_type": "markdown",
   "id": "a25055af-41c4-41ec-82c0-2524294d94d9",
   "metadata": {},
   "source": [
    "# Agenda\n",
    "\n",
    "- Slices\n",
    "- Strings are immutable\n",
    "- Methods"
   ]
  },
  {
   "cell_type": "markdown",
   "id": "a4c2e089",
   "metadata": {},
   "source": [
    "# Strings\n",
    "\n",
    "We can create strings with quotes (either single or double). The strings can contain any characters we want from Unicode (which is a fancy way of saying: all languages + emjois + icons + flags). We can also have special characters, such as `\\n` (newline) or `\\t` (tab).  We write those with two characters (backslash + something), but it really takes up one character."
   ]
  },
  {
   "cell_type": "code",
   "execution_count": 1,
   "id": "c85e6727",
   "metadata": {},
   "outputs": [
    {
     "name": "stdout",
     "output_type": "stream",
     "text": [
      "abcd\n",
      "efgh\n"
     ]
    }
   ],
   "source": [
    "s = 'abcd\\nefgh'   # abcd + newline + efgh\n",
    "\n",
    "print(s)"
   ]
  },
  {
   "cell_type": "code",
   "execution_count": 2,
   "id": "b603bce9",
   "metadata": {},
   "outputs": [
    {
     "data": {
      "text/plain": [
       "9"
      ]
     },
     "execution_count": 2,
     "metadata": {},
     "output_type": "execute_result"
    }
   ],
   "source": [
    "len(s)   # how many characters?"
   ]
  },
  {
   "cell_type": "code",
   "execution_count": 3,
   "id": "508c776e",
   "metadata": {},
   "outputs": [
    {
     "data": {
      "text/plain": [
       "10"
      ]
     },
     "execution_count": 3,
     "metadata": {},
     "output_type": "execute_result"
    }
   ],
   "source": [
    "s = 'a  b  c  d'\n",
    "len(s)"
   ]
  },
  {
   "cell_type": "code",
   "execution_count": 4,
   "id": "c8cbb846",
   "metadata": {},
   "outputs": [],
   "source": [
    "# spaces are characters, too -- they take up space!"
   ]
  },
  {
   "cell_type": "code",
   "execution_count": 5,
   "id": "91987deb",
   "metadata": {},
   "outputs": [
    {
     "name": "stdout",
     "output_type": "stream",
     "text": [
      "Enter something: this is something\n"
     ]
    }
   ],
   "source": [
    "# when I get input from the user, I'm getting a string\n",
    "\n",
    "s = input('Enter something: ')\n",
    "\n"
   ]
  },
  {
   "cell_type": "code",
   "execution_count": 6,
   "id": "5784d55f",
   "metadata": {},
   "outputs": [
    {
     "data": {
      "text/plain": [
       "'i'"
      ]
     },
     "execution_count": 6,
     "metadata": {},
     "output_type": "execute_result"
    }
   ],
   "source": [
    "# I can retrieve a character from that string\n",
    "\n",
    "s[5]   # character #6, because character #0 is the first one"
   ]
  },
  {
   "cell_type": "code",
   "execution_count": 7,
   "id": "0989ab2f",
   "metadata": {},
   "outputs": [
    {
     "data": {
      "text/plain": [
       "1"
      ]
     },
     "execution_count": 7,
     "metadata": {},
     "output_type": "execute_result"
    }
   ],
   "source": [
    "s = '\\n'\n",
    "len(s)"
   ]
  },
  {
   "cell_type": "code",
   "execution_count": 8,
   "id": "7d236e57",
   "metadata": {},
   "outputs": [
    {
     "name": "stdout",
     "output_type": "stream",
     "text": [
      "abcd\\nefgh\n"
     ]
    }
   ],
   "source": [
    "# if you want a literal backslash, then you need to escape it with ... a backslash\n",
    "\n",
    "s = 'abcd\\\\nefgh'\n",
    "print(s)\n"
   ]
  },
  {
   "cell_type": "code",
   "execution_count": 9,
   "id": "98c01d13",
   "metadata": {},
   "outputs": [
    {
     "data": {
      "text/plain": [
       "10"
      ]
     },
     "execution_count": 9,
     "metadata": {},
     "output_type": "execute_result"
    }
   ],
   "source": [
    "len(s)"
   ]
  },
  {
   "cell_type": "code",
   "execution_count": 10,
   "id": "2d988d03",
   "metadata": {},
   "outputs": [
    {
     "name": "stdout",
     "output_type": "stream",
     "text": [
      "c:\u0007bcd\\efgh\\ijkl.txt\n"
     ]
    }
   ],
   "source": [
    "# if you're using Windows, and if you want to work with files, then\n",
    "# you'll undoubtedly have all sorts of filenames and paths like this:\n",
    "\n",
    "filename = 'c:\\abcd\\efgh\\ijkl.txt'\n",
    "\n",
    "print(filename)"
   ]
  },
  {
   "cell_type": "code",
   "execution_count": 11,
   "id": "40e5749f",
   "metadata": {},
   "outputs": [
    {
     "name": "stdout",
     "output_type": "stream",
     "text": [
      "c:\\abcd\\efgh\\ijkl.txt\n"
     ]
    }
   ],
   "source": [
    "# \\a is also a special character, the \"alarm bell\"\n",
    "# what can we do?\n",
    "\n",
    "# option 1: double the backslash, so that \\a becomes \\\\a then the \\ isn't special any more\n",
    "filename = 'c:\\\\abcd\\\\efgh\\\\ijkl.txt'\n",
    "\n",
    "# now we can be sure that we have the literal backslashes, and not special characters\n",
    "print(filename)\n"
   ]
  },
  {
   "cell_type": "code",
   "execution_count": 13,
   "id": "e6b4e69d",
   "metadata": {},
   "outputs": [
    {
     "name": "stdout",
     "output_type": "stream",
     "text": [
      "c:\\abcd\\efgh\\ijkl.txt\n"
     ]
    }
   ],
   "source": [
    "# why work so hard?\n",
    "# Python provides \"raw strings\" where all of the backslashes are doubled\n",
    "# this is perfect for working with Windows filenames\n",
    "\n",
    "# raw string has r before the opening quote\n",
    "\n",
    "filename = r'c:\\abcd\\efgh\\ijkl.txt'   # thanks to the opening r, all \\ become \\\\\n",
    "print(filename)\n"
   ]
  },
  {
   "cell_type": "code",
   "execution_count": 14,
   "id": "9e60f7f1",
   "metadata": {},
   "outputs": [
    {
     "name": "stdout",
     "output_type": "stream",
     "text": [
      "abcd\n",
      "efgh\n"
     ]
    }
   ],
   "source": [
    "# when we use print, we're asking Python to display things on the screen\n",
    "# this means that \\n becomes an actual newline, etc.\n",
    "\n",
    "s = 'abcd\\nefgh'\n",
    "print(s)"
   ]
  },
  {
   "cell_type": "code",
   "execution_count": 15,
   "id": "d7a48bb7",
   "metadata": {},
   "outputs": [
    {
     "data": {
      "text/plain": [
       "'abcd\\nefgh'"
      ]
     },
     "execution_count": 15,
     "metadata": {},
     "output_type": "execute_result"
    }
   ],
   "source": [
    "# so what happens in Jupyter when I just type s?  What am I seeing?\n",
    "s"
   ]
  },
  {
   "cell_type": "code",
   "execution_count": 16,
   "id": "cecb8ab2",
   "metadata": {},
   "outputs": [],
   "source": [
    "# that's known as the \"printed representation\" of the data\n",
    "# it's really meant for programmers to see precisely what the value is\n",
    "# the quotes show us that we have a string\n",
    "# the \\n shows us it's a newline character, without actually descending a line"
   ]
  },
  {
   "cell_type": "code",
   "execution_count": 17,
   "id": "c0df98d8",
   "metadata": {},
   "outputs": [],
   "source": [
    "# I can use an index to retrieve any character I want from a string\n",
    "# what if I want multiple characters?\n",
    "\n",
    "# that's where a \"slice\" comes in"
   ]
  },
  {
   "cell_type": "code",
   "execution_count": 18,
   "id": "3720ca75",
   "metadata": {},
   "outputs": [
    {
     "data": {
      "text/plain": [
       "'k'"
      ]
     },
     "execution_count": 18,
     "metadata": {},
     "output_type": "execute_result"
    }
   ],
   "source": [
    "s = 'abcdefghijklmnopqrstuvwxyz'\n",
    "\n",
    "s[10]  # this means: give me index 10 (i.e., character #11)"
   ]
  },
  {
   "cell_type": "code",
   "execution_count": 23,
   "id": "e08a8c7d",
   "metadata": {},
   "outputs": [
    {
     "data": {
      "text/plain": [
       "'klmnopqrst'"
      ]
     },
     "execution_count": 23,
     "metadata": {},
     "output_type": "execute_result"
    }
   ],
   "source": [
    "s[10:20]  # this means: give me the slice starting at index 10, until (not including) index 20"
   ]
  },
  {
   "cell_type": "code",
   "execution_count": 21,
   "id": "f7e80ee2",
   "metadata": {},
   "outputs": [
    {
     "data": {
      "text/plain": [
       "'abcde'"
      ]
     },
     "execution_count": 21,
     "metadata": {},
     "output_type": "execute_result"
    }
   ],
   "source": [
    "# the syntax is always: [start:end+1]  \n",
    "# meaning, the end index is always 1 beyond what we'll see\n",
    "\n",
    "s[0:5] # start at index 0, go up to (and not including) index 5"
   ]
  },
  {
   "cell_type": "code",
   "execution_count": 22,
   "id": "5d69e035",
   "metadata": {},
   "outputs": [
    {
     "ename": "IndexError",
     "evalue": "string index out of range",
     "output_type": "error",
     "traceback": [
      "\u001b[0;31m---------------------------------------------------------------------------\u001b[0m",
      "\u001b[0;31mIndexError\u001b[0m                                Traceback (most recent call last)",
      "Cell \u001b[0;32mIn[22], line 1\u001b[0m\n\u001b[0;32m----> 1\u001b[0m \u001b[43ms\u001b[49m\u001b[43m[\u001b[49m\u001b[38;5;241;43m100\u001b[39;49m\u001b[43m]\u001b[49m   \u001b[38;5;66;03m# this index is too big!\u001b[39;00m\n",
      "\u001b[0;31mIndexError\u001b[0m: string index out of range"
     ]
    }
   ],
   "source": [
    "s[100]   # this index is too big!"
   ]
  },
  {
   "cell_type": "code",
   "execution_count": 24,
   "id": "d837059c",
   "metadata": {},
   "outputs": [
    {
     "data": {
      "text/plain": [
       "'klmnopqrst'"
      ]
     },
     "execution_count": 24,
     "metadata": {},
     "output_type": "execute_result"
    }
   ],
   "source": [
    "# some slices\n",
    "\n",
    "s[10:20]   # start at index 10, up to and not including index 20"
   ]
  },
  {
   "cell_type": "code",
   "execution_count": 25,
   "id": "7176cd8c",
   "metadata": {},
   "outputs": [
    {
     "data": {
      "text/plain": [
       "'abcdefghijklmnopqrst'"
      ]
     },
     "execution_count": 25,
     "metadata": {},
     "output_type": "execute_result"
    }
   ],
   "source": [
    "s[:20]    # start at the beginning (index 0), up to and not including index 20"
   ]
  },
  {
   "cell_type": "code",
   "execution_count": 26,
   "id": "2431cacf",
   "metadata": {},
   "outputs": [
    {
     "data": {
      "text/plain": [
       "'uvwxyz'"
      ]
     },
     "execution_count": 26,
     "metadata": {},
     "output_type": "execute_result"
    }
   ],
   "source": [
    "s[20:]   # start at index 20, go through the end of the string"
   ]
  },
  {
   "cell_type": "code",
   "execution_count": 27,
   "id": "e8d417ba",
   "metadata": {},
   "outputs": [
    {
     "data": {
      "text/plain": [
       "'uvwxy'"
      ]
     },
     "execution_count": 27,
     "metadata": {},
     "output_type": "execute_result"
    }
   ],
   "source": [
    "# remember, if we were to specify index 25 (i.e., 'z'), it would up to and not including\n",
    "s[20:25]"
   ]
  },
  {
   "cell_type": "code",
   "execution_count": 28,
   "id": "c1b08506",
   "metadata": {},
   "outputs": [
    {
     "data": {
      "text/plain": [
       "'uvwxyz'"
      ]
     },
     "execution_count": 28,
     "metadata": {},
     "output_type": "execute_result"
    }
   ],
   "source": [
    "# it turns out, though, that slices are forgiving if you go beyond the edge\n",
    "s[20:2000]"
   ]
  },
  {
   "cell_type": "code",
   "execution_count": 29,
   "id": "447929d5",
   "metadata": {},
   "outputs": [
    {
     "data": {
      "text/plain": [
       "True"
      ]
     },
     "execution_count": 29,
     "metadata": {},
     "output_type": "execute_result"
    }
   ],
   "source": [
    "# other string things\n",
    "# search in a string with \"in\" operator\n",
    "\n",
    "'j' in s"
   ]
  },
  {
   "cell_type": "code",
   "execution_count": 30,
   "id": "4b0e4d4f",
   "metadata": {},
   "outputs": [
    {
     "data": {
      "text/plain": [
       "False"
      ]
     },
     "execution_count": 30,
     "metadata": {},
     "output_type": "execute_result"
    }
   ],
   "source": [
    "'!' in s"
   ]
  },
  {
   "cell_type": "code",
   "execution_count": 31,
   "id": "87d7550e",
   "metadata": {},
   "outputs": [
    {
     "data": {
      "text/plain": [
       "True"
      ]
     },
     "execution_count": 31,
     "metadata": {},
     "output_type": "execute_result"
    }
   ],
   "source": [
    "'fgh' in s  # this means: is the sequence 'fgh' in s?"
   ]
  },
  {
   "cell_type": "code",
   "execution_count": 32,
   "id": "b4be338f",
   "metadata": {},
   "outputs": [
    {
     "data": {
      "text/plain": [
       "False"
      ]
     },
     "execution_count": 32,
     "metadata": {},
     "output_type": "execute_result"
    }
   ],
   "source": [
    "'fhy' in s"
   ]
  },
  {
   "cell_type": "markdown",
   "id": "91603852",
   "metadata": {},
   "source": [
    "# Strings are immutable\n",
    "\n",
    "That is: You can never change a string once you have defined it.\n",
    "\n",
    "This *doesn't* mean that you're prevented from assigning a new string value to a variable that already referred to a string. Rather, it means that you can't change strings."
   ]
  },
  {
   "cell_type": "code",
   "execution_count": 33,
   "id": "dce49b60",
   "metadata": {},
   "outputs": [
    {
     "ename": "TypeError",
     "evalue": "'str' object does not support item assignment",
     "output_type": "error",
     "traceback": [
      "\u001b[0;31m---------------------------------------------------------------------------\u001b[0m",
      "\u001b[0;31mTypeError\u001b[0m                                 Traceback (most recent call last)",
      "Cell \u001b[0;32mIn[33], line 1\u001b[0m\n\u001b[0;32m----> 1\u001b[0m \u001b[43ms\u001b[49m\u001b[43m[\u001b[49m\u001b[38;5;241;43m0\u001b[39;49m\u001b[43m]\u001b[49m \u001b[38;5;241m=\u001b[39m \u001b[38;5;124m'\u001b[39m\u001b[38;5;124m!\u001b[39m\u001b[38;5;124m'\u001b[39m     \u001b[38;5;66;03m# can I assign a new character to s at index 0?\u001b[39;00m\n",
      "\u001b[0;31mTypeError\u001b[0m: 'str' object does not support item assignment"
     ]
    }
   ],
   "source": [
    "s[0] = '!'     # can I assign a new character to s at index 0?"
   ]
  },
  {
   "cell_type": "code",
   "execution_count": 34,
   "id": "a53efb29",
   "metadata": {},
   "outputs": [],
   "source": [
    "s = 'abcde'\n",
    "s = s + 'fghij'   # isn't this modifying a string?  NO"
   ]
  },
  {
   "cell_type": "code",
   "execution_count": 35,
   "id": "ebd743d7",
   "metadata": {},
   "outputs": [
    {
     "data": {
      "text/plain": [
       "'abcdefghij'"
      ]
     },
     "execution_count": 35,
     "metadata": {},
     "output_type": "execute_result"
    }
   ],
   "source": [
    "s"
   ]
  },
  {
   "cell_type": "code",
   "execution_count": 36,
   "id": "b42f0747",
   "metadata": {},
   "outputs": [
    {
     "data": {
      "text/plain": [
       "'abcdefghij!'"
      ]
     },
     "execution_count": 36,
     "metadata": {},
     "output_type": "execute_result"
    }
   ],
   "source": [
    "s += '!'   # doesn't this change the string?\n",
    "s"
   ]
  },
  {
   "cell_type": "markdown",
   "id": "3831f396",
   "metadata": {},
   "source": [
    "# Exercise: Pig Latin\n",
    "\n",
    "1. Ask the user to enter a word. (One word, all lowercase, no punctuation, no spaces.)\n",
    "2. Print the word's translation into Pig Latin.\n",
    "\n",
    "The rules of Pig Latin:\n",
    "- Check the first letter of a word.\n",
    "- If the first letter is a vowel (a, e, i, o, or u) then add `way` to the word.\n",
    "- In all other cases, move the first letter to the end, and then add `ay`.\n",
    "\n",
    "Some examples:\n",
    "- `table` -> `abletay`\n",
    "- `computer` -> `omputercay`\n",
    "- `elephant` -> `elephantway`\n",
    "- `papaya` -> `apayapay`\n"
   ]
  },
  {
   "cell_type": "code",
   "execution_count": 39,
   "id": "e0be6cc3",
   "metadata": {},
   "outputs": [
    {
     "name": "stdout",
     "output_type": "stream",
     "text": [
      "Enter a word: computer\n"
     ]
    }
   ],
   "source": [
    "word = input('Enter a word: ')\n",
    "\n",
    "# does the word start with a vowel?\n",
    "if word[0] == 'a' or word[0] == 'e' or word[0] == 'i' or word[0] == 'o' or word[0] == 'u':\n",
    "    print(word + 'way')"
   ]
  },
  {
   "cell_type": "code",
   "execution_count": 44,
   "id": "8fb6f86d",
   "metadata": {},
   "outputs": [
    {
     "name": "stdout",
     "output_type": "stream",
     "text": [
      "Enter a word: computer\n",
      "computerway\n"
     ]
    }
   ],
   "source": [
    "# let's try this instead:\n",
    "\n",
    "word = input('Enter a word: ')\n",
    "\n",
    "# this is effectively\n",
    "# if word[0] == 'a' or True or True or True or True:    which is always True!\n",
    "if word[0] == 'a' or 'e' or 'i' or 'o' or 'u':\n",
    "    print(word + 'way')\n",
    "    \n",
    "# why does it think that every word starts with a vowel?"
   ]
  },
  {
   "cell_type": "code",
   "execution_count": 45,
   "id": "e3abdcf6",
   "metadata": {},
   "outputs": [
    {
     "name": "stdout",
     "output_type": "stream",
     "text": [
      "Enter a word: computer\n",
      "omputercay\n"
     ]
    }
   ],
   "source": [
    "# there is an even better way\n",
    "\n",
    "word = input('Enter a word: ')\n",
    "\n",
    "if word[0] in 'aeiou':\n",
    "    print(word + 'way')  \n",
    "#     print(f'{word}way')\n",
    "\n",
    "# move the first letter to the end\n",
    "# add ay\n",
    "else:\n",
    "    print(word[1:] + word[0] + 'ay')    # all but the first + the first + ay\n",
    "#     print(f'{word[1:]}{word[0]}ay')"
   ]
  },
  {
   "cell_type": "markdown",
   "id": "7d8adf39",
   "metadata": {},
   "source": [
    "# Methods\n",
    "\n",
    "So far, all of the verbs we've seen in Python have been functions:\n",
    "\n",
    "- `len`\n",
    "- `print`\n",
    "- `input`\n",
    "- `int`\n",
    "- `str`\n",
    "\n",
    "One of the problems with these functions is that you can accidentally call a function with an inappropriate argument. For example, `len(6)`, which will give us an error. There isn't any obvious connection between a function and the arguments it can take. You can look in the documentation, but the function itself won't tell you.\n",
    "\n",
    "That's where *methods* come in. They are also verbs, but they are verbs connected to the data types. So it's much more obvious how they're supposed to be used.\n",
    "\n",
    "They have a different syntax:\n",
    "\n",
    "    FUNCTION(DATA)   # this is how we call a function\n",
    "    DATA.METHOD()    # this is how we call a method\n",
    "    \n",
    "You can't call a method without indicating what data structure it's being run on. Which means that you might get an error saying that the method doesn't exist, but it won't tell you that the value is incorrect.\n",
    "\n",
    "There are many *many* more methods than functions in Python.   \n",
    "    \n",
    "This comes from the world of object-oriented programming, which some people have called \"noun-oriented programming.\"  Data first, and verbs second -- as we see with methods.    "
   ]
  },
  {
   "cell_type": "code",
   "execution_count": 47,
   "id": "c17e9f9d",
   "metadata": {},
   "outputs": [
    {
     "name": "stdout",
     "output_type": "stream",
     "text": [
      "Enter your name:             Reuven           \n",
      "Hello,             Reuven           !\n"
     ]
    }
   ],
   "source": [
    "# let's say that I ask the user to enter their name, and then print a greeting\n",
    "\n",
    "name = input('Enter your name: ')\n",
    "\n",
    "print(f'Hello, {name}!')"
   ]
  },
  {
   "cell_type": "code",
   "execution_count": 48,
   "id": "e280da5c",
   "metadata": {},
   "outputs": [
    {
     "data": {
      "text/plain": [
       "'            Reuven           '"
      ]
     },
     "execution_count": 48,
     "metadata": {},
     "output_type": "execute_result"
    }
   ],
   "source": [
    "name"
   ]
  },
  {
   "cell_type": "code",
   "execution_count": 50,
   "id": "d4d43940",
   "metadata": {},
   "outputs": [
    {
     "data": {
      "text/plain": [
       "'Reuven'"
      ]
     },
     "execution_count": 50,
     "metadata": {},
     "output_type": "execute_result"
    }
   ],
   "source": [
    "# what I'd like is to remove the whitespace from the start and end of the string\n",
    "# we can do this with the str.strip method -- meaning, we can call 'strip' on a string\n",
    "\n",
    "name.strip()   # this returns a new string, one based on name, but without any leading/trailing spaces"
   ]
  },
  {
   "cell_type": "code",
   "execution_count": 51,
   "id": "1f30ed37",
   "metadata": {},
   "outputs": [
    {
     "data": {
      "text/plain": [
       "'            Reuven           '"
      ]
     },
     "execution_count": 51,
     "metadata": {},
     "output_type": "execute_result"
    }
   ],
   "source": [
    "# have I changed name? No, strings are immutable\n",
    "name"
   ]
  },
  {
   "cell_type": "code",
   "execution_count": 52,
   "id": "b02ed2aa",
   "metadata": {},
   "outputs": [
    {
     "data": {
      "text/plain": [
       "'Reuven'"
      ]
     },
     "execution_count": 52,
     "metadata": {},
     "output_type": "execute_result"
    }
   ],
   "source": [
    "# how can I sort of change name? By assigning back to it:\n",
    "name = name.strip()\n",
    "name"
   ]
  },
  {
   "cell_type": "code",
   "execution_count": 53,
   "id": "8a83fcae",
   "metadata": {},
   "outputs": [
    {
     "ename": "SyntaxError",
     "evalue": "invalid syntax (351532555.py, line 5)",
     "output_type": "error",
     "traceback": [
      "\u001b[0;36m  Cell \u001b[0;32mIn[53], line 5\u001b[0;36m\u001b[0m\n\u001b[0;31m    name.\u001b[0m\n\u001b[0m           ^\u001b[0m\n\u001b[0;31mSyntaxError\u001b[0m\u001b[0;31m:\u001b[0m invalid syntax\n"
     ]
    }
   ],
   "source": [
    "# strings have tons of methods\n",
    "# you can see them in many editors, including Jupyter, by typing a string name, then . then tab\n",
    "# or something similar\n",
    "\n",
    "name.  "
   ]
  },
  {
   "cell_type": "code",
   "execution_count": 54,
   "id": "dd6776a8",
   "metadata": {},
   "outputs": [
    {
     "data": {
      "text/plain": [
       "'abcd efgh'"
      ]
     },
     "execution_count": 54,
     "metadata": {},
     "output_type": "execute_result"
    }
   ],
   "source": [
    "s = 'aBcD eFgH'\n",
    "s.lower()   # this returns a new string, based on s, with only lowercase letters"
   ]
  },
  {
   "cell_type": "code",
   "execution_count": 55,
   "id": "6382ea2e",
   "metadata": {},
   "outputs": [
    {
     "data": {
      "text/plain": [
       "'ABCD EFGH'"
      ]
     },
     "execution_count": 55,
     "metadata": {},
     "output_type": "execute_result"
    }
   ],
   "source": [
    "s.upper()   # this returns a new string, based on s, with only capital letters"
   ]
  },
  {
   "cell_type": "code",
   "execution_count": 56,
   "id": "af5cdad7",
   "metadata": {},
   "outputs": [
    {
     "data": {
      "text/plain": [
       "'Abcd efgh'"
      ]
     },
     "execution_count": 56,
     "metadata": {},
     "output_type": "execute_result"
    }
   ],
   "source": [
    "s.capitalize()   # this returns a new string, based on s, with the first letter capitalized and the rest lowercase\n"
   ]
  },
  {
   "cell_type": "code",
   "execution_count": 57,
   "id": "2a754209",
   "metadata": {},
   "outputs": [
    {
     "data": {
      "text/plain": [
       "'Abcd Efgh'"
      ]
     },
     "execution_count": 57,
     "metadata": {},
     "output_type": "execute_result"
    }
   ],
   "source": [
    "s.title()  # capitalize the start of every word"
   ]
  },
  {
   "cell_type": "code",
   "execution_count": 58,
   "id": "b54793ff",
   "metadata": {},
   "outputs": [
    {
     "data": {
      "text/plain": [
       "'AbCd EfGh'"
      ]
     },
     "execution_count": 58,
     "metadata": {},
     "output_type": "execute_result"
    }
   ],
   "source": [
    "s.swapcase()  # this is the most useless method in all of Python"
   ]
  },
  {
   "cell_type": "code",
   "execution_count": 59,
   "id": "5bc62f49",
   "metadata": {},
   "outputs": [
    {
     "data": {
      "text/plain": [
       "'reuven'"
      ]
     },
     "execution_count": 59,
     "metadata": {},
     "output_type": "execute_result"
    }
   ],
   "source": [
    "# is method chaining a good idea?\n",
    "\n",
    "name = '     Reuven     '\n",
    "name.strip().lower()     "
   ]
  },
  {
   "cell_type": "code",
   "execution_count": 60,
   "id": "b57c6f9a",
   "metadata": {},
   "outputs": [],
   "source": [
    "# or is it better to do it in parts?\n",
    "name = name.strip()\n",
    "name = name.lower()\n",
    "\n",
    "# the answer: it depends... with strings, this is totally fine"
   ]
  },
  {
   "cell_type": "code",
   "execution_count": 61,
   "id": "f5403386",
   "metadata": {},
   "outputs": [
    {
     "data": {
      "text/plain": [
       "'cd'"
      ]
     },
     "execution_count": 61,
     "metadata": {},
     "output_type": "execute_result"
    }
   ],
   "source": [
    "# Python requires one command per line, normally\n",
    "# you can get away with more if you have open parentheses\n",
    "# a sneaky trick is to open parentheses just to split things up over several lines\n",
    "\n",
    "s = '  aBcD eFgH   '\n",
    "\n",
    "s.strip().lower()[2:4]"
   ]
  },
  {
   "cell_type": "code",
   "execution_count": 62,
   "id": "2ff2c3a3",
   "metadata": {},
   "outputs": [
    {
     "data": {
      "text/plain": [
       "'cd'"
      ]
     },
     "execution_count": 62,
     "metadata": {},
     "output_type": "execute_result"
    }
   ],
   "source": [
    "# I can also do this, which is increasingly common and popular among data scientists:\n",
    "\n",
    "(\n",
    "    s\n",
    "    .strip()\n",
    "    .lower()\n",
    "    [2:4]\n",
    ")"
   ]
  },
  {
   "cell_type": "code",
   "execution_count": 63,
   "id": "5001a2f1",
   "metadata": {},
   "outputs": [
    {
     "name": "stdout",
     "output_type": "stream",
     "text": [
      "Enter a number: 3\n"
     ]
    },
    {
     "ename": "TypeError",
     "evalue": "can only concatenate str (not \"int\") to str",
     "output_type": "error",
     "traceback": [
      "\u001b[0;31m---------------------------------------------------------------------------\u001b[0m",
      "\u001b[0;31mTypeError\u001b[0m                                 Traceback (most recent call last)",
      "Cell \u001b[0;32mIn[63], line 5\u001b[0m\n\u001b[1;32m      1\u001b[0m \u001b[38;5;66;03m# we've seen something like this before:\u001b[39;00m\n\u001b[1;32m      3\u001b[0m x \u001b[38;5;241m=\u001b[39m \u001b[38;5;28minput\u001b[39m(\u001b[38;5;124m'\u001b[39m\u001b[38;5;124mEnter a number: \u001b[39m\u001b[38;5;124m'\u001b[39m)\n\u001b[0;32m----> 5\u001b[0m \u001b[38;5;28mprint\u001b[39m(\u001b[43mx\u001b[49m\u001b[43m \u001b[49m\u001b[38;5;241;43m+\u001b[39;49m\u001b[43m \u001b[49m\u001b[38;5;241;43m5\u001b[39;49m)\n",
      "\u001b[0;31mTypeError\u001b[0m: can only concatenate str (not \"int\") to str"
     ]
    }
   ],
   "source": [
    "# we've seen something like this before:\n",
    "\n",
    "x = input('Enter a number: ')\n",
    "\n",
    "print(x + 5)\n"
   ]
  },
  {
   "cell_type": "code",
   "execution_count": 65,
   "id": "1886b356",
   "metadata": {},
   "outputs": [
    {
     "name": "stdout",
     "output_type": "stream",
     "text": [
      "Enter a number: hello\n"
     ]
    },
    {
     "ename": "ValueError",
     "evalue": "invalid literal for int() with base 10: 'hello'",
     "output_type": "error",
     "traceback": [
      "\u001b[0;31m---------------------------------------------------------------------------\u001b[0m",
      "\u001b[0;31mValueError\u001b[0m                                Traceback (most recent call last)",
      "Cell \u001b[0;32mIn[65], line 5\u001b[0m\n\u001b[1;32m      1\u001b[0m \u001b[38;5;66;03m# we've seen something like this before:\u001b[39;00m\n\u001b[1;32m      3\u001b[0m x \u001b[38;5;241m=\u001b[39m \u001b[38;5;28minput\u001b[39m(\u001b[38;5;124m'\u001b[39m\u001b[38;5;124mEnter a number: \u001b[39m\u001b[38;5;124m'\u001b[39m)\n\u001b[0;32m----> 5\u001b[0m n \u001b[38;5;241m=\u001b[39m \u001b[38;5;28;43mint\u001b[39;49m\u001b[43m(\u001b[49m\u001b[43mx\u001b[49m\u001b[43m)\u001b[49m    \u001b[38;5;66;03m# get an integer based on x\u001b[39;00m\n\u001b[1;32m      6\u001b[0m \u001b[38;5;28mprint\u001b[39m(n \u001b[38;5;241m+\u001b[39m \u001b[38;5;241m5\u001b[39m)  \u001b[38;5;66;03m# add that int + 5\u001b[39;00m\n",
      "\u001b[0;31mValueError\u001b[0m: invalid literal for int() with base 10: 'hello'"
     ]
    }
   ],
   "source": [
    "# we've seen something like this before:\n",
    "\n",
    "x = input('Enter a number: ')\n",
    "\n",
    "n = int(x)    # get an integer based on x\n",
    "print(n + 5)  # add that int + 5\n"
   ]
  },
  {
   "cell_type": "code",
   "execution_count": 67,
   "id": "9c2f54bd",
   "metadata": {},
   "outputs": [
    {
     "name": "stdout",
     "output_type": "stream",
     "text": [
      "Enter a number: hello\n",
      "Hey! hello is not numeric!\n"
     ]
    }
   ],
   "source": [
    "# we can check to see if a string can be turned into an integer\n",
    "# I can run a string method, str.isdigit, which returns True\n",
    "# if a string is non-empty and contains only digits\n",
    "\n",
    "# in other words: if you can turn a string into an int, then str.isdigit returns True\n",
    "\n",
    "\n",
    "x = input('Enter a number: ')\n",
    "\n",
    "if x.isdigit():\n",
    "    n = int(x)    # get an integer based on x\n",
    "    print(n + 5)  # add that int + 5\n",
    "else:\n",
    "    print(f'Hey! {x} is not numeric!')"
   ]
  },
  {
   "cell_type": "code",
   "execution_count": 68,
   "id": "d5da9745",
   "metadata": {},
   "outputs": [
    {
     "data": {
      "text/plain": [
       "-123"
      ]
     },
     "execution_count": 68,
     "metadata": {},
     "output_type": "execute_result"
    }
   ],
   "source": [
    "int('-123')   # this works fine, but str.isdigit() will return False"
   ]
  },
  {
   "cell_type": "markdown",
   "id": "c49a771e",
   "metadata": {},
   "source": [
    "# Exercise: Calculator\n",
    "\n",
    "1. Ask the user to enter two integers, and assign them to two variables.\n",
    "2. If both of the inputs are indeed integers, then print their sum.\n",
    "3. If one or both is not, then print an error message for the user.\n",
    "\n",
    "Example:\n",
    "\n",
    "    Enter first number: 10\n",
    "    Enter second number: 20\n",
    "    10 + 20 = 30\n",
    "    \n",
    "    Enter first number: hello\n",
    "    Enter second number: out there\n",
    "    hello is not numeric\n",
    "    out there is not numeric\n",
    "    \n",
    "Remember: You can have `if` statements inside of `if` blocks!"
   ]
  },
  {
   "cell_type": "code",
   "execution_count": null,
   "id": "2f3ce1dc",
   "metadata": {},
   "outputs": [],
   "source": []
  }
 ],
 "metadata": {
  "kernelspec": {
   "display_name": "Python 3 (ipykernel)",
   "language": "python",
   "name": "python3"
  },
  "language_info": {
   "codemirror_mode": {
    "name": "ipython",
    "version": 3
   },
   "file_extension": ".py",
   "mimetype": "text/x-python",
   "name": "python",
   "nbconvert_exporter": "python",
   "pygments_lexer": "ipython3",
   "version": "3.11.6"
  }
 },
 "nbformat": 4,
 "nbformat_minor": 5
}
