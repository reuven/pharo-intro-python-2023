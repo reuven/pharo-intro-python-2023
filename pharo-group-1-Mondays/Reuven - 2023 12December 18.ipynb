{
 "cells": [
  {
   "cell_type": "markdown",
   "id": "a25055af-41c4-41ec-82c0-2524294d94d9",
   "metadata": {},
   "source": [
    "# Agenda\n",
    "\n",
    "- Slices\n",
    "- Strings are immutable\n",
    "- Methods"
   ]
  },
  {
   "cell_type": "markdown",
   "id": "80c8c85f",
   "metadata": {},
   "source": [
    "# Strings\n",
    "\n",
    "We can create strings with quotes (either single or double). The strings can contain any characters we want from Unicode (which is a fancy way of saying: all languages + emjois + icons + flags). We can also have special characters, such as `\\n` (newline) or `\\t` (tab).  We write those with two characters (backslash + something), but it really takes up one character."
   ]
  },
  {
   "cell_type": "code",
   "execution_count": 1,
   "id": "1cea8050",
   "metadata": {},
   "outputs": [
    {
     "name": "stdout",
     "output_type": "stream",
     "text": [
      "abcd\n",
      "efgh\n"
     ]
    }
   ],
   "source": [
    "s = 'abcd\\nefgh'   # abcd + newline + efgh\n",
    "\n",
    "print(s)"
   ]
  },
  {
   "cell_type": "code",
   "execution_count": 2,
   "id": "2ad864b0",
   "metadata": {},
   "outputs": [
    {
     "data": {
      "text/plain": [
       "9"
      ]
     },
     "execution_count": 2,
     "metadata": {},
     "output_type": "execute_result"
    }
   ],
   "source": [
    "len(s)   # how many characters?"
   ]
  },
  {
   "cell_type": "code",
   "execution_count": 3,
   "id": "68d586bf",
   "metadata": {},
   "outputs": [
    {
     "data": {
      "text/plain": [
       "10"
      ]
     },
     "execution_count": 3,
     "metadata": {},
     "output_type": "execute_result"
    }
   ],
   "source": [
    "s = 'a  b  c  d'\n",
    "len(s)"
   ]
  },
  {
   "cell_type": "code",
   "execution_count": 4,
   "id": "3dbfb868",
   "metadata": {},
   "outputs": [],
   "source": [
    "# spaces are characters, too -- they take up space!"
   ]
  },
  {
   "cell_type": "code",
   "execution_count": 5,
   "id": "95410e2e",
   "metadata": {},
   "outputs": [
    {
     "name": "stdout",
     "output_type": "stream",
     "text": [
      "Enter something: this is something\n"
     ]
    }
   ],
   "source": [
    "# when I get input from the user, I'm getting a string\n",
    "\n",
    "s = input('Enter something: ')\n",
    "\n"
   ]
  },
  {
   "cell_type": "code",
   "execution_count": 6,
   "id": "e9070c30",
   "metadata": {},
   "outputs": [
    {
     "data": {
      "text/plain": [
       "'i'"
      ]
     },
     "execution_count": 6,
     "metadata": {},
     "output_type": "execute_result"
    }
   ],
   "source": [
    "# I can retrieve a character from that string\n",
    "\n",
    "s[5]   # character #6, because character #0 is the first one"
   ]
  },
  {
   "cell_type": "code",
   "execution_count": null,
   "id": "e49a1dad",
   "metadata": {},
   "outputs": [],
   "source": []
  }
 ],
 "metadata": {
  "kernelspec": {
   "display_name": "Python 3 (ipykernel)",
   "language": "python",
   "name": "python3"
  },
  "language_info": {
   "codemirror_mode": {
    "name": "ipython",
    "version": 3
   },
   "file_extension": ".py",
   "mimetype": "text/x-python",
   "name": "python",
   "nbconvert_exporter": "python",
   "pygments_lexer": "ipython3",
   "version": "3.11.6"
  }
 },
 "nbformat": 4,
 "nbformat_minor": 5
}
