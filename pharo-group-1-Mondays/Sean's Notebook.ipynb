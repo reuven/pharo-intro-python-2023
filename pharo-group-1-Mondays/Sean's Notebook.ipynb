{
  "nbformat": 4,
  "nbformat_minor": 5,
  "metadata": {
    "kernel_info": {
      "name": "python3.9-noteable"
    },
    "kernelspec": {
      "display_name": "Python 3.9 (Noteable)",
      "identifier": "noteable",
      "language": "python",
      "language_version": "3.9",
      "name": "python3.9-noteable"
    },
    "selected_hardware_size": "small"
  },
  "cells": [
    {
      "id": "6481ac8c-1938-466d-b626-ae1481f90869",
      "cell_type": "code",
      "metadata": {
        "jupyter": {
          "outputs_hidden": false,
          "source_hidden": false
        },
        "noteable": {
          "cell_type": "code"
        }
      },
      "execution_count": null,
      "source": "",
      "outputs": []
    },
    {
      "id": "055166a5-ff39-4f69-8508-13ba364cba69",
      "cell_type": "code",
      "metadata": {
        "jupyter": {
          "outputs_hidden": false,
          "source_hidden": false
        },
        "noteable": {
          "cell_type": "code"
        }
      },
      "execution_count": null,
      "source": "",
      "outputs": []
    },
    {
      "id": "2d1e960a",
      "cell_type": "code",
      "metadata": {
        "noteable": {
          "output_collection_id": "971a3fb5-ba6b-4b00-84f5-231441f6d42d"
        },
        "ExecuteTime": {
          "end_time": "2023-12-14T20:13:04.615481+00:00",
          "start_time": "2023-12-14T20:13:04.458961+00:00"
        }
      },
      "execution_count": null,
      "source": "x = 10\ny = '20'\n\nx+int(y)\n",
      "outputs": []
    },
    {
      "id": "69d29ad0-47a6-4425-8ce0-2f5c01c58202",
      "cell_type": "code",
      "metadata": {
        "jupyter": {
          "outputs_hidden": false,
          "source_hidden": false
        },
        "noteable": {
          "cell_type": "code",
          "output_collection_id": "0463f1a1-fbf4-4711-a665-f87e9dc41a7e"
        },
        "ExecuteTime": {
          "end_time": "2023-12-14T21:26:36.955164+00:00",
          "start_time": "2023-12-14T21:26:26.714167+00:00"
        }
      },
      "execution_count": null,
      "source": "name = input ('Enter your name: ')\n\ncity = input('Enter your city')\n\nprint('Hello, ' + name + ',from ' + city + '.')",
      "outputs": []
    }
  ]
}