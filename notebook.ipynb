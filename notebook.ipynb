{
 "cells": [
  {
   "cell_type": "code",
   "execution_count": 1,
   "id": "b488bbdb",
   "metadata": {},
   "outputs": [
    {
     "name": "stdout",
     "output_type": "stream",
     "text": [
      "helllo!\n"
     ]
    }
   ],
   "source": [
    "print('helllo!')"
   ]
  },
  {
   "cell_type": "code",
   "execution_count": 2,
   "id": "f50b65f1",
   "metadata": {},
   "outputs": [],
   "source": [
    "s=\"abcdefg\""
   ]
  },
  {
   "cell_type": "code",
   "execution_count": 3,
   "id": "33673841",
   "metadata": {},
   "outputs": [
    {
     "name": "stdout",
     "output_type": "stream",
     "text": [
      "abcdefg\n"
     ]
    }
   ],
   "source": [
    "print(s)"
   ]
  },
  {
   "cell_type": "code",
   "execution_count": 7,
   "id": "3d928f67",
   "metadata": {},
   "outputs": [],
   "source": [
    "s = 'He says, \"She\\'s very lovely\"'"
   ]
  },
  {
   "cell_type": "code",
   "execution_count": 8,
   "id": "c9b8d857",
   "metadata": {},
   "outputs": [
    {
     "name": "stdout",
     "output_type": "stream",
     "text": [
      "He says, \"She's very lovely\"\n"
     ]
    }
   ],
   "source": [
    "print(s)"
   ]
  },
  {
   "cell_type": "code",
   "execution_count": 9,
   "id": "0086f2f2",
   "metadata": {},
   "outputs": [
    {
     "data": {
      "text/plain": [
       "28"
      ]
     },
     "execution_count": 9,
     "metadata": {},
     "output_type": "execute_result"
    }
   ],
   "source": [
    "len(s)"
   ]
  },
  {
   "cell_type": "code",
   "execution_count": 10,
   "id": "d77d5b5b",
   "metadata": {},
   "outputs": [],
   "source": [
    "t = 'He says, \\ \"She\\'s very lovely\"'"
   ]
  },
  {
   "cell_type": "code",
   "execution_count": 11,
   "id": "c152c232",
   "metadata": {},
   "outputs": [
    {
     "name": "stdout",
     "output_type": "stream",
     "text": [
      "He says, \\ \"She's very lovely\"\n"
     ]
    }
   ],
   "source": [
    "print(t)"
   ]
  },
  {
   "cell_type": "code",
   "execution_count": 12,
   "id": "c99e31f6",
   "metadata": {},
   "outputs": [],
   "source": [
    "b='abcde\\efghi'"
   ]
  },
  {
   "cell_type": "code",
   "execution_count": 13,
   "id": "f63d69a0",
   "metadata": {},
   "outputs": [
    {
     "name": "stdout",
     "output_type": "stream",
     "text": [
      "abcde\\efghi\n"
     ]
    }
   ],
   "source": [
    "print(b)"
   ]
  },
  {
   "cell_type": "code",
   "execution_count": 14,
   "id": "35b36e77",
   "metadata": {},
   "outputs": [
    {
     "name": "stdout",
     "output_type": "stream",
     "text": [
      "abcdefg\n"
     ]
    }
   ],
   "source": [
    "b = '''abcdefg'''\n",
    "print(b)"
   ]
  },
  {
   "cell_type": "code",
   "execution_count": 15,
   "id": "9f654035",
   "metadata": {},
   "outputs": [
    {
     "name": "stdout",
     "output_type": "stream",
     "text": [
      "abc\\defg\n"
     ]
    }
   ],
   "source": [
    "b = '''abc\\defg'''\n",
    "print(b)"
   ]
  },
  {
   "cell_type": "code",
   "execution_count": 16,
   "id": "b612eb8b",
   "metadata": {},
   "outputs": [],
   "source": [
    "b = '''abcdefg'''"
   ]
  },
  {
   "cell_type": "code",
   "execution_count": 17,
   "id": "cb3fc46e",
   "metadata": {},
   "outputs": [],
   "source": [
    "b = '''abc\\defg'''"
   ]
  },
  {
   "cell_type": "code",
   "execution_count": 18,
   "id": "e7c94822",
   "metadata": {},
   "outputs": [],
   "source": [
    "b = '''abc\\\n",
    "defg'''"
   ]
  },
  {
   "cell_type": "code",
   "execution_count": 19,
   "id": "3844238f",
   "metadata": {},
   "outputs": [
    {
     "name": "stdout",
     "output_type": "stream",
     "text": [
      "abcdefg\n"
     ]
    }
   ],
   "source": [
    "print(b)"
   ]
  },
  {
   "cell_type": "code",
   "execution_count": 20,
   "id": "f9044cf3",
   "metadata": {},
   "outputs": [],
   "source": [
    "filename = 'c:\\\\abcd\\\\efgh\\\\ijkl.txt'"
   ]
  },
  {
   "cell_type": "code",
   "execution_count": 21,
   "id": "443a42e5",
   "metadata": {},
   "outputs": [
    {
     "name": "stdout",
     "output_type": "stream",
     "text": [
      "c:\\abcd\\efgh\\ijkl.txt\n"
     ]
    }
   ],
   "source": [
    "print(filename)"
   ]
  },
  {
   "cell_type": "code",
   "execution_count": null,
   "id": "348406ef",
   "metadata": {},
   "outputs": [],
   "source": []
  }
 ],
 "metadata": {
  "kernelspec": {
   "display_name": "Python 3 (ipykernel)",
   "language": "python",
   "name": "python3"
  },
  "language_info": {
   "codemirror_mode": {
    "name": "ipython",
    "version": 3
   },
   "file_extension": ".py",
   "mimetype": "text/x-python",
   "name": "python",
   "nbconvert_exporter": "python",
   "pygments_lexer": "ipython3",
   "version": "3.11.6"
  }
 },
 "nbformat": 4,
 "nbformat_minor": 5
}
