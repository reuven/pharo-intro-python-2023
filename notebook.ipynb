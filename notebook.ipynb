{
 "cells": [
  {
   "cell_type": "code",
   "execution_count": 1,
   "id": "6c218632",
   "metadata": {},
   "outputs": [
    {
     "name": "stdout",
     "output_type": "stream",
     "text": [
      "helllo!\n"
     ]
    }
   ],
   "source": [
    "print('helllo!')"
   ]
  },
  {
   "cell_type": "code",
   "execution_count": 2,
   "id": "68d850cf",
   "metadata": {},
   "outputs": [],
   "source": [
    "s=\"abcdefg\""
   ]
  },
  {
   "cell_type": "code",
   "execution_count": 3,
   "id": "c66fe861",
   "metadata": {},
   "outputs": [
    {
     "name": "stdout",
     "output_type": "stream",
     "text": [
      "abcdefg\n"
     ]
    }
   ],
   "source": [
    "print(s)"
   ]
  },
  {
   "cell_type": "code",
   "execution_count": 7,
   "id": "f17e4f43",
   "metadata": {},
   "outputs": [],
   "source": [
    "s = 'He says, \"She\\'s very lovely\"'"
   ]
  },
  {
   "cell_type": "code",
   "execution_count": 8,
   "id": "f349a0ea",
   "metadata": {},
   "outputs": [
    {
     "name": "stdout",
     "output_type": "stream",
     "text": [
      "He says, \"She's very lovely\"\n"
     ]
    }
   ],
   "source": [
    "print(s)"
   ]
  },
  {
   "cell_type": "code",
   "execution_count": 9,
   "id": "e054daa8",
   "metadata": {},
   "outputs": [
    {
     "data": {
      "text/plain": [
       "28"
      ]
     },
     "execution_count": 9,
     "metadata": {},
     "output_type": "execute_result"
    }
   ],
   "source": [
    "len(s)"
   ]
  },
  {
   "cell_type": "code",
   "execution_count": 10,
   "id": "98a9de06",
   "metadata": {},
   "outputs": [],
   "source": [
    "t = 'He says, \\ \"She\\'s very lovely\"'"
   ]
  },
  {
   "cell_type": "code",
   "execution_count": 11,
   "id": "e43011eb",
   "metadata": {},
   "outputs": [
    {
     "name": "stdout",
     "output_type": "stream",
     "text": [
      "He says, \\ \"She's very lovely\"\n"
     ]
    }
   ],
   "source": [
    "print(t)"
   ]
  },
  {
   "cell_type": "code",
   "execution_count": 12,
   "id": "957826e7",
   "metadata": {},
   "outputs": [],
   "source": [
    "b='abcde\\efghi'"
   ]
  },
  {
   "cell_type": "code",
   "execution_count": 13,
   "id": "015407d2",
   "metadata": {},
   "outputs": [
    {
     "name": "stdout",
     "output_type": "stream",
     "text": [
      "abcde\\efghi\n"
     ]
    }
   ],
   "source": [
    "print(b)"
   ]
  },
  {
   "cell_type": "code",
   "execution_count": 14,
   "id": "98cb7bd6",
   "metadata": {},
   "outputs": [
    {
     "name": "stdout",
     "output_type": "stream",
     "text": [
      "abcdefg\n"
     ]
    }
   ],
   "source": [
    "b = '''abcdefg'''\n",
    "print(b)"
   ]
  },
  {
   "cell_type": "code",
   "execution_count": 15,
   "id": "ef877912",
   "metadata": {},
   "outputs": [
    {
     "name": "stdout",
     "output_type": "stream",
     "text": [
      "abc\\defg\n"
     ]
    }
   ],
   "source": [
    "b = '''abc\\defg'''\n",
    "print(b)"
   ]
  },
  {
   "cell_type": "code",
   "execution_count": 16,
   "id": "103f0912",
   "metadata": {},
   "outputs": [],
   "source": [
    "b = '''abcdefg'''"
   ]
  },
  {
   "cell_type": "code",
   "execution_count": 17,
   "id": "dee04de9",
   "metadata": {},
   "outputs": [],
   "source": [
    "b = '''abc\\defg'''"
   ]
  },
  {
   "cell_type": "code",
   "execution_count": 18,
   "id": "9ae5ced8",
   "metadata": {},
   "outputs": [],
   "source": [
    "b = '''abc\\\n",
    "defg'''"
   ]
  },
  {
   "cell_type": "code",
   "execution_count": 19,
   "id": "2ff5f435",
   "metadata": {},
   "outputs": [
    {
     "name": "stdout",
     "output_type": "stream",
     "text": [
      "abcdefg\n"
     ]
    }
   ],
   "source": [
    "print(b)"
   ]
  },
  {
   "cell_type": "code",
   "execution_count": 20,
   "id": "4a0d470d",
   "metadata": {},
   "outputs": [],
   "source": [
    "filename = 'c:\\\\abcd\\\\efgh\\\\ijkl.txt'"
   ]
  },
  {
   "cell_type": "code",
   "execution_count": 21,
   "id": "1c1c36ba",
   "metadata": {},
   "outputs": [
    {
     "name": "stdout",
     "output_type": "stream",
     "text": [
      "c:\\abcd\\efgh\\ijkl.txt\n"
     ]
    }
   ],
   "source": [
    "print(filename)"
   ]
  },
  {
   "cell_type": "code",
   "execution_count": 26,
   "id": "a71852da",
   "metadata": {},
   "outputs": [
    {
     "name": "stdout",
     "output_type": "stream",
     "text": [
      "Enter a single word: master\n"
     ]
    }
   ],
   "source": [
    "word = input('Enter a single word: ')"
   ]
  },
  {
   "cell_type": "code",
   "execution_count": 23,
   "id": "080683de",
   "metadata": {},
   "outputs": [
    {
     "name": "stdout",
     "output_type": "stream",
     "text": [
      "computer\n"
     ]
    }
   ],
   "source": [
    "print(word)"
   ]
  },
  {
   "cell_type": "code",
   "execution_count": 27,
   "id": "b3c55502",
   "metadata": {},
   "outputs": [
    {
     "ename": "SyntaxError",
     "evalue": "cannot assign to subscript here. Maybe you meant '==' instead of '='? (3424957210.py, line 1)",
     "output_type": "error",
     "traceback": [
      "\u001b[0;36m  Cell \u001b[0;32mIn[27], line 1\u001b[0;36m\u001b[0m\n\u001b[0;31m    if(word[0]=[a,e,i,o,u])\u001b[0m\n\u001b[0m       ^\u001b[0m\n\u001b[0;31mSyntaxError\u001b[0m\u001b[0;31m:\u001b[0m cannot assign to subscript here. Maybe you meant '==' instead of '='?\n"
     ]
    }
   ],
   "source": [
    "if(word[0]=[a,e,i,o,u]) "
   ]
  },
  {
   "cell_type": "code",
   "execution_count": null,
   "id": "d45ee7ff",
   "metadata": {},
   "outputs": [],
   "source": []
  },
  {
   "cell_type": "code",
   "execution_count": null,
   "id": "1799a243",
   "metadata": {},
   "outputs": [],
   "source": []
  }
 ],
 "metadata": {
  "kernelspec": {
   "display_name": "Python 3 (ipykernel)",
   "language": "python",
   "name": "python3"
  },
  "language_info": {
   "codemirror_mode": {
    "name": "ipython",
    "version": 3
   },
   "file_extension": ".py",
   "mimetype": "text/x-python",
   "name": "python",
   "nbconvert_exporter": "python",
   "pygments_lexer": "ipython3",
   "version": "3.11.6"
  }
 },
 "nbformat": 4,
 "nbformat_minor": 5
}
