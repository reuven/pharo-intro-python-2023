{
 "cells": [
  {
   "cell_type": "code",
   "execution_count": 1,
   "id": "6a763f02",
   "metadata": {},
   "outputs": [
    {
     "name": "stdout",
     "output_type": "stream",
     "text": [
      "helllo!\n"
     ]
    }
   ],
   "source": [
    "print('helllo!')"
   ]
  },
  {
   "cell_type": "code",
   "execution_count": 2,
   "id": "25bf7e88",
   "metadata": {},
   "outputs": [],
   "source": [
    "s=\"abcdefg\""
   ]
  },
  {
   "cell_type": "code",
   "execution_count": 3,
   "id": "b498e2d7",
   "metadata": {},
   "outputs": [
    {
     "name": "stdout",
     "output_type": "stream",
     "text": [
      "abcdefg\n"
     ]
    }
   ],
   "source": [
    "print(s)"
   ]
  },
  {
   "cell_type": "code",
   "execution_count": 7,
   "id": "dce8621c",
   "metadata": {},
   "outputs": [],
   "source": [
    "s = 'He says, \"She\\'s very lovely\"'"
   ]
  },
  {
   "cell_type": "code",
   "execution_count": 8,
   "id": "77437f63",
   "metadata": {},
   "outputs": [
    {
     "name": "stdout",
     "output_type": "stream",
     "text": [
      "He says, \"She's very lovely\"\n"
     ]
    }
   ],
   "source": [
    "print(s)"
   ]
  },
  {
   "cell_type": "code",
   "execution_count": 9,
   "id": "3037a582",
   "metadata": {},
   "outputs": [
    {
     "data": {
      "text/plain": [
       "28"
      ]
     },
     "execution_count": 9,
     "metadata": {},
     "output_type": "execute_result"
    }
   ],
   "source": [
    "len(s)"
   ]
  },
  {
   "cell_type": "code",
   "execution_count": 10,
   "id": "6f7d490c",
   "metadata": {},
   "outputs": [],
   "source": [
    "t = 'He says, \\ \"She\\'s very lovely\"'"
   ]
  },
  {
   "cell_type": "code",
   "execution_count": 11,
   "id": "25a739b7",
   "metadata": {},
   "outputs": [
    {
     "name": "stdout",
     "output_type": "stream",
     "text": [
      "He says, \\ \"She's very lovely\"\n"
     ]
    }
   ],
   "source": [
    "print(t)"
   ]
  },
  {
   "cell_type": "code",
   "execution_count": 12,
   "id": "cabb42be",
   "metadata": {},
   "outputs": [],
   "source": [
    "b='abcde\\efghi'"
   ]
  },
  {
   "cell_type": "code",
   "execution_count": 13,
   "id": "d132e27a",
   "metadata": {},
   "outputs": [
    {
     "name": "stdout",
     "output_type": "stream",
     "text": [
      "abcde\\efghi\n"
     ]
    }
   ],
   "source": [
    "print(b)"
   ]
  },
  {
   "cell_type": "code",
   "execution_count": 14,
   "id": "478aadbd",
   "metadata": {},
   "outputs": [
    {
     "name": "stdout",
     "output_type": "stream",
     "text": [
      "abcdefg\n"
     ]
    }
   ],
   "source": [
    "b = '''abcdefg'''\n",
    "print(b)"
   ]
  },
  {
   "cell_type": "code",
   "execution_count": 15,
   "id": "e0cb3232",
   "metadata": {},
   "outputs": [
    {
     "name": "stdout",
     "output_type": "stream",
     "text": [
      "abc\\defg\n"
     ]
    }
   ],
   "source": [
    "b = '''abc\\defg'''\n",
    "print(b)"
   ]
  },
  {
   "cell_type": "code",
   "execution_count": 16,
   "id": "9e73651e",
   "metadata": {},
   "outputs": [],
   "source": [
    "b = '''abcdefg'''"
   ]
  },
  {
   "cell_type": "code",
   "execution_count": 17,
   "id": "5931206f",
   "metadata": {},
   "outputs": [],
   "source": [
    "b = '''abc\\defg'''"
   ]
  },
  {
   "cell_type": "code",
   "execution_count": 18,
   "id": "9de55cc1",
   "metadata": {},
   "outputs": [],
   "source": [
    "b = '''abc\\\n",
    "defg'''"
   ]
  },
  {
   "cell_type": "code",
   "execution_count": 19,
   "id": "395c52cf",
   "metadata": {},
   "outputs": [
    {
     "name": "stdout",
     "output_type": "stream",
     "text": [
      "abcdefg\n"
     ]
    }
   ],
   "source": [
    "print(b)"
   ]
  },
  {
   "cell_type": "code",
   "execution_count": 20,
   "id": "4c28539e",
   "metadata": {},
   "outputs": [],
   "source": [
    "filename = 'c:\\\\abcd\\\\efgh\\\\ijkl.txt'"
   ]
  },
  {
   "cell_type": "code",
   "execution_count": 21,
   "id": "a32a6c20",
   "metadata": {},
   "outputs": [
    {
     "name": "stdout",
     "output_type": "stream",
     "text": [
      "c:\\abcd\\efgh\\ijkl.txt\n"
     ]
    }
   ],
   "source": [
    "print(filename)"
   ]
  },
  {
   "cell_type": "code",
   "execution_count": 26,
   "id": "40d5c059",
   "metadata": {},
   "outputs": [
    {
     "name": "stdout",
     "output_type": "stream",
     "text": [
      "Enter a single word: master\n"
     ]
    }
   ],
   "source": [
    "word = input('Enter a single word: ')"
   ]
  },
  {
   "cell_type": "code",
   "execution_count": 23,
   "id": "5f23e0b7",
   "metadata": {},
   "outputs": [
    {
     "name": "stdout",
     "output_type": "stream",
     "text": [
      "computer\n"
     ]
    }
   ],
   "source": [
    "print(word)"
   ]
  },
  {
   "cell_type": "code",
   "execution_count": 27,
   "id": "219c659e",
   "metadata": {},
   "outputs": [
    {
     "ename": "SyntaxError",
     "evalue": "cannot assign to subscript here. Maybe you meant '==' instead of '='? (3424957210.py, line 1)",
     "output_type": "error",
     "traceback": [
      "\u001b[0;36m  Cell \u001b[0;32mIn[27], line 1\u001b[0;36m\u001b[0m\n\u001b[0;31m    if(word[0]=[a,e,i,o,u])\u001b[0m\n\u001b[0m       ^\u001b[0m\n\u001b[0;31mSyntaxError\u001b[0m\u001b[0;31m:\u001b[0m cannot assign to subscript here. Maybe you meant '==' instead of '='?\n"
     ]
    }
   ],
   "source": [
    "if(word[0]=[a,e,i,o,u]) "
   ]
  },
  {
   "cell_type": "code",
   "execution_count": 28,
   "id": "452309b0",
   "metadata": {},
   "outputs": [
    {
     "name": "stdout",
     "output_type": "stream",
     "text": [
      "masterway\n"
     ]
    }
   ],
   "source": [
    "if word[0]== 'a' or 'e' or 'i' or 'o' or 'u':\n",
    "    print(word+'way')"
   ]
  },
  {
   "cell_type": "code",
   "execution_count": 29,
   "id": "27380a69",
   "metadata": {},
   "outputs": [],
   "source": [
    "if word[0] in 'aeiou':    print(word+'way')"
   ]
  },
  {
   "cell_type": "code",
   "execution_count": 30,
   "id": "109abb7b",
   "metadata": {},
   "outputs": [],
   "source": [
    "if word[0] in 'aeiou':   \n",
    "    print(word+'way')"
   ]
  },
  {
   "cell_type": "code",
   "execution_count": 31,
   "id": "fb8ca1af",
   "metadata": {},
   "outputs": [
    {
     "ename": "SyntaxError",
     "evalue": "invalid syntax (4124731095.py, line 1)",
     "output_type": "error",
     "traceback": [
      "\u001b[0;36m  Cell \u001b[0;32mIn[31], line 1\u001b[0;36m\u001b[0m\n\u001b[0;31m    else:\u001b[0m\n\u001b[0m    ^\u001b[0m\n\u001b[0;31mSyntaxError\u001b[0m\u001b[0;31m:\u001b[0m invalid syntax\n"
     ]
    }
   ],
   "source": [
    "else:"
   ]
  },
  {
   "cell_type": "code",
   "execution_count": 32,
   "id": "8bf5da5c",
   "metadata": {},
   "outputs": [],
   "source": [
    "if word[0] in 'aeiou':   \n",
    "    print(word+'way')"
   ]
  },
  {
   "cell_type": "code",
   "execution_count": 33,
   "id": "15ae9ba4",
   "metadata": {},
   "outputs": [
    {
     "name": "stdout",
     "output_type": "stream",
     "text": [
      "astermay\n"
     ]
    }
   ],
   "source": [
    "if word[0] in 'aeiou':   \n",
    "    print(word+'way')\n",
    "else:\n",
    "    print(word[1:]+word[0]+'ay')"
   ]
  },
  {
   "cell_type": "code",
   "execution_count": 34,
   "id": "0ff4b4d2",
   "metadata": {},
   "outputs": [
    {
     "name": "stdout",
     "output_type": "stream",
     "text": [
      "Enter a word:papaya\n",
      "apayapay\n"
     ]
    }
   ],
   "source": [
    "word=input('Enter a word:')\n",
    "if word[0] in 'aeiou':   \n",
    "    print(word+'way')\n",
    "else:\n",
    "    print(word[1:]+word[0]+'ay')"
   ]
  },
  {
   "cell_type": "code",
   "execution_count": null,
   "id": "5264babc",
   "metadata": {},
   "outputs": [],
   "source": [
    "number1 = input('Enter a number: ').strip()\n",
    "n = int(number1)\n",
    "\n",
    "print(n + 5)"
   ]
  },
  {
   "cell_type": "code",
   "execution_count": null,
   "id": "cefc21ba",
   "metadata": {},
   "outputs": [],
   "source": [
    "number1 = input('Enter a number 1: ').strip()\n",
    "n1 = int(number1)\n",
    "number2 = input('Enter a number 2: ').strip()\n",
    "n2 = int(number2)\n",
    "print(n1 + n2)"
   ]
  },
  {
   "cell_type": "code",
   "execution_count": null,
   "id": "d02ed11d",
   "metadata": {},
   "outputs": [],
   "source": [
    "number1 = input('Enter first number: ').strip()\n",
    "n1 = int(number1)\n",
    "print(n1)"
   ]
  },
  {
   "cell_type": "code",
   "execution_count": null,
   "id": "a414e7d6",
   "metadata": {},
   "outputs": [],
   "source": [
    "number2 = input('Enter second number: ').strip()\n",
    "n2 = int(number2)\n",
    "print(n2)"
   ]
  },
  {
   "cell_type": "code",
   "execution_count": null,
   "id": "1ac60d98",
   "metadata": {},
   "outputs": [],
   "source": [
    "print(n1 + n2)\n",
    "else:\n",
    "    print(f'{number1} is not numeric')\n",
    "     print(f'{number2} is not numeric')"
   ]
  },
  {
   "cell_type": "code",
   "execution_count": null,
   "id": "25f919bb",
   "metadata": {},
   "outputs": [],
   "source": [
    "number = input('Enter a number: ').strip()\n",
    "n=int(number)"
   ]
  },
  {
   "cell_type": "code",
   "execution_count": null,
   "id": "c3629734",
   "metadata": {},
   "outputs": [],
   "source": [
    "number 1 = input('Enter 1st number: ')\n",
    "n1= int(number1)\n",
    "else:\n",
    "    print(word[1:] + word[0] + 'ay')"
   ]
  },
  {
   "cell_type": "code",
   "execution_count": null,
   "id": "25f4e767",
   "metadata": {},
   "outputs": [],
   "source": [
    "first=input('Enter first number: ').strip()\n",
    "second=input('Enter second number: ').strip()\n",
    "first=int(first)\n",
    "second=int(second)\n",
    "total=first+second\n",
    "print(f'(first+second=total))"
   ]
  },
  {
   "cell_type": "code",
   "execution_count": null,
   "id": "bb2d123a",
   "metadata": {},
   "outputs": [],
   "source": [
    "first=input('Enter first number: ').strip()\n",
    "second=input('Enter second number: ').strip()\n",
    "\n",
    "if first.isdigit() and second.isdigit()\n",
    "    first=int(first)\n",
    "    second=int(second)\n",
    "    \n",
    "total=first+second\n",
    "print(f'{first}+{second}={total}'))\n",
    "else:\n",
    "    if not first.isdigit():\n",
    "        print(f'either{second} is non-numeric'))\n",
    "    if not first.isdigit():\n",
    "        print(f'either{second} is non-numeric'))"
   ]
  },
  {
   "cell_type": "code",
   "execution_count": null,
   "id": "3b6acc0f",
   "metadata": {},
   "outputs": [],
   "source": []
  }
 ],
 "metadata": {
  "kernelspec": {
   "display_name": "Python 3 (ipykernel)",
   "language": "python",
   "name": "python3"
  },
  "language_info": {
   "codemirror_mode": {
    "name": "ipython",
    "version": 3
   },
   "file_extension": ".py",
   "mimetype": "text/x-python",
   "name": "python",
   "nbconvert_exporter": "python",
   "pygments_lexer": "ipython3",
   "version": "3.11.6"
  }
 },
 "nbformat": 4,
 "nbformat_minor": 5
}
