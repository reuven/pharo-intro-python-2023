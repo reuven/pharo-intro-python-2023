{
 "cells": [
  {
   "cell_type": "code",
   "execution_count": 1,
   "id": "cf6b52a1",
   "metadata": {},
   "outputs": [
    {
     "name": "stdout",
     "output_type": "stream",
     "text": [
      "helllo!\n"
     ]
    }
   ],
   "source": [
    "print('helllo!')"
   ]
  },
  {
   "cell_type": "code",
   "execution_count": 2,
   "id": "3972defc",
   "metadata": {},
   "outputs": [],
   "source": [
    "s=\"abcdefg\""
   ]
  },
  {
   "cell_type": "code",
   "execution_count": 3,
   "id": "e7f629fe",
   "metadata": {},
   "outputs": [
    {
     "name": "stdout",
     "output_type": "stream",
     "text": [
      "abcdefg\n"
     ]
    }
   ],
   "source": [
    "print(s)"
   ]
  },
  {
   "cell_type": "code",
   "execution_count": 7,
   "id": "0f2c5124",
   "metadata": {},
   "outputs": [],
   "source": [
    "s = 'He says, \"She\\'s very lovely\"'"
   ]
  },
  {
   "cell_type": "code",
   "execution_count": 8,
   "id": "666b4d52",
   "metadata": {},
   "outputs": [
    {
     "name": "stdout",
     "output_type": "stream",
     "text": [
      "He says, \"She's very lovely\"\n"
     ]
    }
   ],
   "source": [
    "print(s)"
   ]
  },
  {
   "cell_type": "code",
   "execution_count": 9,
   "id": "de81bd81",
   "metadata": {},
   "outputs": [
    {
     "data": {
      "text/plain": [
       "28"
      ]
     },
     "execution_count": 9,
     "metadata": {},
     "output_type": "execute_result"
    }
   ],
   "source": [
    "len(s)"
   ]
  },
  {
   "cell_type": "code",
   "execution_count": 10,
   "id": "5c44170a",
   "metadata": {},
   "outputs": [],
   "source": [
    "t = 'He says, \\ \"She\\'s very lovely\"'"
   ]
  },
  {
   "cell_type": "code",
   "execution_count": 11,
   "id": "87d7e3f5",
   "metadata": {},
   "outputs": [
    {
     "name": "stdout",
     "output_type": "stream",
     "text": [
      "He says, \\ \"She's very lovely\"\n"
     ]
    }
   ],
   "source": [
    "print(t)"
   ]
  },
  {
   "cell_type": "code",
   "execution_count": 12,
   "id": "c86681fb",
   "metadata": {},
   "outputs": [],
   "source": [
    "b='abcde\\efghi'"
   ]
  },
  {
   "cell_type": "code",
   "execution_count": 13,
   "id": "87dc7cb5",
   "metadata": {},
   "outputs": [
    {
     "name": "stdout",
     "output_type": "stream",
     "text": [
      "abcde\\efghi\n"
     ]
    }
   ],
   "source": [
    "print(b)"
   ]
  },
  {
   "cell_type": "code",
   "execution_count": 14,
   "id": "b7bea1ec",
   "metadata": {},
   "outputs": [
    {
     "name": "stdout",
     "output_type": "stream",
     "text": [
      "abcdefg\n"
     ]
    }
   ],
   "source": [
    "b = '''abcdefg'''\n",
    "print(b)"
   ]
  },
  {
   "cell_type": "code",
   "execution_count": 15,
   "id": "4739eaa9",
   "metadata": {},
   "outputs": [
    {
     "name": "stdout",
     "output_type": "stream",
     "text": [
      "abc\\defg\n"
     ]
    }
   ],
   "source": [
    "b = '''abc\\defg'''\n",
    "print(b)"
   ]
  },
  {
   "cell_type": "code",
   "execution_count": 16,
   "id": "5d1bcd2e",
   "metadata": {},
   "outputs": [],
   "source": [
    "b = '''abcdefg'''"
   ]
  },
  {
   "cell_type": "code",
   "execution_count": 17,
   "id": "8d6897b8",
   "metadata": {},
   "outputs": [],
   "source": [
    "b = '''abc\\defg'''"
   ]
  },
  {
   "cell_type": "code",
   "execution_count": 18,
   "id": "0b4ea848",
   "metadata": {},
   "outputs": [],
   "source": [
    "b = '''abc\\\n",
    "defg'''"
   ]
  },
  {
   "cell_type": "code",
   "execution_count": 19,
   "id": "d242c64e",
   "metadata": {},
   "outputs": [
    {
     "name": "stdout",
     "output_type": "stream",
     "text": [
      "abcdefg\n"
     ]
    }
   ],
   "source": [
    "print(b)"
   ]
  },
  {
   "cell_type": "code",
   "execution_count": 20,
   "id": "0bd4deb7",
   "metadata": {},
   "outputs": [],
   "source": [
    "filename = 'c:\\\\abcd\\\\efgh\\\\ijkl.txt'"
   ]
  },
  {
   "cell_type": "code",
   "execution_count": 21,
   "id": "e80cbdf0",
   "metadata": {},
   "outputs": [
    {
     "name": "stdout",
     "output_type": "stream",
     "text": [
      "c:\\abcd\\efgh\\ijkl.txt\n"
     ]
    }
   ],
   "source": [
    "print(filename)"
   ]
  },
  {
   "cell_type": "code",
   "execution_count": 26,
   "id": "06d84f97",
   "metadata": {},
   "outputs": [
    {
     "name": "stdout",
     "output_type": "stream",
     "text": [
      "Enter a single word: master\n"
     ]
    }
   ],
   "source": [
    "word = input('Enter a single word: ')"
   ]
  },
  {
   "cell_type": "code",
   "execution_count": 23,
   "id": "2f15e913",
   "metadata": {},
   "outputs": [
    {
     "name": "stdout",
     "output_type": "stream",
     "text": [
      "computer\n"
     ]
    }
   ],
   "source": [
    "print(word)"
   ]
  },
  {
   "cell_type": "code",
   "execution_count": 27,
   "id": "5d8cb4a6",
   "metadata": {},
   "outputs": [
    {
     "ename": "SyntaxError",
     "evalue": "cannot assign to subscript here. Maybe you meant '==' instead of '='? (3424957210.py, line 1)",
     "output_type": "error",
     "traceback": [
      "\u001b[0;36m  Cell \u001b[0;32mIn[27], line 1\u001b[0;36m\u001b[0m\n\u001b[0;31m    if(word[0]=[a,e,i,o,u])\u001b[0m\n\u001b[0m       ^\u001b[0m\n\u001b[0;31mSyntaxError\u001b[0m\u001b[0;31m:\u001b[0m cannot assign to subscript here. Maybe you meant '==' instead of '='?\n"
     ]
    }
   ],
   "source": [
    "if(word[0]=[a,e,i,o,u]) "
   ]
  },
  {
   "cell_type": "code",
   "execution_count": 28,
   "id": "7bd0f57a",
   "metadata": {},
   "outputs": [
    {
     "name": "stdout",
     "output_type": "stream",
     "text": [
      "masterway\n"
     ]
    }
   ],
   "source": [
    "if word[0]== 'a' or 'e' or 'i' or 'o' or 'u':\n",
    "    print(word+'way')"
   ]
  },
  {
   "cell_type": "code",
   "execution_count": 29,
   "id": "aa3d941c",
   "metadata": {},
   "outputs": [],
   "source": [
    "if word[0] in 'aeiou':    print(word+'way')"
   ]
  },
  {
   "cell_type": "code",
   "execution_count": 30,
   "id": "415d0596",
   "metadata": {},
   "outputs": [],
   "source": [
    "if word[0] in 'aeiou':   \n",
    "    print(word+'way')"
   ]
  },
  {
   "cell_type": "code",
   "execution_count": 31,
   "id": "3030a00c",
   "metadata": {},
   "outputs": [
    {
     "ename": "SyntaxError",
     "evalue": "invalid syntax (4124731095.py, line 1)",
     "output_type": "error",
     "traceback": [
      "\u001b[0;36m  Cell \u001b[0;32mIn[31], line 1\u001b[0;36m\u001b[0m\n\u001b[0;31m    else:\u001b[0m\n\u001b[0m    ^\u001b[0m\n\u001b[0;31mSyntaxError\u001b[0m\u001b[0;31m:\u001b[0m invalid syntax\n"
     ]
    }
   ],
   "source": [
    "else:"
   ]
  },
  {
   "cell_type": "code",
   "execution_count": 32,
   "id": "0d0a21e9",
   "metadata": {},
   "outputs": [],
   "source": [
    "if word[0] in 'aeiou':   \n",
    "    print(word+'way')"
   ]
  },
  {
   "cell_type": "code",
   "execution_count": 33,
   "id": "a6ba77f2",
   "metadata": {},
   "outputs": [
    {
     "name": "stdout",
     "output_type": "stream",
     "text": [
      "astermay\n"
     ]
    }
   ],
   "source": [
    "if word[0] in 'aeiou':   \n",
    "    print(word+'way')\n",
    "else:\n",
    "    print(word[1:]+word[0]+'ay')"
   ]
  },
  {
   "cell_type": "code",
   "execution_count": 34,
   "id": "e3078452",
   "metadata": {},
   "outputs": [
    {
     "name": "stdout",
     "output_type": "stream",
     "text": [
      "Enter a word:papaya\n",
      "apayapay\n"
     ]
    }
   ],
   "source": [
    "word=input('Enter a word:')\n",
    "if word[0] in 'aeiou':   \n",
    "    print(word+'way')\n",
    "else:\n",
    "    print(word[1:]+word[0]+'ay')"
   ]
  },
  {
   "cell_type": "code",
   "execution_count": 35,
   "id": "0b680517",
   "metadata": {},
   "outputs": [
    {
     "name": "stdout",
     "output_type": "stream",
     "text": [
      "Enter a number: 5\n",
      "10\n"
     ]
    }
   ],
   "source": [
    "number1 = input('Enter a number: ').strip()\n",
    "n = int(number1)\n",
    "\n",
    "print(n + 5)"
   ]
  },
  {
   "cell_type": "code",
   "execution_count": null,
   "id": "25ca3df0",
   "metadata": {},
   "outputs": [],
   "source": [
    "number1 = input('Enter a number 1: ').strip()\n",
    "n1 = int(number1)\n",
    "number2 = input('Enter a number 2: ').strip()\n",
    "n2 = int(number2)\n",
    "print(n1 + n2)"
   ]
  },
  {
   "cell_type": "code",
   "execution_count": null,
   "id": "728ad62f",
   "metadata": {},
   "outputs": [],
   "source": [
    "number1 = input('Enter first number: ').strip()\n",
    "n1 = int(number1)\n",
    "print(n1)"
   ]
  },
  {
   "cell_type": "code",
   "execution_count": null,
   "id": "47ec3169",
   "metadata": {},
   "outputs": [],
   "source": [
    "number2 = input('Enter second number: ').strip()\n",
    "n2 = int(number2)\n",
    "print(n2)"
   ]
  },
  {
   "cell_type": "code",
   "execution_count": null,
   "id": "55bc41e3",
   "metadata": {},
   "outputs": [],
   "source": [
    "print(n1 + n2)\n",
    "else:\n",
    "    print(f'{number1} is not numeric')\n",
    "     print(f'{number2} is not numeric')"
   ]
  },
  {
   "cell_type": "code",
   "execution_count": null,
   "id": "72353c4b",
   "metadata": {},
   "outputs": [],
   "source": [
    "number = input('Enter a number: ').strip()\n",
    "n=int(number)"
   ]
  },
  {
   "cell_type": "code",
   "execution_count": null,
   "id": "d6d4bc3e",
   "metadata": {},
   "outputs": [],
   "source": []
  }
 ],
 "metadata": {
  "kernelspec": {
   "display_name": "Python 3 (ipykernel)",
   "language": "python",
   "name": "python3"
  },
  "language_info": {
   "codemirror_mode": {
    "name": "ipython",
    "version": 3
   },
   "file_extension": ".py",
   "mimetype": "text/x-python",
   "name": "python",
   "nbconvert_exporter": "python",
   "pygments_lexer": "ipython3",
   "version": "3.11.6"
  }
 },
 "nbformat": 4,
 "nbformat_minor": 5
}
