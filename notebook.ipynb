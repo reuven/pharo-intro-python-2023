{
 "cells": [
  {
   "cell_type": "code",
   "execution_count": 1,
   "id": "be8a8a93",
   "metadata": {},
   "outputs": [
    {
     "name": "stdout",
     "output_type": "stream",
     "text": [
      "helllo!\n"
     ]
    }
   ],
   "source": [
    "print('helllo!')"
   ]
  },
  {
   "cell_type": "code",
   "execution_count": 2,
   "id": "8267a0b0",
   "metadata": {},
   "outputs": [],
   "source": [
    "s=\"abcdefg\""
   ]
  },
  {
   "cell_type": "code",
   "execution_count": 3,
   "id": "d78b1cf9",
   "metadata": {},
   "outputs": [
    {
     "name": "stdout",
     "output_type": "stream",
     "text": [
      "abcdefg\n"
     ]
    }
   ],
   "source": [
    "print(s)"
   ]
  },
  {
   "cell_type": "code",
   "execution_count": 7,
   "id": "1130157b",
   "metadata": {},
   "outputs": [],
   "source": [
    "s = 'He says, \"She\\'s very lovely\"'"
   ]
  },
  {
   "cell_type": "code",
   "execution_count": 8,
   "id": "0632e27b",
   "metadata": {},
   "outputs": [
    {
     "name": "stdout",
     "output_type": "stream",
     "text": [
      "He says, \"She's very lovely\"\n"
     ]
    }
   ],
   "source": [
    "print(s)"
   ]
  },
  {
   "cell_type": "code",
   "execution_count": 9,
   "id": "a2ce48e0",
   "metadata": {},
   "outputs": [
    {
     "data": {
      "text/plain": [
       "28"
      ]
     },
     "execution_count": 9,
     "metadata": {},
     "output_type": "execute_result"
    }
   ],
   "source": [
    "len(s)"
   ]
  },
  {
   "cell_type": "code",
   "execution_count": 10,
   "id": "99c230b3",
   "metadata": {},
   "outputs": [],
   "source": [
    "t = 'He says, \\ \"She\\'s very lovely\"'"
   ]
  },
  {
   "cell_type": "code",
   "execution_count": 11,
   "id": "2dd60f39",
   "metadata": {},
   "outputs": [
    {
     "name": "stdout",
     "output_type": "stream",
     "text": [
      "He says, \\ \"She's very lovely\"\n"
     ]
    }
   ],
   "source": [
    "print(t)"
   ]
  },
  {
   "cell_type": "code",
   "execution_count": 12,
   "id": "aef8cf91",
   "metadata": {},
   "outputs": [],
   "source": [
    "b='abcde\\efghi'"
   ]
  },
  {
   "cell_type": "code",
   "execution_count": 13,
   "id": "7a924da2",
   "metadata": {},
   "outputs": [
    {
     "name": "stdout",
     "output_type": "stream",
     "text": [
      "abcde\\efghi\n"
     ]
    }
   ],
   "source": [
    "print(b)"
   ]
  },
  {
   "cell_type": "code",
   "execution_count": 14,
   "id": "0acbcbf8",
   "metadata": {},
   "outputs": [
    {
     "name": "stdout",
     "output_type": "stream",
     "text": [
      "abcdefg\n"
     ]
    }
   ],
   "source": [
    "b = '''abcdefg'''\n",
    "print(b)"
   ]
  },
  {
   "cell_type": "code",
   "execution_count": 15,
   "id": "c6bb651c",
   "metadata": {},
   "outputs": [
    {
     "name": "stdout",
     "output_type": "stream",
     "text": [
      "abc\\defg\n"
     ]
    }
   ],
   "source": [
    "b = '''abc\\defg'''\n",
    "print(b)"
   ]
  },
  {
   "cell_type": "code",
   "execution_count": 16,
   "id": "acb03d0d",
   "metadata": {},
   "outputs": [],
   "source": [
    "b = '''abcdefg'''"
   ]
  },
  {
   "cell_type": "code",
   "execution_count": 17,
   "id": "ac2a75fb",
   "metadata": {},
   "outputs": [],
   "source": [
    "b = '''abc\\defg'''"
   ]
  },
  {
   "cell_type": "code",
   "execution_count": 18,
   "id": "6f5b4675",
   "metadata": {},
   "outputs": [],
   "source": [
    "b = '''abc\\\n",
    "defg'''"
   ]
  },
  {
   "cell_type": "code",
   "execution_count": 19,
   "id": "20bb561a",
   "metadata": {},
   "outputs": [
    {
     "name": "stdout",
     "output_type": "stream",
     "text": [
      "abcdefg\n"
     ]
    }
   ],
   "source": [
    "print(b)"
   ]
  },
  {
   "cell_type": "code",
   "execution_count": null,
   "id": "2ad0a9d5",
   "metadata": {},
   "outputs": [],
   "source": []
  }
 ],
 "metadata": {
  "kernelspec": {
   "display_name": "Python 3 (ipykernel)",
   "language": "python",
   "name": "python3"
  },
  "language_info": {
   "codemirror_mode": {
    "name": "ipython",
    "version": 3
   },
   "file_extension": ".py",
   "mimetype": "text/x-python",
   "name": "python",
   "nbconvert_exporter": "python",
   "pygments_lexer": "ipython3",
   "version": "3.11.6"
  }
 },
 "nbformat": 4,
 "nbformat_minor": 5
}
