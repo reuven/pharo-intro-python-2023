{
 "cells": [
  {
   "cell_type": "code",
   "execution_count": 1,
   "id": "106387f2",
   "metadata": {},
   "outputs": [
    {
     "name": "stdout",
     "output_type": "stream",
     "text": [
      "helllo!\n"
     ]
    }
   ],
   "source": [
    "print('helllo!')"
   ]
  },
  {
   "cell_type": "code",
   "execution_count": 2,
   "id": "43523dcd",
   "metadata": {},
   "outputs": [],
   "source": [
    "s=\"abcdefg\""
   ]
  },
  {
   "cell_type": "code",
   "execution_count": 3,
   "id": "d0255acd",
   "metadata": {},
   "outputs": [
    {
     "name": "stdout",
     "output_type": "stream",
     "text": [
      "abcdefg\n"
     ]
    }
   ],
   "source": [
    "print(s)"
   ]
  },
  {
   "cell_type": "code",
   "execution_count": 7,
   "id": "7f4b916f",
   "metadata": {},
   "outputs": [],
   "source": [
    "s = 'He says, \"She\\'s very lovely\"'"
   ]
  },
  {
   "cell_type": "code",
   "execution_count": 8,
   "id": "274ecbae",
   "metadata": {},
   "outputs": [
    {
     "name": "stdout",
     "output_type": "stream",
     "text": [
      "He says, \"She's very lovely\"\n"
     ]
    }
   ],
   "source": [
    "print(s)"
   ]
  },
  {
   "cell_type": "code",
   "execution_count": null,
   "id": "42e98082",
   "metadata": {},
   "outputs": [],
   "source": []
  }
 ],
 "metadata": {
  "kernelspec": {
   "display_name": "Python 3 (ipykernel)",
   "language": "python",
   "name": "python3"
  },
  "language_info": {
   "codemirror_mode": {
    "name": "ipython",
    "version": 3
   },
   "file_extension": ".py",
   "mimetype": "text/x-python",
   "name": "python",
   "nbconvert_exporter": "python",
   "pygments_lexer": "ipython3",
   "version": "3.11.6"
  }
 },
 "nbformat": 4,
 "nbformat_minor": 5
}
