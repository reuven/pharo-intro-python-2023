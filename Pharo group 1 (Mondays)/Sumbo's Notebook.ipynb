{
  "nbformat": 4,
  "nbformat_minor": 5,
  "metadata": {
    "kernel_info": {
      "name": "python3.9-noteable"
    },
    "kernelspec": {
      "display_name": "Python 3.9 (Noteable)",
      "identifier": "noteable",
      "language": "python",
      "language_version": "3.9",
      "name": "python3.9-noteable"
    },
    "selected_hardware_size": "small"
  },
  "cells": [
    {
      "id": "15895345",
      "cell_type": "markdown",
      "source": "Exercise: Which word comes first?\nAsk the user (with input) to enter a word, and assign to first.\nAsk the user (with input) to enter a second word, and assign to second.\nUse if and else to tell the user which of these words comes first in the dictionary.\nHints/ideas:\n\nYou can use < and > on text strings, and whatever is \"less\" comes earlier in the dictionary.\nOnly use lowercase letters -- no capitals, no symbols, no integers -- because that'll throw off the dictionary order.\nFor now, assume the user enters two different words.",
      "metadata": {
        "noteable": {
          "cell_type": "markdown"
        }
      }
    },
    {
      "id": "af6fdc54-b4d8-4266-be9d-343cc8061cee",
      "cell_type": "code",
      "metadata": {
        "jupyter": {
          "outputs_hidden": false,
          "source_hidden": false
        },
        "noteable": {
          "cell_type": "code",
          "output_collection_id": "a3118f10-6525-4040-be76-aebd539020bf"
        },
        "ExecuteTime": null
      },
      "execution_count": null,
      "source": "first = input('Please enter your first word: ')\nsecond = input('Please enter your second word: ')\n\nif first < second:\n    print (f'{first} comes before {second}')\nelse:\n    print(f'{second} comes before {first}')\n    ",
      "outputs": []
    },
    {
      "id": "d1c1d6c8-48ad-44e9-8f44-596c2bd8389c",
      "cell_type": "markdown",
      "source": "Exercise: Name and company\n\nAsk the user to enter their name, and assign to name\nAsk the user to enter their company, and assign to company\nGive one of four outputs:\nIf both match you, then give a nice greeting (\"you must be me\")\nIf only the name is the same, then compliment their name\nIf only the company is the same, then greet your colleague\nIf neither is the same, then be snarky",
      "metadata": {
        "noteable": {
          "cell_type": "markdown"
        }
      }
    },
    {
      "id": "f12720ff-a652-4c6b-a2d7-e2b1e7557a24",
      "cell_type": "code",
      "metadata": {
        "noteable": {
          "cell_type": "python",
          "output_collection_id": "9258805e-d2fa-43de-bdbe-9027733739a8"
        },
        "ExecuteTime": null
      },
      "execution_count": null,
      "source": "name = input('Please enter your name: ')\ncompany = input(\"Please enter your company's name: \")\n\nif name == 'Sumbo' and company == 'Pharo':\n    print('You must be me')\nelif name == 'Sumbo':\n    print('That is a great name!, Sumbos are the best!')\nelif company == 'Pharo':\n    print('Hey dear colleague')\nelse:\n    print('Who are you?!')\n",
      "outputs": []
    }
  ]
}