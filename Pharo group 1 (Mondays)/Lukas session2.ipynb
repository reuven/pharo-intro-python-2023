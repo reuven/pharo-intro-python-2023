{
  "nbformat": 4,
  "nbformat_minor": 5,
  "metadata": {
    "kernel_info": {
      "name": "python3.9-noteable"
    },
    "kernelspec": {
      "display_name": "Python 3.9 (Noteable)",
      "identifier": "noteable",
      "language": "python",
      "language_version": "3.9",
      "name": "python3.9-noteable"
    },
    "selected_hardware_size": "small"
  },
  "cells": [
    {
      "id": "f246ec18",
      "cell_type": "code",
      "metadata": {
        "noteable": {
          "output_collection_id": "1d97339d-7ccc-47c4-abcc-26dcabd24568"
        },
        "ExecuteTime": null
      },
      "execution_count": null,
      "source": "# exercise to check which word our of two comes first\n\nfirstword = input('Give me the first word: ')\nsecondword = input('Give me the second word: ')\n\nif firstword < secondword:\n    print(f'{firstword} comes before {secondword} alphabetically')\nelse:\n    print(f'{secondword} comes before {firstword} alphabetically')",
      "outputs": []
    },
    {
      "id": "631a8d7b-d7f9-42c3-b97b-dd0cdeaa5568",
      "cell_type": "code",
      "metadata": {
        "jupyter": {
          "outputs_hidden": false,
          "source_hidden": false
        },
        "noteable": {
          "cell_type": "code",
          "output_collection_id": "01a235ee-60ac-46a6-a8be-249f277bd355"
        },
        "ExecuteTime": null
      },
      "execution_count": null,
      "source": "# complex conditionals can be done via 'elif', where the first condtion that\n# solves as true will end the loop\n\n# multiple conditions can be combined via 'and' plus 'or'\n\nx = 100\ny = 20\n\nif x > y:\n    print(f'{x} is larger than {y}')\nelif x == y:\n    print(f'{x} is equal to {y}')\nelse:\n    print(f'{y} is larger than {x}')",
      "outputs": []
    },
    {
      "id": "49c573f8-8faf-4f53-aa6b-1f7dbf196d32",
      "cell_type": "code",
      "metadata": {
        "jupyter": {
          "outputs_hidden": false,
          "source_hidden": false
        },
        "noteable": {
          "cell_type": "code",
          "output_collection_id": "c9ece02f-7c50-43cc-814d-0c51856ad072"
        },
        "ExecuteTime": null
      },
      "execution_count": null,
      "source": "# exercise: ask user for name and company, then check \n\nname = input('what is your name?')\ncompany = input('what is your company?')\n\nif name == 'Lukas' and company == 'Pharo':\n    print('You are me')\nelif name == 'Lukas' and company != 'Pharo': #technically, does not need the company bit\n    print('great name')\nelif name != ' Lukas' and company == 'Pharo':\n    print('Hello, colleague')\nelse:\n    print(f'Hello {name} from {company}')",
      "outputs": []
    },
    {
      "id": "86e29eed-cf89-4c9c-9d6b-e6eaaff81863",
      "cell_type": "code",
      "metadata": {
        "jupyter": {
          "outputs_hidden": false,
          "source_hidden": false
        },
        "noteable": {
          "cell_type": "code"
        }
      },
      "execution_count": null,
      "source": "# the main different number types are integer and floats, integer operations are much faster than floats\n# 'type'() function \n# 'int()' function transmors string into integer, truncating after the comma\n# same works with 'str()' and 'float()'\n\n# 'truediv': x/y gives the floating division\n# 'floordiv': x//y chops off anything after the coma\n# 'modulo': x%y gives the remainder after deviding two integers\n# 'exponential' x**y gives the exponential\n# add x+-1 adds one to x and assigns it to x",
      "outputs": []
    },
    {
      "id": "8ebfd50d-288b-4ba0-b12f-09015fb0e691",
      "cell_type": "code",
      "metadata": {
        "jupyter": {
          "outputs_hidden": false,
          "source_hidden": false
        },
        "noteable": {
          "cell_type": "code",
          "output_collection_id": "76d44dc9-5a8e-4173-8248-672911f23a5d"
        },
        "ExecuteTime": null
      },
      "execution_count": null,
      "source": "# exercise: create a secret number and then give the user two attempts to guess it\n\nx = 25\n\ny = int(input('Guess: '))\n        \nif y > x:\n    print('wrong, too high')\nelif y < x:\n    print('wrong, too low')\nelse:\n    print(f'{y} is correct')",
      "outputs": []
    },
    {
      "id": "bdf9a5fa-2a15-4162-bb7f-849772d9c2f6",
      "cell_type": "code",
      "metadata": {
        "jupyter": {
          "outputs_hidden": false,
          "source_hidden": false
        },
        "noteable": {
          "cell_type": "code",
          "output_collection_id": "2b71b65f-f36f-4205-a188-eb95d7ce768e"
        },
        "ExecuteTime": null
      },
      "execution_count": null,
      "source": "# string length can be checked with function 'len()'\n# you can retrieve elements based on the index, e.g. [2]\n# you can \"negative index\" starting from the right, e.g. [-2]\n# 0 is one of the index\n\ns = 'abcdef'\nprint(len(s))\ns[2]",
      "outputs": []
    },
    {
      "id": "c31742b3-2d00-4a1e-b981-61b4b78cf0fd",
      "cell_type": "code",
      "metadata": {
        "jupyter": {
          "outputs_hidden": false,
          "source_hidden": false
        },
        "noteable": {
          "cell_type": "code",
          "output_collection_id": "009939fa-b575-4b1e-ba72-3b7100d3db2d"
        },
        "ExecuteTime": null
      },
      "execution_count": null,
      "source": "# exercise: ask user to give a string and an index, if index is below zero or higher than string length, give an error message\n\nstring = input('Give me some words')\nindex = int(input('Ge me an index'))\n\nif index < 0:\n    print('You cannot give an index below 0')\nelif index > len(string):\n    print('You cannot give an index that is larger than the string length')\nelse:\n    x = string[index]\n    print(f'index {index} in {string} is {x}')\n",
      "outputs": []
    },
    {
      "id": "5825a57b-1401-4289-a34e-841631d75bd4",
      "cell_type": "code",
      "metadata": {
        "jupyter": {
          "outputs_hidden": false,
          "source_hidden": false
        },
        "noteable": {
          "cell_type": "code"
        }
      },
      "execution_count": null,
      "source": "",
      "outputs": []
    }
  ]
}