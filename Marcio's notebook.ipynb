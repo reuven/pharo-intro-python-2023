{
 "cells": [
  {
   "cell_type": "code",
   "execution_count": null,
   "id": "7d786c23",
   "metadata": {},
   "outputs": [],
   "source": []
  },
  {
   "cell_type": "code",
   "execution_count": null,
   "id": "8ca95007",
   "metadata": {},
   "outputs": [],
   "source": []
  },
  {
   "cell_type": "code",
   "execution_count": null,
   "id": "f8ad51bb",
   "metadata": {},
   "outputs": [],
   "source": [
    "\n",
    "\n"
   ]
  },
  {
   "cell_type": "code",
   "execution_count": 13,
   "id": "0683fba9",
   "metadata": {},
   "outputs": [
    {
     "name": "stdout",
     "output_type": "stream",
     "text": [
      "enter a word: computer\n",
      "omputercay\n"
     ]
    }
   ],
   "source": [
    "s=input('enter a word: ')\n",
    "if s[0] in 'aeiou':\n",
    "    s=s+'way'\n",
    "else:\n",
    "    s=s[1:]+s[0]+'ay'\n",
    "print(s)"
   ]
  },
  {
   "cell_type": "code",
   "execution_count": 19,
   "id": "cbd279cf",
   "metadata": {},
   "outputs": [
    {
     "name": "stdout",
     "output_type": "stream",
     "text": [
      "input any integer: 5\n",
      "input another interger: 6\n"
     ]
    },
    {
     "ename": "NameError",
     "evalue": "name 'INT' is not defined",
     "output_type": "error",
     "traceback": [
      "\u001b[0;31m---------------------------------------------------------------------------\u001b[0m",
      "\u001b[0;31mNameError\u001b[0m                                 Traceback (most recent call last)",
      "Cell \u001b[0;32mIn[19], line 5\u001b[0m\n\u001b[1;32m      3\u001b[0m \u001b[38;5;28;01mif\u001b[39;00m firstno\u001b[38;5;241m.\u001b[39misdigit():\n\u001b[1;32m      4\u001b[0m     \u001b[38;5;28;01mif\u001b[39;00m secondno\u001b[38;5;241m.\u001b[39misdigit():\n\u001b[0;32m----> 5\u001b[0m             \u001b[38;5;28mprint\u001b[39m(\u001b[38;5;28mint\u001b[39m(firstno)\u001b[38;5;241m+\u001b[39m\u001b[43mINT\u001b[49m(secondno))\n\u001b[1;32m      6\u001b[0m     \u001b[38;5;28;01melse\u001b[39;00m:\n\u001b[1;32m      7\u001b[0m             \u001b[38;5;28mprint\u001b[39m(\u001b[38;5;124m\"\u001b[39m\u001b[38;5;124mthe second input was not an integer!\u001b[39m\u001b[38;5;124m\"\u001b[39m)\n",
      "\u001b[0;31mNameError\u001b[0m: name 'INT' is not defined"
     ]
    }
   ],
   "source": [
    "firstno=input('input any integer: ')\n",
    "secondno=input('input another interger: ')\n",
    "if firstno.isdigit():\n",
    "    if secondno.isdigit():\n",
    "            print(int(firstno)+INT(secondno))\n",
    "    else:\n",
    "            print(\"the second input was not an integer!\")\n",
    "else:\n",
    "        print(\"the first input was not an integer!\")\n",
    "    "
   ]
  },
  {
   "cell_type": "code",
   "execution_count": null,
   "id": "4784e194",
   "metadata": {},
   "outputs": [],
   "source": []
  }
 ],
 "metadata": {
  "kernelspec": {
   "display_name": "Python 3 (ipykernel)",
   "language": "python",
   "name": "python3"
  },
  "language_info": {
   "codemirror_mode": {
    "name": "ipython",
    "version": 3
   },
   "file_extension": ".py",
   "mimetype": "text/x-python",
   "name": "python",
   "nbconvert_exporter": "python",
   "pygments_lexer": "ipython3",
   "version": "3.11.6"
  }
 },
 "nbformat": 4,
 "nbformat_minor": 5
}
