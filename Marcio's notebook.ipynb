{
 "cells": [
  {
   "cell_type": "code",
   "execution_count": null,
   "id": "35bb5e26",
   "metadata": {},
   "outputs": [],
   "source": []
  },
  {
   "cell_type": "code",
   "execution_count": null,
   "id": "b261da92",
   "metadata": {},
   "outputs": [],
   "source": []
  },
  {
   "cell_type": "code",
   "execution_count": null,
   "id": "643596ff",
   "metadata": {},
   "outputs": [],
   "source": [
    "\n",
    "\n"
   ]
  },
  {
   "cell_type": "code",
   "execution_count": 13,
   "id": "0510d370",
   "metadata": {},
   "outputs": [
    {
     "name": "stdout",
     "output_type": "stream",
     "text": [
      "enter a word: computer\n",
      "omputercay\n"
     ]
    }
   ],
   "source": [
    "s=input('enter a word: ')\n",
    "if s[0] in 'aeiou':\n",
    "    s=s+'way'\n",
    "else:\n",
    "    s=s[1:]+s[0]+'ay'\n",
    "print(s)"
   ]
  },
  {
   "cell_type": "code",
   "execution_count": 26,
   "id": "6f087009",
   "metadata": {},
   "outputs": [
    {
     "name": "stdout",
     "output_type": "stream",
     "text": [
      "input any integer: 5.3\n",
      "input another interger: 87\n",
      "the second input was not an integer!\n"
     ]
    }
   ],
   "source": [
    "firstno=input('input any integer: ').strip()\n",
    "secondno=input('input another interger: ').strip()\n",
    "if firstno.isdigit() and secondno.isdigit():\n",
    "    print(int(firstno)+int(secondno))\n",
    "else:\n",
    "    print(\"at least one of the inputs was not an integer!\")\n"
   ]
  },
  {
   "cell_type": "code",
   "execution_count": null,
   "id": "d24c50c7",
   "metadata": {},
   "outputs": [],
   "source": [
    "total = 0\n",
    "while total <= 100:\n",
    "    new_number = input('Enter a number: ')\n",
    "    if new_number.isdigit():\n",
    "        total = total+int(new_number)\n",
    "    else:\n",
    "        print(f'{new_number} is not numeric!')\n",
    "    print('Total now is: ' + str(total))\n",
    "print('Done. Final tally is ' + str(total))\n",
    "    "
   ]
  },
  {
   "cell_type": "code",
   "execution_count": null,
   "id": "81f675a8",
   "metadata": {},
   "outputs": [],
   "source": []
  },
  {
   "cell_type": "code",
   "execution_count": null,
   "id": "b36290be",
   "metadata": {},
   "outputs": [],
   "source": []
  },
  {
   "cell_type": "code",
   "execution_count": 1,
   "id": "b9f3be45",
   "metadata": {},
   "outputs": [
    {
     "ename": "SyntaxError",
     "evalue": "unterminated string literal (detected at line 9) (822337087.py, line 9)",
     "output_type": "error",
     "traceback": [
      "\u001b[0;36m  Cell \u001b[0;32mIn[1], line 9\u001b[0;36m\u001b[0m\n\u001b[0;31m    print(f'Done. Final tally is {total})\u001b[0m\n\u001b[0m          ^\u001b[0m\n\u001b[0;31mSyntaxError\u001b[0m\u001b[0;31m:\u001b[0m unterminated string literal (detected at line 9)\n"
     ]
    }
   ],
   "source": [
    "total = 0\n",
    "while total <= 100:\n",
    "    new_number = input('Enter a number: ')\n",
    "    if new_number.isdigit():\n",
    "        total = total+int(new_number)\n",
    "    else:\n",
    "        print(f'{new_number} is not numeric!')\n",
    "    print(f'\\tTotal now is: {total}')\n",
    "print(f'Done. Final tally is {total}'')\n",
    "    \n"
   ]
  },
  {
   "cell_type": "code",
   "execution_count": null,
   "id": "0c3205af",
   "metadata": {},
   "outputs": [],
   "source": []
  }
 ],
 "metadata": {
  "kernelspec": {
   "display_name": "Python 3 (ipykernel)",
   "language": "python",
   "name": "python3"
  },
  "language_info": {
   "codemirror_mode": {
    "name": "ipython",
    "version": 3
   },
   "file_extension": ".py",
   "mimetype": "text/x-python",
   "name": "python",
   "nbconvert_exporter": "python",
   "pygments_lexer": "ipython3",
   "version": "3.11.6"
  }
 },
 "nbformat": 4,
 "nbformat_minor": 5
}
